{
 "cells": [
  {
   "cell_type": "code",
   "execution_count": null,
   "metadata": {},
   "outputs": [],
   "source": [
    "import calendar\n",
    "import itertools\n",
    "import sqlite3\n",
    "\n",
    "import pandas as pd\n",
    "import requests\n",
    "from bs4 import BeautifulSoup\n",
    "from nba_api import *\n",
    "from nba_api.stats.endpoints import leaguegamelog\n",
    "from nba_api.stats.static import teams\n",
    "\n",
    "MONTHS = list(calendar.month_name)\n",
    "MONTHS.remove(\"\")\n",
    "MONTHS = list(map(lambda x: x.lower(), months))"
   ]
  },
  {
   "cell_type": "code",
   "execution_count": null,
   "metadata": {},
   "outputs": [],
   "source": [
    "# create teams table\n",
    "pd.DataFrame(teams.get_teams()).set_index(\"id\").to_sql(\"teams\", con, if_exists=\"replace\")"
   ]
  },
  {
   "cell_type": "code",
   "execution_count": null,
   "metadata": {},
   "outputs": [],
   "source": [
    "# get attendance stats\n",
    "seasons = range(2010, 2020)\n",
    "\n",
    "for season, month in itertools.product(seasons, MONTHS):\n",
    "    print(season, month)\n",
    "    r = requests.get(f\"https://www.basketball-reference.com/leagues/NBA_{season}_games-{month}.html\")\n",
    "    soup = BeautifulSoup(r.content, \"html.parser\")\n",
    "    schedule = soup.find(id=\"schedule\")\n",
    "    print(schedule)\n",
    "    try:\n",
    "        rows = schedule.find_all(\"tr\")\n",
    "        print(\"rows\")\n",
    "    except:\n",
    "        continue"
   ]
  },
  {
   "cell_type": "code",
   "execution_count": null,
   "metadata": {},
   "outputs": [],
   "source": [
    "requests.get(f\"https://www.basketball-reference.com/leagues/NBA_2010_games-january.html\").headers"
   ]
  }
 ],
 "metadata": {
  "language_info": {
   "name": "python"
  }
 },
 "nbformat": 4,
 "nbformat_minor": 4
}
