{
 "cells": [
  {
   "cell_type": "markdown",
   "id": "bc32f744",
   "metadata": {},
   "source": [
    "# Data Visualization for Introduction"
   ]
  },
  {
   "cell_type": "code",
   "execution_count": null,
   "id": "035008aa",
   "metadata": {},
   "outputs": [],
   "source": [
    "import sqlite3\n",
    "import plotly.express as px\n",
    "\n",
    "import dask.dataframe as dd\n",
    "import numpy as np\n",
    "import pandas as pd\n",
    "import seaborn as sns\n",
    "from scipy.stats import pearsonr\n",
    "from dask.distributed import Client\n",
    "from matplotlib import pyplot as plt\n",
    "from scipy.stats import pearsonr\n",
    "\n",
    "from utils.constants import BigMarketsSubset, SmallMarketsSubset, Correspondence, BigMarkets, SmallMarkets, MediumMarkets\n",
    "from data.API_KEYS import chart_studio_key\n",
    "import matplotlib.pyplot as plt\n",
    "import matplotlib.font_manager as fm\n",
    "from math import log\n",
    "import chart_studio\n",
    "import chart_studio.plotly as py\n",
    "import chart_studio.tools as tls\n",
    "\n",
    "import logging\n",
    "\n",
    "username = \"abiola_adeye\"\n",
    "api_key = chart_studio_key\n",
    "\n",
    "chart_studio.tools.set_credentials_file(username=username, api_key=api_key)"
   ]
  },
  {
   "cell_type": "code",
   "execution_count": null,
   "id": "a9bbc597",
   "metadata": {},
   "outputs": [],
   "source": [
    "client = Client(n_workers=6, silence_logs=logging.ERROR)\n",
    "client"
   ]
  },
  {
   "cell_type": "markdown",
   "id": "f34fdbba",
   "metadata": {},
   "source": [
    "# Data Preparation"
   ]
  },
  {
   "cell_type": "markdown",
   "id": "38909f1a",
   "metadata": {},
   "source": [
    "<div class=\"alert alert-block alert-info\">\n",
    "Our first step is to prepare the dataframe on which we will conduct our analysis. We then load our data in parquet format and filter the categories of videos that are the most insightful for us. This step permits us to focus on the videos that are the most interesting for our research, remove noise from irrelevant categories and make our queries faster. <br>\n",
    "Therefore, we filter our videos to only keep categories Sports, People & Blogs and Entertainment."
   ]
  },
  {
   "cell_type": "code",
   "execution_count": null,
   "id": "a41d7793",
   "metadata": {},
   "outputs": [],
   "source": [
    "video_metadata_df = dd.read_parquet(\"./data/video_metadata/parquet/\")\n",
    "video_metadata_df[\"upload_date\"] = dd.to_datetime(video_metadata_df.upload_date)"
   ]
  },
  {
   "cell_type": "code",
   "execution_count": null,
   "id": "71eac0ed",
   "metadata": {},
   "outputs": [],
   "source": [
    "video_metadata_df_sports = video_metadata_df[video_metadata_df[\"categories\"].isin([\"Sports\", \"People & Blogs\", \"Entertainment\"])]\n",
    "video_metadata_df_sports[\"tags\"] = video_metadata_df_sports[\"tags\"].str.lower()\n",
    "video_metadata_df_sports[\"tags\"] = video_metadata_df_sports[\"tags\"].apply(lambda x: f\",{x},\")"
   ]
  },
  {
   "cell_type": "code",
   "execution_count": null,
   "id": "140ebf46",
   "metadata": {},
   "outputs": [],
   "source": [
    "date_obj = video_metadata_df_sports.upload_date.dt\n",
    "group_by = [date_obj.year, date_obj.month, video_metadata_df.categories]\n",
    "\n",
    "video_metadata_df_sports_grouped = video_metadata_df_sports[[\"upload_date\"]].groupby(by=group_by).count().persist()"
   ]
  },
  {
   "cell_type": "code",
   "execution_count": null,
   "id": "63140d21",
   "metadata": {},
   "outputs": [],
   "source": [
    "required_tags = [\"nba\", \"basketball\"]\n",
    "\n",
    "# Verifying that each video contains the required tags\n",
    "nba_basketball_df = video_metadata_df_sports[video_metadata_df_sports[\"tags\"].str.contains(f',{\",|,\".join(required_tags)},')].persist()\n",
    "nba_basketball_df[\"year_month\"] = dd.to_datetime(\n",
    "    nba_basketball_df.upload_date.dt.year.astype(\"str\") + \"-\" + nba_basketball_df.upload_date.dt.month.astype(\"str\")\n",
    ")"
   ]
  },
  {
   "cell_type": "code",
   "execution_count": null,
   "id": "81941694",
   "metadata": {},
   "outputs": [],
   "source": [
    "nba_basketball_df.head()"
   ]
  },
  {
   "cell_type": "code",
   "execution_count": null,
   "id": "46452584",
   "metadata": {},
   "outputs": [],
   "source": [
    "BigMarketsSubset"
   ]
  },
  {
   "cell_type": "code",
   "execution_count": null,
   "id": "2a3b817d",
   "metadata": {},
   "outputs": [],
   "source": [
    "SmallMarketsSubset"
   ]
  },
  {
   "cell_type": "markdown",
   "id": "30ab4354",
   "metadata": {},
   "source": [
    "<div class=\"alert alert-block alert-info\">\n",
    "We groupby the videos according to their respective team, sum the number of views for each team on a monthly basis, label each team with its market size and finally calculate its view ratio compared to all NBA/Basketball views. "
   ]
  },
  {
   "cell_type": "code",
   "execution_count": null,
   "id": "fbcb0dc6",
   "metadata": {},
   "outputs": [],
   "source": [
    "nba_basketball_views_per_year_df = nba_basketball_df[[\"year_month\", \"view_count\"]].groupby(\"year_month\").sum().persist().compute()\n",
    "nba_basketball_views_per_year_df.rename(columns={\"view_count\": \"total_nba_views\"}, inplace=True)\n",
    "\n",
    "dd_dict = {}\n",
    "\n",
    "# Getting the total amount of views per month for every big market and small market team\n",
    "for key, value in {**BigMarketsSubset, **SmallMarketsSubset}.items():\n",
    "\n",
    "    print(key, value)\n",
    "\n",
    "    team_df = nba_basketball_df[nba_basketball_df[\"tags\"].str.contains(f',{\",|,\".join(value)},')]\n",
    "    team_df = team_df[[\"year_month\", \"view_count\"]].groupby(\"year_month\").sum()\n",
    "\n",
    "    team_df = team_df.reset_index()\n",
    "\n",
    "    team_df[\"team\"] = key\n",
    "    team_df[\"market_size\"] = \"small\" if key in SmallMarketsSubset else \"big\"\n",
    "    team_df = team_df.persist().compute()\n",
    "\n",
    "    dd_dict[key] = team_df"
   ]
  },
  {
   "cell_type": "code",
   "execution_count": null,
   "id": "b37a0f88",
   "metadata": {},
   "outputs": [],
   "source": [
    "all_team_results = pd.concat([v for k, v in dd_dict.items()])\n",
    "all_team_results = all_team_results.merge(nba_basketball_views_per_year_df, on=\"year_month\")\n",
    "all_team_results[\"total_nba_view_percentage\"] = all_team_results[\"view_count\"] / all_team_results[\"total_nba_views\"]\n",
    "all_team_results[\"season\"] = all_team_results[\"year_month\"].apply(lambda x: f\"{x.year - 1}-{x.year}\" if x.month < 10 else f\"{x.year}-{x.year + 1}\")"
   ]
  },
  {
   "cell_type": "code",
   "execution_count": null,
   "id": "d6a8f599",
   "metadata": {},
   "outputs": [],
   "source": [
    "all_team_results.to_csv(\"./data/all_team_results.csv\", index=False)"
   ]
  },
  {
   "cell_type": "markdown",
   "id": "6f3b5e70",
   "metadata": {},
   "source": [
    "# Data Visualization for Introduction"
   ]
  },
  {
   "cell_type": "markdown",
   "id": "de2979c2",
   "metadata": {},
   "source": [
    "### Generate visualization for comparison of major sports leagues in the US"
   ]
  },
  {
   "cell_type": "code",
   "execution_count": null,
   "id": "0bf3dae5",
   "metadata": {},
   "outputs": [],
   "source": [
    "major_league_comparison = pd.read_csv(\"data/major_league_comparison.csv\")\n",
    "\n",
    "major_league_comparison"
   ]
  },
  {
   "cell_type": "code",
   "execution_count": null,
   "id": "d61d8f7d",
   "metadata": {},
   "outputs": [],
   "source": [
    "major_league_comparison.plot(\n",
    "    x=\"League\",\n",
    "    y=[\"Viewers (in millions)\", \"US TV rev. (in billions of $)\"],\n",
    "    kind=\"bar\",\n",
    "    rot=0,\n",
    "    title=\"US major leagues viewership and revenue comparison\",\n",
    ")\n",
    "\n",
    "# Display a legend for the chart\n",
    "plt.legend()\n",
    "\n",
    "# Save the chart to a file with a resolution of 300 dpi\n",
    "plt.savefig(\"major_league_viewership_comparison.png\", dpi=300)"
   ]
  },
  {
   "cell_type": "markdown",
   "id": "fc7f1287",
   "metadata": {},
   "source": [
    "### Generate visualization for evolution of NBA videos views"
   ]
  },
  {
   "cell_type": "code",
   "execution_count": null,
   "id": "0d8d0d5a",
   "metadata": {},
   "outputs": [],
   "source": [
    "df = nba_basketball_views_per_year_df.copy()\n",
    "\n",
    "# Set 'year_month' column as index, sort by index in ascending order, and reset index\n",
    "df.sort_index(inplace=True, ascending=True)\n",
    "df.reset_index(inplace=True)\n",
    "\n",
    "# Plot 'total_nba_views' against 'year_month' for rows with 'year_month' <= '2018-01-01'\n",
    "df[df.year_month <= \"2018-01-01\"].plot(x=\"year_month\", y=\"total_nba_views\", legend=None)\n",
    "\n",
    "# Customize plot\n",
    "plt.xticks(rotation=45)\n",
    "plt.xlabel(\"Date\")\n",
    "plt.ylabel(\"Aggregate views (in billions)\")\n",
    "plt.title('Viewership evolution of videos containing the keyword \"NBA\"', pad=15)\n",
    "plt.tight_layout()\n",
    "\n",
    "# Save plot as image file\n",
    "plt.savefig(\"viewership_evolution_nba.jpeg\", dpi=400)"
   ]
  },
  {
   "cell_type": "markdown",
   "id": "d851599a",
   "metadata": {},
   "source": [
    "# Big Market vs Small Market Teams"
   ]
  },
  {
   "cell_type": "markdown",
   "id": "464b0b7d",
   "metadata": {},
   "source": [
    "## Data Visualization for the Market Size Comparison"
   ]
  },
  {
   "cell_type": "code",
   "execution_count": null,
   "id": "a409c231",
   "metadata": {},
   "outputs": [],
   "source": [
    "def to_real_market_size(elem):\n",
    "    if \"M\" in elem:\n",
    "        return float(elem[:-1])\n",
    "    if \"K\" in elem:\n",
    "        return float(elem[:-1]) / 1000\n",
    "    else:\n",
    "        return np.nan\n",
    "\n",
    "\n",
    "market_size_df = pd.read_csv(\"./data/market_sizes.csv\")\n",
    "market_size_df[\"TV MARKET SIZE\"] = market_size_df[\"TV MARKET SIZE\"].apply(to_real_market_size)\n",
    "market_size_df[\"METRO POPULATION\"] = market_size_df[\"METRO POPULATION\"].apply(lambda x: x / (10**6))\n",
    "market_size_df[\"MARKET TYPE\"] = market_size_df[\"TV MARKET SIZE\"].apply(\n",
    "    lambda x: \"BIG MARKET\" if x > 2 else \"SMALL MARKET\" if x < 1.5 else \"MEDIUM MARKET\"\n",
    ")"
   ]
  },
  {
   "cell_type": "code",
   "execution_count": null,
   "id": "9ccb9568",
   "metadata": {},
   "outputs": [],
   "source": [
    "market_size_df.head()"
   ]
  },
  {
   "cell_type": "code",
   "execution_count": null,
   "id": "437ee29d",
   "metadata": {},
   "outputs": [],
   "source": [
    "tv_market_size = market_size_df[\"TV MARKET SIZE\"]\n",
    "population = market_size_df[\"METRO POPULATION\"]\n",
    "team_name = market_size_df[\"TEAM\"]\n",
    "\n",
    "# Choose a font\n",
    "font = fm.FontProperties(family=\"Ubuntu\", size=20, weight=\"bold\")\n",
    "label_font = fm.FontProperties(family=\"Ubuntu\", size=12, style=\"italic\")\n",
    "market_font = fm.FontProperties(family=\"Ubuntu\", size=16, weight=\"bold\")\n",
    "\n",
    "\n",
    "# Set figure size and create subplot\n",
    "fig, ax = plt.subplots(figsize=(18, 10))\n",
    "ax.scatter(tv_market_size, population, s=population * tv_market_size * 10, c=market_size_df.index)\n",
    "ax.axvline(x=2, color=\"r\", linestyle=\"-\")\n",
    "ax.axvline(x=1.5, color=\"r\", linestyle=\"-\")\n",
    "\n",
    "# Add gridlines\n",
    "ax.grid(True, linestyle=\"-\", linewidth=0.5, color=\"lightgray\")\n",
    "\n",
    "for i in range(len(population)):\n",
    "    ax.annotate(market_size_df[\"TEAM\"].iloc[i], (tv_market_size.iloc[i] * 1.03, population.iloc[i] * 1.02), font=label_font)\n",
    "\n",
    "# Add title and axis labels\n",
    "ax.set_title(\"TV Market Size vs Metro Population\", fontproperties=font)\n",
    "ax.set_xlabel(\"TV Market Size\", fontproperties=font)\n",
    "ax.set_ylabel(\"Metro Population\", fontproperties=font)\n",
    "\n",
    "\n",
    "# Add labels for market sizes\n",
    "ax.annotate(\"SMALL MARKET\", (0.75, 17.5), font=market_font)\n",
    "ax.annotate(\"BIG MARKET\", (2.4, 17.5), font=market_font)\n",
    "\n",
    "# Use a logarithmic scale for both axes\n",
    "ax.set_xscale(\"log\")\n",
    "ax.set_yscale(\"log\")"
   ]
  },
  {
   "cell_type": "code",
   "execution_count": null,
   "id": "7755ea64",
   "metadata": {},
   "outputs": [],
   "source": [
    "import plotly.express as px\n",
    "\n",
    "# Set figure size and create subplot\n",
    "fig = px.scatter(\n",
    "    market_size_df,\n",
    "    x=\"TV MARKET SIZE\",\n",
    "    y=\"METRO POPULATION\",\n",
    "    custom_data=[\"TEAM\"],\n",
    "    color=\"MARKET TYPE\",\n",
    "    size=market_size_df[\"METRO POPULATION\"],\n",
    "    log_x=True,\n",
    "    log_y=False,\n",
    ")\n",
    "\n",
    "# Add vertical lines\n",
    "fig.add_shape(type=\"line\", x0=2, x1=2, y0=0, y1=1, name=\"1.5M\", yref=\"paper\", line=dict(color=\"red\", width=2))\n",
    "fig.add_shape(type=\"line\", x0=1.5, x1=1.5, y0=0, y1=1, yref=\"paper\", line=dict(color=\"red\", width=2))\n",
    "\n",
    "\n",
    "# Add title and axis labels\n",
    "fig.update_layout(\n",
    "    xaxis_title=\"TV Market Size (in millions)\",\n",
    "    xaxis_title_font=dict(family=\"Ubuntu\", size=12),\n",
    "    yaxis_title=\"Metro Population (in millions)\",\n",
    "    yaxis_title_font=dict(family=\"Ubuntu\", size=12),\n",
    ")\n",
    "\n",
    "# Add hover labels for team names\n",
    "fig.update_traces(hovertemplate=\"<b>%{customdata[0]}</b>\")\n",
    "fig.update_layout(\n",
    "    hoverlabel=dict(\n",
    "        bgcolor=\"white\",\n",
    "        font_size=12,\n",
    "        font_family=\"Ubuntu\",\n",
    "    )\n",
    ")\n",
    "fig.update_layout(yaxis_range=[0, 15])\n",
    "fig.update_layout(xaxis_range=[0, 0.8])\n",
    "\n",
    "\n",
    "# fig.update_layout(hovermode='x unified')\n",
    "fig.update_layout(legend=dict(orientation=\"h\", yanchor=\"bottom\", y=1.02, xanchor=\"right\", x=0.8))\n",
    "fig.show()\n",
    "\n",
    "fig.write_html(\"data/team_market_size_comparison.html\")\n",
    "\n",
    "py.plot(fig, filename=\"market_size_comparison\", auto_open=False)"
   ]
  },
  {
   "cell_type": "markdown",
   "id": "2df72ae8",
   "metadata": {},
   "source": [
    "## Views distribution study "
   ]
  },
  {
   "cell_type": "code",
   "execution_count": null,
   "id": "720293f7",
   "metadata": {},
   "outputs": [],
   "source": [
    "df = all_team_results.copy()\n",
    "df = df[df.year_month.dt.year != 2006]\n",
    "df = df[df.season != \"2019-2020\"]"
   ]
  },
  {
   "cell_type": "code",
   "execution_count": null,
   "id": "d42052d5",
   "metadata": {},
   "outputs": [],
   "source": [
    "small_vs_big = df.groupby([\"season\", \"market_size\"]).sum().drop([\"total_nba_views\", \"view_count\"], axis=1)\n",
    "small_vs_big.reset_index(inplace=True)\n",
    "\n",
    "big_market_percentage_df = small_vs_big[small_vs_big[\"market_size\"] == \"big\"]\n",
    "small_market_percentage_df = small_vs_big[small_vs_big[\"market_size\"] == \"small\"]\n",
    "\n",
    "small_vs_big"
   ]
  },
  {
   "cell_type": "code",
   "execution_count": null,
   "id": "7ca60e4f",
   "metadata": {},
   "outputs": [],
   "source": [
    "sns.set_style(\"darkgrid\")\n",
    "\n",
    "plt.fill_between(\n",
    "    big_market_percentage_df[\"season\"],\n",
    "    big_market_percentage_df[\"total_nba_view_percentage\"],\n",
    "    small_market_percentage_df[\"total_nba_view_percentage\"],\n",
    "    color=\"peachpuff\",\n",
    "    alpha=0.3,\n",
    ")\n",
    "plt.plot(big_market_percentage_df[\"season\"], big_market_percentage_df[\"total_nba_view_percentage\"], color=\"firebrick\", label=\"Big Markets\")\n",
    "plt.plot(small_market_percentage_df[\"season\"], small_market_percentage_df[\"total_nba_view_percentage\"], color=\"steelblue\", label=\"Small Markets\")\n",
    "plt.xlabel(\"Year\")\n",
    "plt.ylabel(\"Percentage\")\n",
    "plt.title(\"Small vs Big Markets Percentage of all NBA video views\")\n",
    "plt.legend()\n",
    "\n",
    "plt.tight_layout()\n",
    "\n",
    "\n",
    "# rotate and align the tick labels so they look better\n",
    "plt.setp(plt.gca().get_xticklabels(), rotation=45, horizontalalignment=\"right\")\n",
    "\n",
    "plt.savefig(\"small_vs_big_market_percentge_comparison.png\", dpi=300, bbox_inches=\"tight\")\n",
    "\n",
    "plt.show()"
   ]
  },
  {
   "cell_type": "code",
   "execution_count": null,
   "id": "2d832957",
   "metadata": {},
   "outputs": [],
   "source": [
    "percentage_per_season = df.groupby(\"season\").sum().drop([\"total_nba_views\"], axis=1)\n",
    "views_per_team = df.groupby([\"season\", \"team\"]).agg({\"total_nba_view_percentage\": \"sum\", \"market_size\": \"first\", \"view_count\": \"sum\"})\n",
    "# divide each team's views by the total views for that season\n",
    "views_per_team[\"subset_percentage\"] = views_per_team[\"total_nba_view_percentage\"].div(\n",
    "    percentage_per_season[\"total_nba_view_percentage\"], axis=0, level=\"season\"\n",
    ")\n",
    "views_per_team.rename(columns={\"view_count\": \"Views\"}, inplace=True)\n",
    "views_per_team.reset_index(inplace=True)\n",
    "views_per_team"
   ]
  },
  {
   "cell_type": "code",
   "execution_count": null,
   "id": "6153dafc",
   "metadata": {},
   "outputs": [],
   "source": [
    "# create a plotly pie chart, where the season is an additional dimension\n",
    "fig = px.pie(\n",
    "    views_per_team,\n",
    "    values=\"subset_percentage\",\n",
    "    names=\"team\",\n",
    "    color=\"team\",\n",
    "    title=\"Percentage of all NBA video views by team\",\n",
    "    color_discrete_map={\"big\": \"firebrick\", \"small\": \"steelblue\"},\n",
    "    labels={\"subset_percentage\": \"Percentage of all NBA video views by team\"},\n",
    "    hover_data=[\"market_size\"],\n",
    "    width=800,\n",
    "    height=800,\n",
    ")\n",
    "\n",
    "fig"
   ]
  },
  {
   "cell_type": "code",
   "execution_count": null,
   "id": "21fb0974",
   "metadata": {},
   "outputs": [],
   "source": [
    "fig = px.bar(\n",
    "    views_per_team,\n",
    "    x=\"team\",\n",
    "    y=views_per_team.subset_percentage * 100,\n",
    "    color=\"market_size\",\n",
    "    barmode=\"stack\",\n",
    "    color_discrete_sequence=px.colors.qualitative.Pastel,\n",
    "    animation_frame=\"season\",\n",
    "    animation_group=\"team\",\n",
    "    custom_data=[\"Views\"],\n",
    ")\n",
    "\n",
    "fig.update_layout(\n",
    "    # title=\"Distribution of views inside our subset by team\",\n",
    "    xaxis_title=\"Team\",\n",
    "    yaxis_title=\"Percentage\",\n",
    "    legend_title=\"Market Size\",\n",
    "    title_x=0.5,\n",
    "    yaxis_range=[0, 55],\n",
    ")\n",
    "\n",
    "# Add hover labels for team names\n",
    "fig.update_traces(hovertemplate=\"<b>Number of views: %{customdata[0]}</b>\")\n",
    "fig.update_layout(\n",
    "    hoverlabel=dict(\n",
    "        bgcolor=\"white\",\n",
    "        font_size=12,\n",
    "        font_family=\"Ubuntu\",\n",
    "    )\n",
    ")\n",
    "\n",
    "py.plot(fig, filename=\"distribution_of_views_animation\", auto_open=False)\n",
    "\n",
    "fig"
   ]
  },
  {
   "attachments": {},
   "cell_type": "markdown",
   "id": "3ea4bcc4",
   "metadata": {},
   "source": [
    "## Direction of Free Agent Moves in the NBA between 2020 and 2021"
   ]
  },
  {
   "cell_type": "code",
   "execution_count": null,
   "id": "bd45870e",
   "metadata": {},
   "outputs": [],
   "source": [
    "free_agent_moves_2021 = pd.read_csv(\"./data/free_agent_moves/2021_free_agent_moves.csv\")\n",
    "free_agent_moves_2022 = pd.read_csv(\"./data/free_agent_moves/2022_free_agent_moves.csv\")\n",
    "\n",
    "free_agent_moves = pd.concat([free_agent_moves_2021, free_agent_moves_2022])\n",
    "\n",
    "# keep only the rows where the NEWS column starts with \"Signs with\"\n",
    "free_agent_moves = free_agent_moves[free_agent_moves[\"NEWS\"].str.startswith(\"Signs with\") | False]\n",
    "\n",
    "# add from and to columns to see direction of trade\n",
    "free_agent_moves[\"TO\"] = free_agent_moves[\"NEWS\"].str.split(\" \").str[2]\n",
    "free_agent_moves[\"FROM\"] = \"\"\n",
    "\n",
    "# free_agent_moves.to_csv(\"./data/free_agent_moves/free_agent_moves.csv\", index=False)"
   ]
  },
  {
   "cell_type": "code",
   "execution_count": null,
   "id": "a9e33586",
   "metadata": {},
   "outputs": [],
   "source": [
    "# reload file after manually completing \"TO\" column\n",
    "free_agent_moves = pd.read_csv(\"./data/free_agent_moves/free_agent_moves.csv\")\n",
    "free_agent_moves.drop([\"EXP\", \"NEWS\", \"TYPE\", \"POS\"], axis=1, inplace=True)"
   ]
  },
  {
   "cell_type": "code",
   "execution_count": null,
   "id": "553c2d3d",
   "metadata": {},
   "outputs": [],
   "source": [
    "def map_market_size(team):\n",
    "    if team in BigMarkets:\n",
    "        return 2\n",
    "    elif team in MediumMarkets:\n",
    "        return 1\n",
    "    else:\n",
    "        return 0\n",
    "\n",
    "\n",
    "free_agent_moves[\"TO_MARKET\"] = free_agent_moves[\"TO\"].map(map_market_size)\n",
    "free_agent_moves[\"FROM_MARKET\"] = free_agent_moves[\"FROM\"].map(map_market_size)\n",
    "\n",
    "free_agent_moves"
   ]
  },
  {
   "cell_type": "code",
   "execution_count": null,
   "id": "1057bf46",
   "metadata": {},
   "outputs": [],
   "source": [
    "free_agent_moves[(free_agent_moves[\"PPG\"] > 0) & (free_agent_moves[\"TO_MARKET\"] < free_agent_moves[\"FROM_MARKET\"])]"
   ]
  },
  {
   "cell_type": "code",
   "execution_count": null,
   "id": "7b3bc709",
   "metadata": {},
   "outputs": [],
   "source": [
    "free_agent_moves[(free_agent_moves[\"PPG\"] > 0) & (free_agent_moves[\"TO_MARKET\"] > free_agent_moves[\"FROM_MARKET\"])]"
   ]
  },
  {
   "cell_type": "code",
   "execution_count": null,
   "id": "1e87e1d5",
   "metadata": {},
   "outputs": [],
   "source": [
    "free_agent_moves[(free_agent_moves[\"PPG\"] > 0) & (free_agent_moves[\"TO_MARKET\"] == free_agent_moves[\"FROM_MARKET\"])]"
   ]
  },
  {
   "cell_type": "markdown",
   "id": "aa656ae6",
   "metadata": {},
   "source": [
    "\n",
    "## Study on the correlation between views and winning percentage"
   ]
  },
  {
   "cell_type": "code",
   "execution_count": null,
   "id": "079f8a6f",
   "metadata": {},
   "outputs": [],
   "source": [
    "all_team_results = pd.read_csv(\"./data/all_team_results.csv\", parse_dates=[\"year_month\"])\n",
    "\n",
    "all_team_results"
   ]
  },
  {
   "attachments": {},
   "cell_type": "markdown",
   "id": "55dc8e53",
   "metadata": {},
   "source": [
    "<div class=\"alert alert-block alert-info\">\n",
    "To compare our view ratio with the teams' results, we import from our database the monthly occupancy rate of the stadium of each team and the winning rate on the matches since the beginning of each season."
   ]
  },
  {
   "cell_type": "code",
   "execution_count": null,
   "id": "aadf06f4",
   "metadata": {},
   "outputs": [],
   "source": [
    "con = sqlite3.connect(\"data/nba_api.sqlite\")\n",
    "\n",
    "occupancy_rate_df = pd.read_sql_query(\n",
    "    \"\"\"select home, avg(attendance) as avg_attendace, round(avg(attendance/season_high_attendance*100),2) as avg_occupancy_rate, strftime('%Y-%m',time) as year_month\n",
    "from game_data\n",
    "group by home, year_month\"\"\",\n",
    "    con,\n",
    ")\n",
    "occupancy_rate_df = occupancy_rate_df.reset_index()\n",
    "\n",
    "display(occupancy_rate_df.home.unique())\n",
    "\n",
    "occupancy_rate_df = occupancy_rate_df[occupancy_rate_df[\"home\"].isin(Correspondence.keys())]\n",
    "\n",
    "\n",
    "winning_rate_df = pd.read_sql_query(\n",
    "    \"\"\"\n",
    "select home as team,\n",
    "       strftime('%Y-%m', time)                                                                         as year_month,\n",
    "\n",
    "       last_value(curr_season_win_pct) over (partition by home, strftime('%Y-%m', time) order by time) as win_percentage\n",
    "from game_data\n",
    "group by home, year_month;\n",
    "\"\"\",\n",
    "    con,\n",
    ")\n",
    "winning_rate_df = winning_rate_df.reset_index()\n",
    "winning_rate_df = winning_rate_df[winning_rate_df[\"team\"].isin(Correspondence.keys())]\n",
    "\n",
    "winning_rate_df[\"year_month\"] = pd.to_datetime(winning_rate_df[\"year_month\"])\n",
    "occupancy_rate_df[\"year_month\"] = pd.to_datetime(occupancy_rate_df[\"year_month\"])\n",
    "\n",
    "winning_rate_df[\"team\"] = winning_rate_df[\"team\"].apply(lambda x: Correspondence[x])\n",
    "occupancy_rate_df[\"team\"] = occupancy_rate_df[\"home\"].apply(lambda x: Correspondence[x])\n",
    "\n",
    "winning_rate_df.head()"
   ]
  },
  {
   "cell_type": "code",
   "execution_count": null,
   "id": "d62ad628",
   "metadata": {},
   "outputs": [],
   "source": [
    "# Add winning percentages and occupancy percentages for every team to all team results df\n",
    "all_team_results = all_team_results.merge(winning_rate_df.drop([\"index\"], axis=1), on=[\"team\", \"year_month\"], how=\"inner\")\n",
    "all_team_results = all_team_results.merge(occupancy_rate_df.drop([\"index\", \"home\"], axis=1), on=[\"team\", \"year_month\"], how=\"inner\")\n",
    "\n",
    "# Save to csv since computation is expensive\n",
    "all_team_results.to_csv(\"data/all_team_results_with_winning_percentages.csv\")\n",
    "\n",
    "all_team_results.head()"
   ]
  },
  {
   "cell_type": "code",
   "execution_count": null,
   "id": "dce25523",
   "metadata": {},
   "outputs": [],
   "source": [
    "# add a new column that is the mean of view_counts per year_month\n",
    "all_team_results[\"mean_view_count\"] = all_team_results.groupby(\"year_month\")[\"view_count\"].transform(\"mean\")\n",
    "all_team_results[\"std_view_count\"] = all_team_results.groupby(\"year_month\")[\"view_count\"].transform(\"std\").fillna(1)\n",
    "\n",
    "all_team_results[\"view_count_normalized\"] = (all_team_results[\"view_count\"] - all_team_results[\"mean_view_count\"]) / all_team_results[\n",
    "    \"std_view_count\"\n",
    "]\n",
    "all_team_results[\"year\"] = all_team_results[\"year_month\"].dt.year"
   ]
  },
  {
   "cell_type": "code",
   "execution_count": null,
   "id": "ead473e9",
   "metadata": {},
   "outputs": [],
   "source": [
    "# compute correlation between view_count and win_percentage for both big and small market teams\n",
    "grouped_views_and_wins_df = all_team_results.groupby(\"market_size\").agg(\n",
    "    {\n",
    "        \"view_count_normalized\": lambda x: list(x),\n",
    "        \"win_percentage\": lambda x: list(x),\n",
    "    }\n",
    ")\n",
    "\n",
    "correlations = {}\n",
    "\n",
    "for market_size in [\"small\", \"big\"]:\n",
    "    df = grouped_views_and_wins_df[grouped_views_and_wins_df.index == market_size]\n",
    "\n",
    "    correlations[market_size] = pearsonr(df[\"view_count_normalized\"].iloc[0], df[\"win_percentage\"].iloc[0])\n",
    "\n",
    "\n",
    "correlations"
   ]
  },
  {
   "cell_type": "code",
   "execution_count": null,
   "id": "4232becf",
   "metadata": {},
   "outputs": [],
   "source": []
  }
 ],
 "metadata": {
  "language_info": {
   "name": "python"
  }
 },
 "nbformat": 4,
 "nbformat_minor": 5
}
