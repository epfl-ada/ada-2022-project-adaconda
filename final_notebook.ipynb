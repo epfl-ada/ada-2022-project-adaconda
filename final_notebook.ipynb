{
 "cells": [
  {
   "cell_type": "markdown",
   "id": "16899658",
   "metadata": {},
   "source": [
    "<h1 align=\"center\"><font color='royalblue'> ADA - Project ADACONDA</font></h1> \n",
    "\n",
    "**Students:**\n",
    "- ABI FADEL Zad\n",
    "- ADEYE Abiola\n",
    "- BRUNO Etienne\n",
    "- FERCHIOU Sami"
   ]
  },
  {
   "cell_type": "markdown",
   "id": "16a783bf",
   "metadata": {},
   "source": [
    "## IMPORTS AND SETTINGS"
   ]
  },
  {
   "cell_type": "code",
   "execution_count": 1,
   "id": "698ea26f",
   "metadata": {},
   "outputs": [],
   "source": [
    "# Imports all required libraries\n",
    "import sqlite3\n",
    "import plotly.express as px\n",
    "import dask.dataframe as dd\n",
    "import numpy as np\n",
    "import pandas as pd\n",
    "import seaborn as sns\n",
    "from scipy.stats import pearsonr\n",
    "from dask.distributed import Client\n",
    "from matplotlib import pyplot as plt\n",
    "from scipy.stats import pearsonr\n",
    "from utils.constants import BigMarketsSubset, SmallMarketsSubset, Correspondence, BigMarkets, SmallMarkets, MediumMarkets, color_discrete_map\n",
    "from data.API_KEYS import chart_studio_key, chart_studio_username\n",
    "import matplotlib.pyplot as plt\n",
    "import matplotlib.font_manager as fm\n",
    "from math import log\n",
    "import chart_studio\n",
    "import chart_studio.plotly as py\n",
    "import chart_studio.tools as tls\n",
    "import logging\n",
    "import os\n",
    "import plotly.graph_objects as go\n",
    "from plotly.subplots import make_subplots\n",
    "\n",
    "# Sets up logging to Plotly\n",
    "username = chart_studio_username\n",
    "api_key = chart_studio_key\n",
    "chart_studio.tools.set_credentials_file(username=username, api_key=api_key)\n",
    "\n",
    "# Default settings for matplotlib\n",
    "sns.set(rc={\"figure.figsize\": (8, 5)})\n",
    "sns.set_style(\"darkgrid\", {\"grid.color\": \".6\", \"grid.linestyle\": \":\"})"
   ]
  },
  {
   "attachments": {},
   "cell_type": "markdown",
   "id": "297ebe39",
   "metadata": {},
   "source": [
    "<div class=\"alert alert-block alert-info\">\n",
    "In this first part, we have used Dask to load the datasets. <br>\n",
    "DASK is a distributed data processing framework that's optimized to handle very big files. It implements a big part of the Pandas API which allows us to get very similar queries to what we would in Pandas. Under the hood it uses several Pandas data-frames, a scheduler and worker nodes in order to handle the computations. One major benefit of DASK is that computations are carried out lazily which means that DASK creates a computation tree and only does the actual computation when we explicitly tell it to.\n",
    "We initially decompressed all gzip files locally to use Dask. This is because gzip does not use block-compression and therefore we can't load the data directly from the archive. <br><br>\n",
    "With Dask, we loaded all `.tsv` files and stored them in `.parquet` format. Parquet gives us several benefits compared to csv/tsv files: <br>\n",
    "- Parquet uses block-compression by default which allows us to get files that are almost as small as the initial archives but that can be loaded directly into dask<br>\n",
    "- Parquet is a columnar data storage format. This allows us to open only a subset of columns from the datasets which makes the initial loading operation considerably faster.<br>\n",
    "All details about this initial process can be found in the jupyter notebook called `1_data_loading_and_pre_processing.ipynb`"
   ]
  },
  {
   "cell_type": "code",
   "execution_count": 2,
   "id": "b6ba700c",
   "metadata": {},
   "outputs": [
    {
     "name": "stderr",
     "output_type": "stream",
     "text": [
      "2022-12-23 23:26:57,455 - distributed.diskutils - INFO - Found stale lock file and directory '/var/folders/dj/cqrjzx2j27x69jdjypm1q9y00000gn/T/dask-worker-space/worker-cg43vjxy', purging\n",
      "2022-12-23 23:26:57,456 - distributed.diskutils - INFO - Found stale lock file and directory '/var/folders/dj/cqrjzx2j27x69jdjypm1q9y00000gn/T/dask-worker-space/worker-qhyalg03', purging\n",
      "2022-12-23 23:26:57,456 - distributed.diskutils - INFO - Found stale lock file and directory '/var/folders/dj/cqrjzx2j27x69jdjypm1q9y00000gn/T/dask-worker-space/worker-zravnsao', purging\n",
      "2022-12-23 23:26:57,456 - distributed.diskutils - INFO - Found stale lock file and directory '/var/folders/dj/cqrjzx2j27x69jdjypm1q9y00000gn/T/dask-worker-space/worker-v60e91q7', purging\n",
      "2022-12-23 23:26:57,456 - distributed.diskutils - INFO - Found stale lock file and directory '/var/folders/dj/cqrjzx2j27x69jdjypm1q9y00000gn/T/dask-worker-space/worker-70h2zon2', purging\n",
      "2022-12-23 23:26:57,457 - distributed.diskutils - INFO - Found stale lock file and directory '/var/folders/dj/cqrjzx2j27x69jdjypm1q9y00000gn/T/dask-worker-space/worker-3nhydnb4', purging\n",
      "2022-12-23 23:26:57,457 - distributed.diskutils - INFO - Found stale lock file and directory '/var/folders/dj/cqrjzx2j27x69jdjypm1q9y00000gn/T/dask-worker-space/worker-iqs_7swn', purging\n",
      "2022-12-23 23:26:57,457 - distributed.diskutils - INFO - Found stale lock file and directory '/var/folders/dj/cqrjzx2j27x69jdjypm1q9y00000gn/T/dask-worker-space/worker-cg5q2m_o', purging\n",
      "2022-12-23 23:26:57,458 - distributed.diskutils - INFO - Found stale lock file and directory '/var/folders/dj/cqrjzx2j27x69jdjypm1q9y00000gn/T/dask-worker-space/worker-iroo7562', purging\n",
      "2022-12-23 23:26:57,458 - distributed.diskutils - INFO - Found stale lock file and directory '/var/folders/dj/cqrjzx2j27x69jdjypm1q9y00000gn/T/dask-worker-space/worker-c41cfde3', purging\n"
     ]
    },
    {
     "data": {
      "text/html": [
       "<div>\n",
       "    <div style=\"width: 24px; height: 24px; background-color: #e1e1e1; border: 3px solid #9D9D9D; border-radius: 5px; position: absolute;\"> </div>\n",
       "    <div style=\"margin-left: 48px;\">\n",
       "        <h3 style=\"margin-bottom: 0px;\">Client</h3>\n",
       "        <p style=\"color: #9D9D9D; margin-bottom: 0px;\">Client-e8cd0850-8310-11ed-a454-3607d75f7144</p>\n",
       "        <table style=\"width: 100%; text-align: left;\">\n",
       "\n",
       "        <tr>\n",
       "        \n",
       "            <td style=\"text-align: left;\"><strong>Connection method:</strong> Cluster object</td>\n",
       "            <td style=\"text-align: left;\"><strong>Cluster type:</strong> distributed.LocalCluster</td>\n",
       "        \n",
       "        </tr>\n",
       "\n",
       "        \n",
       "            <tr>\n",
       "                <td style=\"text-align: left;\">\n",
       "                    <strong>Dashboard: </strong> <a href=\"http://127.0.0.1:8787/status\" target=\"_blank\">http://127.0.0.1:8787/status</a>\n",
       "                </td>\n",
       "                <td style=\"text-align: left;\"></td>\n",
       "            </tr>\n",
       "        \n",
       "\n",
       "        </table>\n",
       "\n",
       "        \n",
       "            <details>\n",
       "            <summary style=\"margin-bottom: 20px;\"><h3 style=\"display: inline;\">Cluster Info</h3></summary>\n",
       "            <div class=\"jp-RenderedHTMLCommon jp-RenderedHTML jp-mod-trusted jp-OutputArea-output\">\n",
       "    <div style=\"width: 24px; height: 24px; background-color: #e1e1e1; border: 3px solid #9D9D9D; border-radius: 5px; position: absolute;\">\n",
       "    </div>\n",
       "    <div style=\"margin-left: 48px;\">\n",
       "        <h3 style=\"margin-bottom: 0px; margin-top: 0px;\">LocalCluster</h3>\n",
       "        <p style=\"color: #9D9D9D; margin-bottom: 0px;\">be1eb1ac</p>\n",
       "        <table style=\"width: 100%; text-align: left;\">\n",
       "            <tr>\n",
       "                <td style=\"text-align: left;\">\n",
       "                    <strong>Dashboard:</strong> <a href=\"http://127.0.0.1:8787/status\" target=\"_blank\">http://127.0.0.1:8787/status</a>\n",
       "                </td>\n",
       "                <td style=\"text-align: left;\">\n",
       "                    <strong>Workers:</strong> 10\n",
       "                </td>\n",
       "            </tr>\n",
       "            <tr>\n",
       "                <td style=\"text-align: left;\">\n",
       "                    <strong>Total threads:</strong> 10\n",
       "                </td>\n",
       "                <td style=\"text-align: left;\">\n",
       "                    <strong>Total memory:</strong> 64.00 GiB\n",
       "                </td>\n",
       "            </tr>\n",
       "            \n",
       "            <tr>\n",
       "    <td style=\"text-align: left;\"><strong>Status:</strong> running</td>\n",
       "    <td style=\"text-align: left;\"><strong>Using processes:</strong> True</td>\n",
       "</tr>\n",
       "\n",
       "            \n",
       "        </table>\n",
       "\n",
       "        <details>\n",
       "            <summary style=\"margin-bottom: 20px;\">\n",
       "                <h3 style=\"display: inline;\">Scheduler Info</h3>\n",
       "            </summary>\n",
       "\n",
       "            <div style=\"\">\n",
       "    <div>\n",
       "        <div style=\"width: 24px; height: 24px; background-color: #FFF7E5; border: 3px solid #FF6132; border-radius: 5px; position: absolute;\"> </div>\n",
       "        <div style=\"margin-left: 48px;\">\n",
       "            <h3 style=\"margin-bottom: 0px;\">Scheduler</h3>\n",
       "            <p style=\"color: #9D9D9D; margin-bottom: 0px;\">Scheduler-e3646c3c-69a2-4d93-bbe8-30ee36c56ade</p>\n",
       "            <table style=\"width: 100%; text-align: left;\">\n",
       "                <tr>\n",
       "                    <td style=\"text-align: left;\">\n",
       "                        <strong>Comm:</strong> tcp://127.0.0.1:52179\n",
       "                    </td>\n",
       "                    <td style=\"text-align: left;\">\n",
       "                        <strong>Workers:</strong> 10\n",
       "                    </td>\n",
       "                </tr>\n",
       "                <tr>\n",
       "                    <td style=\"text-align: left;\">\n",
       "                        <strong>Dashboard:</strong> <a href=\"http://127.0.0.1:8787/status\" target=\"_blank\">http://127.0.0.1:8787/status</a>\n",
       "                    </td>\n",
       "                    <td style=\"text-align: left;\">\n",
       "                        <strong>Total threads:</strong> 10\n",
       "                    </td>\n",
       "                </tr>\n",
       "                <tr>\n",
       "                    <td style=\"text-align: left;\">\n",
       "                        <strong>Started:</strong> Just now\n",
       "                    </td>\n",
       "                    <td style=\"text-align: left;\">\n",
       "                        <strong>Total memory:</strong> 64.00 GiB\n",
       "                    </td>\n",
       "                </tr>\n",
       "            </table>\n",
       "        </div>\n",
       "    </div>\n",
       "\n",
       "    <details style=\"margin-left: 48px;\">\n",
       "        <summary style=\"margin-bottom: 20px;\">\n",
       "            <h3 style=\"display: inline;\">Workers</h3>\n",
       "        </summary>\n",
       "\n",
       "        \n",
       "        <div style=\"margin-bottom: 20px;\">\n",
       "            <div style=\"width: 24px; height: 24px; background-color: #DBF5FF; border: 3px solid #4CC9FF; border-radius: 5px; position: absolute;\"> </div>\n",
       "            <div style=\"margin-left: 48px;\">\n",
       "            <details>\n",
       "                <summary>\n",
       "                    <h4 style=\"margin-bottom: 0px; display: inline;\">Worker: 0</h4>\n",
       "                </summary>\n",
       "                <table style=\"width: 100%; text-align: left;\">\n",
       "                    <tr>\n",
       "                        <td style=\"text-align: left;\">\n",
       "                            <strong>Comm: </strong> tcp://127.0.0.1:52218\n",
       "                        </td>\n",
       "                        <td style=\"text-align: left;\">\n",
       "                            <strong>Total threads: </strong> 1\n",
       "                        </td>\n",
       "                    </tr>\n",
       "                    <tr>\n",
       "                        <td style=\"text-align: left;\">\n",
       "                            <strong>Dashboard: </strong> <a href=\"http://127.0.0.1:52221/status\" target=\"_blank\">http://127.0.0.1:52221/status</a>\n",
       "                        </td>\n",
       "                        <td style=\"text-align: left;\">\n",
       "                            <strong>Memory: </strong> 6.40 GiB\n",
       "                        </td>\n",
       "                    </tr>\n",
       "                    <tr>\n",
       "                        <td style=\"text-align: left;\">\n",
       "                            <strong>Nanny: </strong> tcp://127.0.0.1:52185\n",
       "                        </td>\n",
       "                        <td style=\"text-align: left;\"></td>\n",
       "                    </tr>\n",
       "                    <tr>\n",
       "                        <td colspan=\"2\" style=\"text-align: left;\">\n",
       "                            <strong>Local directory: </strong> /var/folders/dj/cqrjzx2j27x69jdjypm1q9y00000gn/T/dask-worker-space/worker-vnnvhijb\n",
       "                        </td>\n",
       "                    </tr>\n",
       "\n",
       "                    \n",
       "\n",
       "                    \n",
       "\n",
       "                </table>\n",
       "            </details>\n",
       "            </div>\n",
       "        </div>\n",
       "        \n",
       "        <div style=\"margin-bottom: 20px;\">\n",
       "            <div style=\"width: 24px; height: 24px; background-color: #DBF5FF; border: 3px solid #4CC9FF; border-radius: 5px; position: absolute;\"> </div>\n",
       "            <div style=\"margin-left: 48px;\">\n",
       "            <details>\n",
       "                <summary>\n",
       "                    <h4 style=\"margin-bottom: 0px; display: inline;\">Worker: 1</h4>\n",
       "                </summary>\n",
       "                <table style=\"width: 100%; text-align: left;\">\n",
       "                    <tr>\n",
       "                        <td style=\"text-align: left;\">\n",
       "                            <strong>Comm: </strong> tcp://127.0.0.1:52212\n",
       "                        </td>\n",
       "                        <td style=\"text-align: left;\">\n",
       "                            <strong>Total threads: </strong> 1\n",
       "                        </td>\n",
       "                    </tr>\n",
       "                    <tr>\n",
       "                        <td style=\"text-align: left;\">\n",
       "                            <strong>Dashboard: </strong> <a href=\"http://127.0.0.1:52213/status\" target=\"_blank\">http://127.0.0.1:52213/status</a>\n",
       "                        </td>\n",
       "                        <td style=\"text-align: left;\">\n",
       "                            <strong>Memory: </strong> 6.40 GiB\n",
       "                        </td>\n",
       "                    </tr>\n",
       "                    <tr>\n",
       "                        <td style=\"text-align: left;\">\n",
       "                            <strong>Nanny: </strong> tcp://127.0.0.1:52182\n",
       "                        </td>\n",
       "                        <td style=\"text-align: left;\"></td>\n",
       "                    </tr>\n",
       "                    <tr>\n",
       "                        <td colspan=\"2\" style=\"text-align: left;\">\n",
       "                            <strong>Local directory: </strong> /var/folders/dj/cqrjzx2j27x69jdjypm1q9y00000gn/T/dask-worker-space/worker-gse51dhj\n",
       "                        </td>\n",
       "                    </tr>\n",
       "\n",
       "                    \n",
       "\n",
       "                    \n",
       "\n",
       "                </table>\n",
       "            </details>\n",
       "            </div>\n",
       "        </div>\n",
       "        \n",
       "        <div style=\"margin-bottom: 20px;\">\n",
       "            <div style=\"width: 24px; height: 24px; background-color: #DBF5FF; border: 3px solid #4CC9FF; border-radius: 5px; position: absolute;\"> </div>\n",
       "            <div style=\"margin-left: 48px;\">\n",
       "            <details>\n",
       "                <summary>\n",
       "                    <h4 style=\"margin-bottom: 0px; display: inline;\">Worker: 2</h4>\n",
       "                </summary>\n",
       "                <table style=\"width: 100%; text-align: left;\">\n",
       "                    <tr>\n",
       "                        <td style=\"text-align: left;\">\n",
       "                            <strong>Comm: </strong> tcp://127.0.0.1:52233\n",
       "                        </td>\n",
       "                        <td style=\"text-align: left;\">\n",
       "                            <strong>Total threads: </strong> 1\n",
       "                        </td>\n",
       "                    </tr>\n",
       "                    <tr>\n",
       "                        <td style=\"text-align: left;\">\n",
       "                            <strong>Dashboard: </strong> <a href=\"http://127.0.0.1:52234/status\" target=\"_blank\">http://127.0.0.1:52234/status</a>\n",
       "                        </td>\n",
       "                        <td style=\"text-align: left;\">\n",
       "                            <strong>Memory: </strong> 6.40 GiB\n",
       "                        </td>\n",
       "                    </tr>\n",
       "                    <tr>\n",
       "                        <td style=\"text-align: left;\">\n",
       "                            <strong>Nanny: </strong> tcp://127.0.0.1:52188\n",
       "                        </td>\n",
       "                        <td style=\"text-align: left;\"></td>\n",
       "                    </tr>\n",
       "                    <tr>\n",
       "                        <td colspan=\"2\" style=\"text-align: left;\">\n",
       "                            <strong>Local directory: </strong> /var/folders/dj/cqrjzx2j27x69jdjypm1q9y00000gn/T/dask-worker-space/worker-5dv9bxub\n",
       "                        </td>\n",
       "                    </tr>\n",
       "\n",
       "                    \n",
       "\n",
       "                    \n",
       "\n",
       "                </table>\n",
       "            </details>\n",
       "            </div>\n",
       "        </div>\n",
       "        \n",
       "        <div style=\"margin-bottom: 20px;\">\n",
       "            <div style=\"width: 24px; height: 24px; background-color: #DBF5FF; border: 3px solid #4CC9FF; border-radius: 5px; position: absolute;\"> </div>\n",
       "            <div style=\"margin-left: 48px;\">\n",
       "            <details>\n",
       "                <summary>\n",
       "                    <h4 style=\"margin-bottom: 0px; display: inline;\">Worker: 3</h4>\n",
       "                </summary>\n",
       "                <table style=\"width: 100%; text-align: left;\">\n",
       "                    <tr>\n",
       "                        <td style=\"text-align: left;\">\n",
       "                            <strong>Comm: </strong> tcp://127.0.0.1:52239\n",
       "                        </td>\n",
       "                        <td style=\"text-align: left;\">\n",
       "                            <strong>Total threads: </strong> 1\n",
       "                        </td>\n",
       "                    </tr>\n",
       "                    <tr>\n",
       "                        <td style=\"text-align: left;\">\n",
       "                            <strong>Dashboard: </strong> <a href=\"http://127.0.0.1:52240/status\" target=\"_blank\">http://127.0.0.1:52240/status</a>\n",
       "                        </td>\n",
       "                        <td style=\"text-align: left;\">\n",
       "                            <strong>Memory: </strong> 6.40 GiB\n",
       "                        </td>\n",
       "                    </tr>\n",
       "                    <tr>\n",
       "                        <td style=\"text-align: left;\">\n",
       "                            <strong>Nanny: </strong> tcp://127.0.0.1:52189\n",
       "                        </td>\n",
       "                        <td style=\"text-align: left;\"></td>\n",
       "                    </tr>\n",
       "                    <tr>\n",
       "                        <td colspan=\"2\" style=\"text-align: left;\">\n",
       "                            <strong>Local directory: </strong> /var/folders/dj/cqrjzx2j27x69jdjypm1q9y00000gn/T/dask-worker-space/worker-635nodc_\n",
       "                        </td>\n",
       "                    </tr>\n",
       "\n",
       "                    \n",
       "\n",
       "                    \n",
       "\n",
       "                </table>\n",
       "            </details>\n",
       "            </div>\n",
       "        </div>\n",
       "        \n",
       "        <div style=\"margin-bottom: 20px;\">\n",
       "            <div style=\"width: 24px; height: 24px; background-color: #DBF5FF; border: 3px solid #4CC9FF; border-radius: 5px; position: absolute;\"> </div>\n",
       "            <div style=\"margin-left: 48px;\">\n",
       "            <details>\n",
       "                <summary>\n",
       "                    <h4 style=\"margin-bottom: 0px; display: inline;\">Worker: 4</h4>\n",
       "                </summary>\n",
       "                <table style=\"width: 100%; text-align: left;\">\n",
       "                    <tr>\n",
       "                        <td style=\"text-align: left;\">\n",
       "                            <strong>Comm: </strong> tcp://127.0.0.1:52230\n",
       "                        </td>\n",
       "                        <td style=\"text-align: left;\">\n",
       "                            <strong>Total threads: </strong> 1\n",
       "                        </td>\n",
       "                    </tr>\n",
       "                    <tr>\n",
       "                        <td style=\"text-align: left;\">\n",
       "                            <strong>Dashboard: </strong> <a href=\"http://127.0.0.1:52231/status\" target=\"_blank\">http://127.0.0.1:52231/status</a>\n",
       "                        </td>\n",
       "                        <td style=\"text-align: left;\">\n",
       "                            <strong>Memory: </strong> 6.40 GiB\n",
       "                        </td>\n",
       "                    </tr>\n",
       "                    <tr>\n",
       "                        <td style=\"text-align: left;\">\n",
       "                            <strong>Nanny: </strong> tcp://127.0.0.1:52190\n",
       "                        </td>\n",
       "                        <td style=\"text-align: left;\"></td>\n",
       "                    </tr>\n",
       "                    <tr>\n",
       "                        <td colspan=\"2\" style=\"text-align: left;\">\n",
       "                            <strong>Local directory: </strong> /var/folders/dj/cqrjzx2j27x69jdjypm1q9y00000gn/T/dask-worker-space/worker-a_drbpg2\n",
       "                        </td>\n",
       "                    </tr>\n",
       "\n",
       "                    \n",
       "\n",
       "                    \n",
       "\n",
       "                </table>\n",
       "            </details>\n",
       "            </div>\n",
       "        </div>\n",
       "        \n",
       "        <div style=\"margin-bottom: 20px;\">\n",
       "            <div style=\"width: 24px; height: 24px; background-color: #DBF5FF; border: 3px solid #4CC9FF; border-radius: 5px; position: absolute;\"> </div>\n",
       "            <div style=\"margin-left: 48px;\">\n",
       "            <details>\n",
       "                <summary>\n",
       "                    <h4 style=\"margin-bottom: 0px; display: inline;\">Worker: 5</h4>\n",
       "                </summary>\n",
       "                <table style=\"width: 100%; text-align: left;\">\n",
       "                    <tr>\n",
       "                        <td style=\"text-align: left;\">\n",
       "                            <strong>Comm: </strong> tcp://127.0.0.1:52236\n",
       "                        </td>\n",
       "                        <td style=\"text-align: left;\">\n",
       "                            <strong>Total threads: </strong> 1\n",
       "                        </td>\n",
       "                    </tr>\n",
       "                    <tr>\n",
       "                        <td style=\"text-align: left;\">\n",
       "                            <strong>Dashboard: </strong> <a href=\"http://127.0.0.1:52237/status\" target=\"_blank\">http://127.0.0.1:52237/status</a>\n",
       "                        </td>\n",
       "                        <td style=\"text-align: left;\">\n",
       "                            <strong>Memory: </strong> 6.40 GiB\n",
       "                        </td>\n",
       "                    </tr>\n",
       "                    <tr>\n",
       "                        <td style=\"text-align: left;\">\n",
       "                            <strong>Nanny: </strong> tcp://127.0.0.1:52191\n",
       "                        </td>\n",
       "                        <td style=\"text-align: left;\"></td>\n",
       "                    </tr>\n",
       "                    <tr>\n",
       "                        <td colspan=\"2\" style=\"text-align: left;\">\n",
       "                            <strong>Local directory: </strong> /var/folders/dj/cqrjzx2j27x69jdjypm1q9y00000gn/T/dask-worker-space/worker-9frlhlrt\n",
       "                        </td>\n",
       "                    </tr>\n",
       "\n",
       "                    \n",
       "\n",
       "                    \n",
       "\n",
       "                </table>\n",
       "            </details>\n",
       "            </div>\n",
       "        </div>\n",
       "        \n",
       "        <div style=\"margin-bottom: 20px;\">\n",
       "            <div style=\"width: 24px; height: 24px; background-color: #DBF5FF; border: 3px solid #4CC9FF; border-radius: 5px; position: absolute;\"> </div>\n",
       "            <div style=\"margin-left: 48px;\">\n",
       "            <details>\n",
       "                <summary>\n",
       "                    <h4 style=\"margin-bottom: 0px; display: inline;\">Worker: 6</h4>\n",
       "                </summary>\n",
       "                <table style=\"width: 100%; text-align: left;\">\n",
       "                    <tr>\n",
       "                        <td style=\"text-align: left;\">\n",
       "                            <strong>Comm: </strong> tcp://127.0.0.1:52219\n",
       "                        </td>\n",
       "                        <td style=\"text-align: left;\">\n",
       "                            <strong>Total threads: </strong> 1\n",
       "                        </td>\n",
       "                    </tr>\n",
       "                    <tr>\n",
       "                        <td style=\"text-align: left;\">\n",
       "                            <strong>Dashboard: </strong> <a href=\"http://127.0.0.1:52220/status\" target=\"_blank\">http://127.0.0.1:52220/status</a>\n",
       "                        </td>\n",
       "                        <td style=\"text-align: left;\">\n",
       "                            <strong>Memory: </strong> 6.40 GiB\n",
       "                        </td>\n",
       "                    </tr>\n",
       "                    <tr>\n",
       "                        <td style=\"text-align: left;\">\n",
       "                            <strong>Nanny: </strong> tcp://127.0.0.1:52183\n",
       "                        </td>\n",
       "                        <td style=\"text-align: left;\"></td>\n",
       "                    </tr>\n",
       "                    <tr>\n",
       "                        <td colspan=\"2\" style=\"text-align: left;\">\n",
       "                            <strong>Local directory: </strong> /var/folders/dj/cqrjzx2j27x69jdjypm1q9y00000gn/T/dask-worker-space/worker-m_ink5a4\n",
       "                        </td>\n",
       "                    </tr>\n",
       "\n",
       "                    \n",
       "\n",
       "                    \n",
       "\n",
       "                </table>\n",
       "            </details>\n",
       "            </div>\n",
       "        </div>\n",
       "        \n",
       "        <div style=\"margin-bottom: 20px;\">\n",
       "            <div style=\"width: 24px; height: 24px; background-color: #DBF5FF; border: 3px solid #4CC9FF; border-radius: 5px; position: absolute;\"> </div>\n",
       "            <div style=\"margin-left: 48px;\">\n",
       "            <details>\n",
       "                <summary>\n",
       "                    <h4 style=\"margin-bottom: 0px; display: inline;\">Worker: 7</h4>\n",
       "                </summary>\n",
       "                <table style=\"width: 100%; text-align: left;\">\n",
       "                    <tr>\n",
       "                        <td style=\"text-align: left;\">\n",
       "                            <strong>Comm: </strong> tcp://127.0.0.1:52215\n",
       "                        </td>\n",
       "                        <td style=\"text-align: left;\">\n",
       "                            <strong>Total threads: </strong> 1\n",
       "                        </td>\n",
       "                    </tr>\n",
       "                    <tr>\n",
       "                        <td style=\"text-align: left;\">\n",
       "                            <strong>Dashboard: </strong> <a href=\"http://127.0.0.1:52216/status\" target=\"_blank\">http://127.0.0.1:52216/status</a>\n",
       "                        </td>\n",
       "                        <td style=\"text-align: left;\">\n",
       "                            <strong>Memory: </strong> 6.40 GiB\n",
       "                        </td>\n",
       "                    </tr>\n",
       "                    <tr>\n",
       "                        <td style=\"text-align: left;\">\n",
       "                            <strong>Nanny: </strong> tcp://127.0.0.1:52184\n",
       "                        </td>\n",
       "                        <td style=\"text-align: left;\"></td>\n",
       "                    </tr>\n",
       "                    <tr>\n",
       "                        <td colspan=\"2\" style=\"text-align: left;\">\n",
       "                            <strong>Local directory: </strong> /var/folders/dj/cqrjzx2j27x69jdjypm1q9y00000gn/T/dask-worker-space/worker-up05y6i9\n",
       "                        </td>\n",
       "                    </tr>\n",
       "\n",
       "                    \n",
       "\n",
       "                    \n",
       "\n",
       "                </table>\n",
       "            </details>\n",
       "            </div>\n",
       "        </div>\n",
       "        \n",
       "        <div style=\"margin-bottom: 20px;\">\n",
       "            <div style=\"width: 24px; height: 24px; background-color: #DBF5FF; border: 3px solid #4CC9FF; border-radius: 5px; position: absolute;\"> </div>\n",
       "            <div style=\"margin-left: 48px;\">\n",
       "            <details>\n",
       "                <summary>\n",
       "                    <h4 style=\"margin-bottom: 0px; display: inline;\">Worker: 8</h4>\n",
       "                </summary>\n",
       "                <table style=\"width: 100%; text-align: left;\">\n",
       "                    <tr>\n",
       "                        <td style=\"text-align: left;\">\n",
       "                            <strong>Comm: </strong> tcp://127.0.0.1:52224\n",
       "                        </td>\n",
       "                        <td style=\"text-align: left;\">\n",
       "                            <strong>Total threads: </strong> 1\n",
       "                        </td>\n",
       "                    </tr>\n",
       "                    <tr>\n",
       "                        <td style=\"text-align: left;\">\n",
       "                            <strong>Dashboard: </strong> <a href=\"http://127.0.0.1:52225/status\" target=\"_blank\">http://127.0.0.1:52225/status</a>\n",
       "                        </td>\n",
       "                        <td style=\"text-align: left;\">\n",
       "                            <strong>Memory: </strong> 6.40 GiB\n",
       "                        </td>\n",
       "                    </tr>\n",
       "                    <tr>\n",
       "                        <td style=\"text-align: left;\">\n",
       "                            <strong>Nanny: </strong> tcp://127.0.0.1:52186\n",
       "                        </td>\n",
       "                        <td style=\"text-align: left;\"></td>\n",
       "                    </tr>\n",
       "                    <tr>\n",
       "                        <td colspan=\"2\" style=\"text-align: left;\">\n",
       "                            <strong>Local directory: </strong> /var/folders/dj/cqrjzx2j27x69jdjypm1q9y00000gn/T/dask-worker-space/worker-jqw7e7bx\n",
       "                        </td>\n",
       "                    </tr>\n",
       "\n",
       "                    \n",
       "\n",
       "                    \n",
       "\n",
       "                </table>\n",
       "            </details>\n",
       "            </div>\n",
       "        </div>\n",
       "        \n",
       "        <div style=\"margin-bottom: 20px;\">\n",
       "            <div style=\"width: 24px; height: 24px; background-color: #DBF5FF; border: 3px solid #4CC9FF; border-radius: 5px; position: absolute;\"> </div>\n",
       "            <div style=\"margin-left: 48px;\">\n",
       "            <details>\n",
       "                <summary>\n",
       "                    <h4 style=\"margin-bottom: 0px; display: inline;\">Worker: 9</h4>\n",
       "                </summary>\n",
       "                <table style=\"width: 100%; text-align: left;\">\n",
       "                    <tr>\n",
       "                        <td style=\"text-align: left;\">\n",
       "                            <strong>Comm: </strong> tcp://127.0.0.1:52227\n",
       "                        </td>\n",
       "                        <td style=\"text-align: left;\">\n",
       "                            <strong>Total threads: </strong> 1\n",
       "                        </td>\n",
       "                    </tr>\n",
       "                    <tr>\n",
       "                        <td style=\"text-align: left;\">\n",
       "                            <strong>Dashboard: </strong> <a href=\"http://127.0.0.1:52228/status\" target=\"_blank\">http://127.0.0.1:52228/status</a>\n",
       "                        </td>\n",
       "                        <td style=\"text-align: left;\">\n",
       "                            <strong>Memory: </strong> 6.40 GiB\n",
       "                        </td>\n",
       "                    </tr>\n",
       "                    <tr>\n",
       "                        <td style=\"text-align: left;\">\n",
       "                            <strong>Nanny: </strong> tcp://127.0.0.1:52187\n",
       "                        </td>\n",
       "                        <td style=\"text-align: left;\"></td>\n",
       "                    </tr>\n",
       "                    <tr>\n",
       "                        <td colspan=\"2\" style=\"text-align: left;\">\n",
       "                            <strong>Local directory: </strong> /var/folders/dj/cqrjzx2j27x69jdjypm1q9y00000gn/T/dask-worker-space/worker-ht3iw2po\n",
       "                        </td>\n",
       "                    </tr>\n",
       "\n",
       "                    \n",
       "\n",
       "                    \n",
       "\n",
       "                </table>\n",
       "            </details>\n",
       "            </div>\n",
       "        </div>\n",
       "        \n",
       "\n",
       "    </details>\n",
       "</div>\n",
       "\n",
       "        </details>\n",
       "    </div>\n",
       "</div>\n",
       "            </details>\n",
       "        \n",
       "\n",
       "    </div>\n",
       "</div>"
      ],
      "text/plain": [
       "<Client: 'tcp://127.0.0.1:52179' processes=10 threads=10, memory=64.00 GiB>"
      ]
     },
     "execution_count": 2,
     "metadata": {},
     "output_type": "execute_result"
    }
   ],
   "source": [
    "# Dask Client with number of workers equal to number of cores\n",
    "n_workers = os.cpu_count()\n",
    "client = Client(n_workers=n_workers, silence_logs=logging.ERROR)\n",
    "client"
   ]
  },
  {
   "cell_type": "markdown",
   "id": "0545576e",
   "metadata": {},
   "source": [
    "## DATA PREPARATION"
   ]
  },
  {
   "cell_type": "markdown",
   "id": "aaa3a0c3",
   "metadata": {},
   "source": [
    "<div class=\"alert alert-block alert-info\">\n",
    "Our first step is to prepare the dataframe on which we will conduct our analysis. We then load our data in parquet format and filter the categories of videos that are the most insightful for us. This step permits us to focus on the videos that are the most interesting for our research, remove noise from irrelevant categories and make our queries faster. <br>\n",
    "Therefore, we filter our videos to only keep categories Sports, People & Blogs and Entertainment."
   ]
  },
  {
   "cell_type": "code",
   "execution_count": 3,
   "id": "88304eb6",
   "metadata": {},
   "outputs": [],
   "source": [
    "video_metadata_df = dd.read_parquet(\"./data/video_metadata/parquet/\")\n",
    "video_metadata_df[\"upload_date\"] = dd.to_datetime(video_metadata_df.upload_date)"
   ]
  },
  {
   "cell_type": "code",
   "execution_count": 4,
   "id": "9f040189",
   "metadata": {},
   "outputs": [],
   "source": [
    "video_metadata_df_sports = video_metadata_df[video_metadata_df[\"categories\"].isin([\"Sports\", \"People & Blogs\", \"Entertainment\"])]\n",
    "video_metadata_df_sports[\"tags\"] = video_metadata_df_sports[\"tags\"].str.lower()\n",
    "video_metadata_df_sports[\"tags\"] = video_metadata_df_sports[\"tags\"].apply(lambda x: f\",{x},\", meta=(\"tags\", \"object\"))"
   ]
  },
  {
   "cell_type": "code",
   "execution_count": 5,
   "id": "0d8e9646",
   "metadata": {},
   "outputs": [],
   "source": [
    "date_obj = video_metadata_df_sports.upload_date.dt\n",
    "group_by = [date_obj.year, date_obj.month, video_metadata_df.categories]\n",
    "video_metadata_df_sports_grouped = video_metadata_df_sports[[\"upload_date\"]].groupby(by=group_by).count().persist()"
   ]
  },
  {
   "cell_type": "code",
   "execution_count": 6,
   "id": "e8cc9b10",
   "metadata": {},
   "outputs": [
    {
     "data": {
      "text/html": [
       "<div>\n",
       "<style scoped>\n",
       "    .dataframe tbody tr th:only-of-type {\n",
       "        vertical-align: middle;\n",
       "    }\n",
       "\n",
       "    .dataframe tbody tr th {\n",
       "        vertical-align: top;\n",
       "    }\n",
       "\n",
       "    .dataframe thead th {\n",
       "        text-align: right;\n",
       "    }\n",
       "</style>\n",
       "<table border=\"1\" class=\"dataframe\">\n",
       "  <thead>\n",
       "    <tr style=\"text-align: right;\">\n",
       "      <th></th>\n",
       "      <th>categories</th>\n",
       "      <th>channel_id</th>\n",
       "      <th>crawl_date</th>\n",
       "      <th>description</th>\n",
       "      <th>dislike_count</th>\n",
       "      <th>display_id</th>\n",
       "      <th>duration</th>\n",
       "      <th>like_count</th>\n",
       "      <th>tags</th>\n",
       "      <th>title</th>\n",
       "      <th>upload_date</th>\n",
       "      <th>view_count</th>\n",
       "      <th>year_month</th>\n",
       "    </tr>\n",
       "  </thead>\n",
       "  <tbody>\n",
       "    <tr>\n",
       "      <th>12154</th>\n",
       "      <td>People &amp; Blogs</td>\n",
       "      <td>UCzVxzz60KHq5Bgqf1zqoocg</td>\n",
       "      <td>2019-11-17 22:51:21.268794</td>\n",
       "      <td>Lacey Leaves Us!  Crazy Basketball!\\n\\nWhat a ...</td>\n",
       "      <td>12.0</td>\n",
       "      <td>Roa9Qlaao3k</td>\n",
       "      <td>590</td>\n",
       "      <td>1232.0</td>\n",
       "      <td>,lacey leaves us,crazy basketball,lacey,crazy,...</td>\n",
       "      <td>LACEY LEAVES US! | CRAZY BASKETBALL!</td>\n",
       "      <td>2018-01-20</td>\n",
       "      <td>42250</td>\n",
       "      <td>2018-01-01</td>\n",
       "    </tr>\n",
       "    <tr>\n",
       "      <th>12171</th>\n",
       "      <td>People &amp; Blogs</td>\n",
       "      <td>UCzVxzz60KHq5Bgqf1zqoocg</td>\n",
       "      <td>2019-11-17 22:51:31.053243</td>\n",
       "      <td>Dance!  Cheer at Basketball!  Vlogmas Day 16!\\...</td>\n",
       "      <td>7.0</td>\n",
       "      <td>ta-GIdaF7k8</td>\n",
       "      <td>477</td>\n",
       "      <td>770.0</td>\n",
       "      <td>,halftime performace,cheer at basketball,vlogm...</td>\n",
       "      <td>HALFTIME PERFORMANCE! | CHEER AT BASKETBALL! |...</td>\n",
       "      <td>2017-12-16</td>\n",
       "      <td>17340</td>\n",
       "      <td>2017-12-01</td>\n",
       "    </tr>\n",
       "  </tbody>\n",
       "</table>\n",
       "</div>"
      ],
      "text/plain": [
       "           categories                channel_id                  crawl_date  \\\n",
       "12154  People & Blogs  UCzVxzz60KHq5Bgqf1zqoocg  2019-11-17 22:51:21.268794   \n",
       "12171  People & Blogs  UCzVxzz60KHq5Bgqf1zqoocg  2019-11-17 22:51:31.053243   \n",
       "\n",
       "                                             description  dislike_count  \\\n",
       "12154  Lacey Leaves Us!  Crazy Basketball!\\n\\nWhat a ...           12.0   \n",
       "12171  Dance!  Cheer at Basketball!  Vlogmas Day 16!\\...            7.0   \n",
       "\n",
       "        display_id  duration  like_count  \\\n",
       "12154  Roa9Qlaao3k       590      1232.0   \n",
       "12171  ta-GIdaF7k8       477       770.0   \n",
       "\n",
       "                                                    tags  \\\n",
       "12154  ,lacey leaves us,crazy basketball,lacey,crazy,...   \n",
       "12171  ,halftime performace,cheer at basketball,vlogm...   \n",
       "\n",
       "                                                   title upload_date  \\\n",
       "12154               LACEY LEAVES US! | CRAZY BASKETBALL!  2018-01-20   \n",
       "12171  HALFTIME PERFORMANCE! | CHEER AT BASKETBALL! |...  2017-12-16   \n",
       "\n",
       "       view_count year_month  \n",
       "12154       42250 2018-01-01  \n",
       "12171       17340 2017-12-01  "
      ]
     },
     "execution_count": 6,
     "metadata": {},
     "output_type": "execute_result"
    }
   ],
   "source": [
    "required_tags = [\"nba\", \"basketball\"]\n",
    "\n",
    "# Verifying that each video contains the required tags\n",
    "nba_basketball_df = video_metadata_df_sports[video_metadata_df_sports[\"tags\"].str.contains(f',{\",|,\".join(required_tags)},')].persist()\n",
    "nba_basketball_df[\"year_month\"] = dd.to_datetime(\n",
    "    nba_basketball_df.upload_date.dt.year.astype(\"str\") + \"-\" + nba_basketball_df.upload_date.dt.month.astype(\"str\")\n",
    ")\n",
    "nba_basketball_df.head(2)"
   ]
  },
  {
   "cell_type": "code",
   "execution_count": 7,
   "id": "64786c2d",
   "metadata": {},
   "outputs": [
    {
     "name": "stdout",
     "output_type": "stream",
     "text": [
      "BigMarketsSubset\n",
      "LAL : ['los angeles', 'la', 'lakers']\n",
      "NY : ['knicks', 'new york', 'ny']\n",
      "CHI : ['bulls', 'chicago']\n",
      "PHI : ['76ers', 'seventy sixers', 'seventysixers', 'philadelphia', 'phila']\n",
      "DAL : ['mavericks', 'mavs', 'dallas']\n",
      "ATT : ['hawks', 'atlanta', 'atl']\n",
      "BOS : ['celtics', 'boston']\n",
      "GSW : ['gsw', 'golden state warriors', 'golden state', 'warriors', 'dubs', 'dubs nation', 'dubsnation']\n",
      "\n",
      "SmallMarketsSubset\n",
      "MEM : ['memphis', 'grizzlies']\n",
      "NO : ['pelicans', 'pels', 'neworleans', 'new orleans', 'nola']\n",
      "OKC : ['okc', 'oklahomacitythunder', 'oklahoma']\n",
      "MIL : ['bucks', 'milwaukee']\n",
      "SA : ['spurs', 'san antonio', 'sanantonio']\n",
      "UTAH : ['utah jazz', 'utahjazz', 'utah', 'jazz']\n",
      "IND : ['pacers', 'indiana', 'indi']\n",
      "POR : ['trailblazers', 'trail blazers', 'blazers', 'portland']\n"
     ]
    }
   ],
   "source": [
    "# Print dictionary of the big market teams\n",
    "print(\"BigMarketsSubset\")\n",
    "for key, value in BigMarketsSubset.items():\n",
    "    print(f\"{key} : {value}\")\n",
    "\n",
    "print(\"\\nSmallMarketsSubset\")\n",
    "# Print dictionary of the small market teams\n",
    "for key, value in SmallMarketsSubset.items():\n",
    "    print(f\"{key} : {value}\")"
   ]
  },
  {
   "cell_type": "markdown",
   "id": "b90df695",
   "metadata": {},
   "source": [
    "<div class=\"alert alert-block alert-info\">\n",
    "We groupby the videos according to their respective team, sum the number of views for each team on a monthly basis, label each team with its market size and finally calculate its view ratio compared to all NBA/Basketball views. "
   ]
  },
  {
   "cell_type": "code",
   "execution_count": 8,
   "id": "c5fdf581",
   "metadata": {},
   "outputs": [
    {
     "name": "stdout",
     "output_type": "stream",
     "text": [
      "LAL ['los angeles', 'la', 'lakers']\n",
      "NY ['knicks', 'new york', 'ny']\n",
      "CHI ['bulls', 'chicago']\n",
      "PHI ['76ers', 'seventy sixers', 'seventysixers', 'philadelphia', 'phila']\n",
      "DAL ['mavericks', 'mavs', 'dallas']\n",
      "ATT ['hawks', 'atlanta', 'atl']\n",
      "BOS ['celtics', 'boston']\n",
      "GSW ['gsw', 'golden state warriors', 'golden state', 'warriors', 'dubs', 'dubs nation', 'dubsnation']\n",
      "MEM ['memphis', 'grizzlies']\n",
      "NO ['pelicans', 'pels', 'neworleans', 'new orleans', 'nola']\n",
      "OKC ['okc', 'oklahomacitythunder', 'oklahoma']\n",
      "MIL ['bucks', 'milwaukee']\n",
      "SA ['spurs', 'san antonio', 'sanantonio']\n",
      "UTAH ['utah jazz', 'utahjazz', 'utah', 'jazz']\n",
      "IND ['pacers', 'indiana', 'indi']\n",
      "POR ['trailblazers', 'trail blazers', 'blazers', 'portland']\n"
     ]
    }
   ],
   "source": [
    "nba_basketball_views_per_year_df = nba_basketball_df[[\"year_month\", \"view_count\"]].groupby(\"year_month\").sum().persist().compute()\n",
    "nba_basketball_views_per_year_df.rename(columns={\"view_count\": \"total_nba_views\"}, inplace=True)\n",
    "\n",
    "dd_dict = {}\n",
    "# Getting the total amount of views per month for every big market and small market team\n",
    "for key, value in {**BigMarketsSubset, **SmallMarketsSubset}.items():\n",
    "    print(key, value)\n",
    "    team_df = nba_basketball_df[nba_basketball_df[\"tags\"].str.contains(f',{\",|,\".join(value)},')]\n",
    "    team_df = team_df[[\"year_month\", \"view_count\"]].groupby(\"year_month\").sum()\n",
    "    team_df = team_df.reset_index()\n",
    "    team_df[\"team\"] = key\n",
    "    team_df[\"market_size\"] = \"small\" if key in SmallMarketsSubset else \"big\"\n",
    "    team_df = team_df.persist().compute()\n",
    "    dd_dict[key] = team_df"
   ]
  },
  {
   "cell_type": "code",
   "execution_count": 9,
   "id": "cb37a866",
   "metadata": {},
   "outputs": [],
   "source": [
    "all_team_results = pd.concat([v for k, v in dd_dict.items()])\n",
    "all_team_results = all_team_results.merge(nba_basketball_views_per_year_df, on=\"year_month\")\n",
    "all_team_results[\"total_nba_view_percentage\"] = all_team_results[\"view_count\"] / all_team_results[\"total_nba_views\"]\n",
    "all_team_results[\"season\"] = all_team_results[\"year_month\"].apply(lambda x: f\"{x.year - 1}-{x.year}\" if x.month < 10 else f\"{x.year}-{x.year + 1}\")\n",
    "\n",
    "# Saving the results to a csv file\n",
    "all_team_results.to_csv(\"./data/all_team_results.csv\", index=False)"
   ]
  },
  {
   "cell_type": "markdown",
   "id": "2fe3d6db",
   "metadata": {},
   "source": [
    "## DATA VISUALIZATION FOR THE INTRODUCTION"
   ]
  },
  {
   "cell_type": "markdown",
   "id": "1429f659",
   "metadata": {},
   "source": [
    "### GENERATE VISUALIZATION FOR COMPARISON OF MAJOR SPORTS LEAGUES IN THE USA"
   ]
  },
  {
   "cell_type": "code",
   "execution_count": 10,
   "id": "836c61a0",
   "metadata": {},
   "outputs": [
    {
     "data": {
      "text/html": [
       "<div>\n",
       "<style scoped>\n",
       "    .dataframe tbody tr th:only-of-type {\n",
       "        vertical-align: middle;\n",
       "    }\n",
       "\n",
       "    .dataframe tbody tr th {\n",
       "        vertical-align: top;\n",
       "    }\n",
       "\n",
       "    .dataframe thead th {\n",
       "        text-align: right;\n",
       "    }\n",
       "</style>\n",
       "<table border=\"1\" class=\"dataframe\">\n",
       "  <thead>\n",
       "    <tr style=\"text-align: right;\">\n",
       "      <th></th>\n",
       "      <th>League</th>\n",
       "      <th>Viewers (in millions)</th>\n",
       "      <th>US TV rev. (in billions of $)</th>\n",
       "    </tr>\n",
       "  </thead>\n",
       "  <tbody>\n",
       "    <tr>\n",
       "      <th>0</th>\n",
       "      <td>NFL</td>\n",
       "      <td>16.6</td>\n",
       "      <td>7.200</td>\n",
       "    </tr>\n",
       "    <tr>\n",
       "      <th>1</th>\n",
       "      <td>NBA</td>\n",
       "      <td>7.3</td>\n",
       "      <td>2.700</td>\n",
       "    </tr>\n",
       "    <tr>\n",
       "      <th>2</th>\n",
       "      <td>MLB</td>\n",
       "      <td>3.9</td>\n",
       "      <td>1.500</td>\n",
       "    </tr>\n",
       "    <tr>\n",
       "      <th>3</th>\n",
       "      <td>NHL</td>\n",
       "      <td>1.6</td>\n",
       "      <td>0.625</td>\n",
       "    </tr>\n",
       "    <tr>\n",
       "      <th>4</th>\n",
       "      <td>MLS</td>\n",
       "      <td>1.8</td>\n",
       "      <td>0.090</td>\n",
       "    </tr>\n",
       "  </tbody>\n",
       "</table>\n",
       "</div>"
      ],
      "text/plain": [
       "  League  Viewers (in millions)  US TV rev. (in billions of $)\n",
       "0    NFL                   16.6                          7.200\n",
       "1    NBA                    7.3                          2.700\n",
       "2    MLB                    3.9                          1.500\n",
       "3    NHL                    1.6                          0.625\n",
       "4    MLS                    1.8                          0.090"
      ]
     },
     "execution_count": 10,
     "metadata": {},
     "output_type": "execute_result"
    }
   ],
   "source": [
    "major_league_comparison = pd.read_csv(\"data/major_league_comparison.csv\")\n",
    "major_league_comparison"
   ]
  },
  {
   "cell_type": "code",
   "execution_count": 11,
   "id": "95c40e8b",
   "metadata": {},
   "outputs": [
    {
     "data": {
      "image/png": "[encoded data removed]",
      "text/plain": [
       "<Figure size 800x500 with 1 Axes>"
      ]
     },
     "metadata": {},
     "output_type": "display_data"
    }
   ],
   "source": [
    "major_league_comparison.plot(\n",
    "    x=\"League\",\n",
    "    y=[\"Viewers (in millions)\", \"US TV rev. (in billions of $)\"],\n",
    "    kind=\"bar\",\n",
    "    rot=0,\n",
    "    title=\"US major leagues viewership and revenue comparison\",\n",
    ")\n",
    "\n",
    "# Display a legend for the chart\n",
    "plt.legend()\n",
    "\n",
    "# Save the chart to a file with a resolution of 300 dpi\n",
    "plt.savefig(\"imgs/major_league_viewership_comparison.png\", dpi=300)"
   ]
  },
  {
   "cell_type": "markdown",
   "id": "96d1927c",
   "metadata": {},
   "source": [
    "### GENERATE VISUALIZATION OF EVOLUTION OF NBA VIDEOS"
   ]
  },
  {
   "cell_type": "code",
   "execution_count": 12,
   "id": "ad50af85",
   "metadata": {},
   "outputs": [
    {
     "data": {
      "image/png": "[encoded data removed]",
      "text/plain": [
       "<Figure size 800x500 with 1 Axes>"
      ]
     },
     "metadata": {},
     "output_type": "display_data"
    }
   ],
   "source": [
    "df = nba_basketball_views_per_year_df.copy()\n",
    "\n",
    "# Set 'year_month' column as index, sort by index in ascending order, and reset index\n",
    "df.sort_index(inplace=True, ascending=True)\n",
    "df.reset_index(inplace=True)\n",
    "\n",
    "# Plot 'total_nba_views' against 'year_month' for rows with 'year_month' <= '2018-01-01'\n",
    "df[df.year_month <= \"2018-01-01\"].plot(x=\"year_month\", y=\"total_nba_views\", legend=None)\n",
    "\n",
    "# Customize plot\n",
    "plt.xticks(rotation=45)\n",
    "plt.xlabel(\"Date (monthly frequency)\")\n",
    "plt.ylabel(\"Aggregate views (in billions)\")\n",
    "plt.title('Viewership evolution of videos containing the keyword \"NBA\"', pad=15)\n",
    "plt.tight_layout()\n",
    "\n",
    "# Save plot as image file\n",
    "plt.savefig(\"imgs/viewership_evolution_nba.jpeg\", dpi=400)"
   ]
  },
  {
   "cell_type": "markdown",
   "id": "874cd1f3",
   "metadata": {},
   "source": [
    "## BIG MARKET VS SMALL MARKET TEAMS"
   ]
  },
  {
   "cell_type": "markdown",
   "id": "9dc5c38c",
   "metadata": {},
   "source": [
    "### DATA VISUALISATION FOR THE MARKET SIZE COMPARISON"
   ]
  },
  {
   "cell_type": "code",
   "execution_count": 13,
   "id": "72bf1426",
   "metadata": {},
   "outputs": [
    {
     "data": {
      "text/html": [
       "<div>\n",
       "<style scoped>\n",
       "    .dataframe tbody tr th:only-of-type {\n",
       "        vertical-align: middle;\n",
       "    }\n",
       "\n",
       "    .dataframe tbody tr th {\n",
       "        vertical-align: top;\n",
       "    }\n",
       "\n",
       "    .dataframe thead th {\n",
       "        text-align: right;\n",
       "    }\n",
       "</style>\n",
       "<table border=\"1\" class=\"dataframe\">\n",
       "  <thead>\n",
       "    <tr style=\"text-align: right;\">\n",
       "      <th></th>\n",
       "      <th>TEAM</th>\n",
       "      <th>TV MARKET SIZE</th>\n",
       "      <th>METRO POPULATION</th>\n",
       "      <th>MARKET TYPE</th>\n",
       "    </tr>\n",
       "  </thead>\n",
       "  <tbody>\n",
       "    <tr>\n",
       "      <th>0</th>\n",
       "      <td>Knicks / Nets</td>\n",
       "      <td>7.453</td>\n",
       "      <td>19.216182</td>\n",
       "      <td>BIG MARKET</td>\n",
       "    </tr>\n",
       "    <tr>\n",
       "      <th>1</th>\n",
       "      <td>Lakers / Clippers</td>\n",
       "      <td>5.735</td>\n",
       "      <td>13.214799</td>\n",
       "      <td>BIG MARKET</td>\n",
       "    </tr>\n",
       "    <tr>\n",
       "      <th>2</th>\n",
       "      <td>Bulls</td>\n",
       "      <td>3.472</td>\n",
       "      <td>9.458539</td>\n",
       "      <td>BIG MARKET</td>\n",
       "    </tr>\n",
       "    <tr>\n",
       "      <th>3</th>\n",
       "      <td>76ers</td>\n",
       "      <td>2.997</td>\n",
       "      <td>6.102434</td>\n",
       "      <td>BIG MARKET</td>\n",
       "    </tr>\n",
       "    <tr>\n",
       "      <th>4</th>\n",
       "      <td>Mavericks</td>\n",
       "      <td>2.963</td>\n",
       "      <td>7.573136</td>\n",
       "      <td>BIG MARKET</td>\n",
       "    </tr>\n",
       "  </tbody>\n",
       "</table>\n",
       "</div>"
      ],
      "text/plain": [
       "                TEAM  TV MARKET SIZE  METRO POPULATION MARKET TYPE\n",
       "0      Knicks / Nets           7.453         19.216182  BIG MARKET\n",
       "1  Lakers / Clippers           5.735         13.214799  BIG MARKET\n",
       "2              Bulls           3.472          9.458539  BIG MARKET\n",
       "3              76ers           2.997          6.102434  BIG MARKET\n",
       "4          Mavericks           2.963          7.573136  BIG MARKET"
      ]
     },
     "execution_count": 13,
     "metadata": {},
     "output_type": "execute_result"
    }
   ],
   "source": [
    "def to_real_market_size(elem):\n",
    "    if \"M\" in elem:\n",
    "        return float(elem[:-1])\n",
    "    if \"K\" in elem:\n",
    "        return float(elem[:-1]) / 1000\n",
    "    else:\n",
    "        return np.nan\n",
    "\n",
    "\n",
    "# Read the csv file into a pandas DataFrame\n",
    "market_size_df = pd.read_csv(\"./data/market_sizes.csv\")\n",
    "market_size_df[\"TV MARKET SIZE\"] = market_size_df[\"TV MARKET SIZE\"].apply(to_real_market_size)\n",
    "market_size_df[\"METRO POPULATION\"] = market_size_df[\"METRO POPULATION\"].apply(lambda x: x / (10**6))\n",
    "market_size_df[\"MARKET TYPE\"] = market_size_df[\"TV MARKET SIZE\"].apply(\n",
    "    lambda x: \"BIG MARKET\" if x > 2 else \"SMALL MARKET\" if x < 1.5 else \"MEDIUM MARKET\"\n",
    ")\n",
    "market_size_df.head()"
   ]
  },
  {
   "cell_type": "code",
   "execution_count": 14,
   "id": "5b4d644e",
   "metadata": {},
   "outputs": [
    {
     "data": {
      "text/html": [
       "<div>\n",
       "<style scoped>\n",
       "    .dataframe tbody tr th:only-of-type {\n",
       "        vertical-align: middle;\n",
       "    }\n",
       "\n",
       "    .dataframe tbody tr th {\n",
       "        vertical-align: top;\n",
       "    }\n",
       "\n",
       "    .dataframe thead th {\n",
       "        text-align: right;\n",
       "    }\n",
       "</style>\n",
       "<table border=\"1\" class=\"dataframe\">\n",
       "  <thead>\n",
       "    <tr style=\"text-align: right;\">\n",
       "      <th></th>\n",
       "      <th>TEAM</th>\n",
       "      <th>TV MARKET SIZE</th>\n",
       "      <th>METRO POPULATION</th>\n",
       "      <th>MARKET TYPE</th>\n",
       "    </tr>\n",
       "  </thead>\n",
       "  <tbody>\n",
       "    <tr>\n",
       "      <th>0</th>\n",
       "      <td>Knicks / Nets</td>\n",
       "      <td>7.453</td>\n",
       "      <td>19.216182</td>\n",
       "      <td>BIG MARKET</td>\n",
       "    </tr>\n",
       "    <tr>\n",
       "      <th>1</th>\n",
       "      <td>Lakers / Clippers</td>\n",
       "      <td>5.735</td>\n",
       "      <td>13.214799</td>\n",
       "      <td>BIG MARKET</td>\n",
       "    </tr>\n",
       "    <tr>\n",
       "      <th>2</th>\n",
       "      <td>Bulls</td>\n",
       "      <td>3.472</td>\n",
       "      <td>9.458539</td>\n",
       "      <td>BIG MARKET</td>\n",
       "    </tr>\n",
       "    <tr>\n",
       "      <th>3</th>\n",
       "      <td>76ers</td>\n",
       "      <td>2.997</td>\n",
       "      <td>6.102434</td>\n",
       "      <td>BIG MARKET</td>\n",
       "    </tr>\n",
       "    <tr>\n",
       "      <th>4</th>\n",
       "      <td>Mavericks</td>\n",
       "      <td>2.963</td>\n",
       "      <td>7.573136</td>\n",
       "      <td>BIG MARKET</td>\n",
       "    </tr>\n",
       "    <tr>\n",
       "      <th>5</th>\n",
       "      <td>Raptors</td>\n",
       "      <td>NaN</td>\n",
       "      <td>5.928040</td>\n",
       "      <td>MEDIUM MARKET</td>\n",
       "    </tr>\n",
       "    <tr>\n",
       "      <th>6</th>\n",
       "      <td>Warriors</td>\n",
       "      <td>2.653</td>\n",
       "      <td>4.731803</td>\n",
       "      <td>BIG MARKET</td>\n",
       "    </tr>\n",
       "    <tr>\n",
       "      <th>7</th>\n",
       "      <td>Hawks</td>\n",
       "      <td>2.649</td>\n",
       "      <td>6.020364</td>\n",
       "      <td>BIG MARKET</td>\n",
       "    </tr>\n",
       "    <tr>\n",
       "      <th>8</th>\n",
       "      <td>Rockets</td>\n",
       "      <td>2.570</td>\n",
       "      <td>7.066141</td>\n",
       "      <td>BIG MARKET</td>\n",
       "    </tr>\n",
       "    <tr>\n",
       "      <th>9</th>\n",
       "      <td>Wizards</td>\n",
       "      <td>2.566</td>\n",
       "      <td>6.280487</td>\n",
       "      <td>BIG MARKET</td>\n",
       "    </tr>\n",
       "    <tr>\n",
       "      <th>10</th>\n",
       "      <td>Celtics</td>\n",
       "      <td>2.490</td>\n",
       "      <td>4.873019</td>\n",
       "      <td>BIG MARKET</td>\n",
       "    </tr>\n",
       "    <tr>\n",
       "      <th>11</th>\n",
       "      <td>Suns</td>\n",
       "      <td>2.158</td>\n",
       "      <td>4.948203</td>\n",
       "      <td>BIG MARKET</td>\n",
       "    </tr>\n",
       "    <tr>\n",
       "      <th>12</th>\n",
       "      <td>Timberwolves</td>\n",
       "      <td>1.887</td>\n",
       "      <td>3.654908</td>\n",
       "      <td>MEDIUM MARKET</td>\n",
       "    </tr>\n",
       "    <tr>\n",
       "      <th>13</th>\n",
       "      <td>Pistons</td>\n",
       "      <td>1.863</td>\n",
       "      <td>4.319629</td>\n",
       "      <td>MEDIUM MARKET</td>\n",
       "    </tr>\n",
       "    <tr>\n",
       "      <th>14</th>\n",
       "      <td>Nuggets</td>\n",
       "      <td>1.798</td>\n",
       "      <td>2.932415</td>\n",
       "      <td>MEDIUM MARKET</td>\n",
       "    </tr>\n",
       "    <tr>\n",
       "      <th>15</th>\n",
       "      <td>Magic</td>\n",
       "      <td>1.731</td>\n",
       "      <td>2.608147</td>\n",
       "      <td>MEDIUM MARKET</td>\n",
       "    </tr>\n",
       "    <tr>\n",
       "      <th>16</th>\n",
       "      <td>Heat</td>\n",
       "      <td>1.693</td>\n",
       "      <td>6.166488</td>\n",
       "      <td>MEDIUM MARKET</td>\n",
       "    </tr>\n",
       "    <tr>\n",
       "      <th>17</th>\n",
       "      <td>Cavaliers</td>\n",
       "      <td>1.512</td>\n",
       "      <td>2.048449</td>\n",
       "      <td>MEDIUM MARKET</td>\n",
       "    </tr>\n",
       "    <tr>\n",
       "      <th>18</th>\n",
       "      <td>Kings</td>\n",
       "      <td>1.459</td>\n",
       "      <td>2.363730</td>\n",
       "      <td>SMALL MARKET</td>\n",
       "    </tr>\n",
       "    <tr>\n",
       "      <th>19</th>\n",
       "      <td>Trailblazers</td>\n",
       "      <td>1.315</td>\n",
       "      <td>2.492412</td>\n",
       "      <td>SMALL MARKET</td>\n",
       "    </tr>\n",
       "    <tr>\n",
       "      <th>20</th>\n",
       "      <td>Hornets</td>\n",
       "      <td>1.291</td>\n",
       "      <td>2.636883</td>\n",
       "      <td>SMALL MARKET</td>\n",
       "    </tr>\n",
       "    <tr>\n",
       "      <th>21</th>\n",
       "      <td>Pacers</td>\n",
       "      <td>1.183</td>\n",
       "      <td>2.074537</td>\n",
       "      <td>SMALL MARKET</td>\n",
       "    </tr>\n",
       "    <tr>\n",
       "      <th>22</th>\n",
       "      <td>Jazz</td>\n",
       "      <td>1.100</td>\n",
       "      <td>1.232696</td>\n",
       "      <td>SMALL MARKET</td>\n",
       "    </tr>\n",
       "    <tr>\n",
       "      <th>23</th>\n",
       "      <td>Spurs</td>\n",
       "      <td>1.031</td>\n",
       "      <td>2.550960</td>\n",
       "      <td>SMALL MARKET</td>\n",
       "    </tr>\n",
       "    <tr>\n",
       "      <th>24</th>\n",
       "      <td>Bucks</td>\n",
       "      <td>0.922</td>\n",
       "      <td>1.575179</td>\n",
       "      <td>SMALL MARKET</td>\n",
       "    </tr>\n",
       "    <tr>\n",
       "      <th>25</th>\n",
       "      <td>Thunder</td>\n",
       "      <td>0.755</td>\n",
       "      <td>1.408950</td>\n",
       "      <td>SMALL MARKET</td>\n",
       "    </tr>\n",
       "    <tr>\n",
       "      <th>26</th>\n",
       "      <td>Pelicans</td>\n",
       "      <td>0.664</td>\n",
       "      <td>1.270530</td>\n",
       "      <td>SMALL MARKET</td>\n",
       "    </tr>\n",
       "    <tr>\n",
       "      <th>27</th>\n",
       "      <td>Grizzlies</td>\n",
       "      <td>0.620</td>\n",
       "      <td>1.346045</td>\n",
       "      <td>SMALL MARKET</td>\n",
       "    </tr>\n",
       "  </tbody>\n",
       "</table>\n",
       "</div>"
      ],
      "text/plain": [
       "                 TEAM  TV MARKET SIZE  METRO POPULATION    MARKET TYPE\n",
       "0       Knicks / Nets           7.453         19.216182     BIG MARKET\n",
       "1   Lakers / Clippers           5.735         13.214799     BIG MARKET\n",
       "2               Bulls           3.472          9.458539     BIG MARKET\n",
       "3               76ers           2.997          6.102434     BIG MARKET\n",
       "4           Mavericks           2.963          7.573136     BIG MARKET\n",
       "5             Raptors             NaN          5.928040  MEDIUM MARKET\n",
       "6            Warriors           2.653          4.731803     BIG MARKET\n",
       "7               Hawks           2.649          6.020364     BIG MARKET\n",
       "8             Rockets           2.570          7.066141     BIG MARKET\n",
       "9             Wizards           2.566          6.280487     BIG MARKET\n",
       "10            Celtics           2.490          4.873019     BIG MARKET\n",
       "11               Suns           2.158          4.948203     BIG MARKET\n",
       "12       Timberwolves           1.887          3.654908  MEDIUM MARKET\n",
       "13            Pistons           1.863          4.319629  MEDIUM MARKET\n",
       "14            Nuggets           1.798          2.932415  MEDIUM MARKET\n",
       "15              Magic           1.731          2.608147  MEDIUM MARKET\n",
       "16               Heat           1.693          6.166488  MEDIUM MARKET\n",
       "17          Cavaliers           1.512          2.048449  MEDIUM MARKET\n",
       "18              Kings           1.459          2.363730   SMALL MARKET\n",
       "19       Trailblazers           1.315          2.492412   SMALL MARKET\n",
       "20            Hornets           1.291          2.636883   SMALL MARKET\n",
       "21             Pacers           1.183          2.074537   SMALL MARKET\n",
       "22               Jazz           1.100          1.232696   SMALL MARKET\n",
       "23              Spurs           1.031          2.550960   SMALL MARKET\n",
       "24              Bucks           0.922          1.575179   SMALL MARKET\n",
       "25            Thunder           0.755          1.408950   SMALL MARKET\n",
       "26           Pelicans           0.664          1.270530   SMALL MARKET\n",
       "27          Grizzlies           0.620          1.346045   SMALL MARKET"
      ]
     },
     "execution_count": 14,
     "metadata": {},
     "output_type": "execute_result"
    }
   ],
   "source": [
    "market_size_df"
   ]
  },
  {
   "cell_type": "code",
   "execution_count": 15,
   "id": "3b5178f8",
   "metadata": {},
   "outputs": [
    {
     "data": {
      "application/vnd.plotly.v1+json": {
       "config": {
        "plotlyServerURL": "https://plotly.com"
       },
       "data": [
        {
         "customdata": [
          [
           "Knicks / Nets"
          ],
          [
           "Lakers / Clippers"
          ],
          [
           "Bulls"
          ],
          [
           "76ers"
          ],
          [
           "Mavericks"
          ],
          [
           "Warriors"
          ],
          [
           "Hawks"
          ],
          [
           "Rockets"
          ],
          [
           "Wizards"
          ],
          [
           "Celtics"
          ],
          [
           "Suns"
          ]
         ],
         "hovertemplate": "<b>%{customdata[0]}</b>",
         "legendgroup": "BIG MARKET",
         "marker": {
          "color": "#00CC96",
          "size": [
           19.216182,
           13.214799,
           9.458539,
           6.102434,
           7.573136,
           4.731803,
           6.020364,
           7.066141,
           6.280487,
           4.873019,
           4.948203
          ],
          "sizemode": "area",
          "sizeref": 0.048040455,
          "symbol": "circle"
         },
         "mode": "markers",
         "name": "BIG MARKET",
         "orientation": "v",
         "showlegend": true,
         "type": "scatter",
         "x": [
          7.453,
          5.735,
          3.472,
          2.997,
          2.963,
          2.653,
          2.649,
          2.57,
          2.566,
          2.49,
          2.158
         ],
         "xaxis": "x",
         "y": [
          19.216182,
          13.214799,
          9.458539,
          6.102434,
          7.573136,
          4.731803,
          6.020364,
          7.066141,
          6.280487,
          4.873019,
          4.948203
         ],
         "yaxis": "y"
        },
        {
         "customdata": [
          [
           "Raptors"
          ],
          [
           "Timberwolves"
          ],
          [
           "Pistons"
          ],
          [
           "Nuggets"
          ],
          [
           "Magic"
          ],
          [
           "Heat"
          ],
          [
           "Cavaliers"
          ]
         ],
         "hovertemplate": "<b>%{customdata[0]}</b>",
         "legendgroup": "MEDIUM MARKET",
         "marker": {
          "color": "#636EFA",
          "size": [
           5.92804,
           3.654908,
           4.319629,
           2.932415,
           2.608147,
           6.166488,
           2.048449
          ],
          "sizemode": "area",
          "sizeref": 0.048040455,
          "symbol": "circle"
         },
         "mode": "markers",
         "name": "MEDIUM MARKET",
         "orientation": "v",
         "showlegend": true,
         "type": "scatter",
         "x": [
          null,
          1.887,
          1.863,
          1.798,
          1.731,
          1.693,
          1.512
         ],
         "xaxis": "x",
         "y": [
          5.92804,
          3.654908,
          4.319629,
          2.932415,
          2.608147,
          6.166488,
          2.048449
         ],
         "yaxis": "y"
        },
        {
         "customdata": [
          [
           "Kings"
          ],
          [
           "Trailblazers"
          ],
          [
           "Hornets"
          ],
          [
           "Pacers"
          ],
          [
           "Jazz"
          ],
          [
           "Spurs"
          ],
          [
           " Bucks"
          ],
          [
           "Thunder"
          ],
          [
           "Pelicans"
          ],
          [
           "Grizzlies"
          ]
         ],
         "hovertemplate": "<b>%{customdata[0]}</b>",
         "legendgroup": "SMALL MARKET",
         "marker": {
          "color": "#EF553B",
          "size": [
           2.36373,
           2.492412,
           2.636883,
           2.074537,
           1.232696,
           2.55096,
           1.575179,
           1.40895,
           1.27053,
           1.346045
          ],
          "sizemode": "area",
          "sizeref": 0.048040455,
          "symbol": "circle"
         },
         "mode": "markers",
         "name": "SMALL MARKET",
         "orientation": "v",
         "showlegend": true,
         "type": "scatter",
         "x": [
          1.459,
          1.315,
          1.291,
          1.183,
          1.1,
          1.031,
          0.922,
          0.755,
          0.664,
          0.62
         ],
         "xaxis": "x",
         "y": [
          2.36373,
          2.492412,
          2.636883,
          2.074537,
          1.232696,
          2.55096,
          1.575179,
          1.40895,
          1.27053,
          1.346045
         ],
         "yaxis": "y"
        }
       ],
       "layout": {
        "height": 700,
        "hoverlabel": {
         "bgcolor": "white",
         "font": {
          "size": 12
         }
        },
        "legend": {
         "itemsizing": "constant",
         "orientation": "h",
         "title": {
          "text": "MARKET TYPE"
         },
         "tracegroupgap": 0,
         "x": 0.8,
         "xanchor": "right",
         "y": 1.02,
         "yanchor": "bottom"
        },
        "margin": {
         "t": 60
        },
        "shapes": [
         {
          "line": {
           "color": "red",
           "width": 2
          },
          "name": "1.5M",
          "type": "line",
          "x0": 2,
          "x1": 2,
          "y0": 0,
          "y1": 1,
          "yref": "paper"
         },
         {
          "line": {
           "color": "red",
           "width": 2
          },
          "type": "line",
          "x0": 1.5,
          "x1": 1.5,
          "y0": 0,
          "y1": 1,
          "yref": "paper"
         }
        ],
        "template": {
         "data": {
          "bar": [
           {
            "error_x": {
             "color": "#2a3f5f"
            },
            "error_y": {
             "color": "#2a3f5f"
            },
            "marker": {
             "line": {
              "color": "#E5ECF6",
              "width": 0.5
             },
             "pattern": {
              "fillmode": "overlay",
              "size": 10,
              "solidity": 0.2
             }
            },
            "type": "bar"
           }
          ],
          "barpolar": [
           {
            "marker": {
             "line": {
              "color": "#E5ECF6",
              "width": 0.5
             },
             "pattern": {
              "fillmode": "overlay",
              "size": 10,
              "solidity": 0.2
             }
            },
            "type": "barpolar"
           }
          ],
          "carpet": [
           {
            "aaxis": {
             "endlinecolor": "#2a3f5f",
             "gridcolor": "white",
             "linecolor": "white",
             "minorgridcolor": "white",
             "startlinecolor": "#2a3f5f"
            },
            "baxis": {
             "endlinecolor": "#2a3f5f",
             "gridcolor": "white",
             "linecolor": "white",
             "minorgridcolor": "white",
             "startlinecolor": "#2a3f5f"
            },
            "type": "carpet"
           }
          ],
          "choropleth": [
           {
            "colorbar": {
             "outlinewidth": 0,
             "ticks": ""
            },
            "type": "choropleth"
           }
          ],
          "contour": [
           {
            "colorbar": {
             "outlinewidth": 0,
             "ticks": ""
            },
            "colorscale": [
             [
              0,
              "#0d0887"
             ],
             [
              0.1111111111111111,
              "#46039f"
             ],
             [
              0.2222222222222222,
              "#7201a8"
             ],
             [
              0.3333333333333333,
              "#9c179e"
             ],
             [
              0.4444444444444444,
              "#bd3786"
             ],
             [
              0.5555555555555556,
              "#d8576b"
             ],
             [
              0.6666666666666666,
              "#ed7953"
             ],
             [
              0.7777777777777778,
              "#fb9f3a"
             ],
             [
              0.8888888888888888,
              "#fdca26"
             ],
             [
              1,
              "#f0f921"
             ]
            ],
            "type": "contour"
           }
          ],
          "contourcarpet": [
           {
            "colorbar": {
             "outlinewidth": 0,
             "ticks": ""
            },
            "type": "contourcarpet"
           }
          ],
          "heatmap": [
           {
            "colorbar": {
             "outlinewidth": 0,
             "ticks": ""
            },
            "colorscale": [
             [
              0,
              "#0d0887"
             ],
             [
              0.1111111111111111,
              "#46039f"
             ],
             [
              0.2222222222222222,
              "#7201a8"
             ],
             [
              0.3333333333333333,
              "#9c179e"
             ],
             [
              0.4444444444444444,
              "#bd3786"
             ],
             [
              0.5555555555555556,
              "#d8576b"
             ],
             [
              0.6666666666666666,
              "#ed7953"
             ],
             [
              0.7777777777777778,
              "#fb9f3a"
             ],
             [
              0.8888888888888888,
              "#fdca26"
             ],
             [
              1,
              "#f0f921"
             ]
            ],
            "type": "heatmap"
           }
          ],
          "heatmapgl": [
           {
            "colorbar": {
             "outlinewidth": 0,
             "ticks": ""
            },
            "colorscale": [
             [
              0,
              "#0d0887"
             ],
             [
              0.1111111111111111,
              "#46039f"
             ],
             [
              0.2222222222222222,
              "#7201a8"
             ],
             [
              0.3333333333333333,
              "#9c179e"
             ],
             [
              0.4444444444444444,
              "#bd3786"
             ],
             [
              0.5555555555555556,
              "#d8576b"
             ],
             [
              0.6666666666666666,
              "#ed7953"
             ],
             [
              0.7777777777777778,
              "#fb9f3a"
             ],
             [
              0.8888888888888888,
              "#fdca26"
             ],
             [
              1,
              "#f0f921"
             ]
            ],
            "type": "heatmapgl"
           }
          ],
          "histogram": [
           {
            "marker": {
             "pattern": {
              "fillmode": "overlay",
              "size": 10,
              "solidity": 0.2
             }
            },
            "type": "histogram"
           }
          ],
          "histogram2d": [
           {
            "colorbar": {
             "outlinewidth": 0,
             "ticks": ""
            },
            "colorscale": [
             [
              0,
              "#0d0887"
             ],
             [
              0.1111111111111111,
              "#46039f"
             ],
             [
              0.2222222222222222,
              "#7201a8"
             ],
             [
              0.3333333333333333,
              "#9c179e"
             ],
             [
              0.4444444444444444,
              "#bd3786"
             ],
             [
              0.5555555555555556,
              "#d8576b"
             ],
             [
              0.6666666666666666,
              "#ed7953"
             ],
             [
              0.7777777777777778,
              "#fb9f3a"
             ],
             [
              0.8888888888888888,
              "#fdca26"
             ],
             [
              1,
              "#f0f921"
             ]
            ],
            "type": "histogram2d"
           }
          ],
          "histogram2dcontour": [
           {
            "colorbar": {
             "outlinewidth": 0,
             "ticks": ""
            },
            "colorscale": [
             [
              0,
              "#0d0887"
             ],
             [
              0.1111111111111111,
              "#46039f"
             ],
             [
              0.2222222222222222,
              "#7201a8"
             ],
             [
              0.3333333333333333,
              "#9c179e"
             ],
             [
              0.4444444444444444,
              "#bd3786"
             ],
             [
              0.5555555555555556,
              "#d8576b"
             ],
             [
              0.6666666666666666,
              "#ed7953"
             ],
             [
              0.7777777777777778,
              "#fb9f3a"
             ],
             [
              0.8888888888888888,
              "#fdca26"
             ],
             [
              1,
              "#f0f921"
             ]
            ],
            "type": "histogram2dcontour"
           }
          ],
          "mesh3d": [
           {
            "colorbar": {
             "outlinewidth": 0,
             "ticks": ""
            },
            "type": "mesh3d"
           }
          ],
          "parcoords": [
           {
            "line": {
             "colorbar": {
              "outlinewidth": 0,
              "ticks": ""
             }
            },
            "type": "parcoords"
           }
          ],
          "pie": [
           {
            "automargin": true,
            "type": "pie"
           }
          ],
          "scatter": [
           {
            "fillpattern": {
             "fillmode": "overlay",
             "size": 10,
             "solidity": 0.2
            },
            "type": "scatter"
           }
          ],
          "scatter3d": [
           {
            "line": {
             "colorbar": {
              "outlinewidth": 0,
              "ticks": ""
             }
            },
            "marker": {
             "colorbar": {
              "outlinewidth": 0,
              "ticks": ""
             }
            },
            "type": "scatter3d"
           }
          ],
          "scattercarpet": [
           {
            "marker": {
             "colorbar": {
              "outlinewidth": 0,
              "ticks": ""
             }
            },
            "type": "scattercarpet"
           }
          ],
          "scattergeo": [
           {
            "marker": {
             "colorbar": {
              "outlinewidth": 0,
              "ticks": ""
             }
            },
            "type": "scattergeo"
           }
          ],
          "scattergl": [
           {
            "marker": {
             "colorbar": {
              "outlinewidth": 0,
              "ticks": ""
             }
            },
            "type": "scattergl"
           }
          ],
          "scattermapbox": [
           {
            "marker": {
             "colorbar": {
              "outlinewidth": 0,
              "ticks": ""
             }
            },
            "type": "scattermapbox"
           }
          ],
          "scatterpolar": [
           {
            "marker": {
             "colorbar": {
              "outlinewidth": 0,
              "ticks": ""
             }
            },
            "type": "scatterpolar"
           }
          ],
          "scatterpolargl": [
           {
            "marker": {
             "colorbar": {
              "outlinewidth": 0,
              "ticks": ""
             }
            },
            "type": "scatterpolargl"
           }
          ],
          "scatterternary": [
           {
            "marker": {
             "colorbar": {
              "outlinewidth": 0,
              "ticks": ""
             }
            },
            "type": "scatterternary"
           }
          ],
          "surface": [
           {
            "colorbar": {
             "outlinewidth": 0,
             "ticks": ""
            },
            "colorscale": [
             [
              0,
              "#0d0887"
             ],
             [
              0.1111111111111111,
              "#46039f"
             ],
             [
              0.2222222222222222,
              "#7201a8"
             ],
             [
              0.3333333333333333,
              "#9c179e"
             ],
             [
              0.4444444444444444,
              "#bd3786"
             ],
             [
              0.5555555555555556,
              "#d8576b"
             ],
             [
              0.6666666666666666,
              "#ed7953"
             ],
             [
              0.7777777777777778,
              "#fb9f3a"
             ],
             [
              0.8888888888888888,
              "#fdca26"
             ],
             [
              1,
              "#f0f921"
             ]
            ],
            "type": "surface"
           }
          ],
          "table": [
           {
            "cells": {
             "fill": {
              "color": "#EBF0F8"
             },
             "line": {
              "color": "white"
             }
            },
            "header": {
             "fill": {
              "color": "#C8D4E3"
             },
             "line": {
              "color": "white"
             }
            },
            "type": "table"
           }
          ]
         },
         "layout": {
          "annotationdefaults": {
           "arrowcolor": "#2a3f5f",
           "arrowhead": 0,
           "arrowwidth": 1
          },
          "autotypenumbers": "strict",
          "coloraxis": {
           "colorbar": {
            "outlinewidth": 0,
            "ticks": ""
           }
          },
          "colorscale": {
           "diverging": [
            [
             0,
             "#8e0152"
            ],
            [
             0.1,
             "#c51b7d"
            ],
            [
             0.2,
             "#de77ae"
            ],
            [
             0.3,
             "#f1b6da"
            ],
            [
             0.4,
             "#fde0ef"
            ],
            [
             0.5,
             "#f7f7f7"
            ],
            [
             0.6,
             "#e6f5d0"
            ],
            [
             0.7,
             "#b8e186"
            ],
            [
             0.8,
             "#7fbc41"
            ],
            [
             0.9,
             "#4d9221"
            ],
            [
             1,
             "#276419"
            ]
           ],
           "sequential": [
            [
             0,
             "#0d0887"
            ],
            [
             0.1111111111111111,
             "#46039f"
            ],
            [
             0.2222222222222222,
             "#7201a8"
            ],
            [
             0.3333333333333333,
             "#9c179e"
            ],
            [
             0.4444444444444444,
             "#bd3786"
            ],
            [
             0.5555555555555556,
             "#d8576b"
            ],
            [
             0.6666666666666666,
             "#ed7953"
            ],
            [
             0.7777777777777778,
             "#fb9f3a"
            ],
            [
             0.8888888888888888,
             "#fdca26"
            ],
            [
             1,
             "#f0f921"
            ]
           ],
           "sequentialminus": [
            [
             0,
             "#0d0887"
            ],
            [
             0.1111111111111111,
             "#46039f"
            ],
            [
             0.2222222222222222,
             "#7201a8"
            ],
            [
             0.3333333333333333,
             "#9c179e"
            ],
            [
             0.4444444444444444,
             "#bd3786"
            ],
            [
             0.5555555555555556,
             "#d8576b"
            ],
            [
             0.6666666666666666,
             "#ed7953"
            ],
            [
             0.7777777777777778,
             "#fb9f3a"
            ],
            [
             0.8888888888888888,
             "#fdca26"
            ],
            [
             1,
             "#f0f921"
            ]
           ]
          },
          "colorway": [
           "#636efa",
           "#EF553B",
           "#00cc96",
           "#ab63fa",
           "#FFA15A",
           "#19d3f3",
           "#FF6692",
           "#B6E880",
           "#FF97FF",
           "#FECB52"
          ],
          "font": {
           "color": "#2a3f5f"
          },
          "geo": {
           "bgcolor": "white",
           "lakecolor": "white",
           "landcolor": "#E5ECF6",
           "showlakes": true,
           "showland": true,
           "subunitcolor": "white"
          },
          "hoverlabel": {
           "align": "left"
          },
          "hovermode": "closest",
          "mapbox": {
           "style": "light"
          },
          "paper_bgcolor": "white",
          "plot_bgcolor": "#E5ECF6",
          "polar": {
           "angularaxis": {
            "gridcolor": "white",
            "linecolor": "white",
            "ticks": ""
           },
           "bgcolor": "#E5ECF6",
           "radialaxis": {
            "gridcolor": "white",
            "linecolor": "white",
            "ticks": ""
           }
          },
          "scene": {
           "xaxis": {
            "backgroundcolor": "#E5ECF6",
            "gridcolor": "white",
            "gridwidth": 2,
            "linecolor": "white",
            "showbackground": true,
            "ticks": "",
            "zerolinecolor": "white"
           },
           "yaxis": {
            "backgroundcolor": "#E5ECF6",
            "gridcolor": "white",
            "gridwidth": 2,
            "linecolor": "white",
            "showbackground": true,
            "ticks": "",
            "zerolinecolor": "white"
           },
           "zaxis": {
            "backgroundcolor": "#E5ECF6",
            "gridcolor": "white",
            "gridwidth": 2,
            "linecolor": "white",
            "showbackground": true,
            "ticks": "",
            "zerolinecolor": "white"
           }
          },
          "shapedefaults": {
           "line": {
            "color": "#2a3f5f"
           }
          },
          "ternary": {
           "aaxis": {
            "gridcolor": "white",
            "linecolor": "white",
            "ticks": ""
           },
           "baxis": {
            "gridcolor": "white",
            "linecolor": "white",
            "ticks": ""
           },
           "bgcolor": "#E5ECF6",
           "caxis": {
            "gridcolor": "white",
            "linecolor": "white",
            "ticks": ""
           }
          },
          "title": {
           "x": 0.05
          },
          "xaxis": {
           "automargin": true,
           "gridcolor": "white",
           "linecolor": "white",
           "ticks": "",
           "title": {
            "standoff": 15
           },
           "zerolinecolor": "white",
           "zerolinewidth": 2
          },
          "yaxis": {
           "automargin": true,
           "gridcolor": "white",
           "linecolor": "white",
           "ticks": "",
           "title": {
            "standoff": 15
           },
           "zerolinecolor": "white",
           "zerolinewidth": 2
          }
         }
        },
        "width": 1000,
        "xaxis": {
         "anchor": "y",
         "domain": [
          0,
          1
         ],
         "range": [
          0,
          0.8
         ],
         "title": {
          "font": {
           "size": 14
          },
          "text": "TV Market Size (in millions)"
         },
         "type": "log"
        },
        "yaxis": {
         "anchor": "x",
         "domain": [
          0,
          1
         ],
         "range": [
          0,
          15
         ],
         "title": {
          "font": {
           "size": 14
          },
          "text": "Metro Population (in millions)"
         }
        }
       }
      }
     },
     "metadata": {},
     "output_type": "display_data"
    }
   ],
   "source": [
    "# Set figure size and create subplot\n",
    "fig = px.scatter(\n",
    "    market_size_df,\n",
    "    x=\"TV MARKET SIZE\",\n",
    "    y=\"METRO POPULATION\",\n",
    "    custom_data=[\"TEAM\"],\n",
    "    color=\"MARKET TYPE\",\n",
    "    color_discrete_map=color_discrete_map,\n",
    "    size=market_size_df[\"METRO POPULATION\"],\n",
    "    log_x=True,\n",
    "    log_y=False,\n",
    "    width=1000,\n",
    "    height=700,\n",
    ")\n",
    "\n",
    "# Add vertical lines\n",
    "fig.add_shape(type=\"line\", x0=2, x1=2, y0=0, y1=1, name=\"1.5M\", yref=\"paper\", line=dict(color=\"red\", width=2))\n",
    "fig.add_shape(type=\"line\", x0=1.5, x1=1.5, y0=0, y1=1, yref=\"paper\", line=dict(color=\"red\", width=2))\n",
    "\n",
    "\n",
    "# Add title and axis labels\n",
    "fig.update_layout(\n",
    "    xaxis_title=\"TV Market Size (in millions)\",\n",
    "    xaxis_title_font=dict(size=14),\n",
    "    yaxis_title=\"Metro Population (in millions)\",\n",
    "    yaxis_title_font=dict(size=14),\n",
    ")\n",
    "\n",
    "# Add hover labels for team names\n",
    "fig.update_traces(hovertemplate=\"<b>%{customdata[0]}</b>\")\n",
    "fig.update_layout(\n",
    "    hoverlabel=dict(\n",
    "        bgcolor=\"white\",\n",
    "        font_size=12,\n",
    "    )\n",
    ")\n",
    "fig.update_layout(yaxis_range=[0, 15])\n",
    "fig.update_layout(xaxis_range=[0, 0.8])\n",
    "\n",
    "\n",
    "# fig.update_layout(hovermode='x unified')\n",
    "fig.update_layout(legend=dict(orientation=\"h\", yanchor=\"bottom\", y=1.02, xanchor=\"right\", x=0.8))\n",
    "fig.show()\n",
    "\n",
    "# py.plot(fig, filename=\"market_size_comparison\", auto_open=False)"
   ]
  },
  {
   "cell_type": "markdown",
   "id": "6d16a82e",
   "metadata": {},
   "source": [
    "### STUDY OF THE DISTRIBUTION OF VIDEOS VIEWS"
   ]
  },
  {
   "cell_type": "code",
   "execution_count": 16,
   "id": "f329cc26",
   "metadata": {},
   "outputs": [],
   "source": [
    "# Eliminate limit years to avoid undiserable results when computing seasons\n",
    "df = all_team_results.copy()\n",
    "df = df[df.year_month.dt.year != 2006]\n",
    "df = df[df.season != \"2019-2020\"]"
   ]
  },
  {
   "cell_type": "code",
   "execution_count": 17,
   "id": "51f269bb",
   "metadata": {},
   "outputs": [
    {
     "data": {
      "text/html": [
       "<div>\n",
       "<style scoped>\n",
       "    .dataframe tbody tr th:only-of-type {\n",
       "        vertical-align: middle;\n",
       "    }\n",
       "\n",
       "    .dataframe tbody tr th {\n",
       "        vertical-align: top;\n",
       "    }\n",
       "\n",
       "    .dataframe thead th {\n",
       "        text-align: right;\n",
       "    }\n",
       "</style>\n",
       "<table border=\"1\" class=\"dataframe\">\n",
       "  <thead>\n",
       "    <tr style=\"text-align: right;\">\n",
       "      <th></th>\n",
       "      <th>season</th>\n",
       "      <th>market_size</th>\n",
       "      <th>total_nba_view_percentage</th>\n",
       "    </tr>\n",
       "  </thead>\n",
       "  <tbody>\n",
       "    <tr>\n",
       "      <th>0</th>\n",
       "      <td>2006-2007</td>\n",
       "      <td>big</td>\n",
       "      <td>0.517546</td>\n",
       "    </tr>\n",
       "    <tr>\n",
       "      <th>1</th>\n",
       "      <td>2006-2007</td>\n",
       "      <td>small</td>\n",
       "      <td>0.647274</td>\n",
       "    </tr>\n",
       "    <tr>\n",
       "      <th>2</th>\n",
       "      <td>2007-2008</td>\n",
       "      <td>big</td>\n",
       "      <td>1.526961</td>\n",
       "    </tr>\n",
       "    <tr>\n",
       "      <th>3</th>\n",
       "      <td>2007-2008</td>\n",
       "      <td>small</td>\n",
       "      <td>0.207399</td>\n",
       "    </tr>\n",
       "    <tr>\n",
       "      <th>4</th>\n",
       "      <td>2008-2009</td>\n",
       "      <td>big</td>\n",
       "      <td>2.074213</td>\n",
       "    </tr>\n",
       "    <tr>\n",
       "      <th>5</th>\n",
       "      <td>2008-2009</td>\n",
       "      <td>small</td>\n",
       "      <td>0.223640</td>\n",
       "    </tr>\n",
       "    <tr>\n",
       "      <th>6</th>\n",
       "      <td>2009-2010</td>\n",
       "      <td>big</td>\n",
       "      <td>2.646010</td>\n",
       "    </tr>\n",
       "    <tr>\n",
       "      <th>7</th>\n",
       "      <td>2009-2010</td>\n",
       "      <td>small</td>\n",
       "      <td>0.559835</td>\n",
       "    </tr>\n",
       "    <tr>\n",
       "      <th>8</th>\n",
       "      <td>2010-2011</td>\n",
       "      <td>big</td>\n",
       "      <td>3.990077</td>\n",
       "    </tr>\n",
       "    <tr>\n",
       "      <th>9</th>\n",
       "      <td>2010-2011</td>\n",
       "      <td>small</td>\n",
       "      <td>0.560517</td>\n",
       "    </tr>\n",
       "    <tr>\n",
       "      <th>10</th>\n",
       "      <td>2011-2012</td>\n",
       "      <td>big</td>\n",
       "      <td>3.843021</td>\n",
       "    </tr>\n",
       "    <tr>\n",
       "      <th>11</th>\n",
       "      <td>2011-2012</td>\n",
       "      <td>small</td>\n",
       "      <td>0.863663</td>\n",
       "    </tr>\n",
       "    <tr>\n",
       "      <th>12</th>\n",
       "      <td>2012-2013</td>\n",
       "      <td>big</td>\n",
       "      <td>3.438069</td>\n",
       "    </tr>\n",
       "    <tr>\n",
       "      <th>13</th>\n",
       "      <td>2012-2013</td>\n",
       "      <td>small</td>\n",
       "      <td>1.687130</td>\n",
       "    </tr>\n",
       "    <tr>\n",
       "      <th>14</th>\n",
       "      <td>2013-2014</td>\n",
       "      <td>big</td>\n",
       "      <td>2.672120</td>\n",
       "    </tr>\n",
       "    <tr>\n",
       "      <th>15</th>\n",
       "      <td>2013-2014</td>\n",
       "      <td>small</td>\n",
       "      <td>1.381472</td>\n",
       "    </tr>\n",
       "    <tr>\n",
       "      <th>16</th>\n",
       "      <td>2014-2015</td>\n",
       "      <td>big</td>\n",
       "      <td>2.193500</td>\n",
       "    </tr>\n",
       "    <tr>\n",
       "      <th>17</th>\n",
       "      <td>2014-2015</td>\n",
       "      <td>small</td>\n",
       "      <td>0.355855</td>\n",
       "    </tr>\n",
       "    <tr>\n",
       "      <th>18</th>\n",
       "      <td>2015-2016</td>\n",
       "      <td>big</td>\n",
       "      <td>2.069148</td>\n",
       "    </tr>\n",
       "    <tr>\n",
       "      <th>19</th>\n",
       "      <td>2015-2016</td>\n",
       "      <td>small</td>\n",
       "      <td>0.490801</td>\n",
       "    </tr>\n",
       "    <tr>\n",
       "      <th>20</th>\n",
       "      <td>2016-2017</td>\n",
       "      <td>big</td>\n",
       "      <td>2.341522</td>\n",
       "    </tr>\n",
       "    <tr>\n",
       "      <th>21</th>\n",
       "      <td>2016-2017</td>\n",
       "      <td>small</td>\n",
       "      <td>0.522194</td>\n",
       "    </tr>\n",
       "    <tr>\n",
       "      <th>22</th>\n",
       "      <td>2017-2018</td>\n",
       "      <td>big</td>\n",
       "      <td>4.160109</td>\n",
       "    </tr>\n",
       "    <tr>\n",
       "      <th>23</th>\n",
       "      <td>2017-2018</td>\n",
       "      <td>small</td>\n",
       "      <td>1.180236</td>\n",
       "    </tr>\n",
       "    <tr>\n",
       "      <th>24</th>\n",
       "      <td>2018-2019</td>\n",
       "      <td>big</td>\n",
       "      <td>5.283538</td>\n",
       "    </tr>\n",
       "    <tr>\n",
       "      <th>25</th>\n",
       "      <td>2018-2019</td>\n",
       "      <td>small</td>\n",
       "      <td>1.401452</td>\n",
       "    </tr>\n",
       "  </tbody>\n",
       "</table>\n",
       "</div>"
      ],
      "text/plain": [
       "       season market_size  total_nba_view_percentage\n",
       "0   2006-2007         big                   0.517546\n",
       "1   2006-2007       small                   0.647274\n",
       "2   2007-2008         big                   1.526961\n",
       "3   2007-2008       small                   0.207399\n",
       "4   2008-2009         big                   2.074213\n",
       "5   2008-2009       small                   0.223640\n",
       "6   2009-2010         big                   2.646010\n",
       "7   2009-2010       small                   0.559835\n",
       "8   2010-2011         big                   3.990077\n",
       "9   2010-2011       small                   0.560517\n",
       "10  2011-2012         big                   3.843021\n",
       "11  2011-2012       small                   0.863663\n",
       "12  2012-2013         big                   3.438069\n",
       "13  2012-2013       small                   1.687130\n",
       "14  2013-2014         big                   2.672120\n",
       "15  2013-2014       small                   1.381472\n",
       "16  2014-2015         big                   2.193500\n",
       "17  2014-2015       small                   0.355855\n",
       "18  2015-2016         big                   2.069148\n",
       "19  2015-2016       small                   0.490801\n",
       "20  2016-2017         big                   2.341522\n",
       "21  2016-2017       small                   0.522194\n",
       "22  2017-2018         big                   4.160109\n",
       "23  2017-2018       small                   1.180236\n",
       "24  2018-2019         big                   5.283538\n",
       "25  2018-2019       small                   1.401452"
      ]
     },
     "metadata": {},
     "output_type": "display_data"
    }
   ],
   "source": [
    "small_vs_big = df.groupby([\"season\", \"market_size\"]).sum().drop([\"total_nba_views\", \"view_count\"], axis=1)\n",
    "small_vs_big.reset_index(inplace=True)\n",
    "display(small_vs_big)\n",
    "\n",
    "big_market_percentage_df = small_vs_big[small_vs_big[\"market_size\"] == \"big\"]\n",
    "small_market_percentage_df = small_vs_big[small_vs_big[\"market_size\"] == \"small\"]"
   ]
  },
  {
   "cell_type": "code",
   "execution_count": 18,
   "id": "a1c921d3",
   "metadata": {},
   "outputs": [
    {
     "data": {
      "image/png": "[encoded data removed]",
      "text/plain": [
       "<Figure size 800x500 with 1 Axes>"
      ]
     },
     "metadata": {},
     "output_type": "display_data"
    }
   ],
   "source": [
    "plt.fill_between(\n",
    "    big_market_percentage_df[\"season\"],\n",
    "    big_market_percentage_df[\"total_nba_view_percentage\"],\n",
    "    small_market_percentage_df[\"total_nba_view_percentage\"],\n",
    "    color=\"peachpuff\",\n",
    "    alpha=0.3,\n",
    ")\n",
    "plt.plot(big_market_percentage_df[\"season\"], big_market_percentage_df[\"total_nba_view_percentage\"], color=\"firebrick\", label=\"Big Markets\")\n",
    "plt.plot(small_market_percentage_df[\"season\"], small_market_percentage_df[\"total_nba_view_percentage\"], color=\"steelblue\", label=\"Small Markets\")\n",
    "plt.xlabel(\"Year\")\n",
    "plt.ylabel(\"Percentage\")\n",
    "plt.title(\"Small vs Big Markets Percentage of all NBA video views\")\n",
    "plt.legend()\n",
    "plt.tight_layout()\n",
    "\n",
    "# Rotate and align the tick labels so they look better\n",
    "plt.setp(plt.gca().get_xticklabels(), rotation=45, horizontalalignment=\"right\")\n",
    "\n",
    "# Save the chart to a file with a resolution of 300 dpi\n",
    "plt.savefig(\"imgs/small_vs_big_market_percentge_comparison.png\", dpi=300, bbox_inches=\"tight\")\n",
    "\n",
    "plt.show()"
   ]
  },
  {
   "cell_type": "code",
   "execution_count": 19,
   "id": "4ee13b0e",
   "metadata": {},
   "outputs": [
    {
     "data": {
      "application/vnd.plotly.v1+json": {
       "config": {
        "plotlyServerURL": "https://plotly.com"
       },
       "data": [
        {
         "customdata": [
          [
           "big",
           "BOS"
          ],
          [
           "big",
           "CHI"
          ],
          [
           "big",
           "DAL"
          ],
          [
           "big",
           "GSW"
          ],
          [
           "small",
           "IND"
          ],
          [
           "big",
           "LAL"
          ],
          [
           "small",
           "MEM"
          ],
          [
           "small",
           "MIL"
          ],
          [
           "big",
           "NY"
          ],
          [
           "big",
           "PHI"
          ],
          [
           "small",
           "POR"
          ],
          [
           "small",
           "SA"
          ],
          [
           "small",
           "UTAH"
          ],
          [
           "big",
           "ATT"
          ],
          [
           "big",
           "BOS"
          ],
          [
           "big",
           "CHI"
          ],
          [
           "big",
           "DAL"
          ],
          [
           "big",
           "GSW"
          ],
          [
           "small",
           "IND"
          ],
          [
           "big",
           "LAL"
          ],
          [
           "small",
           "MEM"
          ],
          [
           "small",
           "MIL"
          ],
          [
           "big",
           "NY"
          ],
          [
           "small",
           "OKC"
          ],
          [
           "big",
           "PHI"
          ],
          [
           "small",
           "POR"
          ],
          [
           "small",
           "SA"
          ],
          [
           "small",
           "UTAH"
          ],
          [
           "big",
           "ATT"
          ],
          [
           "big",
           "BOS"
          ],
          [
           "big",
           "CHI"
          ],
          [
           "big",
           "DAL"
          ],
          [
           "big",
           "GSW"
          ],
          [
           "small",
           "IND"
          ],
          [
           "big",
           "LAL"
          ],
          [
           "small",
           "MEM"
          ],
          [
           "small",
           "MIL"
          ],
          [
           "big",
           "NY"
          ],
          [
           "small",
           "OKC"
          ],
          [
           "big",
           "PHI"
          ],
          [
           "small",
           "POR"
          ],
          [
           "small",
           "SA"
          ],
          [
           "small",
           "UTAH"
          ],
          [
           "big",
           "ATT"
          ],
          [
           "big",
           "BOS"
          ],
          [
           "big",
           "CHI"
          ],
          [
           "big",
           "DAL"
          ],
          [
           "big",
           "GSW"
          ],
          [
           "small",
           "IND"
          ],
          [
           "big",
           "LAL"
          ],
          [
           "small",
           "MEM"
          ],
          [
           "small",
           "MIL"
          ],
          [
           "small",
           "NO"
          ],
          [
           "big",
           "NY"
          ],
          [
           "small",
           "OKC"
          ],
          [
           "big",
           "PHI"
          ],
          [
           "small",
           "POR"
          ],
          [
           "small",
           "SA"
          ],
          [
           "small",
           "UTAH"
          ],
          [
           "big",
           "ATT"
          ],
          [
           "big",
           "BOS"
          ],
          [
           "big",
           "CHI"
          ],
          [
           "big",
           "DAL"
          ],
          [
           "big",
           "GSW"
          ],
          [
           "small",
           "IND"
          ],
          [
           "big",
           "LAL"
          ],
          [
           "small",
           "MEM"
          ],
          [
           "small",
           "MIL"
          ],
          [
           "small",
           "NO"
          ],
          [
           "big",
           "NY"
          ],
          [
           "small",
           "OKC"
          ],
          [
           "big",
           "PHI"
          ],
          [
           "small",
           "POR"
          ],
          [
           "small",
           "SA"
          ],
          [
           "small",
           "UTAH"
          ],
          [
           "big",
           "ATT"
          ],
          [
           "big",
           "BOS"
          ],
          [
           "big",
           "CHI"
          ],
          [
           "big",
           "DAL"
          ],
          [
           "big",
           "GSW"
          ],
          [
           "small",
           "IND"
          ],
          [
           "big",
           "LAL"
          ],
          [
           "small",
           "MEM"
          ],
          [
           "small",
           "MIL"
          ],
          [
           "small",
           "NO"
          ],
          [
           "big",
           "NY"
          ],
          [
           "small",
           "OKC"
          ],
          [
           "big",
           "PHI"
          ],
          [
           "small",
           "POR"
          ],
          [
           "small",
           "SA"
          ],
          [
           "small",
           "UTAH"
          ],
          [
           "big",
           "ATT"
          ],
          [
           "big",
           "BOS"
          ],
          [
           "big",
           "CHI"
          ],
          [
           "big",
           "DAL"
          ],
          [
           "big",
           "GSW"
          ],
          [
           "small",
           "IND"
          ],
          [
           "big",
           "LAL"
          ],
          [
           "small",
           "MEM"
          ],
          [
           "small",
           "MIL"
          ],
          [
           "small",
           "NO"
          ],
          [
           "big",
           "NY"
          ],
          [
           "small",
           "OKC"
          ],
          [
           "big",
           "PHI"
          ],
          [
           "small",
           "POR"
          ],
          [
           "small",
           "SA"
          ],
          [
           "small",
           "UTAH"
          ],
          [
           "big",
           "ATT"
          ],
          [
           "big",
           "BOS"
          ],
          [
           "big",
           "CHI"
          ],
          [
           "big",
           "DAL"
          ],
          [
           "big",
           "GSW"
          ],
          [
           "small",
           "IND"
          ],
          [
           "big",
           "LAL"
          ],
          [
           "small",
           "MEM"
          ],
          [
           "small",
           "MIL"
          ],
          [
           "small",
           "NO"
          ],
          [
           "big",
           "NY"
          ],
          [
           "small",
           "OKC"
          ],
          [
           "big",
           "PHI"
          ],
          [
           "small",
           "POR"
          ],
          [
           "small",
           "SA"
          ],
          [
           "small",
           "UTAH"
          ],
          [
           "big",
           "ATT"
          ],
          [
           "big",
           "BOS"
          ],
          [
           "big",
           "CHI"
          ],
          [
           "big",
           "DAL"
          ],
          [
           "big",
           "GSW"
          ],
          [
           "small",
           "IND"
          ],
          [
           "big",
           "LAL"
          ],
          [
           "small",
           "MEM"
          ],
          [
           "small",
           "MIL"
          ],
          [
           "small",
           "NO"
          ],
          [
           "big",
           "NY"
          ],
          [
           "small",
           "OKC"
          ],
          [
           "big",
           "PHI"
          ],
          [
           "small",
           "POR"
          ],
          [
           "small",
           "SA"
          ],
          [
           "small",
           "UTAH"
          ],
          [
           "big",
           "ATT"
          ],
          [
           "big",
           "BOS"
          ],
          [
           "big",
           "CHI"
          ],
          [
           "big",
           "DAL"
          ],
          [
           "big",
           "GSW"
          ],
          [
           "small",
           "IND"
          ],
          [
           "big",
           "LAL"
          ],
          [
           "small",
           "MEM"
          ],
          [
           "small",
           "MIL"
          ],
          [
           "small",
           "NO"
          ],
          [
           "big",
           "NY"
          ],
          [
           "small",
           "OKC"
          ],
          [
           "big",
           "PHI"
          ],
          [
           "small",
           "POR"
          ],
          [
           "small",
           "SA"
          ],
          [
           "small",
           "UTAH"
          ],
          [
           "big",
           "ATT"
          ],
          [
           "big",
           "BOS"
          ],
          [
           "big",
           "CHI"
          ],
          [
           "big",
           "DAL"
          ],
          [
           "big",
           "GSW"
          ],
          [
           "small",
           "IND"
          ],
          [
           "big",
           "LAL"
          ],
          [
           "small",
           "MEM"
          ],
          [
           "small",
           "MIL"
          ],
          [
           "small",
           "NO"
          ],
          [
           "big",
           "NY"
          ],
          [
           "small",
           "OKC"
          ],
          [
           "big",
           "PHI"
          ],
          [
           "small",
           "POR"
          ],
          [
           "small",
           "SA"
          ],
          [
           "small",
           "UTAH"
          ],
          [
           "big",
           "ATT"
          ],
          [
           "big",
           "BOS"
          ],
          [
           "big",
           "CHI"
          ],
          [
           "big",
           "DAL"
          ],
          [
           "big",
           "GSW"
          ],
          [
           "small",
           "IND"
          ],
          [
           "big",
           "LAL"
          ],
          [
           "small",
           "MEM"
          ],
          [
           "small",
           "MIL"
          ],
          [
           "small",
           "NO"
          ],
          [
           "big",
           "NY"
          ],
          [
           "small",
           "OKC"
          ],
          [
           "big",
           "PHI"
          ],
          [
           "small",
           "POR"
          ],
          [
           "small",
           "SA"
          ],
          [
           "small",
           "UTAH"
          ],
          [
           "big",
           "ATT"
          ],
          [
           "big",
           "BOS"
          ],
          [
           "big",
           "CHI"
          ],
          [
           "big",
           "DAL"
          ],
          [
           "big",
           "GSW"
          ],
          [
           "small",
           "IND"
          ],
          [
           "big",
           "LAL"
          ],
          [
           "small",
           "MEM"
          ],
          [
           "small",
           "MIL"
          ],
          [
           "small",
           "NO"
          ],
          [
           "big",
           "NY"
          ],
          [
           "small",
           "OKC"
          ],
          [
           "big",
           "PHI"
          ],
          [
           "small",
           "POR"
          ],
          [
           "small",
           "SA"
          ],
          [
           "small",
           "UTAH"
          ]
         ],
         "domain": {
          "x": [
           0,
           1
          ],
          "y": [
           0,
           1
          ]
         },
         "hovertemplate": "team=%{customdata[1]}<br>Percentage of all NBA video views by team=%{value}<br>market_size=%{customdata[0]}<extra></extra>",
         "labels": [
          "BOS",
          "CHI",
          "DAL",
          "GSW",
          "IND",
          "LAL",
          "MEM",
          "MIL",
          "NY",
          "PHI",
          "POR",
          "SA",
          "UTAH",
          "ATT",
          "BOS",
          "CHI",
          "DAL",
          "GSW",
          "IND",
          "LAL",
          "MEM",
          "MIL",
          "NY",
          "OKC",
          "PHI",
          "POR",
          "SA",
          "UTAH",
          "ATT",
          "BOS",
          "CHI",
          "DAL",
          "GSW",
          "IND",
          "LAL",
          "MEM",
          "MIL",
          "NY",
          "OKC",
          "PHI",
          "POR",
          "SA",
          "UTAH",
          "ATT",
          "BOS",
          "CHI",
          "DAL",
          "GSW",
          "IND",
          "LAL",
          "MEM",
          "MIL",
          "NO",
          "NY",
          "OKC",
          "PHI",
          "POR",
          "SA",
          "UTAH",
          "ATT",
          "BOS",
          "CHI",
          "DAL",
          "GSW",
          "IND",
          "LAL",
          "MEM",
          "MIL",
          "NO",
          "NY",
          "OKC",
          "PHI",
          "POR",
          "SA",
          "UTAH",
          "ATT",
          "BOS",
          "CHI",
          "DAL",
          "GSW",
          "IND",
          "LAL",
          "MEM",
          "MIL",
          "NO",
          "NY",
          "OKC",
          "PHI",
          "POR",
          "SA",
          "UTAH",
          "ATT",
          "BOS",
          "CHI",
          "DAL",
          "GSW",
          "IND",
          "LAL",
          "MEM",
          "MIL",
          "NO",
          "NY",
          "OKC",
          "PHI",
          "POR",
          "SA",
          "UTAH",
          "ATT",
          "BOS",
          "CHI",
          "DAL",
          "GSW",
          "IND",
          "LAL",
          "MEM",
          "MIL",
          "NO",
          "NY",
          "OKC",
          "PHI",
          "POR",
          "SA",
          "UTAH",
          "ATT",
          "BOS",
          "CHI",
          "DAL",
          "GSW",
          "IND",
          "LAL",
          "MEM",
          "MIL",
          "NO",
          "NY",
          "OKC",
          "PHI",
          "POR",
          "SA",
          "UTAH",
          "ATT",
          "BOS",
          "CHI",
          "DAL",
          "GSW",
          "IND",
          "LAL",
          "MEM",
          "MIL",
          "NO",
          "NY",
          "OKC",
          "PHI",
          "POR",
          "SA",
          "UTAH",
          "ATT",
          "BOS",
          "CHI",
          "DAL",
          "GSW",
          "IND",
          "LAL",
          "MEM",
          "MIL",
          "NO",
          "NY",
          "OKC",
          "PHI",
          "POR",
          "SA",
          "UTAH",
          "ATT",
          "BOS",
          "CHI",
          "DAL",
          "GSW",
          "IND",
          "LAL",
          "MEM",
          "MIL",
          "NO",
          "NY",
          "OKC",
          "PHI",
          "POR",
          "SA",
          "UTAH",
          "ATT",
          "BOS",
          "CHI",
          "DAL",
          "GSW",
          "IND",
          "LAL",
          "MEM",
          "MIL",
          "NO",
          "NY",
          "OKC",
          "PHI",
          "POR",
          "SA",
          "UTAH"
         ],
         "legendgroup": "",
         "marker": {
          "colors": [
           "#00cc96",
           "#ab63fa",
           "#FFA15A",
           "#19d3f3",
           "#FF6692",
           "#B6E880",
           "#FF97FF",
           "#FECB52",
           "#636efa",
           "#EF553B",
           "#00cc96",
           "#ab63fa",
           "#FFA15A",
           "#19d3f3",
           "#00cc96",
           "#ab63fa",
           "#FFA15A",
           "#19d3f3",
           "#FF6692",
           "#B6E880",
           "#FF97FF",
           "#FECB52",
           "#636efa",
           "#FF6692",
           "#EF553B",
           "#00cc96",
           "#ab63fa",
           "#FFA15A",
           "#19d3f3",
           "#00cc96",
           "#ab63fa",
           "#FFA15A",
           "#19d3f3",
           "#FF6692",
           "#B6E880",
           "#FF97FF",
           "#FECB52",
           "#636efa",
           "#FF6692",
           "#EF553B",
           "#00cc96",
           "#ab63fa",
           "#FFA15A",
           "#19d3f3",
           "#00cc96",
           "#ab63fa",
           "#FFA15A",
           "#19d3f3",
           "#FF6692",
           "#B6E880",
           "#FF97FF",
           "#FECB52",
           "#B6E880",
           "#636efa",
           "#FF6692",
           "#EF553B",
           "#00cc96",
           "#ab63fa",
           "#FFA15A",
           "#19d3f3",
           "#00cc96",
           "#ab63fa",
           "#FFA15A",
           "#19d3f3",
           "#FF6692",
           "#B6E880",
           "#FF97FF",
           "#FECB52",
           "#B6E880",
           "#636efa",
           "#FF6692",
           "#EF553B",
           "#00cc96",
           "#ab63fa",
           "#FFA15A",
           "#19d3f3",
           "#00cc96",
           "#ab63fa",
           "#FFA15A",
           "#19d3f3",
           "#FF6692",
           "#B6E880",
           "#FF97FF",
           "#FECB52",
           "#B6E880",
           "#636efa",
           "#FF6692",
           "#EF553B",
           "#00cc96",
           "#ab63fa",
           "#FFA15A",
           "#19d3f3",
           "#00cc96",
           "#ab63fa",
           "#FFA15A",
           "#19d3f3",
           "#FF6692",
           "#B6E880",
           "#FF97FF",
           "#FECB52",
           "#B6E880",
           "#636efa",
           "#FF6692",
           "#EF553B",
           "#00cc96",
           "#ab63fa",
           "#FFA15A",
           "#19d3f3",
           "#00cc96",
           "#ab63fa",
           "#FFA15A",
           "#19d3f3",
           "#FF6692",
           "#B6E880",
           "#FF97FF",
           "#FECB52",
           "#B6E880",
           "#636efa",
           "#FF6692",
           "#EF553B",
           "#00cc96",
           "#ab63fa",
           "#FFA15A",
           "#19d3f3",
           "#00cc96",
           "#ab63fa",
           "#FFA15A",
           "#19d3f3",
           "#FF6692",
           "#B6E880",
           "#FF97FF",
           "#FECB52",
           "#B6E880",
           "#636efa",
           "#FF6692",
           "#EF553B",
           "#00cc96",
           "#ab63fa",
           "#FFA15A",
           "#19d3f3",
           "#00cc96",
           "#ab63fa",
           "#FFA15A",
           "#19d3f3",
           "#FF6692",
           "#B6E880",
           "#FF97FF",
           "#FECB52",
           "#B6E880",
           "#636efa",
           "#FF6692",
           "#EF553B",
           "#00cc96",
           "#ab63fa",
           "#FFA15A",
           "#19d3f3",
           "#00cc96",
           "#ab63fa",
           "#FFA15A",
           "#19d3f3",
           "#FF6692",
           "#B6E880",
           "#FF97FF",
           "#FECB52",
           "#B6E880",
           "#636efa",
           "#FF6692",
           "#EF553B",
           "#00cc96",
           "#ab63fa",
           "#FFA15A",
           "#19d3f3",
           "#00cc96",
           "#ab63fa",
           "#FFA15A",
           "#19d3f3",
           "#FF6692",
           "#B6E880",
           "#FF97FF",
           "#FECB52",
           "#B6E880",
           "#636efa",
           "#FF6692",
           "#EF553B",
           "#00cc96",
           "#ab63fa",
           "#FFA15A",
           "#19d3f3",
           "#00cc96",
           "#ab63fa",
           "#FFA15A",
           "#19d3f3",
           "#FF6692",
           "#B6E880",
           "#FF97FF",
           "#FECB52",
           "#B6E880",
           "#636efa",
           "#FF6692",
           "#EF553B",
           "#00cc96",
           "#ab63fa",
           "#FFA15A"
          ]
         },
         "name": "",
         "showlegend": true,
         "type": "pie",
         "values": [
          0.003724853531494611,
          0.08129992489270811,
          0.010263584385617214,
          0.17742013777419424,
          0.005202336272410066,
          0.07044052807086527,
          0.018721789383086704,
          0.008092319512926984,
          0.013468771695574136,
          0.08769642225782745,
          0.02366740618228934,
          0.2917063895760565,
          0.20829553646494933,
          0.019050670896150694,
          0.1658751007963067,
          0.028846310591381687,
          0.02903364754109494,
          0.05973966838307522,
          0.0008123232654596887,
          0.5154970462197275,
          0.0422902370878316,
          0.002224586758136587,
          0.04804129249649235,
          0.001999616401569614,
          0.014333660889072116,
          0.03729328199270496,
          0.018348380527480286,
          0.01661417615351608,
          0.012917149247740692,
          0.1253121997156413,
          0.15841850213405256,
          0.06149840530136112,
          0.02243910585995373,
          0.0022168432178883736,
          0.478718081628743,
          0.003977957352451168,
          0.039743680443319274,
          0.028102657909340786,
          0.006002270989801144,
          0.01526818970952204,
          0.029184078467897327,
          0.007396445994428343,
          0.008804432027859074,
          0.0018578234811627763,
          0.15074242899173437,
          0.16602625100049345,
          0.04292296861965196,
          0.01220477644011606,
          0.0030938689335508235,
          0.4036717005002625,
          0.028445179810654118,
          0.060839213538166965,
          0.0018112995480550986,
          0.03655649468611525,
          0.02117796835341692,
          0.011388014271055798,
          0.023779356237976404,
          0.001483835117626591,
          0.03399882046996088,
          0.05130527114817142,
          0.16231407664993325,
          0.08541708106084693,
          0.07300423833856055,
          0.09665216659399806,
          0.005019678581804178,
          0.3423944848332679,
          0.015954469863889008,
          0.012501926962558755,
          0.0020927877265003838,
          0.05663010697718082,
          0.033727340839797344,
          0.009108039344708822,
          0.017075836392700806,
          0.01860391725106973,
          0.018198577435012075,
          0.0364590754086191,
          0.08764029400995176,
          0.09778733497325082,
          0.03724071168157147,
          0.09667198128134329,
          0.02648749185232064,
          0.3016294024960084,
          0.02028305480474534,
          0.022646019872596772,
          0.003573608352269239,
          0.13968098848272176,
          0.037491641047752135,
          0.019393110467941607,
          0.0199168168877851,
          0.03735451231191311,
          0.01574395606920955,
          0.024646255095856783,
          0.06654113180032512,
          0.08538825716633804,
          0.056282481253011225,
          0.0637540983321718,
          0.06274894629922785,
          0.2417630715527638,
          0.029383513434309363,
          0.028433177461459135,
          0.010233057373391705,
          0.11498861635662871,
          0.04512417899411579,
          0.01745273232957975,
          0.025435864725524653,
          0.10126638787458675,
          0.0265582299507095,
          0.023624332050609553,
          0.04613087193092794,
          0.18523914499101568,
          0.03802936413345339,
          0.1316685814523389,
          0.064569415641068,
          0.15381720706006258,
          0.02412739922509266,
          0.02267801629849999,
          0.036737193640237004,
          0.04353401237839503,
          0.04808156765126995,
          0.037154559957562144,
          0.04798808216185307,
          0.07308107897725169,
          0.023539172450362352,
          0.033463915784453596,
          0.12652788491467196,
          0.1651279503772434,
          0.015895884009984988,
          0.16934632539412073,
          0.006682740791812512,
          0.31376868947755565,
          0.015605183349130625,
          0.009738188153549121,
          0.010432295553413266,
          0.029043304606818483,
          0.024604462692930165,
          0.007239845055018426,
          0.004103580426891154,
          0.04184821929063112,
          0.026571530121774788,
          0.013440190156368749,
          0.03620157100885952,
          0.07577247399269785,
          0.014933400251921004,
          0.37911747179604777,
          0.01938616272498174,
          0.2369179414120829,
          0.013068376732254805,
          0.012140469635231294,
          0.003905647717532341,
          0.038092352301419254,
          0.039250993697485144,
          0.013801551814838936,
          0.02091315268867191,
          0.06143137613050576,
          0.02162686793910096,
          0.009754400424591296,
          0.0742189477526235,
          0.04009729892439383,
          0.01662074756378936,
          0.4238952402759585,
          0.015605179749973414,
          0.15540985551402334,
          0.004336775030152467,
          0.010873097311665381,
          0.027609454783374728,
          0.0715348083143786,
          0.04492853913513578,
          0.026120351639780822,
          0.014583171968184816,
          0.0411847917725338,
          0.023227339839440364,
          0.008111679837049975,
          0.08917855655279068,
          0.01687314691035548,
          0.00843524611249017,
          0.32051396414199884,
          0.01112783587922075,
          0.27658260957681846,
          0.003199312455129906,
          0.02158692911925775,
          0.013503013130281608,
          0.029238971860598,
          0.05162380263338157,
          0.030062111010297782,
          0.00642059697596098,
          0.09155046141774884,
          0.021991762386619252,
          0.014871894503451583,
          0.06517565365190006,
          0.025709405878994937,
          0.023411051178717043,
          0.2884143884143018,
          0.007080518100835213,
          0.2840848174193956,
          0.0062781211144510105,
          0.03578653005706129,
          0.04051092728858272,
          0.0424539103998971,
          0.036695745747608345,
          0.04623721373255029,
          0.022220898700824672,
          0.044830370107039566,
          0.016238553704388762
         ]
        }
       ],
       "layout": {
        "height": 800,
        "legend": {
         "tracegroupgap": 0
        },
        "template": {
         "data": {
          "bar": [
           {
            "error_x": {
             "color": "#2a3f5f"
            },
            "error_y": {
             "color": "#2a3f5f"
            },
            "marker": {
             "line": {
              "color": "#E5ECF6",
              "width": 0.5
             },
             "pattern": {
              "fillmode": "overlay",
              "size": 10,
              "solidity": 0.2
             }
            },
            "type": "bar"
           }
          ],
          "barpolar": [
           {
            "marker": {
             "line": {
              "color": "#E5ECF6",
              "width": 0.5
             },
             "pattern": {
              "fillmode": "overlay",
              "size": 10,
              "solidity": 0.2
             }
            },
            "type": "barpolar"
           }
          ],
          "carpet": [
           {
            "aaxis": {
             "endlinecolor": "#2a3f5f",
             "gridcolor": "white",
             "linecolor": "white",
             "minorgridcolor": "white",
             "startlinecolor": "#2a3f5f"
            },
            "baxis": {
             "endlinecolor": "#2a3f5f",
             "gridcolor": "white",
             "linecolor": "white",
             "minorgridcolor": "white",
             "startlinecolor": "#2a3f5f"
            },
            "type": "carpet"
           }
          ],
          "choropleth": [
           {
            "colorbar": {
             "outlinewidth": 0,
             "ticks": ""
            },
            "type": "choropleth"
           }
          ],
          "contour": [
           {
            "colorbar": {
             "outlinewidth": 0,
             "ticks": ""
            },
            "colorscale": [
             [
              0,
              "#0d0887"
             ],
             [
              0.1111111111111111,
              "#46039f"
             ],
             [
              0.2222222222222222,
              "#7201a8"
             ],
             [
              0.3333333333333333,
              "#9c179e"
             ],
             [
              0.4444444444444444,
              "#bd3786"
             ],
             [
              0.5555555555555556,
              "#d8576b"
             ],
             [
              0.6666666666666666,
              "#ed7953"
             ],
             [
              0.7777777777777778,
              "#fb9f3a"
             ],
             [
              0.8888888888888888,
              "#fdca26"
             ],
             [
              1,
              "#f0f921"
             ]
            ],
            "type": "contour"
           }
          ],
          "contourcarpet": [
           {
            "colorbar": {
             "outlinewidth": 0,
             "ticks": ""
            },
            "type": "contourcarpet"
           }
          ],
          "heatmap": [
           {
            "colorbar": {
             "outlinewidth": 0,
             "ticks": ""
            },
            "colorscale": [
             [
              0,
              "#0d0887"
             ],
             [
              0.1111111111111111,
              "#46039f"
             ],
             [
              0.2222222222222222,
              "#7201a8"
             ],
             [
              0.3333333333333333,
              "#9c179e"
             ],
             [
              0.4444444444444444,
              "#bd3786"
             ],
             [
              0.5555555555555556,
              "#d8576b"
             ],
             [
              0.6666666666666666,
              "#ed7953"
             ],
             [
              0.7777777777777778,
              "#fb9f3a"
             ],
             [
              0.8888888888888888,
              "#fdca26"
             ],
             [
              1,
              "#f0f921"
             ]
            ],
            "type": "heatmap"
           }
          ],
          "heatmapgl": [
           {
            "colorbar": {
             "outlinewidth": 0,
             "ticks": ""
            },
            "colorscale": [
             [
              0,
              "#0d0887"
             ],
             [
              0.1111111111111111,
              "#46039f"
             ],
             [
              0.2222222222222222,
              "#7201a8"
             ],
             [
              0.3333333333333333,
              "#9c179e"
             ],
             [
              0.4444444444444444,
              "#bd3786"
             ],
             [
              0.5555555555555556,
              "#d8576b"
             ],
             [
              0.6666666666666666,
              "#ed7953"
             ],
             [
              0.7777777777777778,
              "#fb9f3a"
             ],
             [
              0.8888888888888888,
              "#fdca26"
             ],
             [
              1,
              "#f0f921"
             ]
            ],
            "type": "heatmapgl"
           }
          ],
          "histogram": [
           {
            "marker": {
             "pattern": {
              "fillmode": "overlay",
              "size": 10,
              "solidity": 0.2
             }
            },
            "type": "histogram"
           }
          ],
          "histogram2d": [
           {
            "colorbar": {
             "outlinewidth": 0,
             "ticks": ""
            },
            "colorscale": [
             [
              0,
              "#0d0887"
             ],
             [
              0.1111111111111111,
              "#46039f"
             ],
             [
              0.2222222222222222,
              "#7201a8"
             ],
             [
              0.3333333333333333,
              "#9c179e"
             ],
             [
              0.4444444444444444,
              "#bd3786"
             ],
             [
              0.5555555555555556,
              "#d8576b"
             ],
             [
              0.6666666666666666,
              "#ed7953"
             ],
             [
              0.7777777777777778,
              "#fb9f3a"
             ],
             [
              0.8888888888888888,
              "#fdca26"
             ],
             [
              1,
              "#f0f921"
             ]
            ],
            "type": "histogram2d"
           }
          ],
          "histogram2dcontour": [
           {
            "colorbar": {
             "outlinewidth": 0,
             "ticks": ""
            },
            "colorscale": [
             [
              0,
              "#0d0887"
             ],
             [
              0.1111111111111111,
              "#46039f"
             ],
             [
              0.2222222222222222,
              "#7201a8"
             ],
             [
              0.3333333333333333,
              "#9c179e"
             ],
             [
              0.4444444444444444,
              "#bd3786"
             ],
             [
              0.5555555555555556,
              "#d8576b"
             ],
             [
              0.6666666666666666,
              "#ed7953"
             ],
             [
              0.7777777777777778,
              "#fb9f3a"
             ],
             [
              0.8888888888888888,
              "#fdca26"
             ],
             [
              1,
              "#f0f921"
             ]
            ],
            "type": "histogram2dcontour"
           }
          ],
          "mesh3d": [
           {
            "colorbar": {
             "outlinewidth": 0,
             "ticks": ""
            },
            "type": "mesh3d"
           }
          ],
          "parcoords": [
           {
            "line": {
             "colorbar": {
              "outlinewidth": 0,
              "ticks": ""
             }
            },
            "type": "parcoords"
           }
          ],
          "pie": [
           {
            "automargin": true,
            "type": "pie"
           }
          ],
          "scatter": [
           {
            "fillpattern": {
             "fillmode": "overlay",
             "size": 10,
             "solidity": 0.2
            },
            "type": "scatter"
           }
          ],
          "scatter3d": [
           {
            "line": {
             "colorbar": {
              "outlinewidth": 0,
              "ticks": ""
             }
            },
            "marker": {
             "colorbar": {
              "outlinewidth": 0,
              "ticks": ""
             }
            },
            "type": "scatter3d"
           }
          ],
          "scattercarpet": [
           {
            "marker": {
             "colorbar": {
              "outlinewidth": 0,
              "ticks": ""
             }
            },
            "type": "scattercarpet"
           }
          ],
          "scattergeo": [
           {
            "marker": {
             "colorbar": {
              "outlinewidth": 0,
              "ticks": ""
             }
            },
            "type": "scattergeo"
           }
          ],
          "scattergl": [
           {
            "marker": {
             "colorbar": {
              "outlinewidth": 0,
              "ticks": ""
             }
            },
            "type": "scattergl"
           }
          ],
          "scattermapbox": [
           {
            "marker": {
             "colorbar": {
              "outlinewidth": 0,
              "ticks": ""
             }
            },
            "type": "scattermapbox"
           }
          ],
          "scatterpolar": [
           {
            "marker": {
             "colorbar": {
              "outlinewidth": 0,
              "ticks": ""
             }
            },
            "type": "scatterpolar"
           }
          ],
          "scatterpolargl": [
           {
            "marker": {
             "colorbar": {
              "outlinewidth": 0,
              "ticks": ""
             }
            },
            "type": "scatterpolargl"
           }
          ],
          "scatterternary": [
           {
            "marker": {
             "colorbar": {
              "outlinewidth": 0,
              "ticks": ""
             }
            },
            "type": "scatterternary"
           }
          ],
          "surface": [
           {
            "colorbar": {
             "outlinewidth": 0,
             "ticks": ""
            },
            "colorscale": [
             [
              0,
              "#0d0887"
             ],
             [
              0.1111111111111111,
              "#46039f"
             ],
             [
              0.2222222222222222,
              "#7201a8"
             ],
             [
              0.3333333333333333,
              "#9c179e"
             ],
             [
              0.4444444444444444,
              "#bd3786"
             ],
             [
              0.5555555555555556,
              "#d8576b"
             ],
             [
              0.6666666666666666,
              "#ed7953"
             ],
             [
              0.7777777777777778,
              "#fb9f3a"
             ],
             [
              0.8888888888888888,
              "#fdca26"
             ],
             [
              1,
              "#f0f921"
             ]
            ],
            "type": "surface"
           }
          ],
          "table": [
           {
            "cells": {
             "fill": {
              "color": "#EBF0F8"
             },
             "line": {
              "color": "white"
             }
            },
            "header": {
             "fill": {
              "color": "#C8D4E3"
             },
             "line": {
              "color": "white"
             }
            },
            "type": "table"
           }
          ]
         },
         "layout": {
          "annotationdefaults": {
           "arrowcolor": "#2a3f5f",
           "arrowhead": 0,
           "arrowwidth": 1
          },
          "autotypenumbers": "strict",
          "coloraxis": {
           "colorbar": {
            "outlinewidth": 0,
            "ticks": ""
           }
          },
          "colorscale": {
           "diverging": [
            [
             0,
             "#8e0152"
            ],
            [
             0.1,
             "#c51b7d"
            ],
            [
             0.2,
             "#de77ae"
            ],
            [
             0.3,
             "#f1b6da"
            ],
            [
             0.4,
             "#fde0ef"
            ],
            [
             0.5,
             "#f7f7f7"
            ],
            [
             0.6,
             "#e6f5d0"
            ],
            [
             0.7,
             "#b8e186"
            ],
            [
             0.8,
             "#7fbc41"
            ],
            [
             0.9,
             "#4d9221"
            ],
            [
             1,
             "#276419"
            ]
           ],
           "sequential": [
            [
             0,
             "#0d0887"
            ],
            [
             0.1111111111111111,
             "#46039f"
            ],
            [
             0.2222222222222222,
             "#7201a8"
            ],
            [
             0.3333333333333333,
             "#9c179e"
            ],
            [
             0.4444444444444444,
             "#bd3786"
            ],
            [
             0.5555555555555556,
             "#d8576b"
            ],
            [
             0.6666666666666666,
             "#ed7953"
            ],
            [
             0.7777777777777778,
             "#fb9f3a"
            ],
            [
             0.8888888888888888,
             "#fdca26"
            ],
            [
             1,
             "#f0f921"
            ]
           ],
           "sequentialminus": [
            [
             0,
             "#0d0887"
            ],
            [
             0.1111111111111111,
             "#46039f"
            ],
            [
             0.2222222222222222,
             "#7201a8"
            ],
            [
             0.3333333333333333,
             "#9c179e"
            ],
            [
             0.4444444444444444,
             "#bd3786"
            ],
            [
             0.5555555555555556,
             "#d8576b"
            ],
            [
             0.6666666666666666,
             "#ed7953"
            ],
            [
             0.7777777777777778,
             "#fb9f3a"
            ],
            [
             0.8888888888888888,
             "#fdca26"
            ],
            [
             1,
             "#f0f921"
            ]
           ]
          },
          "colorway": [
           "#636efa",
           "#EF553B",
           "#00cc96",
           "#ab63fa",
           "#FFA15A",
           "#19d3f3",
           "#FF6692",
           "#B6E880",
           "#FF97FF",
           "#FECB52"
          ],
          "font": {
           "color": "#2a3f5f"
          },
          "geo": {
           "bgcolor": "white",
           "lakecolor": "white",
           "landcolor": "#E5ECF6",
           "showlakes": true,
           "showland": true,
           "subunitcolor": "white"
          },
          "hoverlabel": {
           "align": "left"
          },
          "hovermode": "closest",
          "mapbox": {
           "style": "light"
          },
          "paper_bgcolor": "white",
          "plot_bgcolor": "#E5ECF6",
          "polar": {
           "angularaxis": {
            "gridcolor": "white",
            "linecolor": "white",
            "ticks": ""
           },
           "bgcolor": "#E5ECF6",
           "radialaxis": {
            "gridcolor": "white",
            "linecolor": "white",
            "ticks": ""
           }
          },
          "scene": {
           "xaxis": {
            "backgroundcolor": "#E5ECF6",
            "gridcolor": "white",
            "gridwidth": 2,
            "linecolor": "white",
            "showbackground": true,
            "ticks": "",
            "zerolinecolor": "white"
           },
           "yaxis": {
            "backgroundcolor": "#E5ECF6",
            "gridcolor": "white",
            "gridwidth": 2,
            "linecolor": "white",
            "showbackground": true,
            "ticks": "",
            "zerolinecolor": "white"
           },
           "zaxis": {
            "backgroundcolor": "#E5ECF6",
            "gridcolor": "white",
            "gridwidth": 2,
            "linecolor": "white",
            "showbackground": true,
            "ticks": "",
            "zerolinecolor": "white"
           }
          },
          "shapedefaults": {
           "line": {
            "color": "#2a3f5f"
           }
          },
          "ternary": {
           "aaxis": {
            "gridcolor": "white",
            "linecolor": "white",
            "ticks": ""
           },
           "baxis": {
            "gridcolor": "white",
            "linecolor": "white",
            "ticks": ""
           },
           "bgcolor": "#E5ECF6",
           "caxis": {
            "gridcolor": "white",
            "linecolor": "white",
            "ticks": ""
           }
          },
          "title": {
           "x": 0.05
          },
          "xaxis": {
           "automargin": true,
           "gridcolor": "white",
           "linecolor": "white",
           "ticks": "",
           "title": {
            "standoff": 15
           },
           "zerolinecolor": "white",
           "zerolinewidth": 2
          },
          "yaxis": {
           "automargin": true,
           "gridcolor": "white",
           "linecolor": "white",
           "ticks": "",
           "title": {
            "standoff": 15
           },
           "zerolinecolor": "white",
           "zerolinewidth": 2
          }
         }
        },
        "title": {
         "text": "Percentage of all NBA video views by team",
         "x": 0.5
        },
        "width": 800
       }
      }
     },
     "metadata": {},
     "output_type": "display_data"
    }
   ],
   "source": [
    "percentage_per_season = df.groupby(\"season\").sum().drop([\"total_nba_views\"], axis=1)\n",
    "\n",
    "views_per_team = df.groupby([\"season\", \"team\"]).agg({\"total_nba_view_percentage\": \"sum\", \"market_size\": \"first\", \"view_count\": \"sum\"})\n",
    "\n",
    "# Divide each team's views by the total views for that season\n",
    "views_per_team[\"subset_percentage\"] = views_per_team[\"total_nba_view_percentage\"].div(\n",
    "    percentage_per_season[\"total_nba_view_percentage\"], axis=0, level=\"season\"\n",
    ")\n",
    "views_per_team.rename(columns={\"view_count\": \"Views\"}, inplace=True)\n",
    "views_per_team.reset_index(inplace=True)\n",
    "views_per_team\n",
    "\n",
    "# Create a plotly pie chart, where the season is an additional dimension\n",
    "fig = px.pie(\n",
    "    views_per_team,\n",
    "    values=\"subset_percentage\",\n",
    "    names=\"team\",\n",
    "    color=\"team\",\n",
    "    title=\"Percentage of all NBA video views by team\",\n",
    "    color_discrete_map={\"big\": \"firebrick\", \"small\": \"steelblue\"},\n",
    "    labels={\"subset_percentage\": \"Percentage of all NBA video views by team\"},\n",
    "    hover_data=[\"market_size\"],\n",
    "    width=800,\n",
    "    height=800,\n",
    ")\n",
    "# center the title\n",
    "fig.update_layout(title_x=0.5)\n",
    "fig"
   ]
  },
  {
   "cell_type": "code",
   "execution_count": 20,
   "id": "cfc7dbfa",
   "metadata": {},
   "outputs": [
    {
     "data": {
      "application/vnd.plotly.v1+json": {
       "config": {
        "plotlyServerURL": "https://plotly.com"
       },
       "data": [
        {
         "alignmentgroup": "True",
         "customdata": [
          [
           123284
          ],
          [
           1261066
          ],
          [
           180127
          ],
          [
           2954534
          ],
          [
           1952175
          ],
          [
           354843
          ],
          [
           1931737
          ]
         ],
         "hovertemplate": "<b>Number of views: %{customdata[0]}</b>",
         "ids": [
          "BOS",
          "CHI",
          "DAL",
          "GSW",
          "LAL",
          "NY",
          "PHI"
         ],
         "legendgroup": "big",
         "marker": {
          "color": "#00CC96",
          "pattern": {
           "shape": ""
          }
         },
         "name": "big",
         "offsetgroup": "big",
         "orientation": "v",
         "showlegend": true,
         "textposition": "auto",
         "type": "bar",
         "x": [
          "BOS",
          "CHI",
          "DAL",
          "GSW",
          "LAL",
          "NY",
          "PHI"
         ],
         "xaxis": "x",
         "y": [
          0.37248535314946113,
          8.129992489270812,
          1.0263584385617215,
          17.742013777419423,
          7.044052807086527,
          1.3468771695574135,
          8.769642225782745
         ],
         "yaxis": "y"
        },
        {
         "alignmentgroup": "True",
         "customdata": [
          [
           120339
          ],
          [
           287750
          ],
          [
           134983
          ],
          [
           448935
          ],
          [
           4877304
          ],
          [
           3274972
          ]
         ],
         "hovertemplate": "<b>Number of views: %{customdata[0]}</b>",
         "ids": [
          "IND",
          "MEM",
          "MIL",
          "POR",
          "SA",
          "UTAH"
         ],
         "legendgroup": "small",
         "marker": {
          "color": "#EF553B",
          "pattern": {
           "shape": ""
          }
         },
         "name": "small",
         "offsetgroup": "small",
         "orientation": "v",
         "showlegend": true,
         "textposition": "auto",
         "type": "bar",
         "x": [
          "IND",
          "MEM",
          "MIL",
          "POR",
          "SA",
          "UTAH"
         ],
         "xaxis": "x",
         "y": [
          0.5202336272410066,
          1.8721789383086704,
          0.8092319512926984,
          2.366740618228934,
          29.17063895760565,
          20.829553646494933
         ],
         "yaxis": "y"
        }
       ],
       "frames": [
        {
         "data": [
          {
           "alignmentgroup": "True",
           "customdata": [
            [
             123284
            ],
            [
             1261066
            ],
            [
             180127
            ],
            [
             2954534
            ],
            [
             1952175
            ],
            [
             354843
            ],
            [
             1931737
            ]
           ],
           "hovertemplate": "market_size=big<br>season=2006-2007<br>team=%{x}<br>y=%{y}<extra></extra>",
           "ids": [
            "BOS",
            "CHI",
            "DAL",
            "GSW",
            "LAL",
            "NY",
            "PHI"
           ],
           "legendgroup": "big",
           "marker": {
            "color": "#00CC96",
            "pattern": {
             "shape": ""
            }
           },
           "name": "big",
           "offsetgroup": "big",
           "orientation": "v",
           "showlegend": true,
           "textposition": "auto",
           "type": "bar",
           "x": [
            "BOS",
            "CHI",
            "DAL",
            "GSW",
            "LAL",
            "NY",
            "PHI"
           ],
           "xaxis": "x",
           "y": [
            0.37248535314946113,
            8.129992489270812,
            1.0263584385617215,
            17.742013777419423,
            7.044052807086527,
            1.3468771695574135,
            8.769642225782745
           ],
           "yaxis": "y"
          },
          {
           "alignmentgroup": "True",
           "customdata": [
            [
             120339
            ],
            [
             287750
            ],
            [
             134983
            ],
            [
             448935
            ],
            [
             4877304
            ],
            [
             3274972
            ]
           ],
           "hovertemplate": "market_size=small<br>season=2006-2007<br>team=%{x}<br>y=%{y}<extra></extra>",
           "ids": [
            "IND",
            "MEM",
            "MIL",
            "POR",
            "SA",
            "UTAH"
           ],
           "legendgroup": "small",
           "marker": {
            "color": "#EF553B",
            "pattern": {
             "shape": ""
            }
           },
           "name": "small",
           "offsetgroup": "small",
           "orientation": "v",
           "showlegend": true,
           "textposition": "auto",
           "type": "bar",
           "x": [
            "IND",
            "MEM",
            "MIL",
            "POR",
            "SA",
            "UTAH"
           ],
           "xaxis": "x",
           "y": [
            0.5202336272410066,
            1.8721789383086704,
            0.8092319512926984,
            2.366740618228934,
            29.17063895760565,
            20.829553646494933
           ],
           "yaxis": "y"
          }
         ],
         "name": "2006-2007"
        },
        {
         "data": [
          {
           "alignmentgroup": "True",
           "customdata": [
            [
             1142998
            ],
            [
             5989441
            ],
            [
             380486
            ],
            [
             1005617
            ],
            [
             748887
            ],
            [
             26207956
            ],
            [
             2247460
            ],
            [
             393081
            ]
           ],
           "hovertemplate": "market_size=big<br>season=2007-2008<br>team=%{x}<br>y=%{y}<extra></extra>",
           "ids": [
            "ATT",
            "BOS",
            "CHI",
            "DAL",
            "GSW",
            "LAL",
            "NY",
            "PHI"
           ],
           "legendgroup": "big",
           "marker": {
            "color": "#00CC96",
            "pattern": {
             "shape": ""
            }
           },
           "name": "big",
           "offsetgroup": "big",
           "orientation": "v",
           "showlegend": true,
           "textposition": "auto",
           "type": "bar",
           "x": [
            "ATT",
            "BOS",
            "CHI",
            "DAL",
            "GSW",
            "LAL",
            "NY",
            "PHI"
           ],
           "xaxis": "x",
           "y": [
            1.9050670896150694,
            16.587510079630672,
            2.8846310591381688,
            2.903364754109494,
            5.973966838307522,
            51.54970462197275,
            4.804129249649234,
            1.4333660889072115
           ],
           "yaxis": "y"
          },
          {
           "alignmentgroup": "True",
           "customdata": [
            [
             33996
            ],
            [
             1001558
            ],
            [
             132548
            ],
            [
             86172
            ],
            [
             341483
            ],
            [
             859980
            ],
            [
             584506
            ]
           ],
           "hovertemplate": "market_size=small<br>season=2007-2008<br>team=%{x}<br>y=%{y}<extra></extra>",
           "ids": [
            "IND",
            "MEM",
            "MIL",
            "OKC",
            "POR",
            "SA",
            "UTAH"
           ],
           "legendgroup": "small",
           "marker": {
            "color": "#EF553B",
            "pattern": {
             "shape": ""
            }
           },
           "name": "small",
           "offsetgroup": "small",
           "orientation": "v",
           "showlegend": true,
           "textposition": "auto",
           "type": "bar",
           "x": [
            "IND",
            "MEM",
            "MIL",
            "OKC",
            "POR",
            "SA",
            "UTAH"
           ],
           "xaxis": "x",
           "y": [
            0.08123232654596887,
            4.22902370878316,
            0.22245867581365872,
            0.1999616401569614,
            3.729328199270496,
            1.8348380527480286,
            1.661417615351608
           ],
           "yaxis": "y"
          }
         ],
         "name": "2007-2008"
        },
        {
         "data": [
          {
           "alignmentgroup": "True",
           "customdata": [
            [
             1382143
            ],
            [
             11505898
            ],
            [
             16505099
            ],
            [
             6799902
            ],
            [
             1282523
            ],
            [
             39003164
            ],
            [
             3464398
            ],
            [
             1543938
            ]
           ],
           "hovertemplate": "market_size=big<br>season=2008-2009<br>team=%{x}<br>y=%{y}<extra></extra>",
           "ids": [
            "ATT",
            "BOS",
            "CHI",
            "DAL",
            "GSW",
            "LAL",
            "NY",
            "PHI"
           ],
           "legendgroup": "big",
           "marker": {
            "color": "#00CC96",
            "pattern": {
             "shape": ""
            }
           },
           "name": "big",
           "offsetgroup": "big",
           "orientation": "v",
           "showlegend": true,
           "textposition": "auto",
           "type": "bar",
           "x": [
            "ATT",
            "BOS",
            "CHI",
            "DAL",
            "GSW",
            "LAL",
            "NY",
            "PHI"
           ],
           "xaxis": "x",
           "y": [
            1.2917149247740691,
            12.53121997156413,
            15.841850213405257,
            6.149840530136112,
            2.243910585995373,
            47.8718081628743,
            2.8102657909340785,
            1.526818970952204
           ],
           "yaxis": "y"
          },
          {
           "alignmentgroup": "True",
           "customdata": [
            [
             195224
            ],
            [
             360469
            ],
            [
             2100054
            ],
            [
             591303
            ],
            [
             1559914
            ],
            [
             990493
            ],
            [
             864413
            ]
           ],
           "hovertemplate": "market_size=small<br>season=2008-2009<br>team=%{x}<br>y=%{y}<extra></extra>",
           "ids": [
            "IND",
            "MEM",
            "MIL",
            "OKC",
            "POR",
            "SA",
            "UTAH"
           ],
           "legendgroup": "small",
           "marker": {
            "color": "#EF553B",
            "pattern": {
             "shape": ""
            }
           },
           "name": "small",
           "offsetgroup": "small",
           "orientation": "v",
           "showlegend": true,
           "textposition": "auto",
           "type": "bar",
           "x": [
            "IND",
            "MEM",
            "MIL",
            "OKC",
            "POR",
            "SA",
            "UTAH"
           ],
           "xaxis": "x",
           "y": [
            0.22168432178883735,
            0.3977957352451168,
            3.9743680443319276,
            0.6002270989801144,
            2.9184078467897328,
            0.7396445994428343,
            0.8804432027859074
           ],
           "yaxis": "y"
          }
         ],
         "name": "2008-2009"
        },
        {
         "data": [
          {
           "alignmentgroup": "True",
           "customdata": [
            [
             130129
            ],
            [
             7131393
            ],
            [
             11177750
            ],
            [
             2400984
            ],
            [
             748087
            ],
            [
             24696003
            ],
            [
             1616457
            ],
            [
             614579
            ]
           ],
           "hovertemplate": "market_size=big<br>season=2009-2010<br>team=%{x}<br>y=%{y}<extra></extra>",
           "ids": [
            "ATT",
            "BOS",
            "CHI",
            "DAL",
            "GSW",
            "LAL",
            "NY",
            "PHI"
           ],
           "legendgroup": "big",
           "marker": {
            "color": "#00CC96",
            "pattern": {
             "shape": ""
            }
           },
           "name": "big",
           "offsetgroup": "big",
           "orientation": "v",
           "showlegend": true,
           "textposition": "auto",
           "type": "bar",
           "x": [
            "ATT",
            "BOS",
            "CHI",
            "DAL",
            "GSW",
            "LAL",
            "NY",
            "PHI"
           ],
           "xaxis": "x",
           "y": [
            0.18578234811627764,
            15.074242899173438,
            16.602625100049345,
            4.292296861965196,
            1.220477644011606,
            40.36717005002625,
            3.655649468611525,
            1.1388014271055797
           ],
           "yaxis": "y"
          },
          {
           "alignmentgroup": "True",
           "customdata": [
            [
             210683
            ],
            [
             1288239
            ],
            [
             5028281
            ],
            [
             100983
            ],
            [
             1350184
            ],
            [
             1219878
            ],
            [
             81246
            ],
            [
             1673954
            ]
           ],
           "hovertemplate": "market_size=small<br>season=2009-2010<br>team=%{x}<br>y=%{y}<extra></extra>",
           "ids": [
            "IND",
            "MEM",
            "MIL",
            "NO",
            "OKC",
            "POR",
            "SA",
            "UTAH"
           ],
           "legendgroup": "small",
           "marker": {
            "color": "#EF553B",
            "pattern": {
             "shape": ""
            }
           },
           "name": "small",
           "offsetgroup": "small",
           "orientation": "v",
           "showlegend": true,
           "textposition": "auto",
           "type": "bar",
           "x": [
            "IND",
            "MEM",
            "MIL",
            "NO",
            "OKC",
            "POR",
            "SA",
            "UTAH"
           ],
           "xaxis": "x",
           "y": [
            0.30938689335508235,
            2.8445179810654118,
            6.083921353816697,
            0.18112995480550986,
            2.117796835341692,
            2.3779356237976406,
            0.1483835117626591,
            3.399882046996088
           ],
           "yaxis": "y"
          }
         ],
         "name": "2009-2010"
        },
        {
         "data": [
          {
           "alignmentgroup": "True",
           "customdata": [
            [
             11771202
            ],
            [
             30468148
            ],
            [
             15390588
            ],
            [
             19422397
            ],
            [
             30848483
            ],
            [
             59786993
            ],
            [
             12704755
            ],
            [
             2173084
            ]
           ],
           "hovertemplate": "market_size=big<br>season=2010-2011<br>team=%{x}<br>y=%{y}<extra></extra>",
           "ids": [
            "ATT",
            "BOS",
            "CHI",
            "DAL",
            "GSW",
            "LAL",
            "NY",
            "PHI"
           ],
           "legendgroup": "big",
           "marker": {
            "color": "#00CC96",
            "pattern": {
             "shape": ""
            }
           },
           "name": "big",
           "offsetgroup": "big",
           "orientation": "v",
           "showlegend": true,
           "textposition": "auto",
           "type": "bar",
           "x": [
            "ATT",
            "BOS",
            "CHI",
            "DAL",
            "GSW",
            "LAL",
            "NY",
            "PHI"
           ],
           "xaxis": "x",
           "y": [
            5.130527114817142,
            16.231407664993323,
            8.541708106084693,
            7.300423833856056,
            9.665216659399805,
            34.23944848332679,
            5.663010697718082,
            0.9108039344708823
           ],
           "yaxis": "y"
          },
          {
           "alignmentgroup": "True",
           "customdata": [
            [
             1446943
            ],
            [
             3512205
            ],
            [
             2698043
            ],
            [
             548881
            ],
            [
             6805529
            ],
            [
             2628394
            ],
            [
             3619913
            ],
            [
             3624421
            ]
           ],
           "hovertemplate": "market_size=small<br>season=2010-2011<br>team=%{x}<br>y=%{y}<extra></extra>",
           "ids": [
            "IND",
            "MEM",
            "MIL",
            "NO",
            "OKC",
            "POR",
            "SA",
            "UTAH"
           ],
           "legendgroup": "small",
           "marker": {
            "color": "#EF553B",
            "pattern": {
             "shape": ""
            }
           },
           "name": "small",
           "offsetgroup": "small",
           "orientation": "v",
           "showlegend": true,
           "textposition": "auto",
           "type": "bar",
           "x": [
            "IND",
            "MEM",
            "MIL",
            "NO",
            "OKC",
            "POR",
            "SA",
            "UTAH"
           ],
           "xaxis": "x",
           "y": [
            0.5019678581804178,
            1.5954469863889007,
            1.2501926962558756,
            0.20927877265003839,
            3.3727340839797346,
            1.7075836392700807,
            1.8603917251069728,
            1.8198577435012075
           ],
           "yaxis": "y"
          }
         ],
         "name": "2010-2011"
        },
        {
         "data": [
          {
           "alignmentgroup": "True",
           "customdata": [
            [
             16590615
            ],
            [
             35996212
            ],
            [
             48065158
            ],
            [
             18307740
            ],
            [
             33212823
            ],
            [
             149145825
            ],
            [
             76166357
            ],
            [
             11105407
            ]
           ],
           "hovertemplate": "market_size=big<br>season=2011-2012<br>team=%{x}<br>y=%{y}<extra></extra>",
           "ids": [
            "ATT",
            "BOS",
            "CHI",
            "DAL",
            "GSW",
            "LAL",
            "NY",
            "PHI"
           ],
           "legendgroup": "big",
           "marker": {
            "color": "#00CC96",
            "pattern": {
             "shape": ""
            }
           },
           "name": "big",
           "offsetgroup": "big",
           "orientation": "v",
           "showlegend": true,
           "textposition": "auto",
           "type": "bar",
           "x": [
            "ATT",
            "BOS",
            "CHI",
            "DAL",
            "GSW",
            "LAL",
            "NY",
            "PHI"
           ],
           "xaxis": "x",
           "y": [
            3.6459075408619097,
            8.764029400995176,
            9.778733497325081,
            3.724071168157147,
            9.667198128134329,
            30.16294024960084,
            13.968098848272176,
            1.9393110467941608
           ],
           "yaxis": "y"
          },
          {
           "alignmentgroup": "True",
           "customdata": [
            [
             11899869
            ],
            [
             10806432
            ],
            [
             10141697
            ],
            [
             1536603
            ],
            [
             18037440
            ],
            [
             9399858
            ],
            [
             19990992
            ],
            [
             7648363
            ]
           ],
           "hovertemplate": "market_size=small<br>season=2011-2012<br>team=%{x}<br>y=%{y}<extra></extra>",
           "ids": [
            "IND",
            "MEM",
            "MIL",
            "NO",
            "OKC",
            "POR",
            "SA",
            "UTAH"
           ],
           "legendgroup": "small",
           "marker": {
            "color": "#EF553B",
            "pattern": {
             "shape": ""
            }
           },
           "name": "small",
           "offsetgroup": "small",
           "orientation": "v",
           "showlegend": true,
           "textposition": "auto",
           "type": "bar",
           "x": [
            "IND",
            "MEM",
            "MIL",
            "NO",
            "OKC",
            "POR",
            "SA",
            "UTAH"
           ],
           "xaxis": "x",
           "y": [
            2.648749185232064,
            2.028305480474534,
            2.2646019872596774,
            0.3573608352269239,
            3.7491641047752133,
            1.99168168877851,
            3.7354512311913113,
            1.574395606920955
           ],
           "yaxis": "y"
          }
         ],
         "name": "2011-2012"
        },
        {
         "data": [
          {
           "alignmentgroup": "True",
           "customdata": [
            [
             21178319
            ],
            [
             53835429
            ],
            [
             65697347
            ],
            [
             39097161
            ],
            [
             53204220
            ],
            [
             187707967
            ],
            [
             86573270
            ],
            [
             14426362
            ]
           ],
           "hovertemplate": "market_size=big<br>season=2012-2013<br>team=%{x}<br>y=%{y}<extra></extra>",
           "ids": [
            "ATT",
            "BOS",
            "CHI",
            "DAL",
            "GSW",
            "LAL",
            "NY",
            "PHI"
           ],
           "legendgroup": "big",
           "marker": {
            "color": "#00CC96",
            "pattern": {
             "shape": ""
            }
           },
           "name": "big",
           "offsetgroup": "big",
           "orientation": "v",
           "showlegend": true,
           "textposition": "auto",
           "type": "bar",
           "x": [
            "ATT",
            "BOS",
            "CHI",
            "DAL",
            "GSW",
            "LAL",
            "NY",
            "PHI"
           ],
           "xaxis": "x",
           "y": [
            2.4646255095856784,
            6.654113180032511,
            8.538825716633804,
            5.6282481253011225,
            6.37540983321718,
            24.17630715527638,
            11.498861635662871,
            1.7452732329579752
           ],
           "yaxis": "y"
          },
          {
           "alignmentgroup": "True",
           "customdata": [
            [
             46961076
            ],
            [
             22865695
            ],
            [
             21053172
            ],
            [
             8713816
            ],
            [
             26956807
            ],
            [
             19694958
            ],
            [
             71475253
            ],
            [
             17227283
            ]
           ],
           "hovertemplate": "market_size=small<br>season=2012-2013<br>team=%{x}<br>y=%{y}<extra></extra>",
           "ids": [
            "IND",
            "MEM",
            "MIL",
            "NO",
            "OKC",
            "POR",
            "SA",
            "UTAH"
           ],
           "legendgroup": "small",
           "marker": {
            "color": "#EF553B",
            "pattern": {
             "shape": ""
            }
           },
           "name": "small",
           "offsetgroup": "small",
           "orientation": "v",
           "showlegend": true,
           "textposition": "auto",
           "type": "bar",
           "x": [
            "IND",
            "MEM",
            "MIL",
            "NO",
            "OKC",
            "POR",
            "SA",
            "UTAH"
           ],
           "xaxis": "x",
           "y": [
            6.274894629922785,
            2.938351343430936,
            2.8433177461459134,
            1.0233057373391705,
            4.512417899411579,
            2.5435864725524655,
            10.126638787458674,
            2.6558229950709498
           ],
           "yaxis": "y"
          }
         ],
         "name": "2012-2013"
        },
        {
         "data": [
          {
           "alignmentgroup": "True",
           "customdata": [
            [
             19277478
            ],
            [
             36735182
            ],
            [
             158257579
            ],
            [
             31058400
            ],
            [
             97933927
            ],
            [
             120660329
            ],
            [
             36380837
            ],
            [
             30297432
            ]
           ],
           "hovertemplate": "market_size=big<br>season=2013-2014<br>team=%{x}<br>y=%{y}<extra></extra>",
           "ids": [
            "ATT",
            "BOS",
            "CHI",
            "DAL",
            "GSW",
            "LAL",
            "NY",
            "PHI"
           ],
           "legendgroup": "big",
           "marker": {
            "color": "#00CC96",
            "pattern": {
             "shape": ""
            }
           },
           "name": "big",
           "offsetgroup": "big",
           "orientation": "v",
           "showlegend": true,
           "textposition": "auto",
           "type": "bar",
           "x": [
            "ATT",
            "BOS",
            "CHI",
            "DAL",
            "GSW",
            "LAL",
            "NY",
            "PHI"
           ],
           "xaxis": "x",
           "y": [
            2.362433205060955,
            4.613087193092794,
            18.52391449910157,
            3.802936413345339,
            13.16685814523389,
            15.381720706006258,
            4.353401237839503,
            3.7154559957562143
           ],
           "yaxis": "y"
          },
          {
           "alignmentgroup": "True",
           "customdata": [
            [
             48074038
            ],
            [
             19949498
            ],
            [
             18891589
            ],
            [
             32863807
            ],
            [
             32246900
            ],
            [
             35938464
            ],
            [
             60614541
            ],
            [
             19594253
            ]
           ],
           "hovertemplate": "market_size=small<br>season=2013-2014<br>team=%{x}<br>y=%{y}<extra></extra>",
           "ids": [
            "IND",
            "MEM",
            "MIL",
            "NO",
            "OKC",
            "POR",
            "SA",
            "UTAH"
           ],
           "legendgroup": "small",
           "marker": {
            "color": "#EF553B",
            "pattern": {
             "shape": ""
            }
           },
           "name": "small",
           "offsetgroup": "small",
           "orientation": "v",
           "showlegend": true,
           "textposition": "auto",
           "type": "bar",
           "x": [
            "IND",
            "MEM",
            "MIL",
            "NO",
            "OKC",
            "POR",
            "SA",
            "UTAH"
           ],
           "xaxis": "x",
           "y": [
            6.456941564106799,
            2.412739922509266,
            2.2678016298499992,
            3.6737193640237003,
            4.808156765126995,
            4.798808216185306,
            7.3081078977251686,
            2.3539172450362353
           ],
           "yaxis": "y"
          }
         ],
         "name": "2013-2014"
        },
        {
         "data": [
          {
           "alignmentgroup": "True",
           "customdata": [
            [
             24566727
            ],
            [
             116869146
            ],
            [
             125463662
            ],
            [
             12361661
            ],
            [
             140308057
            ],
            [
             263861588
            ],
            [
             21580612
            ],
            [
             5424447
            ]
           ],
           "hovertemplate": "market_size=big<br>season=2014-2015<br>team=%{x}<br>y=%{y}<extra></extra>",
           "ids": [
            "ATT",
            "BOS",
            "CHI",
            "DAL",
            "GSW",
            "LAL",
            "NY",
            "PHI"
           ],
           "legendgroup": "big",
           "marker": {
            "color": "#00CC96",
            "pattern": {
             "shape": ""
            }
           },
           "name": "big",
           "offsetgroup": "big",
           "orientation": "v",
           "showlegend": true,
           "textposition": "auto",
           "type": "bar",
           "x": [
            "ATT",
            "BOS",
            "CHI",
            "DAL",
            "GSW",
            "LAL",
            "NY",
            "PHI"
           ],
           "xaxis": "x",
           "y": [
            3.3463915784453597,
            12.652788491467195,
            16.51279503772434,
            1.5895884009984989,
            16.93463253941207,
            31.376868947755565,
            2.9043304606818485,
            0.7239845055018427
           ],
           "yaxis": "y"
          },
          {
           "alignmentgroup": "True",
           "customdata": [
            [
             6173141
            ],
            [
             11158687
            ],
            [
             10292831
            ],
            [
             7748176
            ],
            [
             20185966
            ],
            [
             3600517
            ],
            [
             32524139
            ],
            [
             18559304
            ]
           ],
           "hovertemplate": "market_size=small<br>season=2014-2015<br>team=%{x}<br>y=%{y}<extra></extra>",
           "ids": [
            "IND",
            "MEM",
            "MIL",
            "NO",
            "OKC",
            "POR",
            "SA",
            "UTAH"
           ],
           "legendgroup": "small",
           "marker": {
            "color": "#EF553B",
            "pattern": {
             "shape": ""
            }
           },
           "name": "small",
           "offsetgroup": "small",
           "orientation": "v",
           "showlegend": true,
           "textposition": "auto",
           "type": "bar",
           "x": [
            "IND",
            "MEM",
            "MIL",
            "NO",
            "OKC",
            "POR",
            "SA",
            "UTAH"
           ],
           "xaxis": "x",
           "y": [
            0.6682740791812511,
            1.5605183349130625,
            0.9738188153549121,
            1.0432295553413267,
            2.4604462692930165,
            0.4103580426891154,
            4.184821929063112,
            2.6571530121774787
           ],
           "yaxis": "y"
          }
         ],
         "name": "2014-2015"
        },
        {
         "data": [
          {
           "alignmentgroup": "True",
           "customdata": [
            [
             15565513
            ],
            [
             38349414
            ],
            [
             82926644
            ],
            [
             16659981
            ],
            [
             411123732
            ],
            [
             248952479
            ],
            [
             39317021
            ],
            [
             13180017
            ]
           ],
           "hovertemplate": "market_size=big<br>season=2015-2016<br>team=%{x}<br>y=%{y}<extra></extra>",
           "ids": [
            "ATT",
            "BOS",
            "CHI",
            "DAL",
            "GSW",
            "LAL",
            "NY",
            "PHI"
           ],
           "legendgroup": "big",
           "marker": {
            "color": "#00CC96",
            "pattern": {
             "shape": ""
            }
           },
           "name": "big",
           "offsetgroup": "big",
           "orientation": "v",
           "showlegend": true,
           "textposition": "auto",
           "type": "bar",
           "x": [
            "ATT",
            "BOS",
            "CHI",
            "DAL",
            "GSW",
            "LAL",
            "NY",
            "PHI"
           ],
           "xaxis": "x",
           "y": [
            1.344019015636875,
            3.620157100885952,
            7.577247399269785,
            1.4933400251921005,
            37.911747179604774,
            23.691794141208288,
            3.809235230141925,
            1.3801551814838937
           ],
           "yaxis": "y"
          },
          {
           "alignmentgroup": "True",
           "customdata": [
            [
             21099754
            ],
            [
             14579740
            ],
            [
             13889588
            ],
            [
             3997252
            ],
            [
             48169925
            ],
            [
             22550373
            ],
            [
             60958053
            ],
            [
             23395479
            ]
           ],
           "hovertemplate": "market_size=small<br>season=2015-2016<br>team=%{x}<br>y=%{y}<extra></extra>",
           "ids": [
            "IND",
            "MEM",
            "MIL",
            "NO",
            "OKC",
            "POR",
            "SA",
            "UTAH"
           ],
           "legendgroup": "small",
           "marker": {
            "color": "#EF553B",
            "pattern": {
             "shape": ""
            }
           },
           "name": "small",
           "offsetgroup": "small",
           "orientation": "v",
           "showlegend": true,
           "textposition": "auto",
           "type": "bar",
           "x": [
            "IND",
            "MEM",
            "MIL",
            "NO",
            "OKC",
            "POR",
            "SA",
            "UTAH"
           ],
           "xaxis": "x",
           "y": [
            1.938616272498174,
            1.3068376732254805,
            1.2140469635231295,
            0.3905647717532341,
            3.9250993697485144,
            2.091315268867191,
            6.143137613050576,
            2.162686793910096
           ],
           "yaxis": "y"
          }
         ],
         "name": "2015-2016"
        },
        {
         "data": [
          {
           "alignmentgroup": "True",
           "customdata": [
            [
             17665226
            ],
            [
             140922724
            ],
            [
             79613558
            ],
            [
             29877590
            ],
            [
             815046681
            ],
            [
             295862512
            ],
            [
             134056087
            ],
            [
             54293876
            ]
           ],
           "hovertemplate": "market_size=big<br>season=2016-2017<br>team=%{x}<br>y=%{y}<extra></extra>",
           "ids": [
            "ATT",
            "BOS",
            "CHI",
            "DAL",
            "GSW",
            "LAL",
            "NY",
            "PHI"
           ],
           "legendgroup": "big",
           "marker": {
            "color": "#00CC96",
            "pattern": {
             "shape": ""
            }
           },
           "name": "big",
           "offsetgroup": "big",
           "orientation": "v",
           "showlegend": true,
           "textposition": "auto",
           "type": "bar",
           "x": [
            "ATT",
            "BOS",
            "CHI",
            "DAL",
            "GSW",
            "LAL",
            "NY",
            "PHI"
           ],
           "xaxis": "x",
           "y": [
            0.9754400424591296,
            7.42189477526235,
            4.009729892439383,
            1.662074756378936,
            42.38952402759585,
            15.540985551402335,
            7.15348083143786,
            2.6120351639780823
           ],
           "yaxis": "y"
          },
          {
           "alignmentgroup": "True",
           "customdata": [
            [
             30440438
            ],
            [
             7610282
            ],
            [
             19935854
            ],
            [
             49256009
            ],
            [
             78021323
            ],
            [
             23827277
            ],
            [
             79194746
            ],
            [
             47172983
            ]
           ],
           "hovertemplate": "market_size=small<br>season=2016-2017<br>team=%{x}<br>y=%{y}<extra></extra>",
           "ids": [
            "IND",
            "MEM",
            "MIL",
            "NO",
            "OKC",
            "POR",
            "SA",
            "UTAH"
           ],
           "legendgroup": "small",
           "marker": {
            "color": "#EF553B",
            "pattern": {
             "shape": ""
            }
           },
           "name": "small",
           "offsetgroup": "small",
           "orientation": "v",
           "showlegend": true,
           "textposition": "auto",
           "type": "bar",
           "x": [
            "IND",
            "MEM",
            "MIL",
            "NO",
            "OKC",
            "POR",
            "SA",
            "UTAH"
           ],
           "xaxis": "x",
           "y": [
            1.5605179749973415,
            0.43367750301524666,
            1.087309731166538,
            2.7609454783374727,
            4.492853913513578,
            1.4583171968184816,
            4.11847917725338,
            2.3227339839440364
           ],
           "yaxis": "y"
          }
         ],
         "name": "2016-2017"
        },
        {
         "data": [
          {
           "alignmentgroup": "True",
           "customdata": [
            [
             28540272
            ],
            [
             313713493
            ],
            [
             61865109
            ],
            [
             30925830
            ],
            [
             1113664675
            ],
            [
             911271558
            ],
            [
             109461585
            ],
            [
             110547850
            ]
           ],
           "hovertemplate": "market_size=big<br>season=2017-2018<br>team=%{x}<br>y=%{y}<extra></extra>",
           "ids": [
            "ATT",
            "BOS",
            "CHI",
            "DAL",
            "GSW",
            "LAL",
            "NY",
            "PHI"
           ],
           "legendgroup": "big",
           "marker": {
            "color": "#00CC96",
            "pattern": {
             "shape": ""
            }
           },
           "name": "big",
           "offsetgroup": "big",
           "orientation": "v",
           "showlegend": true,
           "textposition": "auto",
           "type": "bar",
           "x": [
            "ATT",
            "BOS",
            "CHI",
            "DAL",
            "GSW",
            "LAL",
            "NY",
            "PHI"
           ],
           "xaxis": "x",
           "y": [
            0.8111679837049974,
            8.917855655279068,
            1.687314691035548,
            0.843524611249017,
            32.051396414199885,
            27.658260957681847,
            2.9238971860598,
            3.0062111010297783
           ],
           "yaxis": "y"
          },
          {
           "alignmentgroup": "True",
           "customdata": [
            [
             46443639
            ],
            [
             12215105
            ],
            [
             82005987
            ],
            [
             53719908
            ],
            [
             185052057
            ],
            [
             23377136
            ],
            [
             294290486
            ],
            [
             87322049
            ]
           ],
           "hovertemplate": "market_size=small<br>season=2017-2018<br>team=%{x}<br>y=%{y}<extra></extra>",
           "ids": [
            "IND",
            "MEM",
            "MIL",
            "NO",
            "OKC",
            "POR",
            "SA",
            "UTAH"
           ],
           "legendgroup": "small",
           "marker": {
            "color": "#EF553B",
            "pattern": {
             "shape": ""
            }
           },
           "name": "small",
           "offsetgroup": "small",
           "orientation": "v",
           "showlegend": true,
           "textposition": "auto",
           "type": "bar",
           "x": [
            "IND",
            "MEM",
            "MIL",
            "NO",
            "OKC",
            "POR",
            "SA",
            "UTAH"
           ],
           "xaxis": "x",
           "y": [
            1.1127835879220749,
            0.3199312455129906,
            2.158692911925775,
            1.3503013130281607,
            5.162380263338157,
            0.642059697596098,
            9.155046141774884,
            2.1991762386619254
           ],
           "yaxis": "y"
          }
         ],
         "name": "2017-2018"
        },
        {
         "data": [
          {
           "alignmentgroup": "True",
           "customdata": [
            [
             54637565
            ],
            [
             266723450
            ],
            [
             92634740
            ],
            [
             101152830
            ],
            [
             1212969669
            ],
            [
             1130370366
            ],
            [
             171302907
            ],
            [
             193389788
            ]
           ],
           "hovertemplate": "market_size=big<br>season=2018-2019<br>team=%{x}<br>y=%{y}<extra></extra>",
           "ids": [
            "ATT",
            "BOS",
            "CHI",
            "DAL",
            "GSW",
            "LAL",
            "NY",
            "PHI"
           ],
           "legendgroup": "big",
           "marker": {
            "color": "#00CC96",
            "pattern": {
             "shape": ""
            }
           },
           "name": "big",
           "offsetgroup": "big",
           "orientation": "v",
           "showlegend": true,
           "textposition": "auto",
           "type": "bar",
           "x": [
            "ATT",
            "BOS",
            "CHI",
            "DAL",
            "GSW",
            "LAL",
            "NY",
            "PHI"
           ],
           "xaxis": "x",
           "y": [
            1.4871894503451584,
            6.5175653651900065,
            2.5709405878994938,
            2.341105117871704,
            28.84143884143018,
            28.40848174193956,
            4.24539103998971,
            4.623721373255029
           ],
           "yaxis": "y"
          },
          {
           "alignmentgroup": "True",
           "customdata": [
            [
             30703564
            ],
            [
             25657064
            ],
            [
             148786793
            ],
            [
             166200132
            ],
            [
             143104085
            ],
            [
             93752212
            ],
            [
             187862384
            ],
            [
             67767639
            ]
           ],
           "hovertemplate": "market_size=small<br>season=2018-2019<br>team=%{x}<br>y=%{y}<extra></extra>",
           "ids": [
            "IND",
            "MEM",
            "MIL",
            "NO",
            "OKC",
            "POR",
            "SA",
            "UTAH"
           ],
           "legendgroup": "small",
           "marker": {
            "color": "#EF553B",
            "pattern": {
             "shape": ""
            }
           },
           "name": "small",
           "offsetgroup": "small",
           "orientation": "v",
           "showlegend": true,
           "textposition": "auto",
           "type": "bar",
           "x": [
            "IND",
            "MEM",
            "MIL",
            "NO",
            "OKC",
            "POR",
            "SA",
            "UTAH"
           ],
           "xaxis": "x",
           "y": [
            0.7080518100835212,
            0.6278121114451011,
            3.578653005706129,
            4.051092728858272,
            3.6695745747608344,
            2.2220898700824674,
            4.483037010703956,
            1.6238553704388763
           ],
           "yaxis": "y"
          }
         ],
         "name": "2018-2019"
        }
       ],
       "layout": {
        "barmode": "stack",
        "hoverlabel": {
         "bgcolor": "white",
         "font": {
          "family": "Ubuntu",
          "size": 12
         }
        },
        "legend": {
         "title": {
          "text": "Market Size"
         },
         "tracegroupgap": 0
        },
        "margin": {
         "t": 60
        },
        "sliders": [
         {
          "active": 0,
          "currentvalue": {
           "prefix": "season="
          },
          "len": 0.9,
          "pad": {
           "b": 10,
           "t": 60
          },
          "steps": [
           {
            "args": [
             [
              "2006-2007"
             ],
             {
              "frame": {
               "duration": 0,
               "redraw": true
              },
              "fromcurrent": true,
              "mode": "immediate",
              "transition": {
               "duration": 0,
               "easing": "linear"
              }
             }
            ],
            "label": "2006-2007",
            "method": "animate"
           },
           {
            "args": [
             [
              "2007-2008"
             ],
             {
              "frame": {
               "duration": 0,
               "redraw": true
              },
              "fromcurrent": true,
              "mode": "immediate",
              "transition": {
               "duration": 0,
               "easing": "linear"
              }
             }
            ],
            "label": "2007-2008",
            "method": "animate"
           },
           {
            "args": [
             [
              "2008-2009"
             ],
             {
              "frame": {
               "duration": 0,
               "redraw": true
              },
              "fromcurrent": true,
              "mode": "immediate",
              "transition": {
               "duration": 0,
               "easing": "linear"
              }
             }
            ],
            "label": "2008-2009",
            "method": "animate"
           },
           {
            "args": [
             [
              "2009-2010"
             ],
             {
              "frame": {
               "duration": 0,
               "redraw": true
              },
              "fromcurrent": true,
              "mode": "immediate",
              "transition": {
               "duration": 0,
               "easing": "linear"
              }
             }
            ],
            "label": "2009-2010",
            "method": "animate"
           },
           {
            "args": [
             [
              "2010-2011"
             ],
             {
              "frame": {
               "duration": 0,
               "redraw": true
              },
              "fromcurrent": true,
              "mode": "immediate",
              "transition": {
               "duration": 0,
               "easing": "linear"
              }
             }
            ],
            "label": "2010-2011",
            "method": "animate"
           },
           {
            "args": [
             [
              "2011-2012"
             ],
             {
              "frame": {
               "duration": 0,
               "redraw": true
              },
              "fromcurrent": true,
              "mode": "immediate",
              "transition": {
               "duration": 0,
               "easing": "linear"
              }
             }
            ],
            "label": "2011-2012",
            "method": "animate"
           },
           {
            "args": [
             [
              "2012-2013"
             ],
             {
              "frame": {
               "duration": 0,
               "redraw": true
              },
              "fromcurrent": true,
              "mode": "immediate",
              "transition": {
               "duration": 0,
               "easing": "linear"
              }
             }
            ],
            "label": "2012-2013",
            "method": "animate"
           },
           {
            "args": [
             [
              "2013-2014"
             ],
             {
              "frame": {
               "duration": 0,
               "redraw": true
              },
              "fromcurrent": true,
              "mode": "immediate",
              "transition": {
               "duration": 0,
               "easing": "linear"
              }
             }
            ],
            "label": "2013-2014",
            "method": "animate"
           },
           {
            "args": [
             [
              "2014-2015"
             ],
             {
              "frame": {
               "duration": 0,
               "redraw": true
              },
              "fromcurrent": true,
              "mode": "immediate",
              "transition": {
               "duration": 0,
               "easing": "linear"
              }
             }
            ],
            "label": "2014-2015",
            "method": "animate"
           },
           {
            "args": [
             [
              "2015-2016"
             ],
             {
              "frame": {
               "duration": 0,
               "redraw": true
              },
              "fromcurrent": true,
              "mode": "immediate",
              "transition": {
               "duration": 0,
               "easing": "linear"
              }
             }
            ],
            "label": "2015-2016",
            "method": "animate"
           },
           {
            "args": [
             [
              "2016-2017"
             ],
             {
              "frame": {
               "duration": 0,
               "redraw": true
              },
              "fromcurrent": true,
              "mode": "immediate",
              "transition": {
               "duration": 0,
               "easing": "linear"
              }
             }
            ],
            "label": "2016-2017",
            "method": "animate"
           },
           {
            "args": [
             [
              "2017-2018"
             ],
             {
              "frame": {
               "duration": 0,
               "redraw": true
              },
              "fromcurrent": true,
              "mode": "immediate",
              "transition": {
               "duration": 0,
               "easing": "linear"
              }
             }
            ],
            "label": "2017-2018",
            "method": "animate"
           },
           {
            "args": [
             [
              "2018-2019"
             ],
             {
              "frame": {
               "duration": 0,
               "redraw": true
              },
              "fromcurrent": true,
              "mode": "immediate",
              "transition": {
               "duration": 0,
               "easing": "linear"
              }
             }
            ],
            "label": "2018-2019",
            "method": "animate"
           }
          ],
          "x": 0.1,
          "xanchor": "left",
          "y": 0,
          "yanchor": "top"
         }
        ],
        "template": {
         "data": {
          "bar": [
           {
            "error_x": {
             "color": "#2a3f5f"
            },
            "error_y": {
             "color": "#2a3f5f"
            },
            "marker": {
             "line": {
              "color": "#E5ECF6",
              "width": 0.5
             },
             "pattern": {
              "fillmode": "overlay",
              "size": 10,
              "solidity": 0.2
             }
            },
            "type": "bar"
           }
          ],
          "barpolar": [
           {
            "marker": {
             "line": {
              "color": "#E5ECF6",
              "width": 0.5
             },
             "pattern": {
              "fillmode": "overlay",
              "size": 10,
              "solidity": 0.2
             }
            },
            "type": "barpolar"
           }
          ],
          "carpet": [
           {
            "aaxis": {
             "endlinecolor": "#2a3f5f",
             "gridcolor": "white",
             "linecolor": "white",
             "minorgridcolor": "white",
             "startlinecolor": "#2a3f5f"
            },
            "baxis": {
             "endlinecolor": "#2a3f5f",
             "gridcolor": "white",
             "linecolor": "white",
             "minorgridcolor": "white",
             "startlinecolor": "#2a3f5f"
            },
            "type": "carpet"
           }
          ],
          "choropleth": [
           {
            "colorbar": {
             "outlinewidth": 0,
             "ticks": ""
            },
            "type": "choropleth"
           }
          ],
          "contour": [
           {
            "colorbar": {
             "outlinewidth": 0,
             "ticks": ""
            },
            "colorscale": [
             [
              0,
              "#0d0887"
             ],
             [
              0.1111111111111111,
              "#46039f"
             ],
             [
              0.2222222222222222,
              "#7201a8"
             ],
             [
              0.3333333333333333,
              "#9c179e"
             ],
             [
              0.4444444444444444,
              "#bd3786"
             ],
             [
              0.5555555555555556,
              "#d8576b"
             ],
             [
              0.6666666666666666,
              "#ed7953"
             ],
             [
              0.7777777777777778,
              "#fb9f3a"
             ],
             [
              0.8888888888888888,
              "#fdca26"
             ],
             [
              1,
              "#f0f921"
             ]
            ],
            "type": "contour"
           }
          ],
          "contourcarpet": [
           {
            "colorbar": {
             "outlinewidth": 0,
             "ticks": ""
            },
            "type": "contourcarpet"
           }
          ],
          "heatmap": [
           {
            "colorbar": {
             "outlinewidth": 0,
             "ticks": ""
            },
            "colorscale": [
             [
              0,
              "#0d0887"
             ],
             [
              0.1111111111111111,
              "#46039f"
             ],
             [
              0.2222222222222222,
              "#7201a8"
             ],
             [
              0.3333333333333333,
              "#9c179e"
             ],
             [
              0.4444444444444444,
              "#bd3786"
             ],
             [
              0.5555555555555556,
              "#d8576b"
             ],
             [
              0.6666666666666666,
              "#ed7953"
             ],
             [
              0.7777777777777778,
              "#fb9f3a"
             ],
             [
              0.8888888888888888,
              "#fdca26"
             ],
             [
              1,
              "#f0f921"
             ]
            ],
            "type": "heatmap"
           }
          ],
          "heatmapgl": [
           {
            "colorbar": {
             "outlinewidth": 0,
             "ticks": ""
            },
            "colorscale": [
             [
              0,
              "#0d0887"
             ],
             [
              0.1111111111111111,
              "#46039f"
             ],
             [
              0.2222222222222222,
              "#7201a8"
             ],
             [
              0.3333333333333333,
              "#9c179e"
             ],
             [
              0.4444444444444444,
              "#bd3786"
             ],
             [
              0.5555555555555556,
              "#d8576b"
             ],
             [
              0.6666666666666666,
              "#ed7953"
             ],
             [
              0.7777777777777778,
              "#fb9f3a"
             ],
             [
              0.8888888888888888,
              "#fdca26"
             ],
             [
              1,
              "#f0f921"
             ]
            ],
            "type": "heatmapgl"
           }
          ],
          "histogram": [
           {
            "marker": {
             "pattern": {
              "fillmode": "overlay",
              "size": 10,
              "solidity": 0.2
             }
            },
            "type": "histogram"
           }
          ],
          "histogram2d": [
           {
            "colorbar": {
             "outlinewidth": 0,
             "ticks": ""
            },
            "colorscale": [
             [
              0,
              "#0d0887"
             ],
             [
              0.1111111111111111,
              "#46039f"
             ],
             [
              0.2222222222222222,
              "#7201a8"
             ],
             [
              0.3333333333333333,
              "#9c179e"
             ],
             [
              0.4444444444444444,
              "#bd3786"
             ],
             [
              0.5555555555555556,
              "#d8576b"
             ],
             [
              0.6666666666666666,
              "#ed7953"
             ],
             [
              0.7777777777777778,
              "#fb9f3a"
             ],
             [
              0.8888888888888888,
              "#fdca26"
             ],
             [
              1,
              "#f0f921"
             ]
            ],
            "type": "histogram2d"
           }
          ],
          "histogram2dcontour": [
           {
            "colorbar": {
             "outlinewidth": 0,
             "ticks": ""
            },
            "colorscale": [
             [
              0,
              "#0d0887"
             ],
             [
              0.1111111111111111,
              "#46039f"
             ],
             [
              0.2222222222222222,
              "#7201a8"
             ],
             [
              0.3333333333333333,
              "#9c179e"
             ],
             [
              0.4444444444444444,
              "#bd3786"
             ],
             [
              0.5555555555555556,
              "#d8576b"
             ],
             [
              0.6666666666666666,
              "#ed7953"
             ],
             [
              0.7777777777777778,
              "#fb9f3a"
             ],
             [
              0.8888888888888888,
              "#fdca26"
             ],
             [
              1,
              "#f0f921"
             ]
            ],
            "type": "histogram2dcontour"
           }
          ],
          "mesh3d": [
           {
            "colorbar": {
             "outlinewidth": 0,
             "ticks": ""
            },
            "type": "mesh3d"
           }
          ],
          "parcoords": [
           {
            "line": {
             "colorbar": {
              "outlinewidth": 0,
              "ticks": ""
             }
            },
            "type": "parcoords"
           }
          ],
          "pie": [
           {
            "automargin": true,
            "type": "pie"
           }
          ],
          "scatter": [
           {
            "fillpattern": {
             "fillmode": "overlay",
             "size": 10,
             "solidity": 0.2
            },
            "type": "scatter"
           }
          ],
          "scatter3d": [
           {
            "line": {
             "colorbar": {
              "outlinewidth": 0,
              "ticks": ""
             }
            },
            "marker": {
             "colorbar": {
              "outlinewidth": 0,
              "ticks": ""
             }
            },
            "type": "scatter3d"
           }
          ],
          "scattercarpet": [
           {
            "marker": {
             "colorbar": {
              "outlinewidth": 0,
              "ticks": ""
             }
            },
            "type": "scattercarpet"
           }
          ],
          "scattergeo": [
           {
            "marker": {
             "colorbar": {
              "outlinewidth": 0,
              "ticks": ""
             }
            },
            "type": "scattergeo"
           }
          ],
          "scattergl": [
           {
            "marker": {
             "colorbar": {
              "outlinewidth": 0,
              "ticks": ""
             }
            },
            "type": "scattergl"
           }
          ],
          "scattermapbox": [
           {
            "marker": {
             "colorbar": {
              "outlinewidth": 0,
              "ticks": ""
             }
            },
            "type": "scattermapbox"
           }
          ],
          "scatterpolar": [
           {
            "marker": {
             "colorbar": {
              "outlinewidth": 0,
              "ticks": ""
             }
            },
            "type": "scatterpolar"
           }
          ],
          "scatterpolargl": [
           {
            "marker": {
             "colorbar": {
              "outlinewidth": 0,
              "ticks": ""
             }
            },
            "type": "scatterpolargl"
           }
          ],
          "scatterternary": [
           {
            "marker": {
             "colorbar": {
              "outlinewidth": 0,
              "ticks": ""
             }
            },
            "type": "scatterternary"
           }
          ],
          "surface": [
           {
            "colorbar": {
             "outlinewidth": 0,
             "ticks": ""
            },
            "colorscale": [
             [
              0,
              "#0d0887"
             ],
             [
              0.1111111111111111,
              "#46039f"
             ],
             [
              0.2222222222222222,
              "#7201a8"
             ],
             [
              0.3333333333333333,
              "#9c179e"
             ],
             [
              0.4444444444444444,
              "#bd3786"
             ],
             [
              0.5555555555555556,
              "#d8576b"
             ],
             [
              0.6666666666666666,
              "#ed7953"
             ],
             [
              0.7777777777777778,
              "#fb9f3a"
             ],
             [
              0.8888888888888888,
              "#fdca26"
             ],
             [
              1,
              "#f0f921"
             ]
            ],
            "type": "surface"
           }
          ],
          "table": [
           {
            "cells": {
             "fill": {
              "color": "#EBF0F8"
             },
             "line": {
              "color": "white"
             }
            },
            "header": {
             "fill": {
              "color": "#C8D4E3"
             },
             "line": {
              "color": "white"
             }
            },
            "type": "table"
           }
          ]
         },
         "layout": {
          "annotationdefaults": {
           "arrowcolor": "#2a3f5f",
           "arrowhead": 0,
           "arrowwidth": 1
          },
          "autotypenumbers": "strict",
          "coloraxis": {
           "colorbar": {
            "outlinewidth": 0,
            "ticks": ""
           }
          },
          "colorscale": {
           "diverging": [
            [
             0,
             "#8e0152"
            ],
            [
             0.1,
             "#c51b7d"
            ],
            [
             0.2,
             "#de77ae"
            ],
            [
             0.3,
             "#f1b6da"
            ],
            [
             0.4,
             "#fde0ef"
            ],
            [
             0.5,
             "#f7f7f7"
            ],
            [
             0.6,
             "#e6f5d0"
            ],
            [
             0.7,
             "#b8e186"
            ],
            [
             0.8,
             "#7fbc41"
            ],
            [
             0.9,
             "#4d9221"
            ],
            [
             1,
             "#276419"
            ]
           ],
           "sequential": [
            [
             0,
             "#0d0887"
            ],
            [
             0.1111111111111111,
             "#46039f"
            ],
            [
             0.2222222222222222,
             "#7201a8"
            ],
            [
             0.3333333333333333,
             "#9c179e"
            ],
            [
             0.4444444444444444,
             "#bd3786"
            ],
            [
             0.5555555555555556,
             "#d8576b"
            ],
            [
             0.6666666666666666,
             "#ed7953"
            ],
            [
             0.7777777777777778,
             "#fb9f3a"
            ],
            [
             0.8888888888888888,
             "#fdca26"
            ],
            [
             1,
             "#f0f921"
            ]
           ],
           "sequentialminus": [
            [
             0,
             "#0d0887"
            ],
            [
             0.1111111111111111,
             "#46039f"
            ],
            [
             0.2222222222222222,
             "#7201a8"
            ],
            [
             0.3333333333333333,
             "#9c179e"
            ],
            [
             0.4444444444444444,
             "#bd3786"
            ],
            [
             0.5555555555555556,
             "#d8576b"
            ],
            [
             0.6666666666666666,
             "#ed7953"
            ],
            [
             0.7777777777777778,
             "#fb9f3a"
            ],
            [
             0.8888888888888888,
             "#fdca26"
            ],
            [
             1,
             "#f0f921"
            ]
           ]
          },
          "colorway": [
           "#636efa",
           "#EF553B",
           "#00cc96",
           "#ab63fa",
           "#FFA15A",
           "#19d3f3",
           "#FF6692",
           "#B6E880",
           "#FF97FF",
           "#FECB52"
          ],
          "font": {
           "color": "#2a3f5f"
          },
          "geo": {
           "bgcolor": "white",
           "lakecolor": "white",
           "landcolor": "#E5ECF6",
           "showlakes": true,
           "showland": true,
           "subunitcolor": "white"
          },
          "hoverlabel": {
           "align": "left"
          },
          "hovermode": "closest",
          "mapbox": {
           "style": "light"
          },
          "paper_bgcolor": "white",
          "plot_bgcolor": "#E5ECF6",
          "polar": {
           "angularaxis": {
            "gridcolor": "white",
            "linecolor": "white",
            "ticks": ""
           },
           "bgcolor": "#E5ECF6",
           "radialaxis": {
            "gridcolor": "white",
            "linecolor": "white",
            "ticks": ""
           }
          },
          "scene": {
           "xaxis": {
            "backgroundcolor": "#E5ECF6",
            "gridcolor": "white",
            "gridwidth": 2,
            "linecolor": "white",
            "showbackground": true,
            "ticks": "",
            "zerolinecolor": "white"
           },
           "yaxis": {
            "backgroundcolor": "#E5ECF6",
            "gridcolor": "white",
            "gridwidth": 2,
            "linecolor": "white",
            "showbackground": true,
            "ticks": "",
            "zerolinecolor": "white"
           },
           "zaxis": {
            "backgroundcolor": "#E5ECF6",
            "gridcolor": "white",
            "gridwidth": 2,
            "linecolor": "white",
            "showbackground": true,
            "ticks": "",
            "zerolinecolor": "white"
           }
          },
          "shapedefaults": {
           "line": {
            "color": "#2a3f5f"
           }
          },
          "ternary": {
           "aaxis": {
            "gridcolor": "white",
            "linecolor": "white",
            "ticks": ""
           },
           "baxis": {
            "gridcolor": "white",
            "linecolor": "white",
            "ticks": ""
           },
           "bgcolor": "#E5ECF6",
           "caxis": {
            "gridcolor": "white",
            "linecolor": "white",
            "ticks": ""
           }
          },
          "title": {
           "x": 0.05
          },
          "xaxis": {
           "automargin": true,
           "gridcolor": "white",
           "linecolor": "white",
           "ticks": "",
           "title": {
            "standoff": 15
           },
           "zerolinecolor": "white",
           "zerolinewidth": 2
          },
          "yaxis": {
           "automargin": true,
           "gridcolor": "white",
           "linecolor": "white",
           "ticks": "",
           "title": {
            "standoff": 15
           },
           "zerolinecolor": "white",
           "zerolinewidth": 2
          }
         }
        },
        "title": {
         "x": 0.5
        },
        "updatemenus": [
         {
          "buttons": [
           {
            "args": [
             null,
             {
              "frame": {
               "duration": 500,
               "redraw": true
              },
              "fromcurrent": true,
              "mode": "immediate",
              "transition": {
               "duration": 500,
               "easing": "linear"
              }
             }
            ],
            "label": "&#9654;",
            "method": "animate"
           },
           {
            "args": [
             [
              null
             ],
             {
              "frame": {
               "duration": 0,
               "redraw": true
              },
              "fromcurrent": true,
              "mode": "immediate",
              "transition": {
               "duration": 0,
               "easing": "linear"
              }
             }
            ],
            "label": "&#9724;",
            "method": "animate"
           }
          ],
          "direction": "left",
          "pad": {
           "r": 10,
           "t": 70
          },
          "showactive": false,
          "type": "buttons",
          "x": 0.1,
          "xanchor": "right",
          "y": 0,
          "yanchor": "top"
         }
        ],
        "xaxis": {
         "anchor": "y",
         "domain": [
          0,
          1
         ],
         "title": {
          "text": "Team"
         }
        },
        "yaxis": {
         "anchor": "x",
         "domain": [
          0,
          1
         ],
         "range": [
          0,
          55
         ],
         "title": {
          "text": "Percentage"
         }
        }
       }
      }
     },
     "metadata": {},
     "output_type": "display_data"
    }
   ],
   "source": [
    "# Create a bar plot displaying the percentage of views for each team as a fraction of the total views for that season\n",
    "# and color the bars by market size\n",
    "fig = px.bar(\n",
    "    views_per_team,\n",
    "    x=\"team\",\n",
    "    y=views_per_team.subset_percentage * 100,\n",
    "    color=\"market_size\",\n",
    "    color_discrete_map=color_discrete_map,\n",
    "    barmode=\"stack\",\n",
    "    color_discrete_sequence=px.colors.qualitative.Pastel,\n",
    "    animation_frame=\"season\",\n",
    "    animation_group=\"team\",\n",
    "    custom_data=[\"Views\"],\n",
    ")\n",
    "\n",
    "fig.update_layout(\n",
    "    # title=\"Distribution of views inside our subset by team\",\n",
    "    xaxis_title=\"Team\",\n",
    "    yaxis_title=\"Percentage\",\n",
    "    legend_title=\"Market Size\",\n",
    "    title_x=0.5,\n",
    "    yaxis_range=[0, 55],\n",
    ")\n",
    "\n",
    "# Add hover labels for team names\n",
    "fig.update_traces(hovertemplate=\"<b>Number of views: %{customdata[0]}</b>\")\n",
    "fig.update_layout(\n",
    "    hoverlabel=dict(\n",
    "        bgcolor=\"white\",\n",
    "        font_size=12,\n",
    "        font_family=\"Ubuntu\",\n",
    "    )\n",
    ")\n",
    "\n",
    "# py.plot(fig, filename=\"distribution_of_views_animation\", auto_open=False)\n",
    "fig"
   ]
  },
  {
   "cell_type": "markdown",
   "id": "cdf15f37",
   "metadata": {},
   "source": [
    "### DIRECTION OF FREE AGENT MOVES IN THE NBA BETWEEN 2020 and 2021"
   ]
  },
  {
   "cell_type": "code",
   "execution_count": 21,
   "id": "2d6d427f",
   "metadata": {},
   "outputs": [],
   "source": [
    "# Read csv files for the free agent moves for the 2021 and 2022 seasons\n",
    "free_agent_moves_2021 = pd.read_csv(\"./data/free_agent_moves/2021_free_agent_moves.csv\")\n",
    "free_agent_moves_2022 = pd.read_csv(\"./data/free_agent_moves/2022_free_agent_moves.csv\")\n",
    "\n",
    "# Concatenate the two dataframes\n",
    "free_agent_moves = pd.concat([free_agent_moves_2021, free_agent_moves_2022])\n",
    "\n",
    "# Keep only the rows where the NEWS column starts with \"Signs with\"\n",
    "free_agent_moves = free_agent_moves[free_agent_moves[\"NEWS\"].str.startswith(\"Signs with\") | False]\n",
    "\n",
    "# Add from and to columns to see direction of trade\n",
    "free_agent_moves[\"TO\"] = free_agent_moves[\"NEWS\"].str.split(\" \").str[2]\n",
    "free_agent_moves[\"FROM\"] = \"\"\n",
    "\n",
    "# Save the concatenate dataframe to a csv file\n",
    "# free_agent_moves.to_csv(\"./data/free_agent_moves/free_agent_moves.csv\", index=False)"
   ]
  },
  {
   "cell_type": "code",
   "execution_count": 22,
   "id": "4a3ebff0",
   "metadata": {},
   "outputs": [],
   "source": [
    "# Reload file after manually completing \"TO\" column\n",
    "free_agent_moves = pd.read_csv(\"./data/free_agent_moves/free_agent_moves.csv\")\n",
    "free_agent_moves.drop([\"EXP\", \"NEWS\", \"TYPE\", \"POS\"], axis=1, inplace=True)"
   ]
  },
  {
   "cell_type": "code",
   "execution_count": 23,
   "id": "4d042124",
   "metadata": {},
   "outputs": [
    {
     "data": {
      "text/html": [
       "<div>\n",
       "<style scoped>\n",
       "    .dataframe tbody tr th:only-of-type {\n",
       "        vertical-align: middle;\n",
       "    }\n",
       "\n",
       "    .dataframe tbody tr th {\n",
       "        vertical-align: top;\n",
       "    }\n",
       "\n",
       "    .dataframe thead th {\n",
       "        text-align: right;\n",
       "    }\n",
       "</style>\n",
       "<table border=\"1\" class=\"dataframe\">\n",
       "  <thead>\n",
       "    <tr style=\"text-align: right;\">\n",
       "      <th></th>\n",
       "      <th>NAME</th>\n",
       "      <th>AGE</th>\n",
       "      <th>PPG</th>\n",
       "      <th>RPG</th>\n",
       "      <th>APG</th>\n",
       "      <th>TO</th>\n",
       "      <th>FROM</th>\n",
       "      <th>TO_MARKET</th>\n",
       "      <th>FROM_MARKET</th>\n",
       "    </tr>\n",
       "  </thead>\n",
       "  <tbody>\n",
       "    <tr>\n",
       "      <th>0</th>\n",
       "      <td>DeMar DeRozan</td>\n",
       "      <td>33</td>\n",
       "      <td>25.9</td>\n",
       "      <td>5.0</td>\n",
       "      <td>4.7</td>\n",
       "      <td>CHI</td>\n",
       "      <td>SAS</td>\n",
       "      <td>2</td>\n",
       "      <td>0</td>\n",
       "    </tr>\n",
       "    <tr>\n",
       "      <th>1</th>\n",
       "      <td>Carmelo Anthony</td>\n",
       "      <td>38</td>\n",
       "      <td>22.5</td>\n",
       "      <td>6.2</td>\n",
       "      <td>2.7</td>\n",
       "      <td>LAL</td>\n",
       "      <td>POR</td>\n",
       "      <td>2</td>\n",
       "      <td>0</td>\n",
       "    </tr>\n",
       "    <tr>\n",
       "      <th>2</th>\n",
       "      <td>Kelly Oubre Jr.</td>\n",
       "      <td>27</td>\n",
       "      <td>20.8</td>\n",
       "      <td>5.3</td>\n",
       "      <td>1.3</td>\n",
       "      <td>CHA</td>\n",
       "      <td>GSW</td>\n",
       "      <td>0</td>\n",
       "      <td>2</td>\n",
       "    </tr>\n",
       "    <tr>\n",
       "      <th>3</th>\n",
       "      <td>Dwight Howard</td>\n",
       "      <td>37</td>\n",
       "      <td>15.7</td>\n",
       "      <td>11.8</td>\n",
       "      <td>1.3</td>\n",
       "      <td>LAL</td>\n",
       "      <td>PHI</td>\n",
       "      <td>2</td>\n",
       "      <td>2</td>\n",
       "    </tr>\n",
       "    <tr>\n",
       "      <th>4</th>\n",
       "      <td>Malik Monk</td>\n",
       "      <td>24</td>\n",
       "      <td>14.2</td>\n",
       "      <td>2.2</td>\n",
       "      <td>4.0</td>\n",
       "      <td>LAL</td>\n",
       "      <td>CHA</td>\n",
       "      <td>2</td>\n",
       "      <td>0</td>\n",
       "    </tr>\n",
       "    <tr>\n",
       "      <th>5</th>\n",
       "      <td>Paul Millsap</td>\n",
       "      <td>37</td>\n",
       "      <td>13.4</td>\n",
       "      <td>7.1</td>\n",
       "      <td>2.2</td>\n",
       "      <td>BKN</td>\n",
       "      <td>DEN</td>\n",
       "      <td>0</td>\n",
       "      <td>1</td>\n",
       "    </tr>\n",
       "    <tr>\n",
       "      <th>6</th>\n",
       "      <td>Kemba Walker</td>\n",
       "      <td>32</td>\n",
       "      <td>12.8</td>\n",
       "      <td>3.2</td>\n",
       "      <td>3.4</td>\n",
       "      <td>NY</td>\n",
       "      <td>OKC</td>\n",
       "      <td>2</td>\n",
       "      <td>0</td>\n",
       "    </tr>\n",
       "    <tr>\n",
       "      <th>7</th>\n",
       "      <td>Enes Freedom</td>\n",
       "      <td>30</td>\n",
       "      <td>11.2</td>\n",
       "      <td>7.8</td>\n",
       "      <td>0.9</td>\n",
       "      <td>BOS</td>\n",
       "      <td>POR</td>\n",
       "      <td>2</td>\n",
       "      <td>0</td>\n",
       "    </tr>\n",
       "    <tr>\n",
       "      <th>8</th>\n",
       "      <td>Trevor Ariza</td>\n",
       "      <td>37</td>\n",
       "      <td>10.4</td>\n",
       "      <td>4.8</td>\n",
       "      <td>2.1</td>\n",
       "      <td>LAL</td>\n",
       "      <td>MIA</td>\n",
       "      <td>2</td>\n",
       "      <td>1</td>\n",
       "    </tr>\n",
       "    <tr>\n",
       "      <th>9</th>\n",
       "      <td>Elfrid Payton</td>\n",
       "      <td>28</td>\n",
       "      <td>10.1</td>\n",
       "      <td>4.0</td>\n",
       "      <td>5.7</td>\n",
       "      <td>PHX</td>\n",
       "      <td>NY</td>\n",
       "      <td>2</td>\n",
       "      <td>2</td>\n",
       "    </tr>\n",
       "    <tr>\n",
       "      <th>10</th>\n",
       "      <td>Zach Collins</td>\n",
       "      <td>25</td>\n",
       "      <td>8.9</td>\n",
       "      <td>5.8</td>\n",
       "      <td>2.9</td>\n",
       "      <td>SAS</td>\n",
       "      <td>POR</td>\n",
       "      <td>0</td>\n",
       "      <td>0</td>\n",
       "    </tr>\n",
       "    <tr>\n",
       "      <th>11</th>\n",
       "      <td>Jalen Brunson</td>\n",
       "      <td>26</td>\n",
       "      <td>20.4</td>\n",
       "      <td>3.2</td>\n",
       "      <td>6.3</td>\n",
       "      <td>NY</td>\n",
       "      <td>DAL</td>\n",
       "      <td>2</td>\n",
       "      <td>2</td>\n",
       "    </tr>\n",
       "    <tr>\n",
       "      <th>12</th>\n",
       "      <td>Lonnie Walker IV</td>\n",
       "      <td>24</td>\n",
       "      <td>15.5</td>\n",
       "      <td>2.5</td>\n",
       "      <td>1.5</td>\n",
       "      <td>LAL</td>\n",
       "      <td>SAS</td>\n",
       "      <td>2</td>\n",
       "      <td>0</td>\n",
       "    </tr>\n",
       "    <tr>\n",
       "      <th>13</th>\n",
       "      <td>Malik Monk</td>\n",
       "      <td>24</td>\n",
       "      <td>14.2</td>\n",
       "      <td>2.2</td>\n",
       "      <td>4.0</td>\n",
       "      <td>SAC</td>\n",
       "      <td>LAL</td>\n",
       "      <td>0</td>\n",
       "      <td>2</td>\n",
       "    </tr>\n",
       "    <tr>\n",
       "      <th>14</th>\n",
       "      <td>Bruce Brown</td>\n",
       "      <td>26</td>\n",
       "      <td>11.3</td>\n",
       "      <td>4.4</td>\n",
       "      <td>4.3</td>\n",
       "      <td>DEN</td>\n",
       "      <td>BKN</td>\n",
       "      <td>1</td>\n",
       "      <td>0</td>\n",
       "    </tr>\n",
       "    <tr>\n",
       "      <th>15</th>\n",
       "      <td>Thomas Bryant</td>\n",
       "      <td>25</td>\n",
       "      <td>10.6</td>\n",
       "      <td>4.9</td>\n",
       "      <td>0.9</td>\n",
       "      <td>LAL</td>\n",
       "      <td>WSH</td>\n",
       "      <td>2</td>\n",
       "      <td>2</td>\n",
       "    </tr>\n",
       "  </tbody>\n",
       "</table>\n",
       "</div>"
      ],
      "text/plain": [
       "                NAME  AGE   PPG   RPG  APG   TO FROM  TO_MARKET  FROM_MARKET\n",
       "0      DeMar DeRozan   33  25.9   5.0  4.7  CHI  SAS          2            0\n",
       "1    Carmelo Anthony   38  22.5   6.2  2.7  LAL  POR          2            0\n",
       "2    Kelly Oubre Jr.   27  20.8   5.3  1.3  CHA  GSW          0            2\n",
       "3      Dwight Howard   37  15.7  11.8  1.3  LAL  PHI          2            2\n",
       "4         Malik Monk   24  14.2   2.2  4.0  LAL  CHA          2            0\n",
       "5       Paul Millsap   37  13.4   7.1  2.2  BKN  DEN          0            1\n",
       "6       Kemba Walker   32  12.8   3.2  3.4   NY  OKC          2            0\n",
       "7       Enes Freedom   30  11.2   7.8  0.9  BOS  POR          2            0\n",
       "8       Trevor Ariza   37  10.4   4.8  2.1  LAL  MIA          2            1\n",
       "9      Elfrid Payton   28  10.1   4.0  5.7  PHX   NY          2            2\n",
       "10      Zach Collins   25   8.9   5.8  2.9  SAS  POR          0            0\n",
       "11     Jalen Brunson   26  20.4   3.2  6.3   NY  DAL          2            2\n",
       "12  Lonnie Walker IV   24  15.5   2.5  1.5  LAL  SAS          2            0\n",
       "13        Malik Monk   24  14.2   2.2  4.0  SAC  LAL          0            2\n",
       "14       Bruce Brown   26  11.3   4.4  4.3  DEN  BKN          1            0\n",
       "15     Thomas Bryant   25  10.6   4.9  0.9  LAL  WSH          2            2"
      ]
     },
     "execution_count": 23,
     "metadata": {},
     "output_type": "execute_result"
    }
   ],
   "source": [
    "def map_market_size(team):\n",
    "    if team in BigMarkets:\n",
    "        return 2\n",
    "    elif team in MediumMarkets:\n",
    "        return 1\n",
    "    else:\n",
    "        return 0\n",
    "\n",
    "\n",
    "free_agent_moves[\"TO_MARKET\"] = free_agent_moves[\"TO\"].map(map_market_size)\n",
    "free_agent_moves[\"FROM_MARKET\"] = free_agent_moves[\"FROM\"].map(map_market_size)\n",
    "free_agent_moves"
   ]
  },
  {
   "cell_type": "code",
   "execution_count": 24,
   "id": "6c9bb5f6",
   "metadata": {},
   "outputs": [
    {
     "data": {
      "text/html": [
       "<div>\n",
       "<style scoped>\n",
       "    .dataframe tbody tr th:only-of-type {\n",
       "        vertical-align: middle;\n",
       "    }\n",
       "\n",
       "    .dataframe tbody tr th {\n",
       "        vertical-align: top;\n",
       "    }\n",
       "\n",
       "    .dataframe thead th {\n",
       "        text-align: right;\n",
       "    }\n",
       "</style>\n",
       "<table border=\"1\" class=\"dataframe\">\n",
       "  <thead>\n",
       "    <tr style=\"text-align: right;\">\n",
       "      <th></th>\n",
       "      <th>NAME</th>\n",
       "      <th>AGE</th>\n",
       "      <th>PPG</th>\n",
       "      <th>RPG</th>\n",
       "      <th>APG</th>\n",
       "      <th>TO</th>\n",
       "      <th>FROM</th>\n",
       "      <th>TO_MARKET</th>\n",
       "      <th>FROM_MARKET</th>\n",
       "    </tr>\n",
       "  </thead>\n",
       "  <tbody>\n",
       "    <tr>\n",
       "      <th>2</th>\n",
       "      <td>Kelly Oubre Jr.</td>\n",
       "      <td>27</td>\n",
       "      <td>20.8</td>\n",
       "      <td>5.3</td>\n",
       "      <td>1.3</td>\n",
       "      <td>CHA</td>\n",
       "      <td>GSW</td>\n",
       "      <td>0</td>\n",
       "      <td>2</td>\n",
       "    </tr>\n",
       "    <tr>\n",
       "      <th>5</th>\n",
       "      <td>Paul Millsap</td>\n",
       "      <td>37</td>\n",
       "      <td>13.4</td>\n",
       "      <td>7.1</td>\n",
       "      <td>2.2</td>\n",
       "      <td>BKN</td>\n",
       "      <td>DEN</td>\n",
       "      <td>0</td>\n",
       "      <td>1</td>\n",
       "    </tr>\n",
       "    <tr>\n",
       "      <th>13</th>\n",
       "      <td>Malik Monk</td>\n",
       "      <td>24</td>\n",
       "      <td>14.2</td>\n",
       "      <td>2.2</td>\n",
       "      <td>4.0</td>\n",
       "      <td>SAC</td>\n",
       "      <td>LAL</td>\n",
       "      <td>0</td>\n",
       "      <td>2</td>\n",
       "    </tr>\n",
       "  </tbody>\n",
       "</table>\n",
       "</div>"
      ],
      "text/plain": [
       "               NAME  AGE   PPG  RPG  APG   TO FROM  TO_MARKET  FROM_MARKET\n",
       "2   Kelly Oubre Jr.   27  20.8  5.3  1.3  CHA  GSW          0            2\n",
       "5      Paul Millsap   37  13.4  7.1  2.2  BKN  DEN          0            1\n",
       "13       Malik Monk   24  14.2  2.2  4.0  SAC  LAL          0            2"
      ]
     },
     "metadata": {},
     "output_type": "display_data"
    },
    {
     "data": {
      "text/html": [
       "<div>\n",
       "<style scoped>\n",
       "    .dataframe tbody tr th:only-of-type {\n",
       "        vertical-align: middle;\n",
       "    }\n",
       "\n",
       "    .dataframe tbody tr th {\n",
       "        vertical-align: top;\n",
       "    }\n",
       "\n",
       "    .dataframe thead th {\n",
       "        text-align: right;\n",
       "    }\n",
       "</style>\n",
       "<table border=\"1\" class=\"dataframe\">\n",
       "  <thead>\n",
       "    <tr style=\"text-align: right;\">\n",
       "      <th></th>\n",
       "      <th>NAME</th>\n",
       "      <th>AGE</th>\n",
       "      <th>PPG</th>\n",
       "      <th>RPG</th>\n",
       "      <th>APG</th>\n",
       "      <th>TO</th>\n",
       "      <th>FROM</th>\n",
       "      <th>TO_MARKET</th>\n",
       "      <th>FROM_MARKET</th>\n",
       "    </tr>\n",
       "  </thead>\n",
       "  <tbody>\n",
       "    <tr>\n",
       "      <th>0</th>\n",
       "      <td>DeMar DeRozan</td>\n",
       "      <td>33</td>\n",
       "      <td>25.9</td>\n",
       "      <td>5.0</td>\n",
       "      <td>4.7</td>\n",
       "      <td>CHI</td>\n",
       "      <td>SAS</td>\n",
       "      <td>2</td>\n",
       "      <td>0</td>\n",
       "    </tr>\n",
       "    <tr>\n",
       "      <th>1</th>\n",
       "      <td>Carmelo Anthony</td>\n",
       "      <td>38</td>\n",
       "      <td>22.5</td>\n",
       "      <td>6.2</td>\n",
       "      <td>2.7</td>\n",
       "      <td>LAL</td>\n",
       "      <td>POR</td>\n",
       "      <td>2</td>\n",
       "      <td>0</td>\n",
       "    </tr>\n",
       "    <tr>\n",
       "      <th>4</th>\n",
       "      <td>Malik Monk</td>\n",
       "      <td>24</td>\n",
       "      <td>14.2</td>\n",
       "      <td>2.2</td>\n",
       "      <td>4.0</td>\n",
       "      <td>LAL</td>\n",
       "      <td>CHA</td>\n",
       "      <td>2</td>\n",
       "      <td>0</td>\n",
       "    </tr>\n",
       "    <tr>\n",
       "      <th>6</th>\n",
       "      <td>Kemba Walker</td>\n",
       "      <td>32</td>\n",
       "      <td>12.8</td>\n",
       "      <td>3.2</td>\n",
       "      <td>3.4</td>\n",
       "      <td>NY</td>\n",
       "      <td>OKC</td>\n",
       "      <td>2</td>\n",
       "      <td>0</td>\n",
       "    </tr>\n",
       "    <tr>\n",
       "      <th>7</th>\n",
       "      <td>Enes Freedom</td>\n",
       "      <td>30</td>\n",
       "      <td>11.2</td>\n",
       "      <td>7.8</td>\n",
       "      <td>0.9</td>\n",
       "      <td>BOS</td>\n",
       "      <td>POR</td>\n",
       "      <td>2</td>\n",
       "      <td>0</td>\n",
       "    </tr>\n",
       "    <tr>\n",
       "      <th>8</th>\n",
       "      <td>Trevor Ariza</td>\n",
       "      <td>37</td>\n",
       "      <td>10.4</td>\n",
       "      <td>4.8</td>\n",
       "      <td>2.1</td>\n",
       "      <td>LAL</td>\n",
       "      <td>MIA</td>\n",
       "      <td>2</td>\n",
       "      <td>1</td>\n",
       "    </tr>\n",
       "    <tr>\n",
       "      <th>12</th>\n",
       "      <td>Lonnie Walker IV</td>\n",
       "      <td>24</td>\n",
       "      <td>15.5</td>\n",
       "      <td>2.5</td>\n",
       "      <td>1.5</td>\n",
       "      <td>LAL</td>\n",
       "      <td>SAS</td>\n",
       "      <td>2</td>\n",
       "      <td>0</td>\n",
       "    </tr>\n",
       "    <tr>\n",
       "      <th>14</th>\n",
       "      <td>Bruce Brown</td>\n",
       "      <td>26</td>\n",
       "      <td>11.3</td>\n",
       "      <td>4.4</td>\n",
       "      <td>4.3</td>\n",
       "      <td>DEN</td>\n",
       "      <td>BKN</td>\n",
       "      <td>1</td>\n",
       "      <td>0</td>\n",
       "    </tr>\n",
       "  </tbody>\n",
       "</table>\n",
       "</div>"
      ],
      "text/plain": [
       "                NAME  AGE   PPG  RPG  APG   TO FROM  TO_MARKET  FROM_MARKET\n",
       "0      DeMar DeRozan   33  25.9  5.0  4.7  CHI  SAS          2            0\n",
       "1    Carmelo Anthony   38  22.5  6.2  2.7  LAL  POR          2            0\n",
       "4         Malik Monk   24  14.2  2.2  4.0  LAL  CHA          2            0\n",
       "6       Kemba Walker   32  12.8  3.2  3.4   NY  OKC          2            0\n",
       "7       Enes Freedom   30  11.2  7.8  0.9  BOS  POR          2            0\n",
       "8       Trevor Ariza   37  10.4  4.8  2.1  LAL  MIA          2            1\n",
       "12  Lonnie Walker IV   24  15.5  2.5  1.5  LAL  SAS          2            0\n",
       "14       Bruce Brown   26  11.3  4.4  4.3  DEN  BKN          1            0"
      ]
     },
     "metadata": {},
     "output_type": "display_data"
    },
    {
     "data": {
      "text/html": [
       "<div>\n",
       "<style scoped>\n",
       "    .dataframe tbody tr th:only-of-type {\n",
       "        vertical-align: middle;\n",
       "    }\n",
       "\n",
       "    .dataframe tbody tr th {\n",
       "        vertical-align: top;\n",
       "    }\n",
       "\n",
       "    .dataframe thead th {\n",
       "        text-align: right;\n",
       "    }\n",
       "</style>\n",
       "<table border=\"1\" class=\"dataframe\">\n",
       "  <thead>\n",
       "    <tr style=\"text-align: right;\">\n",
       "      <th></th>\n",
       "      <th>NAME</th>\n",
       "      <th>AGE</th>\n",
       "      <th>PPG</th>\n",
       "      <th>RPG</th>\n",
       "      <th>APG</th>\n",
       "      <th>TO</th>\n",
       "      <th>FROM</th>\n",
       "      <th>TO_MARKET</th>\n",
       "      <th>FROM_MARKET</th>\n",
       "    </tr>\n",
       "  </thead>\n",
       "  <tbody>\n",
       "    <tr>\n",
       "      <th>3</th>\n",
       "      <td>Dwight Howard</td>\n",
       "      <td>37</td>\n",
       "      <td>15.7</td>\n",
       "      <td>11.8</td>\n",
       "      <td>1.3</td>\n",
       "      <td>LAL</td>\n",
       "      <td>PHI</td>\n",
       "      <td>2</td>\n",
       "      <td>2</td>\n",
       "    </tr>\n",
       "    <tr>\n",
       "      <th>9</th>\n",
       "      <td>Elfrid Payton</td>\n",
       "      <td>28</td>\n",
       "      <td>10.1</td>\n",
       "      <td>4.0</td>\n",
       "      <td>5.7</td>\n",
       "      <td>PHX</td>\n",
       "      <td>NY</td>\n",
       "      <td>2</td>\n",
       "      <td>2</td>\n",
       "    </tr>\n",
       "    <tr>\n",
       "      <th>10</th>\n",
       "      <td>Zach Collins</td>\n",
       "      <td>25</td>\n",
       "      <td>8.9</td>\n",
       "      <td>5.8</td>\n",
       "      <td>2.9</td>\n",
       "      <td>SAS</td>\n",
       "      <td>POR</td>\n",
       "      <td>0</td>\n",
       "      <td>0</td>\n",
       "    </tr>\n",
       "    <tr>\n",
       "      <th>11</th>\n",
       "      <td>Jalen Brunson</td>\n",
       "      <td>26</td>\n",
       "      <td>20.4</td>\n",
       "      <td>3.2</td>\n",
       "      <td>6.3</td>\n",
       "      <td>NY</td>\n",
       "      <td>DAL</td>\n",
       "      <td>2</td>\n",
       "      <td>2</td>\n",
       "    </tr>\n",
       "    <tr>\n",
       "      <th>15</th>\n",
       "      <td>Thomas Bryant</td>\n",
       "      <td>25</td>\n",
       "      <td>10.6</td>\n",
       "      <td>4.9</td>\n",
       "      <td>0.9</td>\n",
       "      <td>LAL</td>\n",
       "      <td>WSH</td>\n",
       "      <td>2</td>\n",
       "      <td>2</td>\n",
       "    </tr>\n",
       "  </tbody>\n",
       "</table>\n",
       "</div>"
      ],
      "text/plain": [
       "             NAME  AGE   PPG   RPG  APG   TO FROM  TO_MARKET  FROM_MARKET\n",
       "3   Dwight Howard   37  15.7  11.8  1.3  LAL  PHI          2            2\n",
       "9   Elfrid Payton   28  10.1   4.0  5.7  PHX   NY          2            2\n",
       "10   Zach Collins   25   8.9   5.8  2.9  SAS  POR          0            0\n",
       "11  Jalen Brunson   26  20.4   3.2  6.3   NY  DAL          2            2\n",
       "15  Thomas Bryant   25  10.6   4.9  0.9  LAL  WSH          2            2"
      ]
     },
     "metadata": {},
     "output_type": "display_data"
    }
   ],
   "source": [
    "df_from_large_to_small = free_agent_moves[(free_agent_moves[\"PPG\"] > 0) & (free_agent_moves[\"TO_MARKET\"] < free_agent_moves[\"FROM_MARKET\"])]\n",
    "display(df_from_large_to_small)\n",
    "\n",
    "df_from_small_to_large = free_agent_moves[(free_agent_moves[\"PPG\"] > 0) & (free_agent_moves[\"TO_MARKET\"] > free_agent_moves[\"FROM_MARKET\"])]\n",
    "display(df_from_small_to_large)\n",
    "\n",
    "df_eq_moves = free_agent_moves[(free_agent_moves[\"PPG\"] > 0) & (free_agent_moves[\"TO_MARKET\"] == free_agent_moves[\"FROM_MARKET\"])]\n",
    "display(df_eq_moves)"
   ]
  },
  {
   "cell_type": "markdown",
   "id": "f5f1b60b",
   "metadata": {},
   "source": [
    "### STUDY ON THE CORRELATION BETWEEN VIEWS AND WINNING PERCENTAGE"
   ]
  },
  {
   "cell_type": "code",
   "execution_count": 25,
   "id": "54ce107b",
   "metadata": {},
   "outputs": [
    {
     "data": {
      "text/html": [
       "<div>\n",
       "<style scoped>\n",
       "    .dataframe tbody tr th:only-of-type {\n",
       "        vertical-align: middle;\n",
       "    }\n",
       "\n",
       "    .dataframe tbody tr th {\n",
       "        vertical-align: top;\n",
       "    }\n",
       "\n",
       "    .dataframe thead th {\n",
       "        text-align: right;\n",
       "    }\n",
       "</style>\n",
       "<table border=\"1\" class=\"dataframe\">\n",
       "  <thead>\n",
       "    <tr style=\"text-align: right;\">\n",
       "      <th></th>\n",
       "      <th>year_month</th>\n",
       "      <th>view_count</th>\n",
       "      <th>team</th>\n",
       "      <th>market_size</th>\n",
       "      <th>total_nba_views</th>\n",
       "      <th>total_nba_view_percentage</th>\n",
       "      <th>season</th>\n",
       "    </tr>\n",
       "  </thead>\n",
       "  <tbody>\n",
       "    <tr>\n",
       "      <th>0</th>\n",
       "      <td>2016-04-01</td>\n",
       "      <td>43943996.0</td>\n",
       "      <td>LAL</td>\n",
       "      <td>big</td>\n",
       "      <td>340539239.0</td>\n",
       "      <td>0.129042</td>\n",
       "      <td>2015-2016</td>\n",
       "    </tr>\n",
       "    <tr>\n",
       "      <th>1</th>\n",
       "      <td>2016-04-01</td>\n",
       "      <td>114950.0</td>\n",
       "      <td>NY</td>\n",
       "      <td>big</td>\n",
       "      <td>340539239.0</td>\n",
       "      <td>0.000338</td>\n",
       "      <td>2015-2016</td>\n",
       "    </tr>\n",
       "    <tr>\n",
       "      <th>2</th>\n",
       "      <td>2016-04-01</td>\n",
       "      <td>3870363.0</td>\n",
       "      <td>CHI</td>\n",
       "      <td>big</td>\n",
       "      <td>340539239.0</td>\n",
       "      <td>0.011365</td>\n",
       "      <td>2015-2016</td>\n",
       "    </tr>\n",
       "    <tr>\n",
       "      <th>3</th>\n",
       "      <td>2016-04-01</td>\n",
       "      <td>743567.0</td>\n",
       "      <td>PHI</td>\n",
       "      <td>big</td>\n",
       "      <td>340539239.0</td>\n",
       "      <td>0.002183</td>\n",
       "      <td>2015-2016</td>\n",
       "    </tr>\n",
       "    <tr>\n",
       "      <th>4</th>\n",
       "      <td>2016-04-01</td>\n",
       "      <td>925314.0</td>\n",
       "      <td>DAL</td>\n",
       "      <td>big</td>\n",
       "      <td>340539239.0</td>\n",
       "      <td>0.002717</td>\n",
       "      <td>2015-2016</td>\n",
       "    </tr>\n",
       "  </tbody>\n",
       "</table>\n",
       "</div>"
      ],
      "text/plain": [
       "  year_month  view_count team market_size  total_nba_views  \\\n",
       "0 2016-04-01  43943996.0  LAL         big      340539239.0   \n",
       "1 2016-04-01    114950.0   NY         big      340539239.0   \n",
       "2 2016-04-01   3870363.0  CHI         big      340539239.0   \n",
       "3 2016-04-01    743567.0  PHI         big      340539239.0   \n",
       "4 2016-04-01    925314.0  DAL         big      340539239.0   \n",
       "\n",
       "   total_nba_view_percentage     season  \n",
       "0                   0.129042  2015-2016  \n",
       "1                   0.000338  2015-2016  \n",
       "2                   0.011365  2015-2016  \n",
       "3                   0.002183  2015-2016  \n",
       "4                   0.002717  2015-2016  "
      ]
     },
     "execution_count": 25,
     "metadata": {},
     "output_type": "execute_result"
    }
   ],
   "source": [
    "all_team_results = pd.read_csv(\"./data/all_team_results.csv\", parse_dates=[\"year_month\"])\n",
    "all_team_results.head()"
   ]
  },
  {
   "cell_type": "markdown",
   "id": "120ca019",
   "metadata": {},
   "source": [
    "<div class=\"alert alert-block alert-info\">\n",
    "To compare our view ratio with the teams' results, we import from our database the monthly occupancy rate of the stadium of each team and the winning rate on the matches since the beginning of each season."
   ]
  },
  {
   "cell_type": "code",
   "execution_count": 26,
   "id": "9040b226",
   "metadata": {},
   "outputs": [
    {
     "data": {
      "text/plain": [
       "array(['Atlanta Hawks', 'Boston Celtics', 'Brooklyn Nets',\n",
       "       'Charlotte Bobcats', 'Charlotte Hornets', 'Chicago Bulls',\n",
       "       'Cleveland Cavaliers', 'Dallas Mavericks', 'Denver Nuggets',\n",
       "       'Detroit Pistons', 'Golden State Warriors', 'Houston Rockets',\n",
       "       'Indiana Pacers', 'Los Angeles Clippers', 'Los Angeles Lakers',\n",
       "       'Memphis Grizzlies', 'Miami Heat', 'Milwaukee Bucks',\n",
       "       'Minnesota Timberwolves', 'New Jersey Nets', 'New Orleans Hornets',\n",
       "       'New Orleans Pelicans', 'New Orleans/Oklahoma City Hornets',\n",
       "       'New York Knicks', 'Oklahoma City Thunder', 'Orlando Magic',\n",
       "       'Philadelphia 76ers', 'Phoenix Suns', 'Portland Trail Blazers',\n",
       "       'Sacramento Kings', 'San Antonio Spurs', 'Seattle SuperSonics',\n",
       "       'Toronto Raptors', 'Utah Jazz', 'Washington Wizards'], dtype=object)"
      ]
     },
     "metadata": {},
     "output_type": "display_data"
    },
    {
     "data": {
      "text/html": [
       "<div>\n",
       "<style scoped>\n",
       "    .dataframe tbody tr th:only-of-type {\n",
       "        vertical-align: middle;\n",
       "    }\n",
       "\n",
       "    .dataframe tbody tr th {\n",
       "        vertical-align: top;\n",
       "    }\n",
       "\n",
       "    .dataframe thead th {\n",
       "        text-align: right;\n",
       "    }\n",
       "</style>\n",
       "<table border=\"1\" class=\"dataframe\">\n",
       "  <thead>\n",
       "    <tr style=\"text-align: right;\">\n",
       "      <th></th>\n",
       "      <th>index</th>\n",
       "      <th>team</th>\n",
       "      <th>year_month</th>\n",
       "      <th>win_percentage</th>\n",
       "    </tr>\n",
       "  </thead>\n",
       "  <tbody>\n",
       "    <tr>\n",
       "      <th>0</th>\n",
       "      <td>0</td>\n",
       "      <td>ATL</td>\n",
       "      <td>2004-11-01</td>\n",
       "      <td>0.000000</td>\n",
       "    </tr>\n",
       "    <tr>\n",
       "      <th>1</th>\n",
       "      <td>1</td>\n",
       "      <td>ATL</td>\n",
       "      <td>2004-12-01</td>\n",
       "      <td>0.133333</td>\n",
       "    </tr>\n",
       "    <tr>\n",
       "      <th>2</th>\n",
       "      <td>2</td>\n",
       "      <td>ATL</td>\n",
       "      <td>2005-01-01</td>\n",
       "      <td>0.161290</td>\n",
       "    </tr>\n",
       "    <tr>\n",
       "      <th>3</th>\n",
       "      <td>3</td>\n",
       "      <td>ATL</td>\n",
       "      <td>2005-02-01</td>\n",
       "      <td>0.195652</td>\n",
       "    </tr>\n",
       "    <tr>\n",
       "      <th>4</th>\n",
       "      <td>4</td>\n",
       "      <td>ATL</td>\n",
       "      <td>2005-03-01</td>\n",
       "      <td>0.172414</td>\n",
       "    </tr>\n",
       "    <tr>\n",
       "      <th>5</th>\n",
       "      <td>5</td>\n",
       "      <td>ATL</td>\n",
       "      <td>2005-04-01</td>\n",
       "      <td>0.152778</td>\n",
       "    </tr>\n",
       "    <tr>\n",
       "      <th>6</th>\n",
       "      <td>6</td>\n",
       "      <td>ATL</td>\n",
       "      <td>2005-11-01</td>\n",
       "      <td>0.000000</td>\n",
       "    </tr>\n",
       "    <tr>\n",
       "      <th>7</th>\n",
       "      <td>7</td>\n",
       "      <td>ATL</td>\n",
       "      <td>2005-12-01</td>\n",
       "      <td>0.133333</td>\n",
       "    </tr>\n",
       "    <tr>\n",
       "      <th>8</th>\n",
       "      <td>8</td>\n",
       "      <td>ATL</td>\n",
       "      <td>2006-01-01</td>\n",
       "      <td>0.241379</td>\n",
       "    </tr>\n",
       "    <tr>\n",
       "      <th>9</th>\n",
       "      <td>9</td>\n",
       "      <td>ATL</td>\n",
       "      <td>2006-02-01</td>\n",
       "      <td>0.311111</td>\n",
       "    </tr>\n",
       "  </tbody>\n",
       "</table>\n",
       "</div>"
      ],
      "text/plain": [
       "   index team year_month  win_percentage\n",
       "0      0  ATL 2004-11-01        0.000000\n",
       "1      1  ATL 2004-12-01        0.133333\n",
       "2      2  ATL 2005-01-01        0.161290\n",
       "3      3  ATL 2005-02-01        0.195652\n",
       "4      4  ATL 2005-03-01        0.172414\n",
       "5      5  ATL 2005-04-01        0.152778\n",
       "6      6  ATL 2005-11-01        0.000000\n",
       "7      7  ATL 2005-12-01        0.133333\n",
       "8      8  ATL 2006-01-01        0.241379\n",
       "9      9  ATL 2006-02-01        0.311111"
      ]
     },
     "execution_count": 26,
     "metadata": {},
     "output_type": "execute_result"
    }
   ],
   "source": [
    "# Connect to the database\n",
    "con = sqlite3.connect(\"data/nba_api.sqlite\")\n",
    "\n",
    "# Read the data from the database\n",
    "occupancy_rate_df = pd.read_sql_query(\n",
    "    \"\"\"\n",
    "    select   home,\n",
    "                avg(attendance) as avg_attendace,\n",
    "                round(avg(attendance/season_high_attendance*100),2) as avg_occupancy_rate,\n",
    "                strftime('%Y-%m',time) as year_month\n",
    "    from game_data\n",
    "    group by home, year_month\n",
    "    \"\"\",\n",
    "    con,\n",
    ")\n",
    "occupancy_rate_df = occupancy_rate_df.reset_index()\n",
    "display(occupancy_rate_df.home.unique())  # Display query results\n",
    "\n",
    "# Filter out teams that are not in the correspondence dictionary\n",
    "occupancy_rate_df = occupancy_rate_df[occupancy_rate_df[\"home\"].isin(Correspondence.keys())]\n",
    "\n",
    "winning_rate_df = pd.read_sql_query(\n",
    "    \"\"\"\n",
    "    select  home as team,\n",
    "            strftime('%Y-%m', time) as year_month,\n",
    "            last_value(curr_season_win_pct) over (partition by home, strftime('%Y-%m', time) order by time) as win_percentage\n",
    "            from game_data\n",
    "            group by home, year_month;\n",
    "\"\"\",\n",
    "    con,\n",
    ")\n",
    "winning_rate_df = winning_rate_df.reset_index()\n",
    "\n",
    "# Filter out teams that are not in the correspondence dictionary\n",
    "winning_rate_df = winning_rate_df[winning_rate_df[\"team\"].isin(Correspondence.keys())]\n",
    "\n",
    "winning_rate_df[\"year_month\"] = pd.to_datetime(winning_rate_df[\"year_month\"])\n",
    "occupancy_rate_df[\"year_month\"] = pd.to_datetime(occupancy_rate_df[\"year_month\"])\n",
    "\n",
    "winning_rate_df[\"team\"] = winning_rate_df[\"team\"].apply(lambda x: Correspondence[x])\n",
    "occupancy_rate_df[\"team\"] = occupancy_rate_df[\"home\"].apply(lambda x: Correspondence[x])\n",
    "\n",
    "winning_rate_df.head(10)"
   ]
  },
  {
   "cell_type": "code",
   "execution_count": 27,
   "id": "16ece35a",
   "metadata": {},
   "outputs": [
    {
     "data": {
      "text/html": [
       "<div>\n",
       "<style scoped>\n",
       "    .dataframe tbody tr th:only-of-type {\n",
       "        vertical-align: middle;\n",
       "    }\n",
       "\n",
       "    .dataframe tbody tr th {\n",
       "        vertical-align: top;\n",
       "    }\n",
       "\n",
       "    .dataframe thead th {\n",
       "        text-align: right;\n",
       "    }\n",
       "</style>\n",
       "<table border=\"1\" class=\"dataframe\">\n",
       "  <thead>\n",
       "    <tr style=\"text-align: right;\">\n",
       "      <th></th>\n",
       "      <th>year_month</th>\n",
       "      <th>view_count</th>\n",
       "      <th>team</th>\n",
       "      <th>market_size</th>\n",
       "      <th>total_nba_views</th>\n",
       "      <th>total_nba_view_percentage</th>\n",
       "      <th>season</th>\n",
       "      <th>win_percentage</th>\n",
       "      <th>avg_attendace</th>\n",
       "      <th>avg_occupancy_rate</th>\n",
       "    </tr>\n",
       "  </thead>\n",
       "  <tbody>\n",
       "    <tr>\n",
       "      <th>0</th>\n",
       "      <td>2016-04-01</td>\n",
       "      <td>43943996.0</td>\n",
       "      <td>LAL</td>\n",
       "      <td>big</td>\n",
       "      <td>340539239.0</td>\n",
       "      <td>0.129042</td>\n",
       "      <td>2015-2016</td>\n",
       "      <td>0.210526</td>\n",
       "      <td>18997.000000</td>\n",
       "      <td>100.00</td>\n",
       "    </tr>\n",
       "    <tr>\n",
       "      <th>1</th>\n",
       "      <td>2016-04-01</td>\n",
       "      <td>114950.0</td>\n",
       "      <td>NY</td>\n",
       "      <td>big</td>\n",
       "      <td>340539239.0</td>\n",
       "      <td>0.000338</td>\n",
       "      <td>2015-2016</td>\n",
       "      <td>0.402597</td>\n",
       "      <td>19812.000000</td>\n",
       "      <td>100.00</td>\n",
       "    </tr>\n",
       "    <tr>\n",
       "      <th>2</th>\n",
       "      <td>2016-04-01</td>\n",
       "      <td>3870363.0</td>\n",
       "      <td>CHI</td>\n",
       "      <td>big</td>\n",
       "      <td>340539239.0</td>\n",
       "      <td>0.011365</td>\n",
       "      <td>2015-2016</td>\n",
       "      <td>0.500000</td>\n",
       "      <td>22053.333333</td>\n",
       "      <td>95.25</td>\n",
       "    </tr>\n",
       "    <tr>\n",
       "      <th>3</th>\n",
       "      <td>2016-04-01</td>\n",
       "      <td>743567.0</td>\n",
       "      <td>PHI</td>\n",
       "      <td>big</td>\n",
       "      <td>340539239.0</td>\n",
       "      <td>0.002183</td>\n",
       "      <td>2015-2016</td>\n",
       "      <td>0.116883</td>\n",
       "      <td>15633.500000</td>\n",
       "      <td>75.17</td>\n",
       "    </tr>\n",
       "    <tr>\n",
       "      <th>4</th>\n",
       "      <td>2016-04-01</td>\n",
       "      <td>925314.0</td>\n",
       "      <td>DAL</td>\n",
       "      <td>big</td>\n",
       "      <td>340539239.0</td>\n",
       "      <td>0.002717</td>\n",
       "      <td>2015-2016</td>\n",
       "      <td>0.512821</td>\n",
       "      <td>20266.200000</td>\n",
       "      <td>98.78</td>\n",
       "    </tr>\n",
       "  </tbody>\n",
       "</table>\n",
       "</div>"
      ],
      "text/plain": [
       "  year_month  view_count team market_size  total_nba_views  \\\n",
       "0 2016-04-01  43943996.0  LAL         big      340539239.0   \n",
       "1 2016-04-01    114950.0   NY         big      340539239.0   \n",
       "2 2016-04-01   3870363.0  CHI         big      340539239.0   \n",
       "3 2016-04-01    743567.0  PHI         big      340539239.0   \n",
       "4 2016-04-01    925314.0  DAL         big      340539239.0   \n",
       "\n",
       "   total_nba_view_percentage     season  win_percentage  avg_attendace  \\\n",
       "0                   0.129042  2015-2016        0.210526   18997.000000   \n",
       "1                   0.000338  2015-2016        0.402597   19812.000000   \n",
       "2                   0.011365  2015-2016        0.500000   22053.333333   \n",
       "3                   0.002183  2015-2016        0.116883   15633.500000   \n",
       "4                   0.002717  2015-2016        0.512821   20266.200000   \n",
       "\n",
       "   avg_occupancy_rate  \n",
       "0              100.00  \n",
       "1              100.00  \n",
       "2               95.25  \n",
       "3               75.17  \n",
       "4               98.78  "
      ]
     },
     "execution_count": 27,
     "metadata": {},
     "output_type": "execute_result"
    }
   ],
   "source": [
    "# Add winning percentages and occupancy percentages for every team to all team results df\n",
    "all_team_results = all_team_results.merge(winning_rate_df.drop([\"index\"], axis=1), on=[\"team\", \"year_month\"], how=\"inner\")\n",
    "all_team_results = all_team_results.merge(occupancy_rate_df.drop([\"index\", \"home\"], axis=1), on=[\"team\", \"year_month\"], how=\"inner\")\n",
    "\n",
    "# Save to csv since computation is expensive\n",
    "all_team_results.to_csv(\"data/all_team_results_with_winning_percentages.csv\")\n",
    "\n",
    "all_team_results.head()"
   ]
  },
  {
   "cell_type": "code",
   "execution_count": 28,
   "id": "07ff7679",
   "metadata": {},
   "outputs": [],
   "source": [
    "# Add a new column that is the mean of view_counts per year_month\n",
    "all_team_results[\"mean_view_count\"] = all_team_results.groupby(\"year_month\")[\"view_count\"].transform(\"mean\")\n",
    "all_team_results[\"std_view_count\"] = all_team_results.groupby(\"year_month\")[\"view_count\"].transform(\"std\").fillna(1)\n",
    "\n",
    "all_team_results[\"view_count_normalized\"] = (all_team_results[\"view_count\"] - all_team_results[\"mean_view_count\"]) / all_team_results[\n",
    "    \"std_view_count\"\n",
    "]\n",
    "all_team_results[\"year\"] = all_team_results[\"year_month\"].dt.year"
   ]
  },
  {
   "cell_type": "code",
   "execution_count": 29,
   "id": "8595ad55",
   "metadata": {},
   "outputs": [
    {
     "data": {
      "text/plain": [
       "{'small': PearsonRResult(statistic=0.1251338345520804, pvalue=0.003809288604368298),\n",
       " 'big': PearsonRResult(statistic=0.04482248488525619, pvalue=0.3385153512321321)}"
      ]
     },
     "execution_count": 29,
     "metadata": {},
     "output_type": "execute_result"
    }
   ],
   "source": [
    "# compute correlation between view_count and win_percentage for both big and small market teams\n",
    "grouped_views_and_wins_df = all_team_results.groupby(\"market_size\").agg(\n",
    "    {\n",
    "        \"view_count_normalized\": lambda x: list(x),\n",
    "        \"win_percentage\": lambda x: list(x),\n",
    "    }\n",
    ")\n",
    "\n",
    "correlations = {}\n",
    "for market_size in [\"small\", \"big\"]:\n",
    "    df = grouped_views_and_wins_df[grouped_views_and_wins_df.index == market_size]\n",
    "\n",
    "    correlations[market_size] = pearsonr(df[\"view_count_normalized\"].iloc[0], df[\"win_percentage\"].iloc[0])\n",
    "correlations"
   ]
  },
  {
   "cell_type": "markdown",
   "id": "c866194d",
   "metadata": {},
   "source": [
    "## NBA TEAM MEDIA EXPOSURE ANALYSIS"
   ]
  },
  {
   "cell_type": "markdown",
   "id": "a5db9920",
   "metadata": {},
   "source": [
    "### MEDIA COVERAGE OF EACH MARKET ON YOUTUBE"
   ]
  },
  {
   "cell_type": "markdown",
   "id": "72c86103",
   "metadata": {},
   "source": [
    "#### NUMBER OF VIDEOS PER TEAM"
   ]
  },
  {
   "cell_type": "code",
   "execution_count": 30,
   "id": "2c0eac51",
   "metadata": {},
   "outputs": [
    {
     "data": {
      "text/html": [
       "<div>\n",
       "<style scoped>\n",
       "    .dataframe tbody tr th:only-of-type {\n",
       "        vertical-align: middle;\n",
       "    }\n",
       "\n",
       "    .dataframe tbody tr th {\n",
       "        vertical-align: top;\n",
       "    }\n",
       "\n",
       "    .dataframe thead th {\n",
       "        text-align: right;\n",
       "    }\n",
       "</style>\n",
       "<table border=\"1\" class=\"dataframe\">\n",
       "  <thead>\n",
       "    <tr style=\"text-align: right;\">\n",
       "      <th></th>\n",
       "      <th>categories</th>\n",
       "      <th>channel_id</th>\n",
       "      <th>crawl_date</th>\n",
       "      <th>description</th>\n",
       "      <th>dislike_count</th>\n",
       "      <th>display_id</th>\n",
       "      <th>duration</th>\n",
       "      <th>like_count</th>\n",
       "      <th>tags</th>\n",
       "      <th>title</th>\n",
       "      <th>upload_date</th>\n",
       "      <th>view_count</th>\n",
       "      <th>year_month</th>\n",
       "      <th>team</th>\n",
       "      <th>market_size</th>\n",
       "    </tr>\n",
       "  </thead>\n",
       "  <tbody>\n",
       "    <tr>\n",
       "      <th>67612</th>\n",
       "      <td>Entertainment</td>\n",
       "      <td>UCzS3-65Y91JhOxFiM7j6grg</td>\n",
       "      <td>2019-11-14 21:04:10.331744</td>\n",
       "      <td>Subscribe now: https://www.youtube.com/c/funny...</td>\n",
       "      <td>112.0</td>\n",
       "      <td>16caOzOLfsI</td>\n",
       "      <td>203</td>\n",
       "      <td>339.0</td>\n",
       "      <td>,funnyordie,funny or die,funny,comedy,sketch,l...</td>\n",
       "      <td>Kobe Bryant's Final Press Conference</td>\n",
       "      <td>2016-04-15</td>\n",
       "      <td>23792.0</td>\n",
       "      <td>2016-04-01</td>\n",
       "      <td>LAL</td>\n",
       "      <td>big</td>\n",
       "    </tr>\n",
       "    <tr>\n",
       "      <th>114964</th>\n",
       "      <td>Sports</td>\n",
       "      <td>UCzQr2dWkS6T6xHRqYOMxQ7A</td>\n",
       "      <td>2019-11-08 04:54:47.016823</td>\n",
       "      <td>Heat@Lakers 03/16/2018. Very close Game with f...</td>\n",
       "      <td>0.0</td>\n",
       "      <td>vF5f9IkBYJA</td>\n",
       "      <td>275</td>\n",
       "      <td>3.0</td>\n",
       "      <td>,los angeles lakers vs miami heat,nba,sports,b...</td>\n",
       "      <td>Los Angeles Lakers Vs Miami Heat Crazy Close, ...</td>\n",
       "      <td>2018-03-16</td>\n",
       "      <td>185.0</td>\n",
       "      <td>2018-03-01</td>\n",
       "      <td>LAL</td>\n",
       "      <td>big</td>\n",
       "    </tr>\n",
       "    <tr>\n",
       "      <th>114968</th>\n",
       "      <td>Sports</td>\n",
       "      <td>UCzQr2dWkS6T6xHRqYOMxQ7A</td>\n",
       "      <td>2019-11-08 04:54:44.241366</td>\n",
       "      <td></td>\n",
       "      <td>1.0</td>\n",
       "      <td>qwqCaw4254k</td>\n",
       "      <td>240</td>\n",
       "      <td>5.0</td>\n",
       "      <td>,celtics overtime,wizards,celtics,double overt...</td>\n",
       "      <td>Celtics Vs Wizards Double Overtime Final Minutes!</td>\n",
       "      <td>2018-03-14</td>\n",
       "      <td>128.0</td>\n",
       "      <td>2018-03-01</td>\n",
       "      <td>LAL</td>\n",
       "      <td>big</td>\n",
       "    </tr>\n",
       "    <tr>\n",
       "      <th>114971</th>\n",
       "      <td>Sports</td>\n",
       "      <td>UCzQr2dWkS6T6xHRqYOMxQ7A</td>\n",
       "      <td>2019-11-08 04:54:46.823403</td>\n",
       "      <td></td>\n",
       "      <td>8.0</td>\n",
       "      <td>n-VmbWF7_Ew</td>\n",
       "      <td>36</td>\n",
       "      <td>361.0</td>\n",
       "      <td>,lebron james fake no look pass,lebron james f...</td>\n",
       "      <td>LeBron James \"Sick\" Ball Fake &amp; No-Look Pass!</td>\n",
       "      <td>2018-03-11</td>\n",
       "      <td>61794.0</td>\n",
       "      <td>2018-03-01</td>\n",
       "      <td>LAL</td>\n",
       "      <td>big</td>\n",
       "    </tr>\n",
       "    <tr>\n",
       "      <th>115008</th>\n",
       "      <td>Sports</td>\n",
       "      <td>UCzQr2dWkS6T6xHRqYOMxQ7A</td>\n",
       "      <td>2019-11-08 04:54:45.796562</td>\n",
       "      <td>Thanks for watching and Subscribe for more!\\n\\...</td>\n",
       "      <td>0.0</td>\n",
       "      <td>Q56nRNQua2g</td>\n",
       "      <td>652</td>\n",
       "      <td>4.0</td>\n",
       "      <td>,sports,basketball,nba,nba highlights,maverick...</td>\n",
       "      <td>NBA Highlights Mavericks Vs Lakers</td>\n",
       "      <td>2018-02-24</td>\n",
       "      <td>39.0</td>\n",
       "      <td>2018-02-01</td>\n",
       "      <td>LAL</td>\n",
       "      <td>big</td>\n",
       "    </tr>\n",
       "  </tbody>\n",
       "</table>\n",
       "</div>"
      ],
      "text/plain": [
       "           categories                channel_id                  crawl_date  \\\n",
       "67612   Entertainment  UCzS3-65Y91JhOxFiM7j6grg  2019-11-14 21:04:10.331744   \n",
       "114964         Sports  UCzQr2dWkS6T6xHRqYOMxQ7A  2019-11-08 04:54:47.016823   \n",
       "114968         Sports  UCzQr2dWkS6T6xHRqYOMxQ7A  2019-11-08 04:54:44.241366   \n",
       "114971         Sports  UCzQr2dWkS6T6xHRqYOMxQ7A  2019-11-08 04:54:46.823403   \n",
       "115008         Sports  UCzQr2dWkS6T6xHRqYOMxQ7A  2019-11-08 04:54:45.796562   \n",
       "\n",
       "                                              description  dislike_count  \\\n",
       "67612   Subscribe now: https://www.youtube.com/c/funny...          112.0   \n",
       "114964  Heat@Lakers 03/16/2018. Very close Game with f...            0.0   \n",
       "114968                                                               1.0   \n",
       "114971                                                               8.0   \n",
       "115008  Thanks for watching and Subscribe for more!\\n\\...            0.0   \n",
       "\n",
       "         display_id  duration  like_count  \\\n",
       "67612   16caOzOLfsI       203       339.0   \n",
       "114964  vF5f9IkBYJA       275         3.0   \n",
       "114968  qwqCaw4254k       240         5.0   \n",
       "114971  n-VmbWF7_Ew        36       361.0   \n",
       "115008  Q56nRNQua2g       652         4.0   \n",
       "\n",
       "                                                     tags  \\\n",
       "67612   ,funnyordie,funny or die,funny,comedy,sketch,l...   \n",
       "114964  ,los angeles lakers vs miami heat,nba,sports,b...   \n",
       "114968  ,celtics overtime,wizards,celtics,double overt...   \n",
       "114971  ,lebron james fake no look pass,lebron james f...   \n",
       "115008  ,sports,basketball,nba,nba highlights,maverick...   \n",
       "\n",
       "                                                    title upload_date  \\\n",
       "67612                Kobe Bryant's Final Press Conference  2016-04-15   \n",
       "114964  Los Angeles Lakers Vs Miami Heat Crazy Close, ...  2018-03-16   \n",
       "114968  Celtics Vs Wizards Double Overtime Final Minutes!  2018-03-14   \n",
       "114971      LeBron James \"Sick\" Ball Fake & No-Look Pass!  2018-03-11   \n",
       "115008                 NBA Highlights Mavericks Vs Lakers  2018-02-24   \n",
       "\n",
       "        view_count year_month team market_size  \n",
       "67612      23792.0 2016-04-01  LAL         big  \n",
       "114964       185.0 2018-03-01  LAL         big  \n",
       "114968       128.0 2018-03-01  LAL         big  \n",
       "114971     61794.0 2018-03-01  LAL         big  \n",
       "115008        39.0 2018-02-01  LAL         big  "
      ]
     },
     "execution_count": 30,
     "metadata": {},
     "output_type": "execute_result"
    }
   ],
   "source": [
    "dd_dict = {}\n",
    "# Selecting the teams and their market size depending on the tags of the videos\n",
    "for key, value in {**BigMarkets, **MediumMarkets, **SmallMarkets}.items():\n",
    "    team_df = nba_basketball_df[nba_basketball_df[\"tags\"].str.contains(f',{\",|,\".join(value)},')]\n",
    "    team_df[\"team\"] = key\n",
    "    team_df[\"market_size\"] = \"small\" if key in SmallMarkets else \"medium\" if key in MediumMarkets else \"big\"\n",
    "    team_df = team_df.persist().compute()\n",
    "    dd_dict[key] = team_df\n",
    "\n",
    "all_team_df = pd.concat([v for k, v in dd_dict.items()])\n",
    "all_team_df.head()"
   ]
  },
  {
   "cell_type": "code",
   "execution_count": 31,
   "id": "eac399bc",
   "metadata": {},
   "outputs": [],
   "source": [
    "# Computing the number of videos for each team\n",
    "videos_per_team_df = all_team_df[[\"team\", \"market_size\", \"title\"]].groupby([\"team\", \"market_size\"]).count()\n",
    "videos_per_team_df.rename(columns={\"title\": \"total_videos\"}, inplace=True)"
   ]
  },
  {
   "cell_type": "code",
   "execution_count": 32,
   "id": "2b5485fb",
   "metadata": {},
   "outputs": [
    {
     "data": {
      "application/vnd.plotly.v1+json": {
       "config": {
        "plotlyServerURL": "https://plotly.com"
       },
       "data": [
        {
         "alignmentgroup": "True",
         "hovertemplate": "market_size=small<br>Team=%{x}<br>Total Number of Videos=%{y}<extra></extra>",
         "legendgroup": "small",
         "marker": {
          "color": "#EF553B",
          "pattern": {
           "shape": ""
          }
         },
         "name": "small",
         "offsetgroup": "small",
         "orientation": "v",
         "showlegend": true,
         "textposition": "auto",
         "type": "bar",
         "x": [
          "CHA",
          "UTAH",
          "NO",
          "MEM",
          "SAC",
          "IND",
          "MIL",
          "OKC",
          "POR",
          "SA"
         ],
         "xaxis": "x",
         "y": [
          1792,
          1917,
          2000,
          2150,
          2475,
          3097,
          3488,
          3640,
          3839,
          8997
         ],
         "yaxis": "y"
        },
        {
         "alignmentgroup": "True",
         "hovertemplate": "market_size=medium<br>Team=%{x}<br>Total Number of Videos=%{y}<extra></extra>",
         "legendgroup": "medium",
         "marker": {
          "color": "#636EFA",
          "pattern": {
           "shape": ""
          }
         },
         "name": "medium",
         "offsetgroup": "medium",
         "orientation": "v",
         "showlegend": true,
         "textposition": "auto",
         "type": "bar",
         "x": [
          "DEN",
          "ORL",
          "MIN",
          "DET",
          "MIA",
          "CLE"
         ],
         "xaxis": "x",
         "y": [
          2333,
          3082,
          3340,
          5011,
          8918,
          20361
         ],
         "yaxis": "y"
        },
        {
         "alignmentgroup": "True",
         "hovertemplate": "market_size=big<br>Team=%{x}<br>Total Number of Videos=%{y}<extra></extra>",
         "legendgroup": "big",
         "marker": {
          "color": "#00CC96",
          "pattern": {
           "shape": ""
          }
         },
         "name": "big",
         "offsetgroup": "big",
         "orientation": "v",
         "showlegend": true,
         "textposition": "auto",
         "type": "bar",
         "x": [
          "PHX",
          "WSH",
          "ATL",
          "DAL",
          "PHI",
          "CHI",
          "NY",
          "BOS",
          "HOU",
          "TOR",
          "GSW",
          "LAL"
         ],
         "xaxis": "x",
         "y": [
          2531,
          2728,
          2981,
          3232,
          5493,
          7228,
          7612,
          10067,
          11755,
          12758,
          20855,
          22373
         ],
         "yaxis": "y"
        }
       ],
       "layout": {
        "barmode": "relative",
        "height": 500,
        "legend": {
         "orientation": "h",
         "title": {
          "text": "market_size"
         },
         "tracegroupgap": 0,
         "x": 1,
         "xanchor": "right",
         "y": 1.02,
         "yanchor": "bottom"
        },
        "margin": {
         "t": 60
        },
        "template": {
         "data": {
          "bar": [
           {
            "error_x": {
             "color": "#2a3f5f"
            },
            "error_y": {
             "color": "#2a3f5f"
            },
            "marker": {
             "line": {
              "color": "#E5ECF6",
              "width": 0.5
             },
             "pattern": {
              "fillmode": "overlay",
              "size": 10,
              "solidity": 0.2
             }
            },
            "type": "bar"
           }
          ],
          "barpolar": [
           {
            "marker": {
             "line": {
              "color": "#E5ECF6",
              "width": 0.5
             },
             "pattern": {
              "fillmode": "overlay",
              "size": 10,
              "solidity": 0.2
             }
            },
            "type": "barpolar"
           }
          ],
          "carpet": [
           {
            "aaxis": {
             "endlinecolor": "#2a3f5f",
             "gridcolor": "white",
             "linecolor": "white",
             "minorgridcolor": "white",
             "startlinecolor": "#2a3f5f"
            },
            "baxis": {
             "endlinecolor": "#2a3f5f",
             "gridcolor": "white",
             "linecolor": "white",
             "minorgridcolor": "white",
             "startlinecolor": "#2a3f5f"
            },
            "type": "carpet"
           }
          ],
          "choropleth": [
           {
            "colorbar": {
             "outlinewidth": 0,
             "ticks": ""
            },
            "type": "choropleth"
           }
          ],
          "contour": [
           {
            "colorbar": {
             "outlinewidth": 0,
             "ticks": ""
            },
            "colorscale": [
             [
              0,
              "#0d0887"
             ],
             [
              0.1111111111111111,
              "#46039f"
             ],
             [
              0.2222222222222222,
              "#7201a8"
             ],
             [
              0.3333333333333333,
              "#9c179e"
             ],
             [
              0.4444444444444444,
              "#bd3786"
             ],
             [
              0.5555555555555556,
              "#d8576b"
             ],
             [
              0.6666666666666666,
              "#ed7953"
             ],
             [
              0.7777777777777778,
              "#fb9f3a"
             ],
             [
              0.8888888888888888,
              "#fdca26"
             ],
             [
              1,
              "#f0f921"
             ]
            ],
            "type": "contour"
           }
          ],
          "contourcarpet": [
           {
            "colorbar": {
             "outlinewidth": 0,
             "ticks": ""
            },
            "type": "contourcarpet"
           }
          ],
          "heatmap": [
           {
            "colorbar": {
             "outlinewidth": 0,
             "ticks": ""
            },
            "colorscale": [
             [
              0,
              "#0d0887"
             ],
             [
              0.1111111111111111,
              "#46039f"
             ],
             [
              0.2222222222222222,
              "#7201a8"
             ],
             [
              0.3333333333333333,
              "#9c179e"
             ],
             [
              0.4444444444444444,
              "#bd3786"
             ],
             [
              0.5555555555555556,
              "#d8576b"
             ],
             [
              0.6666666666666666,
              "#ed7953"
             ],
             [
              0.7777777777777778,
              "#fb9f3a"
             ],
             [
              0.8888888888888888,
              "#fdca26"
             ],
             [
              1,
              "#f0f921"
             ]
            ],
            "type": "heatmap"
           }
          ],
          "heatmapgl": [
           {
            "colorbar": {
             "outlinewidth": 0,
             "ticks": ""
            },
            "colorscale": [
             [
              0,
              "#0d0887"
             ],
             [
              0.1111111111111111,
              "#46039f"
             ],
             [
              0.2222222222222222,
              "#7201a8"
             ],
             [
              0.3333333333333333,
              "#9c179e"
             ],
             [
              0.4444444444444444,
              "#bd3786"
             ],
             [
              0.5555555555555556,
              "#d8576b"
             ],
             [
              0.6666666666666666,
              "#ed7953"
             ],
             [
              0.7777777777777778,
              "#fb9f3a"
             ],
             [
              0.8888888888888888,
              "#fdca26"
             ],
             [
              1,
              "#f0f921"
             ]
            ],
            "type": "heatmapgl"
           }
          ],
          "histogram": [
           {
            "marker": {
             "pattern": {
              "fillmode": "overlay",
              "size": 10,
              "solidity": 0.2
             }
            },
            "type": "histogram"
           }
          ],
          "histogram2d": [
           {
            "colorbar": {
             "outlinewidth": 0,
             "ticks": ""
            },
            "colorscale": [
             [
              0,
              "#0d0887"
             ],
             [
              0.1111111111111111,
              "#46039f"
             ],
             [
              0.2222222222222222,
              "#7201a8"
             ],
             [
              0.3333333333333333,
              "#9c179e"
             ],
             [
              0.4444444444444444,
              "#bd3786"
             ],
             [
              0.5555555555555556,
              "#d8576b"
             ],
             [
              0.6666666666666666,
              "#ed7953"
             ],
             [
              0.7777777777777778,
              "#fb9f3a"
             ],
             [
              0.8888888888888888,
              "#fdca26"
             ],
             [
              1,
              "#f0f921"
             ]
            ],
            "type": "histogram2d"
           }
          ],
          "histogram2dcontour": [
           {
            "colorbar": {
             "outlinewidth": 0,
             "ticks": ""
            },
            "colorscale": [
             [
              0,
              "#0d0887"
             ],
             [
              0.1111111111111111,
              "#46039f"
             ],
             [
              0.2222222222222222,
              "#7201a8"
             ],
             [
              0.3333333333333333,
              "#9c179e"
             ],
             [
              0.4444444444444444,
              "#bd3786"
             ],
             [
              0.5555555555555556,
              "#d8576b"
             ],
             [
              0.6666666666666666,
              "#ed7953"
             ],
             [
              0.7777777777777778,
              "#fb9f3a"
             ],
             [
              0.8888888888888888,
              "#fdca26"
             ],
             [
              1,
              "#f0f921"
             ]
            ],
            "type": "histogram2dcontour"
           }
          ],
          "mesh3d": [
           {
            "colorbar": {
             "outlinewidth": 0,
             "ticks": ""
            },
            "type": "mesh3d"
           }
          ],
          "parcoords": [
           {
            "line": {
             "colorbar": {
              "outlinewidth": 0,
              "ticks": ""
             }
            },
            "type": "parcoords"
           }
          ],
          "pie": [
           {
            "automargin": true,
            "type": "pie"
           }
          ],
          "scatter": [
           {
            "fillpattern": {
             "fillmode": "overlay",
             "size": 10,
             "solidity": 0.2
            },
            "type": "scatter"
           }
          ],
          "scatter3d": [
           {
            "line": {
             "colorbar": {
              "outlinewidth": 0,
              "ticks": ""
             }
            },
            "marker": {
             "colorbar": {
              "outlinewidth": 0,
              "ticks": ""
             }
            },
            "type": "scatter3d"
           }
          ],
          "scattercarpet": [
           {
            "marker": {
             "colorbar": {
              "outlinewidth": 0,
              "ticks": ""
             }
            },
            "type": "scattercarpet"
           }
          ],
          "scattergeo": [
           {
            "marker": {
             "colorbar": {
              "outlinewidth": 0,
              "ticks": ""
             }
            },
            "type": "scattergeo"
           }
          ],
          "scattergl": [
           {
            "marker": {
             "colorbar": {
              "outlinewidth": 0,
              "ticks": ""
             }
            },
            "type": "scattergl"
           }
          ],
          "scattermapbox": [
           {
            "marker": {
             "colorbar": {
              "outlinewidth": 0,
              "ticks": ""
             }
            },
            "type": "scattermapbox"
           }
          ],
          "scatterpolar": [
           {
            "marker": {
             "colorbar": {
              "outlinewidth": 0,
              "ticks": ""
             }
            },
            "type": "scatterpolar"
           }
          ],
          "scatterpolargl": [
           {
            "marker": {
             "colorbar": {
              "outlinewidth": 0,
              "ticks": ""
             }
            },
            "type": "scatterpolargl"
           }
          ],
          "scatterternary": [
           {
            "marker": {
             "colorbar": {
              "outlinewidth": 0,
              "ticks": ""
             }
            },
            "type": "scatterternary"
           }
          ],
          "surface": [
           {
            "colorbar": {
             "outlinewidth": 0,
             "ticks": ""
            },
            "colorscale": [
             [
              0,
              "#0d0887"
             ],
             [
              0.1111111111111111,
              "#46039f"
             ],
             [
              0.2222222222222222,
              "#7201a8"
             ],
             [
              0.3333333333333333,
              "#9c179e"
             ],
             [
              0.4444444444444444,
              "#bd3786"
             ],
             [
              0.5555555555555556,
              "#d8576b"
             ],
             [
              0.6666666666666666,
              "#ed7953"
             ],
             [
              0.7777777777777778,
              "#fb9f3a"
             ],
             [
              0.8888888888888888,
              "#fdca26"
             ],
             [
              1,
              "#f0f921"
             ]
            ],
            "type": "surface"
           }
          ],
          "table": [
           {
            "cells": {
             "fill": {
              "color": "#EBF0F8"
             },
             "line": {
              "color": "white"
             }
            },
            "header": {
             "fill": {
              "color": "#C8D4E3"
             },
             "line": {
              "color": "white"
             }
            },
            "type": "table"
           }
          ]
         },
         "layout": {
          "annotationdefaults": {
           "arrowcolor": "#2a3f5f",
           "arrowhead": 0,
           "arrowwidth": 1
          },
          "autotypenumbers": "strict",
          "coloraxis": {
           "colorbar": {
            "outlinewidth": 0,
            "ticks": ""
           }
          },
          "colorscale": {
           "diverging": [
            [
             0,
             "#8e0152"
            ],
            [
             0.1,
             "#c51b7d"
            ],
            [
             0.2,
             "#de77ae"
            ],
            [
             0.3,
             "#f1b6da"
            ],
            [
             0.4,
             "#fde0ef"
            ],
            [
             0.5,
             "#f7f7f7"
            ],
            [
             0.6,
             "#e6f5d0"
            ],
            [
             0.7,
             "#b8e186"
            ],
            [
             0.8,
             "#7fbc41"
            ],
            [
             0.9,
             "#4d9221"
            ],
            [
             1,
             "#276419"
            ]
           ],
           "sequential": [
            [
             0,
             "#0d0887"
            ],
            [
             0.1111111111111111,
             "#46039f"
            ],
            [
             0.2222222222222222,
             "#7201a8"
            ],
            [
             0.3333333333333333,
             "#9c179e"
            ],
            [
             0.4444444444444444,
             "#bd3786"
            ],
            [
             0.5555555555555556,
             "#d8576b"
            ],
            [
             0.6666666666666666,
             "#ed7953"
            ],
            [
             0.7777777777777778,
             "#fb9f3a"
            ],
            [
             0.8888888888888888,
             "#fdca26"
            ],
            [
             1,
             "#f0f921"
            ]
           ],
           "sequentialminus": [
            [
             0,
             "#0d0887"
            ],
            [
             0.1111111111111111,
             "#46039f"
            ],
            [
             0.2222222222222222,
             "#7201a8"
            ],
            [
             0.3333333333333333,
             "#9c179e"
            ],
            [
             0.4444444444444444,
             "#bd3786"
            ],
            [
             0.5555555555555556,
             "#d8576b"
            ],
            [
             0.6666666666666666,
             "#ed7953"
            ],
            [
             0.7777777777777778,
             "#fb9f3a"
            ],
            [
             0.8888888888888888,
             "#fdca26"
            ],
            [
             1,
             "#f0f921"
            ]
           ]
          },
          "colorway": [
           "#636efa",
           "#EF553B",
           "#00cc96",
           "#ab63fa",
           "#FFA15A",
           "#19d3f3",
           "#FF6692",
           "#B6E880",
           "#FF97FF",
           "#FECB52"
          ],
          "font": {
           "color": "#2a3f5f"
          },
          "geo": {
           "bgcolor": "white",
           "lakecolor": "white",
           "landcolor": "#E5ECF6",
           "showlakes": true,
           "showland": true,
           "subunitcolor": "white"
          },
          "hoverlabel": {
           "align": "left"
          },
          "hovermode": "closest",
          "mapbox": {
           "style": "light"
          },
          "paper_bgcolor": "white",
          "plot_bgcolor": "#E5ECF6",
          "polar": {
           "angularaxis": {
            "gridcolor": "white",
            "linecolor": "white",
            "ticks": ""
           },
           "bgcolor": "#E5ECF6",
           "radialaxis": {
            "gridcolor": "white",
            "linecolor": "white",
            "ticks": ""
           }
          },
          "scene": {
           "xaxis": {
            "backgroundcolor": "#E5ECF6",
            "gridcolor": "white",
            "gridwidth": 2,
            "linecolor": "white",
            "showbackground": true,
            "ticks": "",
            "zerolinecolor": "white"
           },
           "yaxis": {
            "backgroundcolor": "#E5ECF6",
            "gridcolor": "white",
            "gridwidth": 2,
            "linecolor": "white",
            "showbackground": true,
            "ticks": "",
            "zerolinecolor": "white"
           },
           "zaxis": {
            "backgroundcolor": "#E5ECF6",
            "gridcolor": "white",
            "gridwidth": 2,
            "linecolor": "white",
            "showbackground": true,
            "ticks": "",
            "zerolinecolor": "white"
           }
          },
          "shapedefaults": {
           "line": {
            "color": "#2a3f5f"
           }
          },
          "ternary": {
           "aaxis": {
            "gridcolor": "white",
            "linecolor": "white",
            "ticks": ""
           },
           "baxis": {
            "gridcolor": "white",
            "linecolor": "white",
            "ticks": ""
           },
           "bgcolor": "#E5ECF6",
           "caxis": {
            "gridcolor": "white",
            "linecolor": "white",
            "ticks": ""
           }
          },
          "title": {
           "x": 0.05
          },
          "xaxis": {
           "automargin": true,
           "gridcolor": "white",
           "linecolor": "white",
           "ticks": "",
           "title": {
            "standoff": 15
           },
           "zerolinecolor": "white",
           "zerolinewidth": 2
          },
          "yaxis": {
           "automargin": true,
           "gridcolor": "white",
           "linecolor": "white",
           "ticks": "",
           "title": {
            "standoff": 15
           },
           "zerolinecolor": "white",
           "zerolinewidth": 2
          }
         }
        },
        "width": 800,
        "xaxis": {
         "anchor": "y",
         "categoryorder": "total ascending",
         "domain": [
          0,
          1
         ],
         "title": {
          "text": "Team"
         }
        },
        "yaxis": {
         "anchor": "x",
         "domain": [
          0,
          1
         ],
         "title": {
          "text": "Total Number of Videos"
         }
        }
       }
      }
     },
     "metadata": {},
     "output_type": "display_data"
    }
   ],
   "source": [
    "fig = px.bar(\n",
    "    videos_per_team_df.sort_values(\"total_videos\").reset_index(),\n",
    "    x=\"team\",\n",
    "    y=\"total_videos\",\n",
    "    labels={\"team\": \"Team\", \"total_videos\": \"Total Number of Videos\"},\n",
    "    color=\"market_size\",\n",
    "    color_discrete_map=color_discrete_map,\n",
    "    width=800,\n",
    "    height=500,\n",
    ")\n",
    "# fig.update_layout(title={\"text\": \"Number of Videos per Team\", \"x\": 0.5, \"xanchor\": \"center\"})\n",
    "# display legend on the top\n",
    "fig.update_layout(legend=dict(orientation=\"h\", yanchor=\"bottom\", y=1.02, xanchor=\"right\", x=1))\n",
    "fig.update_layout(xaxis_categoryorder=\"total ascending\")\n",
    "fig.show()\n",
    "\n",
    "# py.plot(fig, filename=\"nb_videos_per_team\", auto_open=False)"
   ]
  },
  {
   "cell_type": "markdown",
   "id": "065a1d52",
   "metadata": {},
   "source": [
    "#### NUMBER OF VIDEOS PER MARKET"
   ]
  },
  {
   "cell_type": "code",
   "execution_count": 33,
   "id": "d861e847",
   "metadata": {},
   "outputs": [],
   "source": [
    "# Computing the number of videos for each market\n",
    "videos_per_market_df = all_team_df[[\"market_size\", \"title\"]].groupby([\"market_size\"]).count()\n",
    "videos_per_market_df.rename(columns={\"title\": \"total_videos\"}, inplace=True)"
   ]
  },
  {
   "cell_type": "code",
   "execution_count": 34,
   "id": "3d7c7109",
   "metadata": {},
   "outputs": [
    {
     "data": {
      "application/vnd.plotly.v1+json": {
       "config": {
        "plotlyServerURL": "https://plotly.com"
       },
       "data": [
        {
         "customdata": [
          [
           "big"
          ],
          [
           "medium"
          ],
          [
           "small"
          ]
         ],
         "domain": {
          "x": [
           0,
           1
          ],
          "y": [
           0,
           1
          ]
         },
         "hovertemplate": "Market Size=%{customdata[0]}<br>Total Number of Videos=%{value}<extra></extra>",
         "labels": [
          "big",
          "medium",
          "small"
         ],
         "legendgroup": "",
         "marker": {
          "colors": [
           "#00CC96",
           "#636EFA",
           "#EF553B"
          ]
         },
         "name": "",
         "showlegend": true,
         "textinfo": "value+percent",
         "type": "pie",
         "values": [
          109613,
          43045,
          33395
         ]
        }
       ],
       "layout": {
        "legend": {
         "tracegroupgap": 0
        },
        "margin": {
         "t": 60
        },
        "template": {
         "data": {
          "bar": [
           {
            "error_x": {
             "color": "#2a3f5f"
            },
            "error_y": {
             "color": "#2a3f5f"
            },
            "marker": {
             "line": {
              "color": "#E5ECF6",
              "width": 0.5
             },
             "pattern": {
              "fillmode": "overlay",
              "size": 10,
              "solidity": 0.2
             }
            },
            "type": "bar"
           }
          ],
          "barpolar": [
           {
            "marker": {
             "line": {
              "color": "#E5ECF6",
              "width": 0.5
             },
             "pattern": {
              "fillmode": "overlay",
              "size": 10,
              "solidity": 0.2
             }
            },
            "type": "barpolar"
           }
          ],
          "carpet": [
           {
            "aaxis": {
             "endlinecolor": "#2a3f5f",
             "gridcolor": "white",
             "linecolor": "white",
             "minorgridcolor": "white",
             "startlinecolor": "#2a3f5f"
            },
            "baxis": {
             "endlinecolor": "#2a3f5f",
             "gridcolor": "white",
             "linecolor": "white",
             "minorgridcolor": "white",
             "startlinecolor": "#2a3f5f"
            },
            "type": "carpet"
           }
          ],
          "choropleth": [
           {
            "colorbar": {
             "outlinewidth": 0,
             "ticks": ""
            },
            "type": "choropleth"
           }
          ],
          "contour": [
           {
            "colorbar": {
             "outlinewidth": 0,
             "ticks": ""
            },
            "colorscale": [
             [
              0,
              "#0d0887"
             ],
             [
              0.1111111111111111,
              "#46039f"
             ],
             [
              0.2222222222222222,
              "#7201a8"
             ],
             [
              0.3333333333333333,
              "#9c179e"
             ],
             [
              0.4444444444444444,
              "#bd3786"
             ],
             [
              0.5555555555555556,
              "#d8576b"
             ],
             [
              0.6666666666666666,
              "#ed7953"
             ],
             [
              0.7777777777777778,
              "#fb9f3a"
             ],
             [
              0.8888888888888888,
              "#fdca26"
             ],
             [
              1,
              "#f0f921"
             ]
            ],
            "type": "contour"
           }
          ],
          "contourcarpet": [
           {
            "colorbar": {
             "outlinewidth": 0,
             "ticks": ""
            },
            "type": "contourcarpet"
           }
          ],
          "heatmap": [
           {
            "colorbar": {
             "outlinewidth": 0,
             "ticks": ""
            },
            "colorscale": [
             [
              0,
              "#0d0887"
             ],
             [
              0.1111111111111111,
              "#46039f"
             ],
             [
              0.2222222222222222,
              "#7201a8"
             ],
             [
              0.3333333333333333,
              "#9c179e"
             ],
             [
              0.4444444444444444,
              "#bd3786"
             ],
             [
              0.5555555555555556,
              "#d8576b"
             ],
             [
              0.6666666666666666,
              "#ed7953"
             ],
             [
              0.7777777777777778,
              "#fb9f3a"
             ],
             [
              0.8888888888888888,
              "#fdca26"
             ],
             [
              1,
              "#f0f921"
             ]
            ],
            "type": "heatmap"
           }
          ],
          "heatmapgl": [
           {
            "colorbar": {
             "outlinewidth": 0,
             "ticks": ""
            },
            "colorscale": [
             [
              0,
              "#0d0887"
             ],
             [
              0.1111111111111111,
              "#46039f"
             ],
             [
              0.2222222222222222,
              "#7201a8"
             ],
             [
              0.3333333333333333,
              "#9c179e"
             ],
             [
              0.4444444444444444,
              "#bd3786"
             ],
             [
              0.5555555555555556,
              "#d8576b"
             ],
             [
              0.6666666666666666,
              "#ed7953"
             ],
             [
              0.7777777777777778,
              "#fb9f3a"
             ],
             [
              0.8888888888888888,
              "#fdca26"
             ],
             [
              1,
              "#f0f921"
             ]
            ],
            "type": "heatmapgl"
           }
          ],
          "histogram": [
           {
            "marker": {
             "pattern": {
              "fillmode": "overlay",
              "size": 10,
              "solidity": 0.2
             }
            },
            "type": "histogram"
           }
          ],
          "histogram2d": [
           {
            "colorbar": {
             "outlinewidth": 0,
             "ticks": ""
            },
            "colorscale": [
             [
              0,
              "#0d0887"
             ],
             [
              0.1111111111111111,
              "#46039f"
             ],
             [
              0.2222222222222222,
              "#7201a8"
             ],
             [
              0.3333333333333333,
              "#9c179e"
             ],
             [
              0.4444444444444444,
              "#bd3786"
             ],
             [
              0.5555555555555556,
              "#d8576b"
             ],
             [
              0.6666666666666666,
              "#ed7953"
             ],
             [
              0.7777777777777778,
              "#fb9f3a"
             ],
             [
              0.8888888888888888,
              "#fdca26"
             ],
             [
              1,
              "#f0f921"
             ]
            ],
            "type": "histogram2d"
           }
          ],
          "histogram2dcontour": [
           {
            "colorbar": {
             "outlinewidth": 0,
             "ticks": ""
            },
            "colorscale": [
             [
              0,
              "#0d0887"
             ],
             [
              0.1111111111111111,
              "#46039f"
             ],
             [
              0.2222222222222222,
              "#7201a8"
             ],
             [
              0.3333333333333333,
              "#9c179e"
             ],
             [
              0.4444444444444444,
              "#bd3786"
             ],
             [
              0.5555555555555556,
              "#d8576b"
             ],
             [
              0.6666666666666666,
              "#ed7953"
             ],
             [
              0.7777777777777778,
              "#fb9f3a"
             ],
             [
              0.8888888888888888,
              "#fdca26"
             ],
             [
              1,
              "#f0f921"
             ]
            ],
            "type": "histogram2dcontour"
           }
          ],
          "mesh3d": [
           {
            "colorbar": {
             "outlinewidth": 0,
             "ticks": ""
            },
            "type": "mesh3d"
           }
          ],
          "parcoords": [
           {
            "line": {
             "colorbar": {
              "outlinewidth": 0,
              "ticks": ""
             }
            },
            "type": "parcoords"
           }
          ],
          "pie": [
           {
            "automargin": true,
            "type": "pie"
           }
          ],
          "scatter": [
           {
            "fillpattern": {
             "fillmode": "overlay",
             "size": 10,
             "solidity": 0.2
            },
            "type": "scatter"
           }
          ],
          "scatter3d": [
           {
            "line": {
             "colorbar": {
              "outlinewidth": 0,
              "ticks": ""
             }
            },
            "marker": {
             "colorbar": {
              "outlinewidth": 0,
              "ticks": ""
             }
            },
            "type": "scatter3d"
           }
          ],
          "scattercarpet": [
           {
            "marker": {
             "colorbar": {
              "outlinewidth": 0,
              "ticks": ""
             }
            },
            "type": "scattercarpet"
           }
          ],
          "scattergeo": [
           {
            "marker": {
             "colorbar": {
              "outlinewidth": 0,
              "ticks": ""
             }
            },
            "type": "scattergeo"
           }
          ],
          "scattergl": [
           {
            "marker": {
             "colorbar": {
              "outlinewidth": 0,
              "ticks": ""
             }
            },
            "type": "scattergl"
           }
          ],
          "scattermapbox": [
           {
            "marker": {
             "colorbar": {
              "outlinewidth": 0,
              "ticks": ""
             }
            },
            "type": "scattermapbox"
           }
          ],
          "scatterpolar": [
           {
            "marker": {
             "colorbar": {
              "outlinewidth": 0,
              "ticks": ""
             }
            },
            "type": "scatterpolar"
           }
          ],
          "scatterpolargl": [
           {
            "marker": {
             "colorbar": {
              "outlinewidth": 0,
              "ticks": ""
             }
            },
            "type": "scatterpolargl"
           }
          ],
          "scatterternary": [
           {
            "marker": {
             "colorbar": {
              "outlinewidth": 0,
              "ticks": ""
             }
            },
            "type": "scatterternary"
           }
          ],
          "surface": [
           {
            "colorbar": {
             "outlinewidth": 0,
             "ticks": ""
            },
            "colorscale": [
             [
              0,
              "#0d0887"
             ],
             [
              0.1111111111111111,
              "#46039f"
             ],
             [
              0.2222222222222222,
              "#7201a8"
             ],
             [
              0.3333333333333333,
              "#9c179e"
             ],
             [
              0.4444444444444444,
              "#bd3786"
             ],
             [
              0.5555555555555556,
              "#d8576b"
             ],
             [
              0.6666666666666666,
              "#ed7953"
             ],
             [
              0.7777777777777778,
              "#fb9f3a"
             ],
             [
              0.8888888888888888,
              "#fdca26"
             ],
             [
              1,
              "#f0f921"
             ]
            ],
            "type": "surface"
           }
          ],
          "table": [
           {
            "cells": {
             "fill": {
              "color": "#EBF0F8"
             },
             "line": {
              "color": "white"
             }
            },
            "header": {
             "fill": {
              "color": "#C8D4E3"
             },
             "line": {
              "color": "white"
             }
            },
            "type": "table"
           }
          ]
         },
         "layout": {
          "annotationdefaults": {
           "arrowcolor": "#2a3f5f",
           "arrowhead": 0,
           "arrowwidth": 1
          },
          "autotypenumbers": "strict",
          "coloraxis": {
           "colorbar": {
            "outlinewidth": 0,
            "ticks": ""
           }
          },
          "colorscale": {
           "diverging": [
            [
             0,
             "#8e0152"
            ],
            [
             0.1,
             "#c51b7d"
            ],
            [
             0.2,
             "#de77ae"
            ],
            [
             0.3,
             "#f1b6da"
            ],
            [
             0.4,
             "#fde0ef"
            ],
            [
             0.5,
             "#f7f7f7"
            ],
            [
             0.6,
             "#e6f5d0"
            ],
            [
             0.7,
             "#b8e186"
            ],
            [
             0.8,
             "#7fbc41"
            ],
            [
             0.9,
             "#4d9221"
            ],
            [
             1,
             "#276419"
            ]
           ],
           "sequential": [
            [
             0,
             "#0d0887"
            ],
            [
             0.1111111111111111,
             "#46039f"
            ],
            [
             0.2222222222222222,
             "#7201a8"
            ],
            [
             0.3333333333333333,
             "#9c179e"
            ],
            [
             0.4444444444444444,
             "#bd3786"
            ],
            [
             0.5555555555555556,
             "#d8576b"
            ],
            [
             0.6666666666666666,
             "#ed7953"
            ],
            [
             0.7777777777777778,
             "#fb9f3a"
            ],
            [
             0.8888888888888888,
             "#fdca26"
            ],
            [
             1,
             "#f0f921"
            ]
           ],
           "sequentialminus": [
            [
             0,
             "#0d0887"
            ],
            [
             0.1111111111111111,
             "#46039f"
            ],
            [
             0.2222222222222222,
             "#7201a8"
            ],
            [
             0.3333333333333333,
             "#9c179e"
            ],
            [
             0.4444444444444444,
             "#bd3786"
            ],
            [
             0.5555555555555556,
             "#d8576b"
            ],
            [
             0.6666666666666666,
             "#ed7953"
            ],
            [
             0.7777777777777778,
             "#fb9f3a"
            ],
            [
             0.8888888888888888,
             "#fdca26"
            ],
            [
             1,
             "#f0f921"
            ]
           ]
          },
          "colorway": [
           "#636efa",
           "#EF553B",
           "#00cc96",
           "#ab63fa",
           "#FFA15A",
           "#19d3f3",
           "#FF6692",
           "#B6E880",
           "#FF97FF",
           "#FECB52"
          ],
          "font": {
           "color": "#2a3f5f"
          },
          "geo": {
           "bgcolor": "white",
           "lakecolor": "white",
           "landcolor": "#E5ECF6",
           "showlakes": true,
           "showland": true,
           "subunitcolor": "white"
          },
          "hoverlabel": {
           "align": "left"
          },
          "hovermode": "closest",
          "mapbox": {
           "style": "light"
          },
          "paper_bgcolor": "white",
          "plot_bgcolor": "#E5ECF6",
          "polar": {
           "angularaxis": {
            "gridcolor": "white",
            "linecolor": "white",
            "ticks": ""
           },
           "bgcolor": "#E5ECF6",
           "radialaxis": {
            "gridcolor": "white",
            "linecolor": "white",
            "ticks": ""
           }
          },
          "scene": {
           "xaxis": {
            "backgroundcolor": "#E5ECF6",
            "gridcolor": "white",
            "gridwidth": 2,
            "linecolor": "white",
            "showbackground": true,
            "ticks": "",
            "zerolinecolor": "white"
           },
           "yaxis": {
            "backgroundcolor": "#E5ECF6",
            "gridcolor": "white",
            "gridwidth": 2,
            "linecolor": "white",
            "showbackground": true,
            "ticks": "",
            "zerolinecolor": "white"
           },
           "zaxis": {
            "backgroundcolor": "#E5ECF6",
            "gridcolor": "white",
            "gridwidth": 2,
            "linecolor": "white",
            "showbackground": true,
            "ticks": "",
            "zerolinecolor": "white"
           }
          },
          "shapedefaults": {
           "line": {
            "color": "#2a3f5f"
           }
          },
          "ternary": {
           "aaxis": {
            "gridcolor": "white",
            "linecolor": "white",
            "ticks": ""
           },
           "baxis": {
            "gridcolor": "white",
            "linecolor": "white",
            "ticks": ""
           },
           "bgcolor": "#E5ECF6",
           "caxis": {
            "gridcolor": "white",
            "linecolor": "white",
            "ticks": ""
           }
          },
          "title": {
           "x": 0.05
          },
          "xaxis": {
           "automargin": true,
           "gridcolor": "white",
           "linecolor": "white",
           "ticks": "",
           "title": {
            "standoff": 15
           },
           "zerolinecolor": "white",
           "zerolinewidth": 2
          },
          "yaxis": {
           "automargin": true,
           "gridcolor": "white",
           "linecolor": "white",
           "ticks": "",
           "title": {
            "standoff": 15
           },
           "zerolinecolor": "white",
           "zerolinewidth": 2
          }
         }
        },
        "width": 400
       }
      }
     },
     "metadata": {},
     "output_type": "display_data"
    }
   ],
   "source": [
    "fig = px.pie(\n",
    "    videos_per_market_df.reset_index(),\n",
    "    values=\"total_videos\",\n",
    "    names=\"market_size\",\n",
    "    labels={\"market_size\": \"Market Size\", \"total_videos\": \"Total Number of Videos\"},\n",
    "    color=\"market_size\",\n",
    "    color_discrete_map=color_discrete_map,\n",
    "    width=400,\n",
    ")\n",
    "# fig.update_layout(title={\"text\": \"Number of Videos per Market Size\", \"x\": 0.5, \"xanchor\": \"center\"})\n",
    "fig.update_traces(textinfo=\"value+percent\")\n",
    "fig.show()\n",
    "\n",
    "# py.plot(fig, filename=\"nb_videos_market_size\", auto_open=False)"
   ]
  },
  {
   "cell_type": "markdown",
   "id": "7e2e1502",
   "metadata": {},
   "source": [
    "### NUMBER OF CHANNELS PER TEAM"
   ]
  },
  {
   "cell_type": "code",
   "execution_count": 35,
   "id": "5946017b",
   "metadata": {},
   "outputs": [],
   "source": [
    "# Computing the ratio of videos related to a single team on each channel\n",
    "channel_team_df = all_team_df[[\"title\", \"channel_id\", \"team\"]].groupby([\"channel_id\", \"team\"]).count().reset_index()\n",
    "count_by_channel = channel_team_df.groupby(\"channel_id\").sum().reset_index()\n",
    "count_by_channel.rename(columns={\"title\": \"total_videos\"}, inplace=True)\n",
    "channel_team_df.rename(columns={\"title\": \"team_videos\"}, inplace=True)\n",
    "ratio_per_team = pd.merge(channel_team_df, count_by_channel, on=\"channel_id\")\n",
    "ratio_per_team[\"ratio\"] = ratio_per_team[\"team_videos\"] / ratio_per_team[\"total_videos\"]\n",
    "\n",
    "# Only selecting channels that uploaded a significant number of videos\n",
    "significant_channels_df = ratio_per_team[ratio_per_team.total_videos > 4]\n",
    "\n",
    "# Select only fanbase channels - were at least 60% of videos are on a single team\n",
    "fanbase_channels_df = significant_channels_df[significant_channels_df.ratio > 0.6]\n",
    "\n",
    "# Computing the number of fanbase channels per team\n",
    "fanbase_channels_df = fanbase_channels_df.groupby(\"team\").count().sort_values(\"ratio\")\n",
    "\n",
    "# Adding the market size for each team\n",
    "marketper_team_df = all_team_df[[\"team\", \"market_size\"]].groupby([\"team\", \"market_size\"]).count().reset_index()\n",
    "fanbase_channels_df = fanbase_channels_df.merge(marketper_team_df, on=\"team\")"
   ]
  },
  {
   "cell_type": "code",
   "execution_count": 36,
   "id": "a8d2b85c",
   "metadata": {},
   "outputs": [
    {
     "data": {
      "application/vnd.plotly.v1+json": {
       "config": {
        "plotlyServerURL": "https://plotly.com"
       },
       "data": [
        {
         "alignmentgroup": "True",
         "hovertemplate": "market_size=small<br>Team=%{x}<br>Number of Fanbase channels=%{y}<extra></extra>",
         "legendgroup": "small",
         "marker": {
          "color": "#EF553B",
          "pattern": {
           "shape": ""
          }
         },
         "name": "small",
         "offsetgroup": "small",
         "orientation": "v",
         "showlegend": true,
         "textposition": "auto",
         "type": "bar",
         "x": [
          "NO",
          "SA",
          "CHA",
          "IND",
          "MIL",
          "POR",
          "UTAH",
          "SAC",
          "MEM",
          "OKC"
         ],
         "xaxis": "x",
         "y": [
          2,
          2,
          3,
          3,
          3,
          4,
          4,
          5,
          5,
          6
         ],
         "yaxis": "y"
        },
        {
         "alignmentgroup": "True",
         "hovertemplate": "market_size=medium<br>Team=%{x}<br>Number of Fanbase channels=%{y}<extra></extra>",
         "legendgroup": "medium",
         "marker": {
          "color": "#636EFA",
          "pattern": {
           "shape": ""
          }
         },
         "name": "medium",
         "offsetgroup": "medium",
         "orientation": "v",
         "showlegend": true,
         "textposition": "auto",
         "type": "bar",
         "x": [
          "DET",
          "DEN",
          "MIN",
          "ORL",
          "MIA",
          "CLE"
         ],
         "xaxis": "x",
         "y": [
          2,
          3,
          6,
          7,
          9,
          10
         ],
         "yaxis": "y"
        },
        {
         "alignmentgroup": "True",
         "hovertemplate": "market_size=big<br>Team=%{x}<br>Number of Fanbase channels=%{y}<extra></extra>",
         "legendgroup": "big",
         "marker": {
          "color": "#00CC96",
          "pattern": {
           "shape": ""
          }
         },
         "name": "big",
         "offsetgroup": "big",
         "orientation": "v",
         "showlegend": true,
         "textposition": "auto",
         "type": "bar",
         "x": [
          "WSH",
          "DAL",
          "HOU",
          "PHX",
          "BOS",
          "PHI",
          "ATL",
          "GSW",
          "CHI",
          "NY",
          "TOR",
          "LAL"
         ],
         "xaxis": "x",
         "y": [
          4,
          4,
          6,
          6,
          7,
          7,
          10,
          13,
          19,
          19,
          22,
          38
         ],
         "yaxis": "y"
        }
       ],
       "layout": {
        "barmode": "relative",
        "legend": {
         "title": {
          "text": "market_size"
         },
         "tracegroupgap": 0
        },
        "margin": {
         "t": 60
        },
        "template": {
         "data": {
          "bar": [
           {
            "error_x": {
             "color": "#2a3f5f"
            },
            "error_y": {
             "color": "#2a3f5f"
            },
            "marker": {
             "line": {
              "color": "#E5ECF6",
              "width": 0.5
             },
             "pattern": {
              "fillmode": "overlay",
              "size": 10,
              "solidity": 0.2
             }
            },
            "type": "bar"
           }
          ],
          "barpolar": [
           {
            "marker": {
             "line": {
              "color": "#E5ECF6",
              "width": 0.5
             },
             "pattern": {
              "fillmode": "overlay",
              "size": 10,
              "solidity": 0.2
             }
            },
            "type": "barpolar"
           }
          ],
          "carpet": [
           {
            "aaxis": {
             "endlinecolor": "#2a3f5f",
             "gridcolor": "white",
             "linecolor": "white",
             "minorgridcolor": "white",
             "startlinecolor": "#2a3f5f"
            },
            "baxis": {
             "endlinecolor": "#2a3f5f",
             "gridcolor": "white",
             "linecolor": "white",
             "minorgridcolor": "white",
             "startlinecolor": "#2a3f5f"
            },
            "type": "carpet"
           }
          ],
          "choropleth": [
           {
            "colorbar": {
             "outlinewidth": 0,
             "ticks": ""
            },
            "type": "choropleth"
           }
          ],
          "contour": [
           {
            "colorbar": {
             "outlinewidth": 0,
             "ticks": ""
            },
            "colorscale": [
             [
              0,
              "#0d0887"
             ],
             [
              0.1111111111111111,
              "#46039f"
             ],
             [
              0.2222222222222222,
              "#7201a8"
             ],
             [
              0.3333333333333333,
              "#9c179e"
             ],
             [
              0.4444444444444444,
              "#bd3786"
             ],
             [
              0.5555555555555556,
              "#d8576b"
             ],
             [
              0.6666666666666666,
              "#ed7953"
             ],
             [
              0.7777777777777778,
              "#fb9f3a"
             ],
             [
              0.8888888888888888,
              "#fdca26"
             ],
             [
              1,
              "#f0f921"
             ]
            ],
            "type": "contour"
           }
          ],
          "contourcarpet": [
           {
            "colorbar": {
             "outlinewidth": 0,
             "ticks": ""
            },
            "type": "contourcarpet"
           }
          ],
          "heatmap": [
           {
            "colorbar": {
             "outlinewidth": 0,
             "ticks": ""
            },
            "colorscale": [
             [
              0,
              "#0d0887"
             ],
             [
              0.1111111111111111,
              "#46039f"
             ],
             [
              0.2222222222222222,
              "#7201a8"
             ],
             [
              0.3333333333333333,
              "#9c179e"
             ],
             [
              0.4444444444444444,
              "#bd3786"
             ],
             [
              0.5555555555555556,
              "#d8576b"
             ],
             [
              0.6666666666666666,
              "#ed7953"
             ],
             [
              0.7777777777777778,
              "#fb9f3a"
             ],
             [
              0.8888888888888888,
              "#fdca26"
             ],
             [
              1,
              "#f0f921"
             ]
            ],
            "type": "heatmap"
           }
          ],
          "heatmapgl": [
           {
            "colorbar": {
             "outlinewidth": 0,
             "ticks": ""
            },
            "colorscale": [
             [
              0,
              "#0d0887"
             ],
             [
              0.1111111111111111,
              "#46039f"
             ],
             [
              0.2222222222222222,
              "#7201a8"
             ],
             [
              0.3333333333333333,
              "#9c179e"
             ],
             [
              0.4444444444444444,
              "#bd3786"
             ],
             [
              0.5555555555555556,
              "#d8576b"
             ],
             [
              0.6666666666666666,
              "#ed7953"
             ],
             [
              0.7777777777777778,
              "#fb9f3a"
             ],
             [
              0.8888888888888888,
              "#fdca26"
             ],
             [
              1,
              "#f0f921"
             ]
            ],
            "type": "heatmapgl"
           }
          ],
          "histogram": [
           {
            "marker": {
             "pattern": {
              "fillmode": "overlay",
              "size": 10,
              "solidity": 0.2
             }
            },
            "type": "histogram"
           }
          ],
          "histogram2d": [
           {
            "colorbar": {
             "outlinewidth": 0,
             "ticks": ""
            },
            "colorscale": [
             [
              0,
              "#0d0887"
             ],
             [
              0.1111111111111111,
              "#46039f"
             ],
             [
              0.2222222222222222,
              "#7201a8"
             ],
             [
              0.3333333333333333,
              "#9c179e"
             ],
             [
              0.4444444444444444,
              "#bd3786"
             ],
             [
              0.5555555555555556,
              "#d8576b"
             ],
             [
              0.6666666666666666,
              "#ed7953"
             ],
             [
              0.7777777777777778,
              "#fb9f3a"
             ],
             [
              0.8888888888888888,
              "#fdca26"
             ],
             [
              1,
              "#f0f921"
             ]
            ],
            "type": "histogram2d"
           }
          ],
          "histogram2dcontour": [
           {
            "colorbar": {
             "outlinewidth": 0,
             "ticks": ""
            },
            "colorscale": [
             [
              0,
              "#0d0887"
             ],
             [
              0.1111111111111111,
              "#46039f"
             ],
             [
              0.2222222222222222,
              "#7201a8"
             ],
             [
              0.3333333333333333,
              "#9c179e"
             ],
             [
              0.4444444444444444,
              "#bd3786"
             ],
             [
              0.5555555555555556,
              "#d8576b"
             ],
             [
              0.6666666666666666,
              "#ed7953"
             ],
             [
              0.7777777777777778,
              "#fb9f3a"
             ],
             [
              0.8888888888888888,
              "#fdca26"
             ],
             [
              1,
              "#f0f921"
             ]
            ],
            "type": "histogram2dcontour"
           }
          ],
          "mesh3d": [
           {
            "colorbar": {
             "outlinewidth": 0,
             "ticks": ""
            },
            "type": "mesh3d"
           }
          ],
          "parcoords": [
           {
            "line": {
             "colorbar": {
              "outlinewidth": 0,
              "ticks": ""
             }
            },
            "type": "parcoords"
           }
          ],
          "pie": [
           {
            "automargin": true,
            "type": "pie"
           }
          ],
          "scatter": [
           {
            "fillpattern": {
             "fillmode": "overlay",
             "size": 10,
             "solidity": 0.2
            },
            "type": "scatter"
           }
          ],
          "scatter3d": [
           {
            "line": {
             "colorbar": {
              "outlinewidth": 0,
              "ticks": ""
             }
            },
            "marker": {
             "colorbar": {
              "outlinewidth": 0,
              "ticks": ""
             }
            },
            "type": "scatter3d"
           }
          ],
          "scattercarpet": [
           {
            "marker": {
             "colorbar": {
              "outlinewidth": 0,
              "ticks": ""
             }
            },
            "type": "scattercarpet"
           }
          ],
          "scattergeo": [
           {
            "marker": {
             "colorbar": {
              "outlinewidth": 0,
              "ticks": ""
             }
            },
            "type": "scattergeo"
           }
          ],
          "scattergl": [
           {
            "marker": {
             "colorbar": {
              "outlinewidth": 0,
              "ticks": ""
             }
            },
            "type": "scattergl"
           }
          ],
          "scattermapbox": [
           {
            "marker": {
             "colorbar": {
              "outlinewidth": 0,
              "ticks": ""
             }
            },
            "type": "scattermapbox"
           }
          ],
          "scatterpolar": [
           {
            "marker": {
             "colorbar": {
              "outlinewidth": 0,
              "ticks": ""
             }
            },
            "type": "scatterpolar"
           }
          ],
          "scatterpolargl": [
           {
            "marker": {
             "colorbar": {
              "outlinewidth": 0,
              "ticks": ""
             }
            },
            "type": "scatterpolargl"
           }
          ],
          "scatterternary": [
           {
            "marker": {
             "colorbar": {
              "outlinewidth": 0,
              "ticks": ""
             }
            },
            "type": "scatterternary"
           }
          ],
          "surface": [
           {
            "colorbar": {
             "outlinewidth": 0,
             "ticks": ""
            },
            "colorscale": [
             [
              0,
              "#0d0887"
             ],
             [
              0.1111111111111111,
              "#46039f"
             ],
             [
              0.2222222222222222,
              "#7201a8"
             ],
             [
              0.3333333333333333,
              "#9c179e"
             ],
             [
              0.4444444444444444,
              "#bd3786"
             ],
             [
              0.5555555555555556,
              "#d8576b"
             ],
             [
              0.6666666666666666,
              "#ed7953"
             ],
             [
              0.7777777777777778,
              "#fb9f3a"
             ],
             [
              0.8888888888888888,
              "#fdca26"
             ],
             [
              1,
              "#f0f921"
             ]
            ],
            "type": "surface"
           }
          ],
          "table": [
           {
            "cells": {
             "fill": {
              "color": "#EBF0F8"
             },
             "line": {
              "color": "white"
             }
            },
            "header": {
             "fill": {
              "color": "#C8D4E3"
             },
             "line": {
              "color": "white"
             }
            },
            "type": "table"
           }
          ]
         },
         "layout": {
          "annotationdefaults": {
           "arrowcolor": "#2a3f5f",
           "arrowhead": 0,
           "arrowwidth": 1
          },
          "autotypenumbers": "strict",
          "coloraxis": {
           "colorbar": {
            "outlinewidth": 0,
            "ticks": ""
           }
          },
          "colorscale": {
           "diverging": [
            [
             0,
             "#8e0152"
            ],
            [
             0.1,
             "#c51b7d"
            ],
            [
             0.2,
             "#de77ae"
            ],
            [
             0.3,
             "#f1b6da"
            ],
            [
             0.4,
             "#fde0ef"
            ],
            [
             0.5,
             "#f7f7f7"
            ],
            [
             0.6,
             "#e6f5d0"
            ],
            [
             0.7,
             "#b8e186"
            ],
            [
             0.8,
             "#7fbc41"
            ],
            [
             0.9,
             "#4d9221"
            ],
            [
             1,
             "#276419"
            ]
           ],
           "sequential": [
            [
             0,
             "#0d0887"
            ],
            [
             0.1111111111111111,
             "#46039f"
            ],
            [
             0.2222222222222222,
             "#7201a8"
            ],
            [
             0.3333333333333333,
             "#9c179e"
            ],
            [
             0.4444444444444444,
             "#bd3786"
            ],
            [
             0.5555555555555556,
             "#d8576b"
            ],
            [
             0.6666666666666666,
             "#ed7953"
            ],
            [
             0.7777777777777778,
             "#fb9f3a"
            ],
            [
             0.8888888888888888,
             "#fdca26"
            ],
            [
             1,
             "#f0f921"
            ]
           ],
           "sequentialminus": [
            [
             0,
             "#0d0887"
            ],
            [
             0.1111111111111111,
             "#46039f"
            ],
            [
             0.2222222222222222,
             "#7201a8"
            ],
            [
             0.3333333333333333,
             "#9c179e"
            ],
            [
             0.4444444444444444,
             "#bd3786"
            ],
            [
             0.5555555555555556,
             "#d8576b"
            ],
            [
             0.6666666666666666,
             "#ed7953"
            ],
            [
             0.7777777777777778,
             "#fb9f3a"
            ],
            [
             0.8888888888888888,
             "#fdca26"
            ],
            [
             1,
             "#f0f921"
            ]
           ]
          },
          "colorway": [
           "#636efa",
           "#EF553B",
           "#00cc96",
           "#ab63fa",
           "#FFA15A",
           "#19d3f3",
           "#FF6692",
           "#B6E880",
           "#FF97FF",
           "#FECB52"
          ],
          "font": {
           "color": "#2a3f5f"
          },
          "geo": {
           "bgcolor": "white",
           "lakecolor": "white",
           "landcolor": "#E5ECF6",
           "showlakes": true,
           "showland": true,
           "subunitcolor": "white"
          },
          "hoverlabel": {
           "align": "left"
          },
          "hovermode": "closest",
          "mapbox": {
           "style": "light"
          },
          "paper_bgcolor": "white",
          "plot_bgcolor": "#E5ECF6",
          "polar": {
           "angularaxis": {
            "gridcolor": "white",
            "linecolor": "white",
            "ticks": ""
           },
           "bgcolor": "#E5ECF6",
           "radialaxis": {
            "gridcolor": "white",
            "linecolor": "white",
            "ticks": ""
           }
          },
          "scene": {
           "xaxis": {
            "backgroundcolor": "#E5ECF6",
            "gridcolor": "white",
            "gridwidth": 2,
            "linecolor": "white",
            "showbackground": true,
            "ticks": "",
            "zerolinecolor": "white"
           },
           "yaxis": {
            "backgroundcolor": "#E5ECF6",
            "gridcolor": "white",
            "gridwidth": 2,
            "linecolor": "white",
            "showbackground": true,
            "ticks": "",
            "zerolinecolor": "white"
           },
           "zaxis": {
            "backgroundcolor": "#E5ECF6",
            "gridcolor": "white",
            "gridwidth": 2,
            "linecolor": "white",
            "showbackground": true,
            "ticks": "",
            "zerolinecolor": "white"
           }
          },
          "shapedefaults": {
           "line": {
            "color": "#2a3f5f"
           }
          },
          "ternary": {
           "aaxis": {
            "gridcolor": "white",
            "linecolor": "white",
            "ticks": ""
           },
           "baxis": {
            "gridcolor": "white",
            "linecolor": "white",
            "ticks": ""
           },
           "bgcolor": "#E5ECF6",
           "caxis": {
            "gridcolor": "white",
            "linecolor": "white",
            "ticks": ""
           }
          },
          "title": {
           "x": 0.05
          },
          "xaxis": {
           "automargin": true,
           "gridcolor": "white",
           "linecolor": "white",
           "ticks": "",
           "title": {
            "standoff": 15
           },
           "zerolinecolor": "white",
           "zerolinewidth": 2
          },
          "yaxis": {
           "automargin": true,
           "gridcolor": "white",
           "linecolor": "white",
           "ticks": "",
           "title": {
            "standoff": 15
           },
           "zerolinecolor": "white",
           "zerolinewidth": 2
          }
         }
        },
        "width": 800,
        "xaxis": {
         "anchor": "y",
         "categoryorder": "total ascending",
         "domain": [
          0,
          1
         ],
         "title": {
          "text": "Team"
         }
        },
        "yaxis": {
         "anchor": "x",
         "domain": [
          0,
          1
         ],
         "title": {
          "text": "Number of Fanbase channels"
         }
        }
       }
      }
     },
     "metadata": {},
     "output_type": "display_data"
    }
   ],
   "source": [
    "# Visualizing the number of channels per team and keep the same color for each team\n",
    "fig = px.bar(\n",
    "    fanbase_channels_df,\n",
    "    x=\"team\",\n",
    "    y=\"ratio\",\n",
    "    labels={\"ratio\": \"Number of Fanbase channels\", \"team\": \"Team\"},\n",
    "    color=\"market_size\",\n",
    "    color_discrete_map=color_discrete_map,\n",
    "    width=800,\n",
    ")\n",
    "# fig.update_layout(title={\"text\": \"Number of FanBase Channels per Team\", \"x\": 0.5, \"xanchor\": \"center\"})\n",
    "fig.update_layout(xaxis_categoryorder=\"total ascending\")\n",
    "fig.show()\n",
    "\n",
    "# py.plot(fig, filename=\"fanbase_chaneneks_per_team\", auto_open=False)"
   ]
  },
  {
   "cell_type": "markdown",
   "id": "217c4791",
   "metadata": {},
   "source": [
    "### THE BIG NAMES BIAS"
   ]
  },
  {
   "cell_type": "code",
   "execution_count": 37,
   "id": "067d824c",
   "metadata": {},
   "outputs": [],
   "source": [
    "# Computing the fan engagement on each market size\n",
    "engagement_df = all_team_df.groupby([\"market_size\"]).sum()\n",
    "engagement_df[\"engagement\"] = (engagement_df.like_count / engagement_df.view_count) * 1000"
   ]
  },
  {
   "cell_type": "code",
   "execution_count": 38,
   "id": "762705bb",
   "metadata": {},
   "outputs": [],
   "source": [
    "# Visualizing the fans engagement on each market size\n",
    "fig = px.bar(\n",
    "    engagement_df.sort_values(\"engagement\").reset_index(),\n",
    "    x=\"market_size\",\n",
    "    y=\"engagement\",\n",
    "    width=600,\n",
    "    labels={\"market_size\": \"Market Size\", \"engagement\": \"Engagement ratio (Likes/Views x 1000)\"},\n",
    "    range_y=[7, 10],\n",
    "    color=\"market_size\",\n",
    "    color_discrete_map=color_discrete_map,\n",
    ")\n",
    "# remove legend\n",
    "fig.update_layout(showlegend=False)\n",
    "# fig.update_layout(title={\"text\": \"Engagement by Market Size\", \"x\": 0.5, \"xanchor\": \"center\"})\n",
    "fig.show()\n",
    "\n",
    "py.plot(fig, filename=\"engagement_market_size_wt\", auto_open=False)"
   ]
  },
  {
   "cell_type": "markdown",
   "id": "616d8224",
   "metadata": {},
   "source": [
    "### Impact of a star player on a team"
   ]
  },
  {
   "cell_type": "code",
   "execution_count": 39,
   "id": "748eb0e1",
   "metadata": {},
   "outputs": [],
   "source": [
    "con = sqlite3.connect(\"data/nba_api.sqlite\")\n",
    "\n",
    "# get df with winning percentage over last 15 games per team\n",
    "df_win_pct = pd.read_sql(\n",
    "    \"\"\"\n",
    "select abbreviation as team, round(last_15/15*100, 2) as win_pct, strftime('%Y-%m-01',time) as year_month \n",
    "from game_data gd \n",
    "join teams t on gd.home = t.full_name \n",
    "where last_15 is not null and year_month between '2006-01-01' and '2019-12-31'\n",
    "group by abbreviation, time \n",
    "order by year_month desc\n",
    "\"\"\",\n",
    "    con,\n",
    ")"
   ]
  },
  {
   "cell_type": "code",
   "execution_count": 40,
   "id": "cd74ceb6",
   "metadata": {},
   "outputs": [],
   "source": [
    "# obtain statistics on movement of views per team over time\n",
    "df = pd.read_csv(\"data/28_nba_team_results.csv\", parse_dates=[\"year_month\"])\n",
    "\n",
    "df.sort_values(\"year_month\", inplace=True)\n",
    "df[\"team_pct_increase_in_views\"] = df[\"total_nba_views\"].pct_change()\n",
    "df_all_teams_pct_increase_in_views = (\n",
    "    df[[\"year_month\", \"total_nba_views\"]].groupby(\"year_month\").agg(all_teams_pct_increase_in_views=(\"total_nba_views\", sum)).reset_index()\n",
    ")\n",
    "df_all_teams_pct_increase_in_views[\"all_teams_pct_increase_in_views\"] = df_all_teams_pct_increase_in_views[\n",
    "    \"all_teams_pct_increase_in_views\"\n",
    "].pct_change()\n",
    "df = df.merge(df_all_teams_pct_increase_in_views)\n",
    "df[\"team_vs_nba_pct_differential\"] = df[\"team_pct_increase_in_views\"] - df[\"all_teams_pct_increase_in_views\"]\n",
    "df = df[[\"year_month\", \"view_count\", \"team\"]]"
   ]
  },
  {
   "cell_type": "code",
   "execution_count": 41,
   "id": "043e474b",
   "metadata": {},
   "outputs": [
    {
     "data": {
      "application/vnd.plotly.v1+json": {
       "config": {
        "plotlyServerURL": "https://plotly.com"
       },
       "data": [
        {
         "mode": "lines",
         "name": "GSW (joined)",
         "type": "scatter",
         "x": [
          "2015-01-01T00:00:00",
          "2015-02-01T00:00:00",
          "2015-03-01T00:00:00",
          "2015-04-01T00:00:00",
          "2015-05-01T00:00:00",
          "2015-06-01T00:00:00",
          "2015-07-01T00:00:00",
          "2015-08-01T00:00:00",
          "2015-09-01T00:00:00",
          "2015-10-01T00:00:00",
          "2015-11-01T00:00:00",
          "2015-12-01T00:00:00",
          "2016-01-01T00:00:00",
          "2016-02-01T00:00:00",
          "2016-03-01T00:00:00",
          "2016-04-01T00:00:00",
          "2016-05-01T00:00:00",
          "2016-06-01T00:00:00",
          "2016-07-01T00:00:00",
          "2016-08-01T00:00:00",
          "2016-09-01T00:00:00",
          "2016-10-01T00:00:00",
          "2016-11-01T00:00:00",
          "2016-12-01T00:00:00",
          "2017-01-01T00:00:00",
          "2017-02-01T00:00:00",
          "2017-03-01T00:00:00",
          "2017-04-01T00:00:00",
          "2017-05-01T00:00:00",
          "2017-06-01T00:00:00",
          "2017-07-01T00:00:00",
          "2017-08-01T00:00:00",
          "2017-09-01T00:00:00",
          "2017-10-01T00:00:00",
          "2017-11-01T00:00:00",
          "2017-12-01T00:00:00",
          "2018-01-01T00:00:00"
         ],
         "y": [
          5888215,
          1395802,
          6420448,
          2778697,
          16613622,
          24403094,
          1887168,
          6604651,
          774437,
          7179283,
          4827717,
          3685299,
          10614323,
          8641625,
          20993715,
          16013011,
          21800495,
          89615272,
          7239115,
          4654924,
          26731131,
          14744629,
          10047659,
          44916802,
          20909906,
          29342671,
          21020071,
          30824773,
          70157117,
          169265851,
          31001342,
          51834554,
          21239916,
          59782895,
          79960213,
          58108016,
          60372301
         ]
        },
        {
         "mode": "lines",
         "name": "OKC (left)",
         "type": "scatter",
         "x": [
          "2015-01-01T00:00:00",
          "2015-02-01T00:00:00",
          "2015-03-01T00:00:00",
          "2015-04-01T00:00:00",
          "2015-05-01T00:00:00",
          "2015-06-01T00:00:00",
          "2015-07-01T00:00:00",
          "2015-08-01T00:00:00",
          "2015-09-01T00:00:00",
          "2015-10-01T00:00:00",
          "2015-11-01T00:00:00",
          "2015-12-01T00:00:00",
          "2016-01-01T00:00:00",
          "2016-02-01T00:00:00",
          "2016-03-01T00:00:00",
          "2016-04-01T00:00:00",
          "2016-05-01T00:00:00",
          "2016-06-01T00:00:00",
          "2016-07-01T00:00:00",
          "2016-08-01T00:00:00",
          "2016-09-01T00:00:00",
          "2016-10-01T00:00:00",
          "2016-11-01T00:00:00",
          "2016-12-01T00:00:00",
          "2017-01-01T00:00:00",
          "2017-02-01T00:00:00",
          "2017-03-01T00:00:00",
          "2017-04-01T00:00:00",
          "2017-05-01T00:00:00",
          "2017-06-01T00:00:00",
          "2017-07-01T00:00:00",
          "2017-08-01T00:00:00",
          "2017-09-01T00:00:00",
          "2017-10-01T00:00:00",
          "2017-11-01T00:00:00",
          "2017-12-01T00:00:00",
          "2018-01-01T00:00:00"
         ],
         "y": [
          23528,
          85858,
          3573980,
          57565,
          15357726,
          100355,
          542706,
          91747,
          256317,
          28698942,
          385044,
          587612,
          1635570,
          1489172,
          1270017,
          1059218,
          5894122,
          1357405,
          4371318,
          638226,
          783279,
          4352836,
          5545596,
          6346864,
          4872553,
          4784899,
          5510292,
          11697132,
          4501696,
          5083283,
          6375733,
          8320791,
          10700972,
          8771847,
          22403942,
          16691331,
          13274680
         ]
        },
        {
         "line": {
          "color": "green",
          "dash": "dash",
          "width": 2
         },
         "mode": "lines",
         "name": "Kevin Durant signing",
         "type": "scatter",
         "x": [
          "2016-07-04",
          "2016-07-04"
         ],
         "y": [
          23528,
          169265851
         ]
        }
       ],
       "layout": {
        "template": {
         "data": {
          "bar": [
           {
            "error_x": {
             "color": "#2a3f5f"
            },
            "error_y": {
             "color": "#2a3f5f"
            },
            "marker": {
             "line": {
              "color": "#E5ECF6",
              "width": 0.5
             },
             "pattern": {
              "fillmode": "overlay",
              "size": 10,
              "solidity": 0.2
             }
            },
            "type": "bar"
           }
          ],
          "barpolar": [
           {
            "marker": {
             "line": {
              "color": "#E5ECF6",
              "width": 0.5
             },
             "pattern": {
              "fillmode": "overlay",
              "size": 10,
              "solidity": 0.2
             }
            },
            "type": "barpolar"
           }
          ],
          "carpet": [
           {
            "aaxis": {
             "endlinecolor": "#2a3f5f",
             "gridcolor": "white",
             "linecolor": "white",
             "minorgridcolor": "white",
             "startlinecolor": "#2a3f5f"
            },
            "baxis": {
             "endlinecolor": "#2a3f5f",
             "gridcolor": "white",
             "linecolor": "white",
             "minorgridcolor": "white",
             "startlinecolor": "#2a3f5f"
            },
            "type": "carpet"
           }
          ],
          "choropleth": [
           {
            "colorbar": {
             "outlinewidth": 0,
             "ticks": ""
            },
            "type": "choropleth"
           }
          ],
          "contour": [
           {
            "colorbar": {
             "outlinewidth": 0,
             "ticks": ""
            },
            "colorscale": [
             [
              0,
              "#0d0887"
             ],
             [
              0.1111111111111111,
              "#46039f"
             ],
             [
              0.2222222222222222,
              "#7201a8"
             ],
             [
              0.3333333333333333,
              "#9c179e"
             ],
             [
              0.4444444444444444,
              "#bd3786"
             ],
             [
              0.5555555555555556,
              "#d8576b"
             ],
             [
              0.6666666666666666,
              "#ed7953"
             ],
             [
              0.7777777777777778,
              "#fb9f3a"
             ],
             [
              0.8888888888888888,
              "#fdca26"
             ],
             [
              1,
              "#f0f921"
             ]
            ],
            "type": "contour"
           }
          ],
          "contourcarpet": [
           {
            "colorbar": {
             "outlinewidth": 0,
             "ticks": ""
            },
            "type": "contourcarpet"
           }
          ],
          "heatmap": [
           {
            "colorbar": {
             "outlinewidth": 0,
             "ticks": ""
            },
            "colorscale": [
             [
              0,
              "#0d0887"
             ],
             [
              0.1111111111111111,
              "#46039f"
             ],
             [
              0.2222222222222222,
              "#7201a8"
             ],
             [
              0.3333333333333333,
              "#9c179e"
             ],
             [
              0.4444444444444444,
              "#bd3786"
             ],
             [
              0.5555555555555556,
              "#d8576b"
             ],
             [
              0.6666666666666666,
              "#ed7953"
             ],
             [
              0.7777777777777778,
              "#fb9f3a"
             ],
             [
              0.8888888888888888,
              "#fdca26"
             ],
             [
              1,
              "#f0f921"
             ]
            ],
            "type": "heatmap"
           }
          ],
          "heatmapgl": [
           {
            "colorbar": {
             "outlinewidth": 0,
             "ticks": ""
            },
            "colorscale": [
             [
              0,
              "#0d0887"
             ],
             [
              0.1111111111111111,
              "#46039f"
             ],
             [
              0.2222222222222222,
              "#7201a8"
             ],
             [
              0.3333333333333333,
              "#9c179e"
             ],
             [
              0.4444444444444444,
              "#bd3786"
             ],
             [
              0.5555555555555556,
              "#d8576b"
             ],
             [
              0.6666666666666666,
              "#ed7953"
             ],
             [
              0.7777777777777778,
              "#fb9f3a"
             ],
             [
              0.8888888888888888,
              "#fdca26"
             ],
             [
              1,
              "#f0f921"
             ]
            ],
            "type": "heatmapgl"
           }
          ],
          "histogram": [
           {
            "marker": {
             "pattern": {
              "fillmode": "overlay",
              "size": 10,
              "solidity": 0.2
             }
            },
            "type": "histogram"
           }
          ],
          "histogram2d": [
           {
            "colorbar": {
             "outlinewidth": 0,
             "ticks": ""
            },
            "colorscale": [
             [
              0,
              "#0d0887"
             ],
             [
              0.1111111111111111,
              "#46039f"
             ],
             [
              0.2222222222222222,
              "#7201a8"
             ],
             [
              0.3333333333333333,
              "#9c179e"
             ],
             [
              0.4444444444444444,
              "#bd3786"
             ],
             [
              0.5555555555555556,
              "#d8576b"
             ],
             [
              0.6666666666666666,
              "#ed7953"
             ],
             [
              0.7777777777777778,
              "#fb9f3a"
             ],
             [
              0.8888888888888888,
              "#fdca26"
             ],
             [
              1,
              "#f0f921"
             ]
            ],
            "type": "histogram2d"
           }
          ],
          "histogram2dcontour": [
           {
            "colorbar": {
             "outlinewidth": 0,
             "ticks": ""
            },
            "colorscale": [
             [
              0,
              "#0d0887"
             ],
             [
              0.1111111111111111,
              "#46039f"
             ],
             [
              0.2222222222222222,
              "#7201a8"
             ],
             [
              0.3333333333333333,
              "#9c179e"
             ],
             [
              0.4444444444444444,
              "#bd3786"
             ],
             [
              0.5555555555555556,
              "#d8576b"
             ],
             [
              0.6666666666666666,
              "#ed7953"
             ],
             [
              0.7777777777777778,
              "#fb9f3a"
             ],
             [
              0.8888888888888888,
              "#fdca26"
             ],
             [
              1,
              "#f0f921"
             ]
            ],
            "type": "histogram2dcontour"
           }
          ],
          "mesh3d": [
           {
            "colorbar": {
             "outlinewidth": 0,
             "ticks": ""
            },
            "type": "mesh3d"
           }
          ],
          "parcoords": [
           {
            "line": {
             "colorbar": {
              "outlinewidth": 0,
              "ticks": ""
             }
            },
            "type": "parcoords"
           }
          ],
          "pie": [
           {
            "automargin": true,
            "type": "pie"
           }
          ],
          "scatter": [
           {
            "fillpattern": {
             "fillmode": "overlay",
             "size": 10,
             "solidity": 0.2
            },
            "type": "scatter"
           }
          ],
          "scatter3d": [
           {
            "line": {
             "colorbar": {
              "outlinewidth": 0,
              "ticks": ""
             }
            },
            "marker": {
             "colorbar": {
              "outlinewidth": 0,
              "ticks": ""
             }
            },
            "type": "scatter3d"
           }
          ],
          "scattercarpet": [
           {
            "marker": {
             "colorbar": {
              "outlinewidth": 0,
              "ticks": ""
             }
            },
            "type": "scattercarpet"
           }
          ],
          "scattergeo": [
           {
            "marker": {
             "colorbar": {
              "outlinewidth": 0,
              "ticks": ""
             }
            },
            "type": "scattergeo"
           }
          ],
          "scattergl": [
           {
            "marker": {
             "colorbar": {
              "outlinewidth": 0,
              "ticks": ""
             }
            },
            "type": "scattergl"
           }
          ],
          "scattermapbox": [
           {
            "marker": {
             "colorbar": {
              "outlinewidth": 0,
              "ticks": ""
             }
            },
            "type": "scattermapbox"
           }
          ],
          "scatterpolar": [
           {
            "marker": {
             "colorbar": {
              "outlinewidth": 0,
              "ticks": ""
             }
            },
            "type": "scatterpolar"
           }
          ],
          "scatterpolargl": [
           {
            "marker": {
             "colorbar": {
              "outlinewidth": 0,
              "ticks": ""
             }
            },
            "type": "scatterpolargl"
           }
          ],
          "scatterternary": [
           {
            "marker": {
             "colorbar": {
              "outlinewidth": 0,
              "ticks": ""
             }
            },
            "type": "scatterternary"
           }
          ],
          "surface": [
           {
            "colorbar": {
             "outlinewidth": 0,
             "ticks": ""
            },
            "colorscale": [
             [
              0,
              "#0d0887"
             ],
             [
              0.1111111111111111,
              "#46039f"
             ],
             [
              0.2222222222222222,
              "#7201a8"
             ],
             [
              0.3333333333333333,
              "#9c179e"
             ],
             [
              0.4444444444444444,
              "#bd3786"
             ],
             [
              0.5555555555555556,
              "#d8576b"
             ],
             [
              0.6666666666666666,
              "#ed7953"
             ],
             [
              0.7777777777777778,
              "#fb9f3a"
             ],
             [
              0.8888888888888888,
              "#fdca26"
             ],
             [
              1,
              "#f0f921"
             ]
            ],
            "type": "surface"
           }
          ],
          "table": [
           {
            "cells": {
             "fill": {
              "color": "#EBF0F8"
             },
             "line": {
              "color": "white"
             }
            },
            "header": {
             "fill": {
              "color": "#C8D4E3"
             },
             "line": {
              "color": "white"
             }
            },
            "type": "table"
           }
          ]
         },
         "layout": {
          "annotationdefaults": {
           "arrowcolor": "#2a3f5f",
           "arrowhead": 0,
           "arrowwidth": 1
          },
          "autotypenumbers": "strict",
          "coloraxis": {
           "colorbar": {
            "outlinewidth": 0,
            "ticks": ""
           }
          },
          "colorscale": {
           "diverging": [
            [
             0,
             "#8e0152"
            ],
            [
             0.1,
             "#c51b7d"
            ],
            [
             0.2,
             "#de77ae"
            ],
            [
             0.3,
             "#f1b6da"
            ],
            [
             0.4,
             "#fde0ef"
            ],
            [
             0.5,
             "#f7f7f7"
            ],
            [
             0.6,
             "#e6f5d0"
            ],
            [
             0.7,
             "#b8e186"
            ],
            [
             0.8,
             "#7fbc41"
            ],
            [
             0.9,
             "#4d9221"
            ],
            [
             1,
             "#276419"
            ]
           ],
           "sequential": [
            [
             0,
             "#0d0887"
            ],
            [
             0.1111111111111111,
             "#46039f"
            ],
            [
             0.2222222222222222,
             "#7201a8"
            ],
            [
             0.3333333333333333,
             "#9c179e"
            ],
            [
             0.4444444444444444,
             "#bd3786"
            ],
            [
             0.5555555555555556,
             "#d8576b"
            ],
            [
             0.6666666666666666,
             "#ed7953"
            ],
            [
             0.7777777777777778,
             "#fb9f3a"
            ],
            [
             0.8888888888888888,
             "#fdca26"
            ],
            [
             1,
             "#f0f921"
            ]
           ],
           "sequentialminus": [
            [
             0,
             "#0d0887"
            ],
            [
             0.1111111111111111,
             "#46039f"
            ],
            [
             0.2222222222222222,
             "#7201a8"
            ],
            [
             0.3333333333333333,
             "#9c179e"
            ],
            [
             0.4444444444444444,
             "#bd3786"
            ],
            [
             0.5555555555555556,
             "#d8576b"
            ],
            [
             0.6666666666666666,
             "#ed7953"
            ],
            [
             0.7777777777777778,
             "#fb9f3a"
            ],
            [
             0.8888888888888888,
             "#fdca26"
            ],
            [
             1,
             "#f0f921"
            ]
           ]
          },
          "colorway": [
           "#636efa",
           "#EF553B",
           "#00cc96",
           "#ab63fa",
           "#FFA15A",
           "#19d3f3",
           "#FF6692",
           "#B6E880",
           "#FF97FF",
           "#FECB52"
          ],
          "font": {
           "color": "#2a3f5f"
          },
          "geo": {
           "bgcolor": "white",
           "lakecolor": "white",
           "landcolor": "#E5ECF6",
           "showlakes": true,
           "showland": true,
           "subunitcolor": "white"
          },
          "hoverlabel": {
           "align": "left"
          },
          "hovermode": "closest",
          "mapbox": {
           "style": "light"
          },
          "paper_bgcolor": "white",
          "plot_bgcolor": "#E5ECF6",
          "polar": {
           "angularaxis": {
            "gridcolor": "white",
            "linecolor": "white",
            "ticks": ""
           },
           "bgcolor": "#E5ECF6",
           "radialaxis": {
            "gridcolor": "white",
            "linecolor": "white",
            "ticks": ""
           }
          },
          "scene": {
           "xaxis": {
            "backgroundcolor": "#E5ECF6",
            "gridcolor": "white",
            "gridwidth": 2,
            "linecolor": "white",
            "showbackground": true,
            "ticks": "",
            "zerolinecolor": "white"
           },
           "yaxis": {
            "backgroundcolor": "#E5ECF6",
            "gridcolor": "white",
            "gridwidth": 2,
            "linecolor": "white",
            "showbackground": true,
            "ticks": "",
            "zerolinecolor": "white"
           },
           "zaxis": {
            "backgroundcolor": "#E5ECF6",
            "gridcolor": "white",
            "gridwidth": 2,
            "linecolor": "white",
            "showbackground": true,
            "ticks": "",
            "zerolinecolor": "white"
           }
          },
          "shapedefaults": {
           "line": {
            "color": "#2a3f5f"
           }
          },
          "ternary": {
           "aaxis": {
            "gridcolor": "white",
            "linecolor": "white",
            "ticks": ""
           },
           "baxis": {
            "gridcolor": "white",
            "linecolor": "white",
            "ticks": ""
           },
           "bgcolor": "#E5ECF6",
           "caxis": {
            "gridcolor": "white",
            "linecolor": "white",
            "ticks": ""
           }
          },
          "title": {
           "x": 0.05
          },
          "xaxis": {
           "automargin": true,
           "gridcolor": "white",
           "linecolor": "white",
           "ticks": "",
           "title": {
            "standoff": 15
           },
           "zerolinecolor": "white",
           "zerolinewidth": 2
          },
          "yaxis": {
           "automargin": true,
           "gridcolor": "white",
           "linecolor": "white",
           "ticks": "",
           "title": {
            "standoff": 15
           },
           "zerolinecolor": "white",
           "zerolinewidth": 2
          }
         }
        },
        "width": 800,
        "xaxis": {
         "anchor": "y",
         "domain": [
          0,
          0.94
         ]
        },
        "yaxis": {
         "anchor": "x",
         "domain": [
          0,
          1
         ],
         "title": {
          "text": "Team-related <b>youtube</b> views"
         }
        },
        "yaxis2": {
         "anchor": "x",
         "overlaying": "y",
         "side": "right"
        }
       }
      }
     },
     "metadata": {},
     "output_type": "display_data"
    },
    {
     "data": {
      "application/vnd.plotly.v1+json": {
       "config": {
        "plotlyServerURL": "https://plotly.com"
       },
       "data": [
        {
         "mode": "lines",
         "name": "CLE (joined)",
         "type": "scatter",
         "x": [
          "2014-01-01T00:00:00",
          "2014-02-01T00:00:00",
          "2014-03-01T00:00:00",
          "2014-04-01T00:00:00",
          "2014-05-01T00:00:00",
          "2014-06-01T00:00:00",
          "2014-07-01T00:00:00",
          "2014-08-01T00:00:00",
          "2014-09-01T00:00:00",
          "2014-10-01T00:00:00",
          "2014-11-01T00:00:00",
          "2014-12-01T00:00:00",
          "2015-01-01T00:00:00",
          "2015-02-01T00:00:00",
          "2015-03-01T00:00:00",
          "2015-04-01T00:00:00",
          "2015-05-01T00:00:00",
          "2015-06-01T00:00:00",
          "2015-07-01T00:00:00",
          "2015-08-01T00:00:00",
          "2015-09-01T00:00:00",
          "2015-10-01T00:00:00",
          "2015-11-01T00:00:00",
          "2015-12-01T00:00:00",
          "2016-01-01T00:00:00",
          "2016-02-01T00:00:00",
          "2016-03-01T00:00:00",
          "2016-04-01T00:00:00",
          "2016-05-01T00:00:00",
          "2016-06-01T00:00:00",
          "2016-07-01T00:00:00",
          "2016-08-01T00:00:00",
          "2016-09-01T00:00:00",
          "2016-10-01T00:00:00",
          "2016-11-01T00:00:00",
          "2016-12-01T00:00:00",
          "2017-01-01T00:00:00"
         ],
         "y": [
          5498038,
          5479131,
          4420228,
          2035857,
          321283,
          1840138,
          6917389,
          425060,
          1000735,
          10643852,
          8171435,
          8373942,
          15765124,
          10251718,
          8511081,
          9061756,
          16377167,
          25338546,
          4745943,
          841662,
          5229979,
          7699881,
          5172769,
          5740051,
          4276928,
          2002219,
          13586152,
          3439014,
          12349494,
          116608092,
          3841272,
          5059303,
          3172906,
          5774124,
          10135999,
          24927663,
          22431400
         ]
        },
        {
         "mode": "lines",
         "name": "MIA (left)",
         "type": "scatter",
         "x": [
          "2014-01-01T00:00:00",
          "2014-02-01T00:00:00",
          "2014-03-01T00:00:00",
          "2014-04-01T00:00:00",
          "2014-05-01T00:00:00",
          "2014-06-01T00:00:00",
          "2014-07-01T00:00:00",
          "2014-08-01T00:00:00",
          "2014-09-01T00:00:00",
          "2014-10-01T00:00:00",
          "2014-11-01T00:00:00",
          "2014-12-01T00:00:00",
          "2015-01-01T00:00:00",
          "2015-02-01T00:00:00",
          "2015-03-01T00:00:00",
          "2015-04-01T00:00:00",
          "2015-05-01T00:00:00",
          "2015-06-01T00:00:00",
          "2015-07-01T00:00:00",
          "2015-08-01T00:00:00",
          "2015-09-01T00:00:00",
          "2015-10-01T00:00:00",
          "2015-11-01T00:00:00",
          "2015-12-01T00:00:00",
          "2016-01-01T00:00:00",
          "2016-02-01T00:00:00",
          "2016-03-01T00:00:00",
          "2016-04-01T00:00:00",
          "2016-05-01T00:00:00",
          "2016-06-01T00:00:00",
          "2016-07-01T00:00:00",
          "2016-08-01T00:00:00",
          "2016-09-01T00:00:00",
          "2016-10-01T00:00:00",
          "2016-11-01T00:00:00",
          "2016-12-01T00:00:00",
          "2017-01-01T00:00:00"
         ],
         "y": [
          27859286,
          34624538,
          19765536,
          15142014,
          16534522,
          23469666,
          9298681,
          6003103,
          6414802,
          23124966,
          14513183,
          6986094,
          11402945,
          6200111,
          8236766,
          10273005,
          28021966,
          3689416,
          4543187,
          717091,
          2681779,
          34063003,
          18417677,
          4276280,
          3964205,
          6350419,
          10118697,
          1987701,
          3997434,
          22443836,
          4307315,
          505749,
          1251765,
          1376450,
          1048251,
          3739122,
          2577616
         ]
        },
        {
         "line": {
          "color": "green",
          "dash": "dash",
          "width": 2
         },
         "mode": "lines",
         "name": "LeBron James signing",
         "type": "scatter",
         "x": [
          "2015-07-11",
          "2015-07-11"
         ],
         "y": [
          321283,
          116608092
         ]
        }
       ],
       "layout": {
        "template": {
         "data": {
          "bar": [
           {
            "error_x": {
             "color": "#2a3f5f"
            },
            "error_y": {
             "color": "#2a3f5f"
            },
            "marker": {
             "line": {
              "color": "#E5ECF6",
              "width": 0.5
             },
             "pattern": {
              "fillmode": "overlay",
              "size": 10,
              "solidity": 0.2
             }
            },
            "type": "bar"
           }
          ],
          "barpolar": [
           {
            "marker": {
             "line": {
              "color": "#E5ECF6",
              "width": 0.5
             },
             "pattern": {
              "fillmode": "overlay",
              "size": 10,
              "solidity": 0.2
             }
            },
            "type": "barpolar"
           }
          ],
          "carpet": [
           {
            "aaxis": {
             "endlinecolor": "#2a3f5f",
             "gridcolor": "white",
             "linecolor": "white",
             "minorgridcolor": "white",
             "startlinecolor": "#2a3f5f"
            },
            "baxis": {
             "endlinecolor": "#2a3f5f",
             "gridcolor": "white",
             "linecolor": "white",
             "minorgridcolor": "white",
             "startlinecolor": "#2a3f5f"
            },
            "type": "carpet"
           }
          ],
          "choropleth": [
           {
            "colorbar": {
             "outlinewidth": 0,
             "ticks": ""
            },
            "type": "choropleth"
           }
          ],
          "contour": [
           {
            "colorbar": {
             "outlinewidth": 0,
             "ticks": ""
            },
            "colorscale": [
             [
              0,
              "#0d0887"
             ],
             [
              0.1111111111111111,
              "#46039f"
             ],
             [
              0.2222222222222222,
              "#7201a8"
             ],
             [
              0.3333333333333333,
              "#9c179e"
             ],
             [
              0.4444444444444444,
              "#bd3786"
             ],
             [
              0.5555555555555556,
              "#d8576b"
             ],
             [
              0.6666666666666666,
              "#ed7953"
             ],
             [
              0.7777777777777778,
              "#fb9f3a"
             ],
             [
              0.8888888888888888,
              "#fdca26"
             ],
             [
              1,
              "#f0f921"
             ]
            ],
            "type": "contour"
           }
          ],
          "contourcarpet": [
           {
            "colorbar": {
             "outlinewidth": 0,
             "ticks": ""
            },
            "type": "contourcarpet"
           }
          ],
          "heatmap": [
           {
            "colorbar": {
             "outlinewidth": 0,
             "ticks": ""
            },
            "colorscale": [
             [
              0,
              "#0d0887"
             ],
             [
              0.1111111111111111,
              "#46039f"
             ],
             [
              0.2222222222222222,
              "#7201a8"
             ],
             [
              0.3333333333333333,
              "#9c179e"
             ],
             [
              0.4444444444444444,
              "#bd3786"
             ],
             [
              0.5555555555555556,
              "#d8576b"
             ],
             [
              0.6666666666666666,
              "#ed7953"
             ],
             [
              0.7777777777777778,
              "#fb9f3a"
             ],
             [
              0.8888888888888888,
              "#fdca26"
             ],
             [
              1,
              "#f0f921"
             ]
            ],
            "type": "heatmap"
           }
          ],
          "heatmapgl": [
           {
            "colorbar": {
             "outlinewidth": 0,
             "ticks": ""
            },
            "colorscale": [
             [
              0,
              "#0d0887"
             ],
             [
              0.1111111111111111,
              "#46039f"
             ],
             [
              0.2222222222222222,
              "#7201a8"
             ],
             [
              0.3333333333333333,
              "#9c179e"
             ],
             [
              0.4444444444444444,
              "#bd3786"
             ],
             [
              0.5555555555555556,
              "#d8576b"
             ],
             [
              0.6666666666666666,
              "#ed7953"
             ],
             [
              0.7777777777777778,
              "#fb9f3a"
             ],
             [
              0.8888888888888888,
              "#fdca26"
             ],
             [
              1,
              "#f0f921"
             ]
            ],
            "type": "heatmapgl"
           }
          ],
          "histogram": [
           {
            "marker": {
             "pattern": {
              "fillmode": "overlay",
              "size": 10,
              "solidity": 0.2
             }
            },
            "type": "histogram"
           }
          ],
          "histogram2d": [
           {
            "colorbar": {
             "outlinewidth": 0,
             "ticks": ""
            },
            "colorscale": [
             [
              0,
              "#0d0887"
             ],
             [
              0.1111111111111111,
              "#46039f"
             ],
             [
              0.2222222222222222,
              "#7201a8"
             ],
             [
              0.3333333333333333,
              "#9c179e"
             ],
             [
              0.4444444444444444,
              "#bd3786"
             ],
             [
              0.5555555555555556,
              "#d8576b"
             ],
             [
              0.6666666666666666,
              "#ed7953"
             ],
             [
              0.7777777777777778,
              "#fb9f3a"
             ],
             [
              0.8888888888888888,
              "#fdca26"
             ],
             [
              1,
              "#f0f921"
             ]
            ],
            "type": "histogram2d"
           }
          ],
          "histogram2dcontour": [
           {
            "colorbar": {
             "outlinewidth": 0,
             "ticks": ""
            },
            "colorscale": [
             [
              0,
              "#0d0887"
             ],
             [
              0.1111111111111111,
              "#46039f"
             ],
             [
              0.2222222222222222,
              "#7201a8"
             ],
             [
              0.3333333333333333,
              "#9c179e"
             ],
             [
              0.4444444444444444,
              "#bd3786"
             ],
             [
              0.5555555555555556,
              "#d8576b"
             ],
             [
              0.6666666666666666,
              "#ed7953"
             ],
             [
              0.7777777777777778,
              "#fb9f3a"
             ],
             [
              0.8888888888888888,
              "#fdca26"
             ],
             [
              1,
              "#f0f921"
             ]
            ],
            "type": "histogram2dcontour"
           }
          ],
          "mesh3d": [
           {
            "colorbar": {
             "outlinewidth": 0,
             "ticks": ""
            },
            "type": "mesh3d"
           }
          ],
          "parcoords": [
           {
            "line": {
             "colorbar": {
              "outlinewidth": 0,
              "ticks": ""
             }
            },
            "type": "parcoords"
           }
          ],
          "pie": [
           {
            "automargin": true,
            "type": "pie"
           }
          ],
          "scatter": [
           {
            "fillpattern": {
             "fillmode": "overlay",
             "size": 10,
             "solidity": 0.2
            },
            "type": "scatter"
           }
          ],
          "scatter3d": [
           {
            "line": {
             "colorbar": {
              "outlinewidth": 0,
              "ticks": ""
             }
            },
            "marker": {
             "colorbar": {
              "outlinewidth": 0,
              "ticks": ""
             }
            },
            "type": "scatter3d"
           }
          ],
          "scattercarpet": [
           {
            "marker": {
             "colorbar": {
              "outlinewidth": 0,
              "ticks": ""
             }
            },
            "type": "scattercarpet"
           }
          ],
          "scattergeo": [
           {
            "marker": {
             "colorbar": {
              "outlinewidth": 0,
              "ticks": ""
             }
            },
            "type": "scattergeo"
           }
          ],
          "scattergl": [
           {
            "marker": {
             "colorbar": {
              "outlinewidth": 0,
              "ticks": ""
             }
            },
            "type": "scattergl"
           }
          ],
          "scattermapbox": [
           {
            "marker": {
             "colorbar": {
              "outlinewidth": 0,
              "ticks": ""
             }
            },
            "type": "scattermapbox"
           }
          ],
          "scatterpolar": [
           {
            "marker": {
             "colorbar": {
              "outlinewidth": 0,
              "ticks": ""
             }
            },
            "type": "scatterpolar"
           }
          ],
          "scatterpolargl": [
           {
            "marker": {
             "colorbar": {
              "outlinewidth": 0,
              "ticks": ""
             }
            },
            "type": "scatterpolargl"
           }
          ],
          "scatterternary": [
           {
            "marker": {
             "colorbar": {
              "outlinewidth": 0,
              "ticks": ""
             }
            },
            "type": "scatterternary"
           }
          ],
          "surface": [
           {
            "colorbar": {
             "outlinewidth": 0,
             "ticks": ""
            },
            "colorscale": [
             [
              0,
              "#0d0887"
             ],
             [
              0.1111111111111111,
              "#46039f"
             ],
             [
              0.2222222222222222,
              "#7201a8"
             ],
             [
              0.3333333333333333,
              "#9c179e"
             ],
             [
              0.4444444444444444,
              "#bd3786"
             ],
             [
              0.5555555555555556,
              "#d8576b"
             ],
             [
              0.6666666666666666,
              "#ed7953"
             ],
             [
              0.7777777777777778,
              "#fb9f3a"
             ],
             [
              0.8888888888888888,
              "#fdca26"
             ],
             [
              1,
              "#f0f921"
             ]
            ],
            "type": "surface"
           }
          ],
          "table": [
           {
            "cells": {
             "fill": {
              "color": "#EBF0F8"
             },
             "line": {
              "color": "white"
             }
            },
            "header": {
             "fill": {
              "color": "#C8D4E3"
             },
             "line": {
              "color": "white"
             }
            },
            "type": "table"
           }
          ]
         },
         "layout": {
          "annotationdefaults": {
           "arrowcolor": "#2a3f5f",
           "arrowhead": 0,
           "arrowwidth": 1
          },
          "autotypenumbers": "strict",
          "coloraxis": {
           "colorbar": {
            "outlinewidth": 0,
            "ticks": ""
           }
          },
          "colorscale": {
           "diverging": [
            [
             0,
             "#8e0152"
            ],
            [
             0.1,
             "#c51b7d"
            ],
            [
             0.2,
             "#de77ae"
            ],
            [
             0.3,
             "#f1b6da"
            ],
            [
             0.4,
             "#fde0ef"
            ],
            [
             0.5,
             "#f7f7f7"
            ],
            [
             0.6,
             "#e6f5d0"
            ],
            [
             0.7,
             "#b8e186"
            ],
            [
             0.8,
             "#7fbc41"
            ],
            [
             0.9,
             "#4d9221"
            ],
            [
             1,
             "#276419"
            ]
           ],
           "sequential": [
            [
             0,
             "#0d0887"
            ],
            [
             0.1111111111111111,
             "#46039f"
            ],
            [
             0.2222222222222222,
             "#7201a8"
            ],
            [
             0.3333333333333333,
             "#9c179e"
            ],
            [
             0.4444444444444444,
             "#bd3786"
            ],
            [
             0.5555555555555556,
             "#d8576b"
            ],
            [
             0.6666666666666666,
             "#ed7953"
            ],
            [
             0.7777777777777778,
             "#fb9f3a"
            ],
            [
             0.8888888888888888,
             "#fdca26"
            ],
            [
             1,
             "#f0f921"
            ]
           ],
           "sequentialminus": [
            [
             0,
             "#0d0887"
            ],
            [
             0.1111111111111111,
             "#46039f"
            ],
            [
             0.2222222222222222,
             "#7201a8"
            ],
            [
             0.3333333333333333,
             "#9c179e"
            ],
            [
             0.4444444444444444,
             "#bd3786"
            ],
            [
             0.5555555555555556,
             "#d8576b"
            ],
            [
             0.6666666666666666,
             "#ed7953"
            ],
            [
             0.7777777777777778,
             "#fb9f3a"
            ],
            [
             0.8888888888888888,
             "#fdca26"
            ],
            [
             1,
             "#f0f921"
            ]
           ]
          },
          "colorway": [
           "#636efa",
           "#EF553B",
           "#00cc96",
           "#ab63fa",
           "#FFA15A",
           "#19d3f3",
           "#FF6692",
           "#B6E880",
           "#FF97FF",
           "#FECB52"
          ],
          "font": {
           "color": "#2a3f5f"
          },
          "geo": {
           "bgcolor": "white",
           "lakecolor": "white",
           "landcolor": "#E5ECF6",
           "showlakes": true,
           "showland": true,
           "subunitcolor": "white"
          },
          "hoverlabel": {
           "align": "left"
          },
          "hovermode": "closest",
          "mapbox": {
           "style": "light"
          },
          "paper_bgcolor": "white",
          "plot_bgcolor": "#E5ECF6",
          "polar": {
           "angularaxis": {
            "gridcolor": "white",
            "linecolor": "white",
            "ticks": ""
           },
           "bgcolor": "#E5ECF6",
           "radialaxis": {
            "gridcolor": "white",
            "linecolor": "white",
            "ticks": ""
           }
          },
          "scene": {
           "xaxis": {
            "backgroundcolor": "#E5ECF6",
            "gridcolor": "white",
            "gridwidth": 2,
            "linecolor": "white",
            "showbackground": true,
            "ticks": "",
            "zerolinecolor": "white"
           },
           "yaxis": {
            "backgroundcolor": "#E5ECF6",
            "gridcolor": "white",
            "gridwidth": 2,
            "linecolor": "white",
            "showbackground": true,
            "ticks": "",
            "zerolinecolor": "white"
           },
           "zaxis": {
            "backgroundcolor": "#E5ECF6",
            "gridcolor": "white",
            "gridwidth": 2,
            "linecolor": "white",
            "showbackground": true,
            "ticks": "",
            "zerolinecolor": "white"
           }
          },
          "shapedefaults": {
           "line": {
            "color": "#2a3f5f"
           }
          },
          "ternary": {
           "aaxis": {
            "gridcolor": "white",
            "linecolor": "white",
            "ticks": ""
           },
           "baxis": {
            "gridcolor": "white",
            "linecolor": "white",
            "ticks": ""
           },
           "bgcolor": "#E5ECF6",
           "caxis": {
            "gridcolor": "white",
            "linecolor": "white",
            "ticks": ""
           }
          },
          "title": {
           "x": 0.05
          },
          "xaxis": {
           "automargin": true,
           "gridcolor": "white",
           "linecolor": "white",
           "ticks": "",
           "title": {
            "standoff": 15
           },
           "zerolinecolor": "white",
           "zerolinewidth": 2
          },
          "yaxis": {
           "automargin": true,
           "gridcolor": "white",
           "linecolor": "white",
           "ticks": "",
           "title": {
            "standoff": 15
           },
           "zerolinecolor": "white",
           "zerolinewidth": 2
          }
         }
        },
        "width": 800,
        "xaxis": {
         "anchor": "y",
         "domain": [
          0,
          0.94
         ]
        },
        "yaxis": {
         "anchor": "x",
         "domain": [
          0,
          1
         ],
         "title": {
          "text": "Team-related <b>youtube</b> views"
         }
        },
        "yaxis2": {
         "anchor": "x",
         "overlaying": "y",
         "side": "right"
        }
       }
      }
     },
     "metadata": {},
     "output_type": "display_data"
    }
   ],
   "source": [
    "team = \"LAL\"\n",
    "important_signings = [\n",
    "    (\"GSW\", \"OKC\", \"2016-07-04\", \"Kevin Durant\", \"2015-01-01\", \"2018-01-01\"),\n",
    "    (\"CLE\", \"MIA\", \"2015-07-11\", \"LeBron James\", \"2014-01-01\", \"2017-01-01\"),\n",
    "]\n",
    "\n",
    "for (team_joined, team_left, date, player, beg_date, end_date) in important_signings:\n",
    "    team_df = df[(df[\"team\"] == team_joined) & (df[\"year_month\"] >= beg_date) & (df[\"year_month\"] <= end_date)]\n",
    "    dmin, dmax = team_df.view_count.min(), team_df.view_count.max()\n",
    "    fig = make_subplots(specs=[[{\"secondary_y\": True}]])\n",
    "\n",
    "    # Add figure title\n",
    "    # fig.update_layout(title_text=f\"Impact of {player} (left {team_left} for {team_joined})\")\n",
    "\n",
    "    # Set y-axes titles\n",
    "    fig.update_yaxes(title_text=\"Team-related <b>youtube</b> views\", secondary_y=False)\n",
    "\n",
    "    fig.add_trace(go.Scatter(x=team_df[\"year_month\"], y=team_df[\"view_count\"], mode=\"lines\", name=team_joined + \" (joined)\"))\n",
    "\n",
    "    team_df = df[(df[\"team\"] == team_left) & (df[\"year_month\"] >= beg_date) & (df[\"year_month\"] <= end_date)]\n",
    "    dmin, dmax = min(dmin, team_df.view_count.min()), max(dmax, team_df.view_count.max())\n",
    "    fig.add_trace(go.Scatter(x=team_df[\"year_month\"], y=team_df[\"view_count\"], mode=\"lines\", name=team_left + \" (left)\"))\n",
    "    win_pct = df_win_pct[df_win_pct[\"team\"] == team_left]\n",
    "\n",
    "    fig.add_trace(go.Scatter(x=[date, date], y=[dmin, dmax], mode=\"lines\", line=dict(color=\"green\", width=2, dash=\"dash\"), name=f\"{player} signing\"))\n",
    "\n",
    "    fig.update_layout(width=800)\n",
    "\n",
    "    fig.show()\n",
    "    # fig.write_image(f\"data/event_study/{player}_{team_left}_{team_joined}.png\")\n",
    "    # py.plot(fig, filename=f'event_study_{player.replace(\" \",  \"_\")}_{team_left}_{team_joined}.png', auto_open=False)"
   ]
  },
  {
   "cell_type": "code",
   "execution_count": 42,
   "id": "8930a79f",
   "metadata": {},
   "outputs": [
    {
     "data": {
      "application/vnd.plotly.v1+json": {
       "config": {
        "plotlyServerURL": "https://plotly.com"
       },
       "data": [
        {
         "line": {
          "dash": "dot"
         },
         "mode": "lines",
         "name": "GSW win % (joined)",
         "type": "scatter",
         "x": [
          "2018-01-01",
          "2018-01-01",
          "2018-01-01",
          "2018-01-01",
          "2018-01-01",
          "2017-12-01",
          "2017-12-01",
          "2017-12-01",
          "2017-12-01",
          "2017-12-01",
          "2017-12-01",
          "2017-12-01",
          "2017-12-01",
          "2017-12-01",
          "2017-11-01",
          "2017-11-01",
          "2017-11-01",
          "2017-06-01",
          "2017-06-01",
          "2017-06-01",
          "2017-05-01",
          "2017-05-01",
          "2017-05-01",
          "2017-05-01",
          "2017-04-01",
          "2017-04-01",
          "2017-04-01",
          "2017-04-01",
          "2017-04-01",
          "2017-04-01",
          "2017-04-01",
          "2017-03-01",
          "2017-03-01",
          "2017-03-01",
          "2017-03-01",
          "2017-03-01",
          "2017-03-01",
          "2017-03-01",
          "2017-02-01",
          "2017-02-01",
          "2017-02-01",
          "2017-02-01",
          "2017-02-01",
          "2017-01-01",
          "2017-01-01",
          "2017-01-01",
          "2017-01-01",
          "2017-01-01",
          "2017-01-01",
          "2017-01-01",
          "2017-01-01",
          "2016-12-01",
          "2016-12-01",
          "2016-12-01",
          "2016-12-01",
          "2016-12-01",
          "2016-12-01",
          "2016-12-01",
          "2016-12-01",
          "2016-11-01",
          "2016-11-01",
          "2016-11-01",
          "2016-06-01",
          "2016-06-01",
          "2016-06-01",
          "2016-06-01",
          "2016-05-01",
          "2016-05-01",
          "2016-05-01",
          "2016-05-01",
          "2016-05-01",
          "2016-05-01",
          "2016-05-01",
          "2016-04-01",
          "2016-04-01",
          "2016-04-01",
          "2016-04-01",
          "2016-04-01",
          "2016-04-01",
          "2016-04-01",
          "2016-04-01",
          "2016-03-01",
          "2016-03-01",
          "2016-03-01",
          "2016-03-01",
          "2016-03-01",
          "2016-03-01",
          "2016-03-01",
          "2016-03-01",
          "2016-03-01",
          "2016-03-01",
          "2016-03-01",
          "2016-03-01",
          "2016-02-01",
          "2016-02-01",
          "2016-01-01",
          "2016-01-01",
          "2016-01-01",
          "2016-01-01",
          "2016-01-01",
          "2016-01-01",
          "2016-01-01",
          "2015-12-01",
          "2015-12-01",
          "2015-12-01",
          "2015-12-01",
          "2015-12-01",
          "2015-11-01",
          "2015-11-01",
          "2015-06-01",
          "2015-06-01",
          "2015-06-01",
          "2015-05-01",
          "2015-05-01",
          "2015-05-01",
          "2015-05-01",
          "2015-05-01",
          "2015-05-01",
          "2015-04-01",
          "2015-04-01",
          "2015-04-01",
          "2015-04-01",
          "2015-04-01",
          "2015-04-01",
          "2015-04-01",
          "2015-03-01",
          "2015-03-01",
          "2015-03-01",
          "2015-03-01",
          "2015-03-01",
          "2015-03-01",
          "2015-03-01",
          "2015-03-01",
          "2015-03-01",
          "2015-03-01",
          "2015-02-01",
          "2015-02-01",
          "2015-01-01",
          "2015-01-01",
          "2015-01-01",
          "2015-01-01",
          "2015-01-01",
          "2015-01-01",
          "2015-01-01",
          "2015-01-01",
          "2015-01-01",
          "2015-01-01",
          "2015-01-01"
         ],
         "xaxis": "x",
         "y": [
          86.67,
          80,
          80,
          80,
          80,
          80,
          80,
          86.67,
          86.67,
          86.67,
          86.67,
          86.67,
          86.67,
          86.67,
          80,
          80,
          73.33,
          93.33,
          100,
          93.33,
          93.33,
          93.33,
          93.33,
          93.33,
          80,
          80,
          93.33,
          93.33,
          93.33,
          93.33,
          93.33,
          66.67,
          60,
          60,
          60,
          66.67,
          66.67,
          80,
          86.67,
          86.67,
          80,
          80,
          80,
          86.67,
          86.67,
          80,
          86.67,
          86.67,
          86.67,
          86.67,
          86.67,
          86.67,
          86.67,
          93.33,
          86.67,
          86.67,
          86.67,
          80,
          86.67,
          86.67,
          93.33,
          93.33,
          73.33,
          73.33,
          60,
          53.33,
          80,
          80,
          80,
          80,
          80,
          66.67,
          66.67,
          86.67,
          86.67,
          80,
          80,
          80,
          80,
          86.67,
          80,
          93.33,
          93.33,
          86.67,
          86.67,
          86.67,
          86.67,
          86.67,
          86.67,
          86.67,
          86.67,
          86.67,
          86.67,
          86.67,
          86.67,
          86.67,
          86.67,
          86.67,
          86.67,
          80,
          80,
          86.67,
          93.33,
          93.33,
          93.33,
          93.33,
          93.33,
          100,
          100,
          80,
          73.33,
          66.67,
          86.67,
          80,
          73.33,
          86.67,
          86.67,
          80,
          93.33,
          86.67,
          86.67,
          86.67,
          86.67,
          86.67,
          86.67,
          73.33,
          73.33,
          73.33,
          80,
          73.33,
          73.33,
          73.33,
          80,
          80,
          86.67,
          80,
          80,
          80,
          80,
          80,
          80,
          80,
          80,
          80,
          80,
          86.67,
          86.67,
          80
         ],
         "yaxis": "y2"
        },
        {
         "line": {
          "dash": "dot"
         },
         "mode": "lines",
         "name": "OKC win % (left)",
         "type": "scatter",
         "x": [
          "2018-01-01",
          "2018-01-01",
          "2018-01-01",
          "2018-01-01",
          "2018-01-01",
          "2018-01-01",
          "2017-12-01",
          "2017-12-01",
          "2017-12-01",
          "2017-12-01",
          "2017-12-01",
          "2017-12-01",
          "2017-12-01",
          "2017-12-01",
          "2017-12-01",
          "2017-12-01",
          "2017-12-01",
          "2017-11-01",
          "2017-11-01",
          "2017-04-01",
          "2017-04-01",
          "2017-04-01",
          "2017-04-01",
          "2017-04-01",
          "2017-03-01",
          "2017-03-01",
          "2017-03-01",
          "2017-03-01",
          "2017-03-01",
          "2017-03-01",
          "2017-03-01",
          "2017-02-01",
          "2017-02-01",
          "2017-02-01",
          "2017-02-01",
          "2017-02-01",
          "2017-02-01",
          "2017-02-01",
          "2017-02-01",
          "2017-02-01",
          "2017-01-01",
          "2017-01-01",
          "2017-01-01",
          "2016-12-01",
          "2016-12-01",
          "2016-12-01",
          "2016-12-01",
          "2016-12-01",
          "2016-12-01",
          "2016-12-01",
          "2016-11-01",
          "2016-11-01",
          "2016-05-01",
          "2016-05-01",
          "2016-05-01",
          "2016-05-01",
          "2016-05-01",
          "2016-05-01",
          "2016-04-01",
          "2016-04-01",
          "2016-04-01",
          "2016-04-01",
          "2016-03-01",
          "2016-03-01",
          "2016-03-01",
          "2016-03-01",
          "2016-03-01",
          "2016-03-01",
          "2016-03-01",
          "2016-02-01",
          "2016-02-01",
          "2016-02-01",
          "2016-02-01",
          "2016-02-01",
          "2016-02-01",
          "2016-01-01",
          "2016-01-01",
          "2016-01-01",
          "2016-01-01",
          "2016-01-01",
          "2016-01-01",
          "2016-01-01",
          "2015-12-01",
          "2015-12-01",
          "2015-12-01",
          "2015-12-01",
          "2015-12-01",
          "2015-12-01",
          "2015-12-01",
          "2015-12-01",
          "2015-12-01",
          "2015-11-01",
          "2015-11-01",
          "2015-04-01",
          "2015-04-01",
          "2015-04-01",
          "2015-04-01",
          "2015-04-01",
          "2015-03-01",
          "2015-03-01",
          "2015-03-01",
          "2015-03-01",
          "2015-03-01",
          "2015-03-01",
          "2015-03-01",
          "2015-03-01",
          "2015-03-01",
          "2015-02-01",
          "2015-02-01",
          "2015-02-01",
          "2015-02-01",
          "2015-02-01",
          "2015-02-01",
          "2015-02-01",
          "2015-01-01",
          "2015-01-01",
          "2015-01-01",
          "2015-01-01"
         ],
         "xaxis": "x",
         "y": [
          66.67,
          66.67,
          66.67,
          66.67,
          66.67,
          66.67,
          40,
          40,
          46.67,
          53.33,
          53.33,
          60,
          60,
          73.33,
          80,
          73.33,
          66.67,
          46.67,
          46.67,
          53.33,
          60,
          60,
          53.33,
          46.67,
          46.67,
          53.33,
          53.33,
          60,
          60,
          66.67,
          53.33,
          46.67,
          53.33,
          60,
          53.33,
          46.67,
          46.67,
          53.33,
          60,
          60,
          53.33,
          60,
          53.33,
          53.33,
          53.33,
          60,
          60,
          53.33,
          73.33,
          66.67,
          46.67,
          53.33,
          53.33,
          53.33,
          60,
          66.67,
          73.33,
          66.67,
          73.33,
          66.67,
          60,
          60,
          53.33,
          46.67,
          46.67,
          60,
          60,
          66.67,
          73.33,
          86.67,
          86.67,
          86.67,
          80,
          73.33,
          60,
          80,
          80,
          73.33,
          80,
          80,
          80,
          80,
          60,
          66.67,
          66.67,
          73.33,
          73.33,
          73.33,
          73.33,
          73.33,
          80,
          60,
          60,
          60,
          53.33,
          46.67,
          53.33,
          46.67,
          73.33,
          73.33,
          66.67,
          73.33,
          73.33,
          66.67,
          66.67,
          66.67,
          66.67,
          53.33,
          53.33,
          60,
          66.67,
          66.67,
          66.67,
          66.67,
          73.33,
          60,
          53.33,
          60
         ],
         "yaxis": "y2"
        },
        {
         "line": {
          "color": "green",
          "dash": "dash",
          "width": 2
         },
         "mode": "lines",
         "name": "Kevin Durant signing",
         "type": "scatter",
         "x": [
          "2016-07-04",
          "2016-07-04"
         ],
         "y": [
          23528,
          169265851
         ]
        }
       ],
       "layout": {
        "autosize": false,
        "template": {
         "data": {
          "bar": [
           {
            "error_x": {
             "color": "#2a3f5f"
            },
            "error_y": {
             "color": "#2a3f5f"
            },
            "marker": {
             "line": {
              "color": "#E5ECF6",
              "width": 0.5
             },
             "pattern": {
              "fillmode": "overlay",
              "size": 10,
              "solidity": 0.2
             }
            },
            "type": "bar"
           }
          ],
          "barpolar": [
           {
            "marker": {
             "line": {
              "color": "#E5ECF6",
              "width": 0.5
             },
             "pattern": {
              "fillmode": "overlay",
              "size": 10,
              "solidity": 0.2
             }
            },
            "type": "barpolar"
           }
          ],
          "carpet": [
           {
            "aaxis": {
             "endlinecolor": "#2a3f5f",
             "gridcolor": "white",
             "linecolor": "white",
             "minorgridcolor": "white",
             "startlinecolor": "#2a3f5f"
            },
            "baxis": {
             "endlinecolor": "#2a3f5f",
             "gridcolor": "white",
             "linecolor": "white",
             "minorgridcolor": "white",
             "startlinecolor": "#2a3f5f"
            },
            "type": "carpet"
           }
          ],
          "choropleth": [
           {
            "colorbar": {
             "outlinewidth": 0,
             "ticks": ""
            },
            "type": "choropleth"
           }
          ],
          "contour": [
           {
            "colorbar": {
             "outlinewidth": 0,
             "ticks": ""
            },
            "colorscale": [
             [
              0,
              "#0d0887"
             ],
             [
              0.1111111111111111,
              "#46039f"
             ],
             [
              0.2222222222222222,
              "#7201a8"
             ],
             [
              0.3333333333333333,
              "#9c179e"
             ],
             [
              0.4444444444444444,
              "#bd3786"
             ],
             [
              0.5555555555555556,
              "#d8576b"
             ],
             [
              0.6666666666666666,
              "#ed7953"
             ],
             [
              0.7777777777777778,
              "#fb9f3a"
             ],
             [
              0.8888888888888888,
              "#fdca26"
             ],
             [
              1,
              "#f0f921"
             ]
            ],
            "type": "contour"
           }
          ],
          "contourcarpet": [
           {
            "colorbar": {
             "outlinewidth": 0,
             "ticks": ""
            },
            "type": "contourcarpet"
           }
          ],
          "heatmap": [
           {
            "colorbar": {
             "outlinewidth": 0,
             "ticks": ""
            },
            "colorscale": [
             [
              0,
              "#0d0887"
             ],
             [
              0.1111111111111111,
              "#46039f"
             ],
             [
              0.2222222222222222,
              "#7201a8"
             ],
             [
              0.3333333333333333,
              "#9c179e"
             ],
             [
              0.4444444444444444,
              "#bd3786"
             ],
             [
              0.5555555555555556,
              "#d8576b"
             ],
             [
              0.6666666666666666,
              "#ed7953"
             ],
             [
              0.7777777777777778,
              "#fb9f3a"
             ],
             [
              0.8888888888888888,
              "#fdca26"
             ],
             [
              1,
              "#f0f921"
             ]
            ],
            "type": "heatmap"
           }
          ],
          "heatmapgl": [
           {
            "colorbar": {
             "outlinewidth": 0,
             "ticks": ""
            },
            "colorscale": [
             [
              0,
              "#0d0887"
             ],
             [
              0.1111111111111111,
              "#46039f"
             ],
             [
              0.2222222222222222,
              "#7201a8"
             ],
             [
              0.3333333333333333,
              "#9c179e"
             ],
             [
              0.4444444444444444,
              "#bd3786"
             ],
             [
              0.5555555555555556,
              "#d8576b"
             ],
             [
              0.6666666666666666,
              "#ed7953"
             ],
             [
              0.7777777777777778,
              "#fb9f3a"
             ],
             [
              0.8888888888888888,
              "#fdca26"
             ],
             [
              1,
              "#f0f921"
             ]
            ],
            "type": "heatmapgl"
           }
          ],
          "histogram": [
           {
            "marker": {
             "pattern": {
              "fillmode": "overlay",
              "size": 10,
              "solidity": 0.2
             }
            },
            "type": "histogram"
           }
          ],
          "histogram2d": [
           {
            "colorbar": {
             "outlinewidth": 0,
             "ticks": ""
            },
            "colorscale": [
             [
              0,
              "#0d0887"
             ],
             [
              0.1111111111111111,
              "#46039f"
             ],
             [
              0.2222222222222222,
              "#7201a8"
             ],
             [
              0.3333333333333333,
              "#9c179e"
             ],
             [
              0.4444444444444444,
              "#bd3786"
             ],
             [
              0.5555555555555556,
              "#d8576b"
             ],
             [
              0.6666666666666666,
              "#ed7953"
             ],
             [
              0.7777777777777778,
              "#fb9f3a"
             ],
             [
              0.8888888888888888,
              "#fdca26"
             ],
             [
              1,
              "#f0f921"
             ]
            ],
            "type": "histogram2d"
           }
          ],
          "histogram2dcontour": [
           {
            "colorbar": {
             "outlinewidth": 0,
             "ticks": ""
            },
            "colorscale": [
             [
              0,
              "#0d0887"
             ],
             [
              0.1111111111111111,
              "#46039f"
             ],
             [
              0.2222222222222222,
              "#7201a8"
             ],
             [
              0.3333333333333333,
              "#9c179e"
             ],
             [
              0.4444444444444444,
              "#bd3786"
             ],
             [
              0.5555555555555556,
              "#d8576b"
             ],
             [
              0.6666666666666666,
              "#ed7953"
             ],
             [
              0.7777777777777778,
              "#fb9f3a"
             ],
             [
              0.8888888888888888,
              "#fdca26"
             ],
             [
              1,
              "#f0f921"
             ]
            ],
            "type": "histogram2dcontour"
           }
          ],
          "mesh3d": [
           {
            "colorbar": {
             "outlinewidth": 0,
             "ticks": ""
            },
            "type": "mesh3d"
           }
          ],
          "parcoords": [
           {
            "line": {
             "colorbar": {
              "outlinewidth": 0,
              "ticks": ""
             }
            },
            "type": "parcoords"
           }
          ],
          "pie": [
           {
            "automargin": true,
            "type": "pie"
           }
          ],
          "scatter": [
           {
            "fillpattern": {
             "fillmode": "overlay",
             "size": 10,
             "solidity": 0.2
            },
            "type": "scatter"
           }
          ],
          "scatter3d": [
           {
            "line": {
             "colorbar": {
              "outlinewidth": 0,
              "ticks": ""
             }
            },
            "marker": {
             "colorbar": {
              "outlinewidth": 0,
              "ticks": ""
             }
            },
            "type": "scatter3d"
           }
          ],
          "scattercarpet": [
           {
            "marker": {
             "colorbar": {
              "outlinewidth": 0,
              "ticks": ""
             }
            },
            "type": "scattercarpet"
           }
          ],
          "scattergeo": [
           {
            "marker": {
             "colorbar": {
              "outlinewidth": 0,
              "ticks": ""
             }
            },
            "type": "scattergeo"
           }
          ],
          "scattergl": [
           {
            "marker": {
             "colorbar": {
              "outlinewidth": 0,
              "ticks": ""
             }
            },
            "type": "scattergl"
           }
          ],
          "scattermapbox": [
           {
            "marker": {
             "colorbar": {
              "outlinewidth": 0,
              "ticks": ""
             }
            },
            "type": "scattermapbox"
           }
          ],
          "scatterpolar": [
           {
            "marker": {
             "colorbar": {
              "outlinewidth": 0,
              "ticks": ""
             }
            },
            "type": "scatterpolar"
           }
          ],
          "scatterpolargl": [
           {
            "marker": {
             "colorbar": {
              "outlinewidth": 0,
              "ticks": ""
             }
            },
            "type": "scatterpolargl"
           }
          ],
          "scatterternary": [
           {
            "marker": {
             "colorbar": {
              "outlinewidth": 0,
              "ticks": ""
             }
            },
            "type": "scatterternary"
           }
          ],
          "surface": [
           {
            "colorbar": {
             "outlinewidth": 0,
             "ticks": ""
            },
            "colorscale": [
             [
              0,
              "#0d0887"
             ],
             [
              0.1111111111111111,
              "#46039f"
             ],
             [
              0.2222222222222222,
              "#7201a8"
             ],
             [
              0.3333333333333333,
              "#9c179e"
             ],
             [
              0.4444444444444444,
              "#bd3786"
             ],
             [
              0.5555555555555556,
              "#d8576b"
             ],
             [
              0.6666666666666666,
              "#ed7953"
             ],
             [
              0.7777777777777778,
              "#fb9f3a"
             ],
             [
              0.8888888888888888,
              "#fdca26"
             ],
             [
              1,
              "#f0f921"
             ]
            ],
            "type": "surface"
           }
          ],
          "table": [
           {
            "cells": {
             "fill": {
              "color": "#EBF0F8"
             },
             "line": {
              "color": "white"
             }
            },
            "header": {
             "fill": {
              "color": "#C8D4E3"
             },
             "line": {
              "color": "white"
             }
            },
            "type": "table"
           }
          ]
         },
         "layout": {
          "annotationdefaults": {
           "arrowcolor": "#2a3f5f",
           "arrowhead": 0,
           "arrowwidth": 1
          },
          "autotypenumbers": "strict",
          "coloraxis": {
           "colorbar": {
            "outlinewidth": 0,
            "ticks": ""
           }
          },
          "colorscale": {
           "diverging": [
            [
             0,
             "#8e0152"
            ],
            [
             0.1,
             "#c51b7d"
            ],
            [
             0.2,
             "#de77ae"
            ],
            [
             0.3,
             "#f1b6da"
            ],
            [
             0.4,
             "#fde0ef"
            ],
            [
             0.5,
             "#f7f7f7"
            ],
            [
             0.6,
             "#e6f5d0"
            ],
            [
             0.7,
             "#b8e186"
            ],
            [
             0.8,
             "#7fbc41"
            ],
            [
             0.9,
             "#4d9221"
            ],
            [
             1,
             "#276419"
            ]
           ],
           "sequential": [
            [
             0,
             "#0d0887"
            ],
            [
             0.1111111111111111,
             "#46039f"
            ],
            [
             0.2222222222222222,
             "#7201a8"
            ],
            [
             0.3333333333333333,
             "#9c179e"
            ],
            [
             0.4444444444444444,
             "#bd3786"
            ],
            [
             0.5555555555555556,
             "#d8576b"
            ],
            [
             0.6666666666666666,
             "#ed7953"
            ],
            [
             0.7777777777777778,
             "#fb9f3a"
            ],
            [
             0.8888888888888888,
             "#fdca26"
            ],
            [
             1,
             "#f0f921"
            ]
           ],
           "sequentialminus": [
            [
             0,
             "#0d0887"
            ],
            [
             0.1111111111111111,
             "#46039f"
            ],
            [
             0.2222222222222222,
             "#7201a8"
            ],
            [
             0.3333333333333333,
             "#9c179e"
            ],
            [
             0.4444444444444444,
             "#bd3786"
            ],
            [
             0.5555555555555556,
             "#d8576b"
            ],
            [
             0.6666666666666666,
             "#ed7953"
            ],
            [
             0.7777777777777778,
             "#fb9f3a"
            ],
            [
             0.8888888888888888,
             "#fdca26"
            ],
            [
             1,
             "#f0f921"
            ]
           ]
          },
          "colorway": [
           "#636efa",
           "#EF553B",
           "#00cc96",
           "#ab63fa",
           "#FFA15A",
           "#19d3f3",
           "#FF6692",
           "#B6E880",
           "#FF97FF",
           "#FECB52"
          ],
          "font": {
           "color": "#2a3f5f"
          },
          "geo": {
           "bgcolor": "white",
           "lakecolor": "white",
           "landcolor": "#E5ECF6",
           "showlakes": true,
           "showland": true,
           "subunitcolor": "white"
          },
          "hoverlabel": {
           "align": "left"
          },
          "hovermode": "closest",
          "mapbox": {
           "style": "light"
          },
          "paper_bgcolor": "white",
          "plot_bgcolor": "#E5ECF6",
          "polar": {
           "angularaxis": {
            "gridcolor": "white",
            "linecolor": "white",
            "ticks": ""
           },
           "bgcolor": "#E5ECF6",
           "radialaxis": {
            "gridcolor": "white",
            "linecolor": "white",
            "ticks": ""
           }
          },
          "scene": {
           "xaxis": {
            "backgroundcolor": "#E5ECF6",
            "gridcolor": "white",
            "gridwidth": 2,
            "linecolor": "white",
            "showbackground": true,
            "ticks": "",
            "zerolinecolor": "white"
           },
           "yaxis": {
            "backgroundcolor": "#E5ECF6",
            "gridcolor": "white",
            "gridwidth": 2,
            "linecolor": "white",
            "showbackground": true,
            "ticks": "",
            "zerolinecolor": "white"
           },
           "zaxis": {
            "backgroundcolor": "#E5ECF6",
            "gridcolor": "white",
            "gridwidth": 2,
            "linecolor": "white",
            "showbackground": true,
            "ticks": "",
            "zerolinecolor": "white"
           }
          },
          "shapedefaults": {
           "line": {
            "color": "#2a3f5f"
           }
          },
          "ternary": {
           "aaxis": {
            "gridcolor": "white",
            "linecolor": "white",
            "ticks": ""
           },
           "baxis": {
            "gridcolor": "white",
            "linecolor": "white",
            "ticks": ""
           },
           "bgcolor": "#E5ECF6",
           "caxis": {
            "gridcolor": "white",
            "linecolor": "white",
            "ticks": ""
           }
          },
          "title": {
           "x": 0.05
          },
          "xaxis": {
           "automargin": true,
           "gridcolor": "white",
           "linecolor": "white",
           "ticks": "",
           "title": {
            "standoff": 15
           },
           "zerolinecolor": "white",
           "zerolinewidth": 2
          },
          "yaxis": {
           "automargin": true,
           "gridcolor": "white",
           "linecolor": "white",
           "ticks": "",
           "title": {
            "standoff": 15
           },
           "zerolinecolor": "white",
           "zerolinewidth": 2
          }
         }
        },
        "width": 800,
        "xaxis": {
         "anchor": "y",
         "domain": [
          0,
          0.94
         ]
        },
        "yaxis": {
         "anchor": "x",
         "domain": [
          0,
          1
         ],
         "title": {
          "text": "Winning percentage over last 15 games"
         }
        },
        "yaxis2": {
         "anchor": "x",
         "overlaying": "y",
         "side": "right"
        }
       }
      }
     },
     "metadata": {},
     "output_type": "display_data"
    },
    {
     "data": {
      "application/vnd.plotly.v1+json": {
       "config": {
        "plotlyServerURL": "https://plotly.com"
       },
       "data": [
        {
         "line": {
          "dash": "dot"
         },
         "mode": "lines",
         "name": "CLE win % (joined)",
         "type": "scatter",
         "x": [
          "2017-01-01",
          "2017-01-01",
          "2017-01-01",
          "2017-01-01",
          "2017-01-01",
          "2017-01-01",
          "2017-01-01",
          "2016-12-01",
          "2016-12-01",
          "2016-12-01",
          "2016-12-01",
          "2016-12-01",
          "2016-12-01",
          "2016-12-01",
          "2016-12-01",
          "2016-12-01",
          "2016-06-01",
          "2016-06-01",
          "2016-06-01",
          "2016-05-01",
          "2016-05-01",
          "2016-05-01",
          "2016-05-01",
          "2016-05-01",
          "2016-04-01",
          "2016-04-01",
          "2016-04-01",
          "2016-04-01",
          "2016-04-01",
          "2016-03-01",
          "2016-03-01",
          "2016-03-01",
          "2016-03-01",
          "2016-03-01",
          "2016-03-01",
          "2016-03-01",
          "2016-03-01",
          "2016-02-01",
          "2016-02-01",
          "2016-02-01",
          "2016-02-01",
          "2016-02-01",
          "2016-02-01",
          "2016-02-01",
          "2016-02-01",
          "2016-01-01",
          "2016-01-01",
          "2016-01-01",
          "2016-01-01",
          "2016-01-01",
          "2016-01-01",
          "2016-01-01",
          "2016-01-01",
          "2015-12-01",
          "2015-12-01",
          "2015-12-01",
          "2015-12-01",
          "2015-12-01",
          "2015-11-01",
          "2015-06-01",
          "2015-06-01",
          "2015-06-01",
          "2015-05-01",
          "2015-05-01",
          "2015-05-01",
          "2015-05-01",
          "2015-05-01",
          "2015-04-01",
          "2015-04-01",
          "2015-04-01",
          "2015-04-01",
          "2015-04-01",
          "2015-04-01",
          "2015-04-01",
          "2015-03-01",
          "2015-03-01",
          "2015-03-01",
          "2015-03-01",
          "2015-03-01",
          "2015-02-01",
          "2015-02-01",
          "2015-02-01",
          "2015-02-01",
          "2015-02-01",
          "2015-01-01",
          "2015-01-01",
          "2015-01-01",
          "2015-01-01",
          "2015-01-01",
          "2015-01-01",
          "2015-01-01",
          "2015-01-01",
          "2014-12-01",
          "2014-12-01",
          "2014-12-01",
          "2014-12-01",
          "2014-12-01",
          "2014-12-01",
          "2014-12-01",
          "2014-12-01",
          "2014-12-01",
          "2014-11-01",
          "2014-04-01",
          "2014-04-01",
          "2014-04-01",
          "2014-04-01",
          "2014-03-01",
          "2014-03-01",
          "2014-03-01",
          "2014-03-01",
          "2014-03-01",
          "2014-03-01",
          "2014-03-01",
          "2014-02-01",
          "2014-02-01",
          "2014-02-01",
          "2014-02-01",
          "2014-02-01",
          "2014-02-01",
          "2014-02-01",
          "2014-01-01",
          "2014-01-01",
          "2014-01-01",
          "2014-01-01",
          "2014-01-01",
          "2014-01-01",
          "2014-01-01",
          "2014-01-01"
         ],
         "xaxis": "x",
         "y": [
          86.67,
          80,
          66.67,
          60,
          46.67,
          53.33,
          53.33,
          73.33,
          66.67,
          73.33,
          73.33,
          66.67,
          73.33,
          73.33,
          73.33,
          73.33,
          73.33,
          66.67,
          66.67,
          73.33,
          73.33,
          80,
          80,
          80,
          73.33,
          66.67,
          60,
          60,
          66.67,
          66.67,
          66.67,
          60,
          66.67,
          66.67,
          66.67,
          66.67,
          66.67,
          66.67,
          66.67,
          66.67,
          73.33,
          73.33,
          73.33,
          73.33,
          66.67,
          66.67,
          66.67,
          73.33,
          73.33,
          73.33,
          80,
          80,
          80,
          73.33,
          60,
          60,
          66.67,
          73.33,
          80,
          80,
          73.33,
          66.67,
          73.33,
          73.33,
          73.33,
          86.67,
          86.67,
          80,
          80,
          80,
          73.33,
          73.33,
          73.33,
          80,
          73.33,
          66.67,
          73.33,
          73.33,
          73.33,
          73.33,
          80,
          86.67,
          93.33,
          86.67,
          46.67,
          40,
          33.33,
          40,
          40,
          46.67,
          60,
          60,
          60,
          73.33,
          60,
          60,
          66.67,
          73.33,
          80,
          66.67,
          53.33,
          53.33,
          46.67,
          53.33,
          40,
          46.67,
          53.33,
          53.33,
          40,
          33.33,
          26.67,
          40,
          40,
          33.33,
          33.33,
          40,
          46.67,
          46.67,
          40,
          53.33,
          40,
          33.33,
          33.33,
          33.33,
          33.33,
          40,
          40,
          40
         ],
         "yaxis": "y2"
        },
        {
         "line": {
          "dash": "dot"
         },
         "mode": "lines",
         "name": "MIA win % (left)",
         "type": "scatter",
         "x": [
          "2017-01-01",
          "2017-01-01",
          "2017-01-01",
          "2017-01-01",
          "2017-01-01",
          "2017-01-01",
          "2017-01-01",
          "2016-12-01",
          "2016-12-01",
          "2016-12-01",
          "2016-12-01",
          "2016-12-01",
          "2016-12-01",
          "2016-12-01",
          "2016-12-01",
          "2016-11-01",
          "2016-11-01",
          "2016-05-01",
          "2016-05-01",
          "2016-05-01",
          "2016-05-01",
          "2016-04-01",
          "2016-04-01",
          "2016-04-01",
          "2016-04-01",
          "2016-04-01",
          "2016-04-01",
          "2016-03-01",
          "2016-03-01",
          "2016-03-01",
          "2016-03-01",
          "2016-03-01",
          "2016-03-01",
          "2016-03-01",
          "2016-03-01",
          "2016-02-01",
          "2016-02-01",
          "2016-02-01",
          "2016-02-01",
          "2016-02-01",
          "2016-01-01",
          "2016-01-01",
          "2016-01-01",
          "2016-01-01",
          "2016-01-01",
          "2015-12-01",
          "2015-12-01",
          "2015-12-01",
          "2015-12-01",
          "2015-12-01",
          "2015-12-01",
          "2015-12-01",
          "2015-12-01",
          "2015-12-01",
          "2015-11-01",
          "2015-04-01",
          "2015-04-01",
          "2015-04-01",
          "2015-04-01",
          "2015-03-01",
          "2015-03-01",
          "2015-03-01",
          "2015-03-01",
          "2015-03-01",
          "2015-03-01",
          "2015-03-01",
          "2015-03-01",
          "2015-03-01",
          "2015-03-01",
          "2015-02-01",
          "2015-02-01",
          "2015-02-01",
          "2015-02-01",
          "2015-01-01",
          "2015-01-01",
          "2015-01-01",
          "2015-01-01",
          "2015-01-01",
          "2014-12-01",
          "2014-12-01",
          "2014-12-01",
          "2014-12-01",
          "2014-12-01",
          "2014-12-01",
          "2014-12-01",
          "2014-12-01",
          "2014-12-01",
          "2014-11-01",
          "2014-06-01",
          "2014-06-01",
          "2014-05-01",
          "2014-05-01",
          "2014-05-01",
          "2014-05-01",
          "2014-05-01",
          "2014-05-01",
          "2014-04-01",
          "2014-04-01",
          "2014-04-01",
          "2014-04-01",
          "2014-04-01",
          "2014-04-01",
          "2014-04-01",
          "2014-04-01",
          "2014-03-01",
          "2014-03-01",
          "2014-03-01",
          "2014-03-01",
          "2014-03-01",
          "2014-03-01",
          "2014-03-01",
          "2014-03-01",
          "2014-03-01",
          "2014-02-01",
          "2014-02-01",
          "2014-02-01",
          "2014-01-01",
          "2014-01-01",
          "2014-01-01",
          "2014-01-01",
          "2014-01-01",
          "2014-01-01",
          "2014-01-01"
         ],
         "xaxis": "x",
         "y": [
          20,
          20,
          26.67,
          33.33,
          33.33,
          53.33,
          60,
          33.33,
          40,
          40,
          33.33,
          33.33,
          33.33,
          33.33,
          33.33,
          26.67,
          26.67,
          60,
          53.33,
          53.33,
          53.33,
          60,
          60,
          60,
          66.67,
          66.67,
          53.33,
          66.67,
          66.67,
          66.67,
          66.67,
          66.67,
          66.67,
          66.67,
          73.33,
          46.67,
          46.67,
          53.33,
          60,
          60,
          53.33,
          60,
          60,
          46.67,
          46.67,
          66.67,
          66.67,
          66.67,
          60,
          60,
          60,
          53.33,
          53.33,
          53.33,
          60,
          46.67,
          40,
          40,
          40,
          40,
          46.67,
          46.67,
          46.67,
          53.33,
          53.33,
          60,
          60,
          60,
          53.33,
          46.67,
          40,
          40,
          40,
          40,
          40,
          40,
          40,
          40,
          40,
          40,
          40,
          40,
          40,
          33.33,
          40,
          33.33,
          33.33,
          53.33,
          66.67,
          60,
          60,
          60,
          60,
          66.67,
          73.33,
          80,
          60,
          60,
          60,
          60,
          60,
          46.67,
          53.33,
          53.33,
          86.67,
          86.67,
          73.33,
          66.67,
          60,
          66.67,
          60,
          53.33,
          53.33,
          66.67,
          80,
          80,
          66.67,
          80,
          80,
          60,
          60,
          66.67,
          60
         ],
         "yaxis": "y2"
        },
        {
         "line": {
          "color": "green",
          "dash": "dash",
          "width": 2
         },
         "mode": "lines",
         "name": "LeBron James signing",
         "type": "scatter",
         "x": [
          "2015-07-11",
          "2015-07-11"
         ],
         "y": [
          321283,
          116608092
         ]
        }
       ],
       "layout": {
        "autosize": false,
        "template": {
         "data": {
          "bar": [
           {
            "error_x": {
             "color": "#2a3f5f"
            },
            "error_y": {
             "color": "#2a3f5f"
            },
            "marker": {
             "line": {
              "color": "#E5ECF6",
              "width": 0.5
             },
             "pattern": {
              "fillmode": "overlay",
              "size": 10,
              "solidity": 0.2
             }
            },
            "type": "bar"
           }
          ],
          "barpolar": [
           {
            "marker": {
             "line": {
              "color": "#E5ECF6",
              "width": 0.5
             },
             "pattern": {
              "fillmode": "overlay",
              "size": 10,
              "solidity": 0.2
             }
            },
            "type": "barpolar"
           }
          ],
          "carpet": [
           {
            "aaxis": {
             "endlinecolor": "#2a3f5f",
             "gridcolor": "white",
             "linecolor": "white",
             "minorgridcolor": "white",
             "startlinecolor": "#2a3f5f"
            },
            "baxis": {
             "endlinecolor": "#2a3f5f",
             "gridcolor": "white",
             "linecolor": "white",
             "minorgridcolor": "white",
             "startlinecolor": "#2a3f5f"
            },
            "type": "carpet"
           }
          ],
          "choropleth": [
           {
            "colorbar": {
             "outlinewidth": 0,
             "ticks": ""
            },
            "type": "choropleth"
           }
          ],
          "contour": [
           {
            "colorbar": {
             "outlinewidth": 0,
             "ticks": ""
            },
            "colorscale": [
             [
              0,
              "#0d0887"
             ],
             [
              0.1111111111111111,
              "#46039f"
             ],
             [
              0.2222222222222222,
              "#7201a8"
             ],
             [
              0.3333333333333333,
              "#9c179e"
             ],
             [
              0.4444444444444444,
              "#bd3786"
             ],
             [
              0.5555555555555556,
              "#d8576b"
             ],
             [
              0.6666666666666666,
              "#ed7953"
             ],
             [
              0.7777777777777778,
              "#fb9f3a"
             ],
             [
              0.8888888888888888,
              "#fdca26"
             ],
             [
              1,
              "#f0f921"
             ]
            ],
            "type": "contour"
           }
          ],
          "contourcarpet": [
           {
            "colorbar": {
             "outlinewidth": 0,
             "ticks": ""
            },
            "type": "contourcarpet"
           }
          ],
          "heatmap": [
           {
            "colorbar": {
             "outlinewidth": 0,
             "ticks": ""
            },
            "colorscale": [
             [
              0,
              "#0d0887"
             ],
             [
              0.1111111111111111,
              "#46039f"
             ],
             [
              0.2222222222222222,
              "#7201a8"
             ],
             [
              0.3333333333333333,
              "#9c179e"
             ],
             [
              0.4444444444444444,
              "#bd3786"
             ],
             [
              0.5555555555555556,
              "#d8576b"
             ],
             [
              0.6666666666666666,
              "#ed7953"
             ],
             [
              0.7777777777777778,
              "#fb9f3a"
             ],
             [
              0.8888888888888888,
              "#fdca26"
             ],
             [
              1,
              "#f0f921"
             ]
            ],
            "type": "heatmap"
           }
          ],
          "heatmapgl": [
           {
            "colorbar": {
             "outlinewidth": 0,
             "ticks": ""
            },
            "colorscale": [
             [
              0,
              "#0d0887"
             ],
             [
              0.1111111111111111,
              "#46039f"
             ],
             [
              0.2222222222222222,
              "#7201a8"
             ],
             [
              0.3333333333333333,
              "#9c179e"
             ],
             [
              0.4444444444444444,
              "#bd3786"
             ],
             [
              0.5555555555555556,
              "#d8576b"
             ],
             [
              0.6666666666666666,
              "#ed7953"
             ],
             [
              0.7777777777777778,
              "#fb9f3a"
             ],
             [
              0.8888888888888888,
              "#fdca26"
             ],
             [
              1,
              "#f0f921"
             ]
            ],
            "type": "heatmapgl"
           }
          ],
          "histogram": [
           {
            "marker": {
             "pattern": {
              "fillmode": "overlay",
              "size": 10,
              "solidity": 0.2
             }
            },
            "type": "histogram"
           }
          ],
          "histogram2d": [
           {
            "colorbar": {
             "outlinewidth": 0,
             "ticks": ""
            },
            "colorscale": [
             [
              0,
              "#0d0887"
             ],
             [
              0.1111111111111111,
              "#46039f"
             ],
             [
              0.2222222222222222,
              "#7201a8"
             ],
             [
              0.3333333333333333,
              "#9c179e"
             ],
             [
              0.4444444444444444,
              "#bd3786"
             ],
             [
              0.5555555555555556,
              "#d8576b"
             ],
             [
              0.6666666666666666,
              "#ed7953"
             ],
             [
              0.7777777777777778,
              "#fb9f3a"
             ],
             [
              0.8888888888888888,
              "#fdca26"
             ],
             [
              1,
              "#f0f921"
             ]
            ],
            "type": "histogram2d"
           }
          ],
          "histogram2dcontour": [
           {
            "colorbar": {
             "outlinewidth": 0,
             "ticks": ""
            },
            "colorscale": [
             [
              0,
              "#0d0887"
             ],
             [
              0.1111111111111111,
              "#46039f"
             ],
             [
              0.2222222222222222,
              "#7201a8"
             ],
             [
              0.3333333333333333,
              "#9c179e"
             ],
             [
              0.4444444444444444,
              "#bd3786"
             ],
             [
              0.5555555555555556,
              "#d8576b"
             ],
             [
              0.6666666666666666,
              "#ed7953"
             ],
             [
              0.7777777777777778,
              "#fb9f3a"
             ],
             [
              0.8888888888888888,
              "#fdca26"
             ],
             [
              1,
              "#f0f921"
             ]
            ],
            "type": "histogram2dcontour"
           }
          ],
          "mesh3d": [
           {
            "colorbar": {
             "outlinewidth": 0,
             "ticks": ""
            },
            "type": "mesh3d"
           }
          ],
          "parcoords": [
           {
            "line": {
             "colorbar": {
              "outlinewidth": 0,
              "ticks": ""
             }
            },
            "type": "parcoords"
           }
          ],
          "pie": [
           {
            "automargin": true,
            "type": "pie"
           }
          ],
          "scatter": [
           {
            "fillpattern": {
             "fillmode": "overlay",
             "size": 10,
             "solidity": 0.2
            },
            "type": "scatter"
           }
          ],
          "scatter3d": [
           {
            "line": {
             "colorbar": {
              "outlinewidth": 0,
              "ticks": ""
             }
            },
            "marker": {
             "colorbar": {
              "outlinewidth": 0,
              "ticks": ""
             }
            },
            "type": "scatter3d"
           }
          ],
          "scattercarpet": [
           {
            "marker": {
             "colorbar": {
              "outlinewidth": 0,
              "ticks": ""
             }
            },
            "type": "scattercarpet"
           }
          ],
          "scattergeo": [
           {
            "marker": {
             "colorbar": {
              "outlinewidth": 0,
              "ticks": ""
             }
            },
            "type": "scattergeo"
           }
          ],
          "scattergl": [
           {
            "marker": {
             "colorbar": {
              "outlinewidth": 0,
              "ticks": ""
             }
            },
            "type": "scattergl"
           }
          ],
          "scattermapbox": [
           {
            "marker": {
             "colorbar": {
              "outlinewidth": 0,
              "ticks": ""
             }
            },
            "type": "scattermapbox"
           }
          ],
          "scatterpolar": [
           {
            "marker": {
             "colorbar": {
              "outlinewidth": 0,
              "ticks": ""
             }
            },
            "type": "scatterpolar"
           }
          ],
          "scatterpolargl": [
           {
            "marker": {
             "colorbar": {
              "outlinewidth": 0,
              "ticks": ""
             }
            },
            "type": "scatterpolargl"
           }
          ],
          "scatterternary": [
           {
            "marker": {
             "colorbar": {
              "outlinewidth": 0,
              "ticks": ""
             }
            },
            "type": "scatterternary"
           }
          ],
          "surface": [
           {
            "colorbar": {
             "outlinewidth": 0,
             "ticks": ""
            },
            "colorscale": [
             [
              0,
              "#0d0887"
             ],
             [
              0.1111111111111111,
              "#46039f"
             ],
             [
              0.2222222222222222,
              "#7201a8"
             ],
             [
              0.3333333333333333,
              "#9c179e"
             ],
             [
              0.4444444444444444,
              "#bd3786"
             ],
             [
              0.5555555555555556,
              "#d8576b"
             ],
             [
              0.6666666666666666,
              "#ed7953"
             ],
             [
              0.7777777777777778,
              "#fb9f3a"
             ],
             [
              0.8888888888888888,
              "#fdca26"
             ],
             [
              1,
              "#f0f921"
             ]
            ],
            "type": "surface"
           }
          ],
          "table": [
           {
            "cells": {
             "fill": {
              "color": "#EBF0F8"
             },
             "line": {
              "color": "white"
             }
            },
            "header": {
             "fill": {
              "color": "#C8D4E3"
             },
             "line": {
              "color": "white"
             }
            },
            "type": "table"
           }
          ]
         },
         "layout": {
          "annotationdefaults": {
           "arrowcolor": "#2a3f5f",
           "arrowhead": 0,
           "arrowwidth": 1
          },
          "autotypenumbers": "strict",
          "coloraxis": {
           "colorbar": {
            "outlinewidth": 0,
            "ticks": ""
           }
          },
          "colorscale": {
           "diverging": [
            [
             0,
             "#8e0152"
            ],
            [
             0.1,
             "#c51b7d"
            ],
            [
             0.2,
             "#de77ae"
            ],
            [
             0.3,
             "#f1b6da"
            ],
            [
             0.4,
             "#fde0ef"
            ],
            [
             0.5,
             "#f7f7f7"
            ],
            [
             0.6,
             "#e6f5d0"
            ],
            [
             0.7,
             "#b8e186"
            ],
            [
             0.8,
             "#7fbc41"
            ],
            [
             0.9,
             "#4d9221"
            ],
            [
             1,
             "#276419"
            ]
           ],
           "sequential": [
            [
             0,
             "#0d0887"
            ],
            [
             0.1111111111111111,
             "#46039f"
            ],
            [
             0.2222222222222222,
             "#7201a8"
            ],
            [
             0.3333333333333333,
             "#9c179e"
            ],
            [
             0.4444444444444444,
             "#bd3786"
            ],
            [
             0.5555555555555556,
             "#d8576b"
            ],
            [
             0.6666666666666666,
             "#ed7953"
            ],
            [
             0.7777777777777778,
             "#fb9f3a"
            ],
            [
             0.8888888888888888,
             "#fdca26"
            ],
            [
             1,
             "#f0f921"
            ]
           ],
           "sequentialminus": [
            [
             0,
             "#0d0887"
            ],
            [
             0.1111111111111111,
             "#46039f"
            ],
            [
             0.2222222222222222,
             "#7201a8"
            ],
            [
             0.3333333333333333,
             "#9c179e"
            ],
            [
             0.4444444444444444,
             "#bd3786"
            ],
            [
             0.5555555555555556,
             "#d8576b"
            ],
            [
             0.6666666666666666,
             "#ed7953"
            ],
            [
             0.7777777777777778,
             "#fb9f3a"
            ],
            [
             0.8888888888888888,
             "#fdca26"
            ],
            [
             1,
             "#f0f921"
            ]
           ]
          },
          "colorway": [
           "#636efa",
           "#EF553B",
           "#00cc96",
           "#ab63fa",
           "#FFA15A",
           "#19d3f3",
           "#FF6692",
           "#B6E880",
           "#FF97FF",
           "#FECB52"
          ],
          "font": {
           "color": "#2a3f5f"
          },
          "geo": {
           "bgcolor": "white",
           "lakecolor": "white",
           "landcolor": "#E5ECF6",
           "showlakes": true,
           "showland": true,
           "subunitcolor": "white"
          },
          "hoverlabel": {
           "align": "left"
          },
          "hovermode": "closest",
          "mapbox": {
           "style": "light"
          },
          "paper_bgcolor": "white",
          "plot_bgcolor": "#E5ECF6",
          "polar": {
           "angularaxis": {
            "gridcolor": "white",
            "linecolor": "white",
            "ticks": ""
           },
           "bgcolor": "#E5ECF6",
           "radialaxis": {
            "gridcolor": "white",
            "linecolor": "white",
            "ticks": ""
           }
          },
          "scene": {
           "xaxis": {
            "backgroundcolor": "#E5ECF6",
            "gridcolor": "white",
            "gridwidth": 2,
            "linecolor": "white",
            "showbackground": true,
            "ticks": "",
            "zerolinecolor": "white"
           },
           "yaxis": {
            "backgroundcolor": "#E5ECF6",
            "gridcolor": "white",
            "gridwidth": 2,
            "linecolor": "white",
            "showbackground": true,
            "ticks": "",
            "zerolinecolor": "white"
           },
           "zaxis": {
            "backgroundcolor": "#E5ECF6",
            "gridcolor": "white",
            "gridwidth": 2,
            "linecolor": "white",
            "showbackground": true,
            "ticks": "",
            "zerolinecolor": "white"
           }
          },
          "shapedefaults": {
           "line": {
            "color": "#2a3f5f"
           }
          },
          "ternary": {
           "aaxis": {
            "gridcolor": "white",
            "linecolor": "white",
            "ticks": ""
           },
           "baxis": {
            "gridcolor": "white",
            "linecolor": "white",
            "ticks": ""
           },
           "bgcolor": "#E5ECF6",
           "caxis": {
            "gridcolor": "white",
            "linecolor": "white",
            "ticks": ""
           }
          },
          "title": {
           "x": 0.05
          },
          "xaxis": {
           "automargin": true,
           "gridcolor": "white",
           "linecolor": "white",
           "ticks": "",
           "title": {
            "standoff": 15
           },
           "zerolinecolor": "white",
           "zerolinewidth": 2
          },
          "yaxis": {
           "automargin": true,
           "gridcolor": "white",
           "linecolor": "white",
           "ticks": "",
           "title": {
            "standoff": 15
           },
           "zerolinecolor": "white",
           "zerolinewidth": 2
          }
         }
        },
        "width": 800,
        "xaxis": {
         "anchor": "y",
         "domain": [
          0,
          0.94
         ]
        },
        "yaxis": {
         "anchor": "x",
         "domain": [
          0,
          1
         ],
         "title": {
          "text": "Winning percentage over last 15 games"
         }
        },
        "yaxis2": {
         "anchor": "x",
         "overlaying": "y",
         "side": "right"
        }
       }
      }
     },
     "metadata": {},
     "output_type": "display_data"
    }
   ],
   "source": [
    "# Sets up logging to Plotly\n",
    "username = chart_studio_username\n",
    "api_key = chart_studio_key\n",
    "chart_studio.tools.set_credentials_file(username=username, api_key=api_key)\n",
    "\n",
    "for (team_joined, team_left, date, player, beg_date, end_date) in important_signings:\n",
    "    team_df = df[(df[\"team\"] == team_joined) & (df[\"year_month\"] >= beg_date) & (df[\"year_month\"] <= end_date)]\n",
    "    dmin, dmax = team_df.view_count.min(), team_df.view_count.max()\n",
    "    fig = make_subplots(specs=[[{\"secondary_y\": True}]])\n",
    "    # Add figure title\n",
    "    # fig.update_layout(title_text=f\"Impact of {player} (left {team_left} for {team_joined})\")\n",
    "\n",
    "    # Set y-axes titles\n",
    "    fig.update_yaxes(title_text=\"Winning percentage over last 15 games\", secondary_y=False)\n",
    "\n",
    "    win_pct = df_win_pct[(df_win_pct[\"team\"] == team_joined) & (df_win_pct[\"year_month\"] >= beg_date) & (df_win_pct[\"year_month\"] <= end_date)]\n",
    "    fig.add_trace(\n",
    "        go.Scatter(x=win_pct[\"year_month\"], y=win_pct[\"win_pct\"], mode=\"lines\", line=dict(dash=\"dot\"), name=f\"{team_joined} win % (joined)\"),\n",
    "        secondary_y=True,\n",
    "    )\n",
    "\n",
    "    team_df = df[(df[\"team\"] == team_left) & (df[\"year_month\"] >= beg_date) & (df[\"year_month\"] <= end_date)]\n",
    "    dmin, dmax = min(dmin, team_df.view_count.min()), max(dmax, team_df.view_count.max())\n",
    "\n",
    "    win_pct = df_win_pct[(df_win_pct[\"team\"] == team_left) & (df_win_pct[\"year_month\"] >= beg_date) & (df_win_pct[\"year_month\"] <= end_date)]\n",
    "    fig.add_trace(\n",
    "        go.Scatter(x=win_pct[\"year_month\"], y=win_pct[\"win_pct\"], mode=\"lines\", line=dict(dash=\"dot\"), name=f\"{team_left} win % (left)\"),\n",
    "        secondary_y=True,\n",
    "    )\n",
    "\n",
    "    fig.add_trace(go.Scatter(x=[date, date], y=[dmin, dmax], mode=\"lines\", line=dict(color=\"green\", width=2, dash=\"dash\"), name=f\"{player} signing\"))\n",
    "\n",
    "    fig.update_layout(autosize=False, width=800)\n",
    "    fig.show()\n",
    "    # fig.write_image(f\"data/event_study_2/{player}_{team_left}_{team_joined}.png\")\n",
    "    # py.plot(fig, filename=f'event_study_2_{player.replace(\" \",  \"_\")}_{team_left}_{team_joined}.png', auto_open=False)"
   ]
  }
 ],
 "metadata": {
  "kernelspec": {
   "display_name": "base",
   "language": "python",
   "name": "python3"
  },
  "language_info": {
   "codemirror_mode": {
    "name": "ipython",
    "version": 3
   },
   "file_extension": ".py",
   "mimetype": "text/x-python",
   "name": "python",
   "nbconvert_exporter": "python",
   "pygments_lexer": "ipython3",
   "version": "3.9.15"
  },
  "vscode": {
   "interpreter": {
    "hash": "b0cc462c96df3621bcc58e01fadcdf9264a069c5c4bbf07201077bb349d3c6bf"
   }
  }
 },
 "nbformat": 4,
 "nbformat_minor": 5
}
