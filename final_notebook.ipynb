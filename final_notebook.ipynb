{
 "cells": [
  {
   "cell_type": "markdown",
   "metadata": {},
   "source": [
    "<h1 align=\"center\"><font color='royalblue'> ADA - Project ADACONDA</font></h1> \n",
    "\n",
    "**Students:**\n",
    "- ABI FADEL Zad\n",
    "- ADEYE Abiola\n",
    "- BRUNO Etienne\n",
    "- FERCHIOU Sami"
   ]
  },
  {
   "cell_type": "markdown",
   "metadata": {},
   "source": [
    "## IMPORTS AND SETTINGS"
   ]
  },
  {
   "cell_type": "code",
   "execution_count": null,
   "metadata": {},
   "outputs": [],
   "source": [
    "# Imports all required libraries\n",
    "import sqlite3\n",
    "import plotly.express as px\n",
    "import dask.dataframe as dd\n",
    "import numpy as np\n",
    "import pandas as pd\n",
    "import seaborn as sns\n",
    "from scipy.stats import pearsonr\n",
    "from dask.distributed import Client\n",
    "from matplotlib import pyplot as plt\n",
    "from scipy.stats import pearsonr\n",
    "from utils.constants import BigMarketsSubset, SmallMarketsSubset, Correspondence, BigMarkets, SmallMarkets, MediumMarkets\n",
    "from data.API_KEYS import chart_studio_key, chart_studio_username\n",
    "import matplotlib.pyplot as plt\n",
    "import matplotlib.font_manager as fm\n",
    "from math import log\n",
    "import chart_studio\n",
    "import chart_studio.plotly as py\n",
    "import chart_studio.tools as tls\n",
    "import plotly.express as px\n",
    "import logging\n",
    "import os\n",
    "\n",
    "# Sets up logging to Plotly\n",
    "username = chart_studio_username\n",
    "api_key = chart_studio_key\n",
    "chart_studio.tools.set_credentials_file(username=username, api_key=api_key)\n",
    "\n",
    "# Default settings for matplotlib\n",
    "sns.set(rc={\"figure.figsize\": (8, 5)})\n",
    "sns.set_style(\"darkgrid\", {\"grid.color\": \".6\", \"grid.linestyle\": \":\"})\n",
    "\n",
    "colors_plt = px.colors.qualitative.Plotly\n",
    "\n",
    "# Default colors for our market sizes\n",
    "color_discrete_map = {\n",
    "    \"small\": colors_plt[1],\n",
    "    \"big\": colors_plt[2],\n",
    "    \"medium\": colors_plt[0],\n",
    "    \"SMALL MARKET\": colors_plt[1],\n",
    "    \"BIG MARKET\": colors_plt[2],\n",
    "    \"MEDIUM MARKET\": colors_plt[0],\n",
    "}"
   ]
  },
  {
   "cell_type": "code",
   "execution_count": null,
   "metadata": {},
   "outputs": [],
   "source": [
    "# Dask Client with number of workers equal to number of cores\n",
    "n_workers = os.cpu_count()\n",
    "client = Client(n_workers=10, silence_logs=logging.ERROR)\n",
    "client"
   ]
  },
  {
   "cell_type": "markdown",
   "metadata": {},
   "source": [
    "## DATA PREPARATION"
   ]
  },
  {
   "cell_type": "markdown",
   "metadata": {},
   "source": [
    "<div class=\"alert alert-block alert-info\">\n",
    "Our first step is to prepare the dataframe on which we will conduct our analysis. We then load our data in parquet format and filter the categories of videos that are the most insightful for us. This step permits us to focus on the videos that are the most interesting for our research, remove noise from irrelevant categories and make our queries faster. <br>\n",
    "Therefore, we filter our videos to only keep categories Sports, People & Blogs and Entertainment."
   ]
  },
  {
   "cell_type": "code",
   "execution_count": null,
   "metadata": {},
   "outputs": [],
   "source": [
    "video_metadata_df = dd.read_parquet(\"./data/video_metadata/parquet/\")\n",
    "video_metadata_df[\"upload_date\"] = dd.to_datetime(video_metadata_df.upload_date)"
   ]
  },
  {
   "cell_type": "code",
   "execution_count": null,
   "metadata": {},
   "outputs": [],
   "source": [
    "video_metadata_df_sports = video_metadata_df[video_metadata_df[\"categories\"].isin([\"Sports\", \"People & Blogs\", \"Entertainment\"])]\n",
    "video_metadata_df_sports[\"tags\"] = video_metadata_df_sports[\"tags\"].str.lower()\n",
    "video_metadata_df_sports[\"tags\"] = video_metadata_df_sports[\"tags\"].apply(lambda x: f\",{x},\", meta=(\"tags\", \"object\"))"
   ]
  },
  {
   "cell_type": "code",
   "execution_count": null,
   "metadata": {},
   "outputs": [],
   "source": [
    "date_obj = video_metadata_df_sports.upload_date.dt\n",
    "group_by = [date_obj.year, date_obj.month, video_metadata_df.categories]\n",
    "video_metadata_df_sports_grouped = video_metadata_df_sports[[\"upload_date\"]].groupby(by=group_by).count().persist()"
   ]
  },
  {
   "cell_type": "code",
   "execution_count": null,
   "metadata": {},
   "outputs": [],
   "source": [
    "required_tags = [\"nba\", \"basketball\"]\n",
    "\n",
    "# Verifying that each video contains the required tags\n",
    "nba_basketball_df = video_metadata_df_sports[video_metadata_df_sports[\"tags\"].str.contains(f',{\",|,\".join(required_tags)},')].persist()\n",
    "nba_basketball_df[\"year_month\"] = dd.to_datetime(\n",
    "    nba_basketball_df.upload_date.dt.year.astype(\"str\") + \"-\" + nba_basketball_df.upload_date.dt.month.astype(\"str\")\n",
    ")\n",
    "nba_basketball_df.head(2)"
   ]
  },
  {
   "cell_type": "code",
   "execution_count": null,
   "metadata": {},
   "outputs": [],
   "source": [
    "# Print dictionary of the big market teams\n",
    "print(\"BigMarketsSubset\")\n",
    "for key, value in BigMarketsSubset.items():\n",
    "    print(f\"{key} : {value}\")\n",
    "\n",
    "print(\"\\nSmallMarketsSubset\")\n",
    "# Print dictionary of the small market teams\n",
    "for key, value in SmallMarketsSubset.items():\n",
    "    print(f\"{key} : {value}\")"
   ]
  },
  {
   "cell_type": "markdown",
   "metadata": {},
   "source": [
    "<div class=\"alert alert-block alert-info\">\n",
    "We groupby the videos according to their respective team, sum the number of views for each team on a monthly basis, label each team with its market size and finally calculate its view ratio compared to all NBA/Basketball views. "
   ]
  },
  {
   "cell_type": "code",
   "execution_count": null,
   "metadata": {},
   "outputs": [],
   "source": [
    "nba_basketball_views_per_year_df = nba_basketball_df[[\"year_month\", \"view_count\"]].groupby(\"year_month\").sum().persist().compute()\n",
    "nba_basketball_views_per_year_df.rename(columns={\"view_count\": \"total_nba_views\"}, inplace=True)\n",
    "\n",
    "dd_dict = {}\n",
    "# Getting the total amount of views per month for every big market and small market team\n",
    "for key, value in {**BigMarketsSubset, **SmallMarketsSubset}.items():\n",
    "    print(key, value)\n",
    "    team_df = nba_basketball_df[nba_basketball_df[\"tags\"].str.contains(f',{\",|,\".join(value)},')]\n",
    "    team_df = team_df[[\"year_month\", \"view_count\"]].groupby(\"year_month\").sum()\n",
    "    team_df = team_df.reset_index()\n",
    "    team_df[\"team\"] = key\n",
    "    team_df[\"market_size\"] = \"small\" if key in SmallMarketsSubset else \"big\"\n",
    "    team_df = team_df.persist().compute()\n",
    "    dd_dict[key] = team_df"
   ]
  },
  {
   "cell_type": "code",
   "execution_count": null,
   "metadata": {},
   "outputs": [],
   "source": [
    "all_team_results = pd.concat([v for k, v in dd_dict.items()])\n",
    "all_team_results = all_team_results.merge(nba_basketball_views_per_year_df, on=\"year_month\")\n",
    "all_team_results[\"total_nba_view_percentage\"] = all_team_results[\"view_count\"] / all_team_results[\"total_nba_views\"]\n",
    "all_team_results[\"season\"] = all_team_results[\"year_month\"].apply(lambda x: f\"{x.year - 1}-{x.year}\" if x.month < 10 else f\"{x.year}-{x.year + 1}\")\n",
    "\n",
    "# Saving the results to a csv file\n",
    "all_team_results.to_csv(\"./data/all_team_results.csv\", index=False)"
   ]
  },
  {
   "cell_type": "markdown",
   "metadata": {},
   "source": [
    "## DATA VISUALIZATION FOR THE INTRODUCTION"
   ]
  },
  {
   "cell_type": "markdown",
   "metadata": {},
   "source": [
    "### GENERATE VISUALIZATION FOR COMPARISON OF MAJOR SPORTS LEAGUES IN THE USA"
   ]
  },
  {
   "cell_type": "code",
   "execution_count": null,
   "metadata": {},
   "outputs": [],
   "source": [
    "major_league_comparison = pd.read_csv(\"data/major_league_comparison.csv\")\n",
    "major_league_comparison"
   ]
  },
  {
   "cell_type": "code",
   "execution_count": null,
   "metadata": {},
   "outputs": [],
   "source": [
    "major_league_comparison.plot(\n",
    "    x=\"League\",\n",
    "    y=[\"Viewers (in millions)\", \"US TV rev. (in billions of $)\"],\n",
    "    kind=\"bar\",\n",
    "    rot=0,\n",
    "    title=\"US major leagues viewership and revenue comparison\",\n",
    ")\n",
    "\n",
    "# Display a legend for the chart\n",
    "plt.legend()\n",
    "\n",
    "# Save the chart to a file with a resolution of 300 dpi\n",
    "plt.savefig(\"imgs/major_league_viewership_comparison.png\", dpi=300)"
   ]
  },
  {
   "cell_type": "markdown",
   "metadata": {},
   "source": [
    "### GENERATE VISUALIZATION OF EVOLUTION OF NBA VIDEOS"
   ]
  },
  {
   "cell_type": "code",
   "execution_count": null,
   "metadata": {},
   "outputs": [],
   "source": [
    "df = nba_basketball_views_per_year_df.copy()\n",
    "\n",
    "# Set 'year_month' column as index, sort by index in ascending order, and reset index\n",
    "df.sort_index(inplace=True, ascending=True)\n",
    "df.reset_index(inplace=True)\n",
    "\n",
    "# Plot 'total_nba_views' against 'year_month' for rows with 'year_month' <= '2018-01-01'\n",
    "df[df.year_month <= \"2018-01-01\"].plot(x=\"year_month\", y=\"total_nba_views\", legend=None)\n",
    "\n",
    "# Customize plot\n",
    "plt.xticks(rotation=45)\n",
    "plt.xlabel(\"Date (monthly frequency)\")\n",
    "plt.ylabel(\"Aggregate views (in billions)\")\n",
    "plt.title('Viewership evolution of videos containing the keyword \"NBA\"', pad=15)\n",
    "plt.tight_layout()\n",
    "\n",
    "# Save plot as image file\n",
    "plt.savefig(\"imgs/viewership_evolution_nba.jpeg\", dpi=400)"
   ]
  },
  {
   "cell_type": "markdown",
   "metadata": {},
   "source": [
    "## BIG MARKET VS SMALL MARKET TEAMS"
   ]
  },
  {
   "cell_type": "markdown",
   "metadata": {},
   "source": [
    "### DATA VISUALISATION FOR THE MARKET SIZE COMPARISON"
   ]
  },
  {
   "cell_type": "code",
   "execution_count": null,
   "metadata": {},
   "outputs": [],
   "source": [
    "def to_real_market_size(elem):\n",
    "    if \"M\" in elem:\n",
    "        return float(elem[:-1])\n",
    "    if \"K\" in elem:\n",
    "        return float(elem[:-1]) / 1000\n",
    "    else:\n",
    "        return np.nan\n",
    "\n",
    "\n",
    "# Read the csv file into a pandas DataFrame\n",
    "market_size_df = pd.read_csv(\"./data/market_sizes.csv\")\n",
    "market_size_df[\"TV MARKET SIZE\"] = market_size_df[\"TV MARKET SIZE\"].apply(to_real_market_size)\n",
    "market_size_df[\"METRO POPULATION\"] = market_size_df[\"METRO POPULATION\"].apply(lambda x: x / (10**6))\n",
    "market_size_df[\"MARKET TYPE\"] = market_size_df[\"TV MARKET SIZE\"].apply(\n",
    "    lambda x: \"BIG MARKET\" if x > 2 else \"SMALL MARKET\" if x < 1.5 else \"MEDIUM MARKET\"\n",
    ")\n",
    "market_size_df.head()"
   ]
  },
  {
   "cell_type": "code",
   "execution_count": null,
   "metadata": {},
   "outputs": [],
   "source": [
    "market_size_df"
   ]
  },
  {
   "cell_type": "code",
   "execution_count": null,
   "metadata": {},
   "outputs": [],
   "source": [
    "# Set figure size and create subplot\n",
    "fig = px.scatter(\n",
    "    market_size_df,\n",
    "    x=\"TV MARKET SIZE\",\n",
    "    y=\"METRO POPULATION\",\n",
    "    custom_data=[\"TEAM\"],\n",
    "    color=\"MARKET TYPE\",\n",
    "    color_discrete_map=color_discrete_map,\n",
    "    size=market_size_df[\"METRO POPULATION\"],\n",
    "    log_x=True,\n",
    "    log_y=False,\n",
    "    width=1000,\n",
    "    height=700,\n",
    ")\n",
    "\n",
    "# Add vertical lines\n",
    "fig.add_shape(type=\"line\", x0=2, x1=2, y0=0, y1=1, name=\"1.5M\", yref=\"paper\", line=dict(color=\"red\", width=2))\n",
    "fig.add_shape(type=\"line\", x0=1.5, x1=1.5, y0=0, y1=1, yref=\"paper\", line=dict(color=\"red\", width=2))\n",
    "\n",
    "\n",
    "# Add title and axis labels\n",
    "fig.update_layout(\n",
    "    xaxis_title=\"TV Market Size (in millions)\",\n",
    "    xaxis_title_font=dict(size=14),\n",
    "    yaxis_title=\"Metro Population (in millions)\",\n",
    "    yaxis_title_font=dict(size=14),\n",
    ")\n",
    "\n",
    "# Add hover labels for team names\n",
    "fig.update_traces(hovertemplate=\"<b>%{customdata[0]}</b>\")\n",
    "fig.update_layout(\n",
    "    hoverlabel=dict(\n",
    "        bgcolor=\"white\",\n",
    "        font_size=12,\n",
    "    )\n",
    ")\n",
    "fig.update_layout(yaxis_range=[0, 15])\n",
    "fig.update_layout(xaxis_range=[0, 0.8])\n",
    "\n",
    "\n",
    "# fig.update_layout(hovermode='x unified')\n",
    "fig.update_layout(legend=dict(orientation=\"h\", yanchor=\"bottom\", y=1.02, xanchor=\"right\", x=0.8))\n",
    "fig.show()\n",
    "\n",
    "py.plot(fig, filename=\"market_size_comparison\", auto_open=False)"
   ]
  },
  {
   "cell_type": "markdown",
   "metadata": {},
   "source": [
    "### STUDY OF THE DISTRIBUTION OF VIDEOS VIEWS"
   ]
  },
  {
   "cell_type": "code",
   "execution_count": null,
   "metadata": {},
   "outputs": [],
   "source": [
    "# Eliminate limit years to avoid undiserable results when computing seasons\n",
    "df = all_team_results.copy()\n",
    "df = df[df.year_month.dt.year != 2006]\n",
    "df = df[df.season != \"2019-2020\"]"
   ]
  },
  {
   "cell_type": "code",
   "execution_count": null,
   "metadata": {},
   "outputs": [],
   "source": [
    "small_vs_big = df.groupby([\"season\", \"market_size\"]).sum().drop([\"total_nba_views\", \"view_count\"], axis=1)\n",
    "small_vs_big.reset_index(inplace=True)\n",
    "display(small_vs_big)\n",
    "\n",
    "big_market_percentage_df = small_vs_big[small_vs_big[\"market_size\"] == \"big\"]\n",
    "small_market_percentage_df = small_vs_big[small_vs_big[\"market_size\"] == \"small\"]"
   ]
  },
  {
   "cell_type": "code",
   "execution_count": null,
   "metadata": {},
   "outputs": [],
   "source": [
    "plt.fill_between(\n",
    "    big_market_percentage_df[\"season\"],\n",
    "    big_market_percentage_df[\"total_nba_view_percentage\"],\n",
    "    small_market_percentage_df[\"total_nba_view_percentage\"],\n",
    "    color=\"peachpuff\",\n",
    "    alpha=0.3,\n",
    ")\n",
    "plt.plot(big_market_percentage_df[\"season\"], big_market_percentage_df[\"total_nba_view_percentage\"], color=\"firebrick\", label=\"Big Markets\")\n",
    "plt.plot(small_market_percentage_df[\"season\"], small_market_percentage_df[\"total_nba_view_percentage\"], color=\"steelblue\", label=\"Small Markets\")\n",
    "plt.xlabel(\"Year\")\n",
    "plt.ylabel(\"Percentage\")\n",
    "plt.title(\"Small vs Big Markets Percentage of all NBA video views\")\n",
    "plt.legend()\n",
    "plt.tight_layout()\n",
    "\n",
    "# Rotate and align the tick labels so they look better\n",
    "plt.setp(plt.gca().get_xticklabels(), rotation=45, horizontalalignment=\"right\")\n",
    "\n",
    "# Save the chart to a file with a resolution of 300 dpi\n",
    "plt.savefig(\"imgs/small_vs_big_market_percentge_comparison.png\", dpi=300, bbox_inches=\"tight\")\n",
    "\n",
    "plt.show()"
   ]
  },
  {
   "cell_type": "code",
   "execution_count": null,
   "metadata": {},
   "outputs": [],
   "source": [
    "percentage_per_season = df.groupby(\"season\").sum().drop([\"total_nba_views\"], axis=1)\n",
    "\n",
    "views_per_team = df.groupby([\"season\", \"team\"]).agg({\"total_nba_view_percentage\": \"sum\", \"market_size\": \"first\", \"view_count\": \"sum\"})\n",
    "\n",
    "# Divide each team's views by the total views for that season\n",
    "views_per_team[\"subset_percentage\"] = views_per_team[\"total_nba_view_percentage\"].div(\n",
    "    percentage_per_season[\"total_nba_view_percentage\"], axis=0, level=\"season\"\n",
    ")\n",
    "views_per_team.rename(columns={\"view_count\": \"Views\"}, inplace=True)\n",
    "views_per_team.reset_index(inplace=True)\n",
    "views_per_team\n",
    "\n",
    "# Create a plotly pie chart, where the season is an additional dimension\n",
    "fig = px.pie(\n",
    "    views_per_team,\n",
    "    values=\"subset_percentage\",\n",
    "    names=\"team\",\n",
    "    color=\"team\",\n",
    "    title=\"Percentage of all NBA video views by team\",\n",
    "    color_discrete_map={\"big\": \"firebrick\", \"small\": \"steelblue\"},\n",
    "    labels={\"subset_percentage\": \"Percentage of all NBA video views by team\"},\n",
    "    hover_data=[\"market_size\"],\n",
    "    width=800,\n",
    "    height=800,\n",
    ")\n",
    "# center the title\n",
    "fig.update_layout(title_x=0.5)\n",
    "fig"
   ]
  },
  {
   "cell_type": "code",
   "execution_count": null,
   "metadata": {},
   "outputs": [],
   "source": [
    "# Create a bar plot displaying the percentage of views for each team as a fraction of the total views for that season\n",
    "# and color the bars by market size\n",
    "fig = px.bar(\n",
    "    views_per_team,\n",
    "    x=\"team\",\n",
    "    y=views_per_team.subset_percentage * 100,\n",
    "    color=\"market_size\",\n",
    "    color_discrete_map=color_discrete_map,\n",
    "    barmode=\"stack\",\n",
    "    color_discrete_sequence=px.colors.qualitative.Pastel,\n",
    "    animation_frame=\"season\",\n",
    "    animation_group=\"team\",\n",
    "    custom_data=[\"Views\"],\n",
    ")\n",
    "\n",
    "fig.update_layout(\n",
    "    # title=\"Distribution of views inside our subset by team\",\n",
    "    xaxis_title=\"Team\",\n",
    "    yaxis_title=\"Percentage\",\n",
    "    legend_title=\"Market Size\",\n",
    "    title_x=0.5,\n",
    "    yaxis_range=[0, 55],\n",
    ")\n",
    "\n",
    "# Add hover labels for team names\n",
    "fig.update_traces(hovertemplate=\"<b>Number of views: %{customdata[0]}</b>\")\n",
    "fig.update_layout(\n",
    "    hoverlabel=dict(\n",
    "        bgcolor=\"white\",\n",
    "        font_size=12,\n",
    "        font_family=\"Ubuntu\",\n",
    "    )\n",
    ")\n",
    "\n",
    "py.plot(fig, filename=\"distribution_of_views_animation\", auto_open=False)\n",
    "fig"
   ]
  },
  {
   "cell_type": "markdown",
   "metadata": {},
   "source": [
    "### DIRECTION OF FREE AGENT MOVES IN THE NBA BETWEEN 2020 and 2021"
   ]
  },
  {
   "cell_type": "code",
   "execution_count": null,
   "metadata": {},
   "outputs": [],
   "source": [
    "# Read csv files for the free agent moves for the 2021 and 2022 seasons\n",
    "free_agent_moves_2021 = pd.read_csv(\"./data/free_agent_moves/2021_free_agent_moves.csv\")\n",
    "free_agent_moves_2022 = pd.read_csv(\"./data/free_agent_moves/2022_free_agent_moves.csv\")\n",
    "\n",
    "# Concatenate the two dataframes\n",
    "free_agent_moves = pd.concat([free_agent_moves_2021, free_agent_moves_2022])\n",
    "\n",
    "# Keep only the rows where the NEWS column starts with \"Signs with\"\n",
    "free_agent_moves = free_agent_moves[free_agent_moves[\"NEWS\"].str.startswith(\"Signs with\") | False]\n",
    "\n",
    "# Add from and to columns to see direction of trade\n",
    "free_agent_moves[\"TO\"] = free_agent_moves[\"NEWS\"].str.split(\" \").str[2]\n",
    "free_agent_moves[\"FROM\"] = \"\"\n",
    "\n",
    "# Save the concatenate dataframe to a csv file\n",
    "# free_agent_moves.to_csv(\"./data/free_agent_moves/free_agent_moves.csv\", index=False)"
   ]
  },
  {
   "cell_type": "code",
   "execution_count": null,
   "metadata": {},
   "outputs": [],
   "source": [
    "# Reload file after manually completing \"TO\" column\n",
    "free_agent_moves = pd.read_csv(\"./data/free_agent_moves/free_agent_moves.csv\")\n",
    "free_agent_moves.drop([\"EXP\", \"NEWS\", \"TYPE\", \"POS\"], axis=1, inplace=True)"
   ]
  },
  {
   "cell_type": "code",
   "execution_count": null,
   "metadata": {},
   "outputs": [],
   "source": [
    "def map_market_size(team):\n",
    "    if team in BigMarkets:\n",
    "        return 2\n",
    "    elif team in MediumMarkets:\n",
    "        return 1\n",
    "    else:\n",
    "        return 0\n",
    "\n",
    "\n",
    "free_agent_moves[\"TO_MARKET\"] = free_agent_moves[\"TO\"].map(map_market_size)\n",
    "free_agent_moves[\"FROM_MARKET\"] = free_agent_moves[\"FROM\"].map(map_market_size)\n",
    "free_agent_moves"
   ]
  },
  {
   "cell_type": "code",
   "execution_count": null,
   "metadata": {},
   "outputs": [],
   "source": [
    "df_from_large_to_small = free_agent_moves[(free_agent_moves[\"PPG\"] > 0) & (free_agent_moves[\"TO_MARKET\"] < free_agent_moves[\"FROM_MARKET\"])]\n",
    "display(df_from_large_to_small)\n",
    "\n",
    "df_from_small_to_large = free_agent_moves[(free_agent_moves[\"PPG\"] > 0) & (free_agent_moves[\"TO_MARKET\"] > free_agent_moves[\"FROM_MARKET\"])]\n",
    "display(df_from_small_to_large)\n",
    "\n",
    "df_eq_moves = free_agent_moves[(free_agent_moves[\"PPG\"] > 0) & (free_agent_moves[\"TO_MARKET\"] == free_agent_moves[\"FROM_MARKET\"])]\n",
    "display(df_eq_moves)"
   ]
  },
  {
   "cell_type": "markdown",
   "metadata": {},
   "source": [
    "### STUDY ON THE CORRELATION BETWEEN VIEWS AND WINNING PERCENTAGE"
   ]
  },
  {
   "cell_type": "code",
   "execution_count": null,
   "metadata": {},
   "outputs": [],
   "source": [
    "all_team_results = pd.read_csv(\"./data/all_team_results.csv\", parse_dates=[\"year_month\"])\n",
    "all_team_results.head()"
   ]
  },
  {
   "cell_type": "markdown",
   "metadata": {},
   "source": [
    "<div class=\"alert alert-block alert-info\">\n",
    "To compare our view ratio with the teams' results, we import from our database the monthly occupancy rate of the stadium of each team and the winning rate on the matches since the beginning of each season."
   ]
  },
  {
   "cell_type": "code",
   "execution_count": null,
   "metadata": {},
   "outputs": [],
   "source": [
    "# Connect to the database\n",
    "con = sqlite3.connect(\"data/nba_api.sqlite\")\n",
    "\n",
    "# Read the data from the database\n",
    "occupancy_rate_df = pd.read_sql_query(\n",
    "    \"\"\"\n",
    "    select   home,\n",
    "                avg(attendance) as avg_attendace,\n",
    "                round(avg(attendance/season_high_attendance*100),2) as avg_occupancy_rate,\n",
    "                strftime('%Y-%m',time) as year_month\n",
    "    from game_data\n",
    "    group by home, year_month\n",
    "    \"\"\",\n",
    "    con,\n",
    ")\n",
    "occupancy_rate_df = occupancy_rate_df.reset_index()\n",
    "display(occupancy_rate_df.home.unique())  # Display query results\n",
    "\n",
    "# Filter out teams that are not in the correspondence dictionary\n",
    "occupancy_rate_df = occupancy_rate_df[occupancy_rate_df[\"home\"].isin(Correspondence.keys())]\n",
    "\n",
    "winning_rate_df = pd.read_sql_query(\n",
    "    \"\"\"\n",
    "    select  home as team,\n",
    "            strftime('%Y-%m', time) as year_month,\n",
    "            last_value(curr_season_win_pct) over (partition by home, strftime('%Y-%m', time) order by time) as win_percentage\n",
    "            from game_data\n",
    "            group by home, year_month;\n",
    "\"\"\",\n",
    "    con,\n",
    ")\n",
    "winning_rate_df = winning_rate_df.reset_index()\n",
    "\n",
    "# Filter out teams that are not in the correspondence dictionary\n",
    "winning_rate_df = winning_rate_df[winning_rate_df[\"team\"].isin(Correspondence.keys())]\n",
    "\n",
    "winning_rate_df[\"year_month\"] = pd.to_datetime(winning_rate_df[\"year_month\"])\n",
    "occupancy_rate_df[\"year_month\"] = pd.to_datetime(occupancy_rate_df[\"year_month\"])\n",
    "\n",
    "winning_rate_df[\"team\"] = winning_rate_df[\"team\"].apply(lambda x: Correspondence[x])\n",
    "occupancy_rate_df[\"team\"] = occupancy_rate_df[\"home\"].apply(lambda x: Correspondence[x])\n",
    "\n",
    "winning_rate_df.head(10)"
   ]
  },
  {
   "cell_type": "code",
   "execution_count": null,
   "metadata": {},
   "outputs": [],
   "source": [
    "# Add winning percentages and occupancy percentages for every team to all team results df\n",
    "all_team_results = all_team_results.merge(winning_rate_df.drop([\"index\"], axis=1), on=[\"team\", \"year_month\"], how=\"inner\")\n",
    "all_team_results = all_team_results.merge(occupancy_rate_df.drop([\"index\", \"home\"], axis=1), on=[\"team\", \"year_month\"], how=\"inner\")\n",
    "\n",
    "# Save to csv since computation is expensive\n",
    "all_team_results.to_csv(\"data/all_team_results_with_winning_percentages.csv\")\n",
    "\n",
    "all_team_results.head()"
   ]
  },
  {
   "cell_type": "code",
   "execution_count": null,
   "metadata": {},
   "outputs": [],
   "source": [
    "# Add a new column that is the mean of view_counts per year_month\n",
    "all_team_results[\"mean_view_count\"] = all_team_results.groupby(\"year_month\")[\"view_count\"].transform(\"mean\")\n",
    "all_team_results[\"std_view_count\"] = all_team_results.groupby(\"year_month\")[\"view_count\"].transform(\"std\").fillna(1)\n",
    "\n",
    "all_team_results[\"view_count_normalized\"] = (all_team_results[\"view_count\"] - all_team_results[\"mean_view_count\"]) / all_team_results[\n",
    "    \"std_view_count\"\n",
    "]\n",
    "all_team_results[\"year\"] = all_team_results[\"year_month\"].dt.year"
   ]
  },
  {
   "cell_type": "code",
   "execution_count": null,
   "metadata": {},
   "outputs": [],
   "source": [
    "# compute correlation between view_count and win_percentage for both big and small market teams\n",
    "grouped_views_and_wins_df = all_team_results.groupby(\"market_size\").agg(\n",
    "    {\n",
    "        \"view_count_normalized\": lambda x: list(x),\n",
    "        \"win_percentage\": lambda x: list(x),\n",
    "    }\n",
    ")\n",
    "\n",
    "correlations = {}\n",
    "for market_size in [\"small\", \"big\"]:\n",
    "    df = grouped_views_and_wins_df[grouped_views_and_wins_df.index == market_size]\n",
    "\n",
    "    correlations[market_size] = pearsonr(df[\"view_count_normalized\"].iloc[0], df[\"win_percentage\"].iloc[0])\n",
    "correlations"
   ]
  },
  {
   "cell_type": "markdown",
   "metadata": {},
   "source": [
    "## NBA TEAM MEDIA EXPOSURE ANALYSIS"
   ]
  },
  {
   "cell_type": "markdown",
   "metadata": {},
   "source": [
    "### MEDIA COVERAGE OF EACH MARKET ON YOUTUBE"
   ]
  },
  {
   "cell_type": "markdown",
   "metadata": {},
   "source": [
    "#### NUMBER OF VIDEOS PER TEAM"
   ]
  },
  {
   "cell_type": "code",
   "execution_count": null,
   "metadata": {},
   "outputs": [],
   "source": [
    "dd_dict = {}\n",
    "# Getting the total amount of views per month for every big market and small market team\n",
    "for key, value in {**BigMarketsSubset, **SmallMarketsSubset}.items():\n",
    "    print(key, value)\n",
    "    team_df = nba_basketball_df[nba_basketball_df[\"tags\"].str.contains(f',{\",|,\".join(value)},')]\n",
    "    team_df = team_df[[\"year_month\", \"view_count\"]].groupby(\"year_month\").sum()\n",
    "    team_df = team_df.reset_index()\n",
    "    team_df[\"team\"] = key\n",
    "    team_df[\"market_size\"] = \"small\" if key in SmallMarketsSubset else \"big\"\n",
    "    team_df = team_df.persist().compute()\n",
    "    dd_dict[key] = team_df"
   ]
  },
  {
   "cell_type": "code",
   "execution_count": null,
   "metadata": {},
   "outputs": [],
   "source": [
    "dd_dict = {}\n",
    "# Selecting the teams and their market size depending on the tags of the videos\n",
    "for key, value in {**BigMarkets, **MediumMarkets, **SmallMarkets}.items():\n",
    "    team_df = nba_basketball_df[nba_basketball_df[\"tags\"].str.contains(f',{\",|,\".join(value)},')]\n",
    "    team_df[\"team\"] = key\n",
    "    team_df[\"market_size\"] = \"small\" if key in SmallMarkets else \"medium\" if key in MediumMarkets else \"big\"\n",
    "    team_df = team_df.persist().compute()\n",
    "    dd_dict[key] = team_df\n",
    "\n",
    "all_team_df = pd.concat([v for k, v in dd_dict.items()])\n",
    "all_team_df.head()"
   ]
  },
  {
   "cell_type": "code",
   "execution_count": null,
   "metadata": {},
   "outputs": [],
   "source": [
    "# Computing the number of videos for each team\n",
    "videos_per_team_df = all_team_df[[\"team\", \"market_size\", \"title\"]].groupby([\"team\", \"market_size\"]).count()\n",
    "videos_per_team_df.rename(columns={\"title\": \"total_videos\"}, inplace=True)"
   ]
  },
  {
   "cell_type": "code",
   "execution_count": null,
   "metadata": {},
   "outputs": [],
   "source": [
    "fig = px.bar(\n",
    "    videos_per_team_df.sort_values(\"total_videos\").reset_index(),\n",
    "    x=\"team\",\n",
    "    y=\"total_videos\",\n",
    "    labels={\"team\": \"Team\", \"total_videos\": \"Total Number of Videos\"},\n",
    "    color=\"market_size\",\n",
    "    color_discrete_map=color_discrete_map,\n",
    "    width=800,\n",
    ")\n",
    "fig.update_layout(title={\"text\": \"Number of Videos per Team\", \"x\": 0.5, \"xanchor\": \"center\"})\n",
    "fig.update_layout(xaxis_categoryorder=\"total ascending\")\n",
    "fig.show()\n",
    "\n",
    "py.plot(fig, filename=\"nb_videos_per_team\", auto_open=False)"
   ]
  },
  {
   "cell_type": "markdown",
   "metadata": {},
   "source": [
    "#### NUMBER OF VIDEOS PER MARKET"
   ]
  },
  {
   "cell_type": "code",
   "execution_count": null,
   "metadata": {},
   "outputs": [],
   "source": [
    "# Computing the number of videos for each market\n",
    "videos_per_market_df = all_team_df[[\"market_size\", \"title\"]].groupby([\"market_size\"]).count()\n",
    "videos_per_market_df.rename(columns={\"title\": \"total_videos\"}, inplace=True)"
   ]
  },
  {
   "cell_type": "code",
   "execution_count": null,
   "metadata": {},
   "outputs": [],
   "source": [
    "fig = px.pie(\n",
    "    videos_per_market_df.reset_index(),\n",
    "    values=\"total_videos\",\n",
    "    names=\"market_size\",\n",
    "    labels={\"market_size\": \"Market Size\", \"total_videos\": \"Total Number of Videos\"},\n",
    "    color=\"market_size\",\n",
    "    color_discrete_map=color_discrete_map,\n",
    "    width=400,\n",
    ")\n",
    "fig.update_layout(title={\"text\": \"Number of Videos per Market Size\", \"x\": 0.5, \"xanchor\": \"center\"})\n",
    "fig.update_traces(textinfo=\"value+percent\")\n",
    "fig.show()\n",
    "\n",
    "py.plot(fig, filename=\"nb_videos_market_size\", auto_open=False)"
   ]
  },
  {
   "cell_type": "markdown",
   "metadata": {},
   "source": [
    "### NUMBER OF CHANNELS PER TEAM"
   ]
  },
  {
   "cell_type": "code",
   "execution_count": null,
   "metadata": {},
   "outputs": [],
   "source": [
    "# Computing the ratio of videos related to a single team on each channel\n",
    "channel_team_df = all_team_df[[\"title\", \"channel_id\", \"team\"]].groupby([\"channel_id\", \"team\"]).count().reset_index()\n",
    "count_by_channel = channel_team_df.groupby(\"channel_id\").sum().reset_index()\n",
    "count_by_channel.rename(columns={\"title\": \"total_videos\"}, inplace=True)\n",
    "channel_team_df.rename(columns={\"title\": \"team_videos\"}, inplace=True)\n",
    "ratio_per_team = pd.merge(channel_team_df, count_by_channel, on=\"channel_id\")\n",
    "ratio_per_team[\"ratio\"] = ratio_per_team[\"team_videos\"] / ratio_per_team[\"total_videos\"]\n",
    "\n",
    "# Only selecting channels that uploaded a significant number of videos\n",
    "significant_channels_df = ratio_per_team[ratio_per_team.total_videos > 4]\n",
    "\n",
    "# Select only fanbase channels - were at least 60% of videos are on a single team\n",
    "fanbase_channels_df = significant_channels_df[significant_channels_df.ratio > 0.51]\n",
    "\n",
    "# Computing the number of fanbase channels per team\n",
    "fanbase_channels_df = fanbase_channels_df.groupby(\"team\").count().sort_values(\"ratio\")\n",
    "\n",
    "# Adding the market size for each team\n",
    "marketper_team_df = all_team_df[[\"team\", \"market_size\"]].groupby([\"team\", \"market_size\"]).count().reset_index()\n",
    "fanbase_channels_df = fanbase_channels_df.merge(marketper_team_df, on=\"team\")"
   ]
  },
  {
   "cell_type": "code",
   "execution_count": null,
   "metadata": {},
   "outputs": [],
   "source": [
    "# Visualizing the number of channels per team and keep the same color for each team\n",
    "fig = px.bar(\n",
    "    fanbase_channels_df,\n",
    "    x=\"team\",\n",
    "    y=\"ratio\",\n",
    "    labels={\"ratio\": \"Number of Fanbase channels\", \"team\": \"Team\"},\n",
    "    color=\"market_size\",\n",
    "    color_discrete_map=color_discrete_map,\n",
    "    width=800,\n",
    ")\n",
    "# fig.update_layout(title={\"text\": \"Number of FanBase Channels per Team\", \"x\": 0.5, \"xanchor\": \"center\"})\n",
    "fig.update_layout(xaxis_categoryorder=\"total ascending\")\n",
    "fig.show()\n",
    "\n",
    "py.plot(fig, filename=\"fanbase_chaneneks_per_team\", auto_open=False)"
   ]
  },
  {
   "cell_type": "markdown",
   "metadata": {},
   "source": [
    "### THE BIG NAMES BIAS"
   ]
  },
  {
   "cell_type": "code",
   "execution_count": null,
   "metadata": {},
   "outputs": [],
   "source": [
    "# Computing the fan engagement on each market size\n",
    "engagement_df = all_team_df.groupby([\"market_size\"]).sum()\n",
    "engagement_df[\"engagement\"] = (engagement_df.like_count / engagement_df.view_count) * 1000"
   ]
  },
  {
   "cell_type": "code",
   "execution_count": null,
   "metadata": {},
   "outputs": [],
   "source": [
    "# Visualizing the fans engagement on each market size\n",
    "fig = px.bar(\n",
    "    engagement_df.sort_values(\"engagement\").reset_index(),\n",
    "    x=\"market_size\",\n",
    "    y=\"engagement\",\n",
    "    width=600,\n",
    "    labels={\"market_size\": \"Market Size\", \"engagement\": \"Engagement ratio (Likes/Views x 1000)\"},\n",
    "    range_y=[7, 10],\n",
    "    color=\"market_size\",\n",
    "    color_discrete_map=color_discrete_map,\n",
    ")\n",
    "# remove legend\n",
    "fig.update_layout(showlegend=False)\n",
    "# fig.update_layout(title={\"text\": \"Engagement by Market Size\", \"x\": 0.5, \"xanchor\": \"center\"})\n",
    "fig.show()\n",
    "\n",
    "py.plot(fig, filename=\"engagement_market_size_wt\", auto_open=False)"
   ]
  },
  {
   "cell_type": "markdown",
   "metadata": {},
   "source": [
    "### Impact of a star player on a team"
   ]
  },
  {
   "cell_type": "code",
   "execution_count": null,
   "metadata": {},
   "outputs": [],
   "source": [
    "import sqlite3\n",
    "\n",
    "con = sqlite3.connect(\"data/nba_api.sqlite\")\n",
    "\n",
    "\n",
    "# get df with winning percentage over last 15 games per team\n",
    "df_win_pct = pd.read_sql(\n",
    "    \"\"\"\n",
    "select abbreviation as team, round(last_15/15*100, 2) as win_pct, strftime('%Y-%m-01',time) as year_month \n",
    "from game_data gd \n",
    "join teams t on gd.home = t.full_name \n",
    "where last_15 is not null and year_month between '2006-01-01' and '2019-12-31'\n",
    "group by abbreviation, time \n",
    "order by year_month desc\n",
    "\"\"\",\n",
    "    con,\n",
    ")"
   ]
  },
  {
   "cell_type": "code",
   "execution_count": null,
   "metadata": {},
   "outputs": [],
   "source": [
    "# obtain statistics on movement of views per team over time\n",
    "df = pd.read_csv(\"data/28_nba_team_results.csv\", parse_dates=[\"year_month\"])\n",
    "\n",
    "df.sort_values(\"year_month\", inplace=True)\n",
    "df[\"team_pct_increase_in_views\"] = df[\"total_nba_views\"].pct_change()\n",
    "df_all_teams_pct_increase_in_views = (\n",
    "    df[[\"year_month\", \"total_nba_views\"]].groupby(\"year_month\").agg(all_teams_pct_increase_in_views=(\"total_nba_views\", sum)).reset_index()\n",
    ")\n",
    "df_all_teams_pct_increase_in_views[\"all_teams_pct_increase_in_views\"] = df_all_teams_pct_increase_in_views[\n",
    "    \"all_teams_pct_increase_in_views\"\n",
    "].pct_change()\n",
    "df = df.merge(df_all_teams_pct_increase_in_views)\n",
    "df[\"team_vs_nba_pct_differential\"] = df[\"team_pct_increase_in_views\"] - df[\"all_teams_pct_increase_in_views\"]\n",
    "df = df[[\"year_month\", \"view_count\", \"team\"]]"
   ]
  },
  {
   "cell_type": "code",
   "execution_count": null,
   "metadata": {},
   "outputs": [],
   "source": [
    "team = \"LAL\"\n",
    "important_signings = [(\"GSW\", \"OKC\", \"2016-07-04\", \"Kevin Durant\"), (\"CLE\", \"MIA\", \"2015-07-11\", \"LeBron James\")]\n",
    "\n",
    "\n",
    "import plotly.express as px\n",
    "import plotly.graph_objects as go\n",
    "from plotly.subplots import make_subplots\n",
    "\n",
    "for (team_joined, team_left, date, player) in important_signings:\n",
    "    team_df = df[df[\"team\"] == team_joined]\n",
    "    dmin, dmax = team_df.view_count.min(), team_df.view_count.max()\n",
    "    fig = make_subplots(specs=[[{\"secondary_y\": True}]])\n",
    "\n",
    "    # Add figure title\n",
    "    fig.update_layout(title_text=f\"Impact of {player} (left {team_left} for {team_joined})\")\n",
    "\n",
    "    # Set y-axes titles\n",
    "    fig.update_yaxes(title_text=\"Team-related <b>youtube</b> views\", secondary_y=False)\n",
    "\n",
    "    team_df = df[df[\"team\"] == team_joined]\n",
    "    fig.add_trace(go.Scatter(x=team_df[\"year_month\"], y=team_df[\"view_count\"], mode=\"lines\", name=team_joined))\n",
    "\n",
    "    win_pct = df_win_pct[df_win_pct[\"team\"] == team_joined]\n",
    "\n",
    "    team_df = df[df[\"team\"] == team_left]\n",
    "    dmin, dmax = min(dmin, team_df.view_count.min()), max(dmax, team_df.view_count.max())\n",
    "    fig.add_trace(go.Scatter(x=team_df[\"year_month\"], y=team_df[\"view_count\"], mode=\"lines\", name=team_left))\n",
    "    win_pct = df_win_pct[df_win_pct[\"team\"] == team_left]\n",
    "\n",
    "    fig.add_trace(go.Scatter(x=[date, date], y=[dmin, dmax], mode=\"lines\", line=dict(color=\"green\", width=2, dash=\"dash\"), name=f\"{player} signing\"))\n",
    "    fig.show()\n",
    "    fig.write_image(f\"data/event_study/{player}_{team_left}_{team_joined}.png\")\n",
    "    py.plot(fig, filename=f'event_study_{player.replace(\" \",  \"_\")}_{team_left}_{team_joined}.png', auto_open=False)"
   ]
  },
  {
   "cell_type": "code",
   "execution_count": null,
   "metadata": {},
   "outputs": [],
   "source": [
    "from data.API_KEYS import chart_studio_username, chart_studio_key\n",
    "import chart_studio.plotly as py\n",
    "import chart_studio\n",
    "\n",
    "# Sets up logging to Plotly\n",
    "username = chart_studio_username\n",
    "api_key = chart_studio_key\n",
    "chart_studio.tools.set_credentials_file(username=username, api_key=api_key)\n",
    "\n",
    "\n",
    "import plotly.express as px\n",
    "import plotly.graph_objects as go\n",
    "from plotly.subplots import make_subplots\n",
    "\n",
    "for (team_joined, team_left, date, player) in important_signings:\n",
    "    team_df = df[df[\"team\"] == team_joined]\n",
    "    dmin, dmax = team_df.view_count.min(), team_df.view_count.max()\n",
    "    fig = make_subplots(specs=[[{\"secondary_y\": True}]])\n",
    "    # Add figure title\n",
    "    fig.update_layout(title_text=f\"Impact of {player} (left {team_left} for {team_joined})\")\n",
    "\n",
    "    # Set y-axes titles\n",
    "    fig.update_yaxes(title_text=\"Winning percentage over last 15 games\", secondary_y=False)\n",
    "    team_df = df[df[\"team\"] == team_joined]\n",
    "\n",
    "    win_pct = df_win_pct[df_win_pct[\"team\"] == team_joined]\n",
    "    fig.add_trace(\n",
    "        go.Scatter(x=win_pct[\"year_month\"], y=win_pct[\"win_pct\"], mode=\"lines\", line=dict(dash=\"dot\"), name=f\"{team_joined} win %\"), secondary_y=True\n",
    "    )\n",
    "\n",
    "    team_df = df[df[\"team\"] == team_left]\n",
    "    dmin, dmax = min(dmin, team_df.view_count.min()), max(dmax, team_df.view_count.max())\n",
    "\n",
    "    win_pct = df_win_pct[df_win_pct[\"team\"] == team_left]\n",
    "    fig.add_trace(\n",
    "        go.Scatter(x=win_pct[\"year_month\"], y=win_pct[\"win_pct\"], mode=\"lines\", line=dict(dash=\"dot\"), name=f\"{team_left} win %\"), secondary_y=True\n",
    "    )\n",
    "\n",
    "    fig.add_trace(go.Scatter(x=[date, date], y=[dmin, dmax], mode=\"lines\", line=dict(color=\"green\", width=2, dash=\"dash\"), name=f\"{player} signing\"))\n",
    "    fig.show()\n",
    "    fig.write_image(f\"data/event_study_2/{player}_{team_left}_{team_joined}.png\")\n",
    "    py.plot(fig, filename=f'event_study_2_{player.replace(\" \",  \"_\")}_{team_left}_{team_joined}.png', auto_open=False)"
   ]
  },
  {
   "cell_type": "code",
   "execution_count": null,
   "metadata": {},
   "outputs": [],
   "source": []
  }
 ],
 "metadata": {
  "language_info": {
   "name": "python"
  }
 },
 "nbformat": 4,
 "nbformat_minor": 5
}
