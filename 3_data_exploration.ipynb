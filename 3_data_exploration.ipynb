{
 "cells": [
  {
   "cell_type": "code",
   "execution_count": null,
   "id": "f9000b26",
   "metadata": {},
   "outputs": [],
   "source": [
    "import sqlite3\n",
    "\n",
    "import dask.array as da\n",
    "import dask.bag as db\n",
    "import dask.dataframe as dd\n",
    "import numpy as np\n",
    "import pandas as pd\n",
    "import seaborn as sns\n",
    "from dask.distributed import Client\n",
    "from matplotlib import pyplot as plt\n",
    "from utils.constants import BigMarkets, SmallMarkets, Correspondence"
   ]
  },
  {
   "cell_type": "code",
   "execution_count": null,
   "id": "7678e408",
   "metadata": {},
   "outputs": [],
   "source": [
    "client = Client(n_workers=6)\n",
    "client"
   ]
  },
  {
   "cell_type": "markdown",
   "id": "37778d81",
   "metadata": {},
   "source": [
    "# Big Market vs Small Market Teams Case Study"
   ]
  },
  {
   "cell_type": "code",
   "execution_count": null,
   "id": "c27e2289",
   "metadata": {},
   "outputs": [],
   "source": [
    "video_metadata_df = dd.read_parquet(\"./data/video_metadata/parquet/0.parquet\")\n",
    "video_metadata_df[\"upload_date\"] = dd.to_datetime(video_metadata_df.upload_date)"
   ]
  },
  {
   "cell_type": "code",
   "execution_count": null,
   "id": "8017ff45",
   "metadata": {},
   "outputs": [],
   "source": [
    "video_metadata_df_sports = video_metadata_df[video_metadata_df[\"categories\"].isin([\"Sports\", \"People & Blogs\", \"Entertainment\"])]\n",
    "video_metadata_df_sports[\"tags\"] = video_metadata_df_sports[\"tags\"].str.lower()\n",
    "video_metadata_df_sports[\"tags\"] = video_metadata_df_sports[\"tags\"].apply(lambda x: f\",{x},\")"
   ]
  },
  {
   "cell_type": "code",
   "execution_count": null,
   "id": "fd6055a5",
   "metadata": {},
   "outputs": [],
   "source": [
    "# video_metadata_df_sports = video_metadata_df_sports[video_metadata_df_sports['tags'].str.contains('basketball')]\n",
    "\n",
    "\n",
    "date_obj = video_metadata_df_sports.upload_date.dt\n",
    "group_by = [date_obj.year, date_obj.month, video_metadata_df.categories]\n",
    "\n",
    "video_metadata_df_sports_grouped = video_metadata_df_sports[[\"upload_date\"]].groupby(by=group_by).count().persist()"
   ]
  },
  {
   "cell_type": "code",
   "execution_count": null,
   "id": "1ca24717",
   "metadata": {},
   "outputs": [],
   "source": [
    "video_metadata_df_sports.head()"
   ]
  },
  {
   "cell_type": "code",
   "execution_count": null,
   "id": "fa149c9e",
   "metadata": {},
   "outputs": [],
   "source": [
    "required_tags = [\"nba\", \"basketball\"]\n",
    "nba_basketball_df = video_metadata_df_sports[video_metadata_df_sports[\"tags\"].str.contains(f',{\",|,\".join(required_tags)},')].persist()\n",
    "nba_basketball_df[\"year_month\"] = dd.to_datetime(\n",
    "    nba_basketball_df.upload_date.dt.year.astype(\"str\") + \"-\" + nba_basketball_df.upload_date.dt.month.astype(\"str\")\n",
    ")"
   ]
  },
  {
   "cell_type": "code",
   "execution_count": null,
   "id": "cb8f75bb",
   "metadata": {},
   "outputs": [],
   "source": [
    "nba_basketball_df.head()"
   ]
  },
  {
   "cell_type": "code",
   "execution_count": null,
   "id": "f58778bb",
   "metadata": {},
   "outputs": [],
   "source": [
    "BigMarkets"
   ]
  },
  {
   "cell_type": "code",
   "execution_count": null,
   "id": "6a28f456",
   "metadata": {},
   "outputs": [],
   "source": [
    "nba_basketball_views_per_year_df = nba_basketball_df[[\"year_month\", \"view_count\"]].groupby(\"year_month\").sum().persist().compute()\n",
    "nba_basketball_views_per_year_df.rename(columns={\"view_count\": \"total_nba_views\"}, inplace=True)\n",
    "\n",
    "dd_dict = {}\n",
    "\n",
    "# Getting the total amount of views per month for every big market and small market team\n",
    "for key, value in {**BigMarkets, **SmallMarkets}.items():\n",
    "\n",
    "    team_df = nba_basketball_df[nba_basketball_df[\"tags\"].str.contains(f',{\",|,\".join(value)},')]\n",
    "    # team_df[\"year_month\"] = team_df.upload_date.dt.year.astype(\"str\") + \"-\" + team_df.upload_date.dt.month.astype(\"str\")\n",
    "    team_df = team_df[[\"year_month\", \"view_count\"]].groupby(\"year_month\").sum()\n",
    "\n",
    "    team_df = team_df.reset_index()\n",
    "\n",
    "    team_df[\"team\"] = key\n",
    "    team_df[\"market_size\"] = \"small\" if key in SmallMarkets else \"big\"\n",
    "    team_df = team_df.persist().compute()\n",
    "\n",
    "    dd_dict[key] = team_df"
   ]
  },
  {
   "cell_type": "code",
   "execution_count": null,
   "id": "24d1e7a1",
   "metadata": {},
   "outputs": [],
   "source": [
    "all_team_results = pd.concat([v for k, v in dd_dict.items()])\n",
    "all_team_results = all_team_results.merge(nba_basketball_views_per_year_df, on=\"year_month\")\n",
    "all_team_results[\"total_nba_view_percentage\"] = all_team_results[\"view_count\"] / all_team_results[\"total_nba_views\"]"
   ]
  },
  {
   "cell_type": "code",
   "execution_count": null,
   "id": "a658984b",
   "metadata": {},
   "outputs": [],
   "source": [
    "all_team_results[all_team_results[\"team\"] == \"UT\"].sort_values(\"year_month\", ascending=False).head(50)"
   ]
  },
  {
   "cell_type": "code",
   "execution_count": null,
   "id": "55a9aea0",
   "metadata": {},
   "outputs": [],
   "source": [
    "con = sqlite3.connect(\"data/nba_api.sqlite\")"
   ]
  },
  {
   "cell_type": "code",
   "execution_count": null,
   "id": "f4ed490c",
   "metadata": {},
   "outputs": [],
   "source": [
    "occupancy_rate_df = pd.read_sql_query(\n",
    "    \"\"\"select home, avg(attendance) as avg_attendace, round(avg(attendance/season_high_attendance*100),2) as avg_occupancy_rate, strftime('%Y-%m',time) as year_month\n",
    "from game_data\n",
    "group by home, year_month\"\"\",\n",
    "    con,\n",
    ")\n",
    "occupancy_rate_df = occupancy_rate_df.reset_index()\n",
    "\n",
    "display(occupancy_rate_df.home.unique())\n",
    "\n",
    "occupancy_rate_df = occupancy_rate_df[occupancy_rate_df[\"home\"].isin(Correspondence.keys())]\n",
    "\n",
    "\n",
    "winning_rate_df = pd.read_sql_query(\n",
    "    \"\"\"\n",
    "select home as team,\n",
    "       strftime('%Y-%m', time)                                                                         as year_month,\n",
    "\n",
    "       last_value(curr_season_win_pct) over (partition by home, strftime('%Y-%m', time) order by time) as win_percentage\n",
    "from game_data\n",
    "group by home, year_month;\n",
    "\"\"\",\n",
    "    con,\n",
    ")\n",
    "winning_rate_df = winning_rate_df.reset_index()\n",
    "winning_rate_df = winning_rate_df[winning_rate_df[\"team\"].isin(Correspondence.keys())]\n",
    "\n",
    "winning_rate_df[\"year_month\"] = pd.to_datetime(winning_rate_df[\"year_month\"])\n",
    "occupancy_rate_df[\"year_month\"] = pd.to_datetime(occupancy_rate_df[\"year_month\"])"
   ]
  },
  {
   "cell_type": "code",
   "execution_count": null,
   "id": "8356dc70",
   "metadata": {},
   "outputs": [],
   "source": [
    "winning_rate_df[\"team\"] = winning_rate_df[\"team\"].apply(lambda x: Correspondence[x])\n",
    "occupancy_rate_df[\"team\"] = occupancy_rate_df[\"home\"].apply(lambda x: Correspondence[x])"
   ]
  },
  {
   "cell_type": "code",
   "execution_count": null,
   "id": "3de1be55",
   "metadata": {},
   "outputs": [],
   "source": [
    "winning_rate_df.head()"
   ]
  },
  {
   "cell_type": "code",
   "execution_count": null,
   "id": "7cd470bc",
   "metadata": {},
   "outputs": [],
   "source": [
    "occupancy_rate_df.head()"
   ]
  },
  {
   "cell_type": "code",
   "execution_count": null,
   "id": "4dc746c1",
   "metadata": {},
   "outputs": [],
   "source": [
    "winning_rate_df[winning_rate_df[\"year_month\"] == \"2006-03-01\"]"
   ]
  },
  {
   "cell_type": "code",
   "execution_count": null,
   "id": "85474d9b",
   "metadata": {},
   "outputs": [],
   "source": [
    "all_team_results = all_team_results.merge(winning_rate_df.drop([\"index\"], axis=1), on=[\"team\", \"year_month\"], how=\"inner\")\n",
    "display(all_team_results.sort_values(\"year_month\"))\n",
    "all_team_results = all_team_results.merge(occupancy_rate_df.drop([\"index\", \"home\"], axis=1), on=[\"team\", \"year_month\"], how=\"inner\")\n",
    "display(all_team_results)"
   ]
  },
  {
   "cell_type": "code",
   "execution_count": null,
   "id": "49d45e2f",
   "metadata": {},
   "outputs": [],
   "source": [
    "all_team_results.to_csv(\"data/all_team_results.csv\")"
   ]
  },
  {
   "cell_type": "code",
   "execution_count": null,
   "id": "a9467c91",
   "metadata": {},
   "outputs": [],
   "source": [
    "all_team_results.sort_values(\"year_month\").head(50)"
   ]
  },
  {
   "cell_type": "markdown",
   "id": "a78f8c8f",
   "metadata": {},
   "source": [
    "How can we define the popularity of a team. Based on its views ratio and occupancy rate."
   ]
  },
  {
   "cell_type": "markdown",
   "id": "6c3dd9f2",
   "metadata": {},
   "source": [
    " Hypothese: Is the correlation between winning percentage and popularity bigger for big market than for small market teams?\n",
    " \n",
    " \n",
    " \n",
    "Big market teams are followed all around the world. Thus, many fans developped a loyalty to their teams. Our supposition is that this loyalty permits to the big market teams to continue to be popular with less good results compared to small market teams. "
   ]
  },
  {
   "cell_type": "code",
   "execution_count": null,
   "id": "7691f223",
   "metadata": {},
   "outputs": [],
   "source": [
    "from scipy.stats import pearsonr\n",
    "\n",
    "small_market_correlations = {}\n",
    "for team in SmallMarkets:\n",
    "    df = all_team_results[all_team_results[\"team\"] == team]\n",
    "    small_market_correlations[team] = pearsonr(df[\"total_nba_view_percentage\"], df[\"win_percentage\"]).statistic\n",
    "\n",
    "\n",
    "big_market_correlations = {}\n",
    "for team in BigMarkets:\n",
    "    df = all_team_results[all_team_results[\"team\"] == team]\n",
    "    big_market_correlations[team] = pearsonr(df[\"total_nba_view_percentage\"], df[\"win_percentage\"]).statistic"
   ]
  },
  {
   "cell_type": "code",
   "execution_count": null,
   "id": "2efb97b2",
   "metadata": {},
   "outputs": [],
   "source": [
    "big_market_correlations"
   ]
  },
  {
   "cell_type": "code",
   "execution_count": null,
   "id": "a3bd09ca",
   "metadata": {},
   "outputs": [],
   "source": [
    "small_market_correlations"
   ]
  },
  {
   "cell_type": "code",
   "execution_count": null,
   "id": "bd5ddf23",
   "metadata": {},
   "outputs": [],
   "source": [
    "pd.DataFrame(big_market_correlations.values()).mean()"
   ]
  },
  {
   "cell_type": "code",
   "execution_count": null,
   "id": "2c419199",
   "metadata": {},
   "outputs": [],
   "source": [
    "pd.DataFrame(small_market_correlations.values()).mean()"
   ]
  },
  {
   "cell_type": "code",
   "execution_count": null,
   "id": "5bf202aa",
   "metadata": {},
   "outputs": [],
   "source": [
    "lakers_df = all_team_results[(all_team_results[\"team\"] == \"LA\") & (all_team_results[\"year_month\"] > \"2010\")].sort_values(\"year_month\")"
   ]
  },
  {
   "cell_type": "code",
   "execution_count": null,
   "id": "d561249a",
   "metadata": {},
   "outputs": [],
   "source": [
    "# lakers_df = lakers_df[['year_month','total_nba_view_percentage','win_percentage']].groupby(lakers_df.year_month.dt.year).agg({'win_percentage':'last','total_nba_view_percentage':'mean'})"
   ]
  },
  {
   "cell_type": "code",
   "execution_count": null,
   "id": "2f1dd789",
   "metadata": {},
   "outputs": [],
   "source": [
    "sns.set(rc={\"figure.figsize\": (11, 4)})\n",
    "# sns.set(style=\"white\", color_codes=True)\n",
    "sns.set_style(\"darkgrid\", {\"grid.color\": \".6\", \"grid.linestyle\": \":\"})\n",
    "ax = plt.subplot\n",
    "ax = sns.lineplot(x=\"year_month\", y=\"win_percentage\", data=lakers_df, color=\"r\", marker=\"x\")\n",
    "# ax = sns.lineplot(x='year_month',y='total_nba_view_percentage', data=lakers_df,color='b')\n",
    "\n",
    "plt.show()"
   ]
  },
  {
   "cell_type": "code",
   "execution_count": null,
   "id": "69c13f5d",
   "metadata": {},
   "outputs": [],
   "source": [
    "sns.set(rc={\"figure.figsize\": (11, 4)})\n",
    "# sns.set(style=\"white\", color_codes=True)\n",
    "sns.set_style(\"darkgrid\", {\"grid.color\": \".6\", \"grid.linestyle\": \":\"})\n",
    "ax = plt.subplot\n",
    "# ax = sns.lineplot(x='year_month',y='win_percentage', data=lakers_df,color='r',marker='x')\n",
    "ax = sns.lineplot(x=\"year_month\", y=\"total_nba_view_percentage\", data=lakers_df, color=\"b\")\n",
    "\n",
    "plt.show()"
   ]
  },
  {
   "cell_type": "markdown",
   "id": "fa3c99bf",
   "metadata": {},
   "source": [
    "After trying to take conclusions on the winning rate of a team over the current month, we discovered that our values were not representative of the real level of the team at that time, i.e. a high level team could have faced only low level teams during a certain month, thus it wuld have a high winnnig rate and low view percentage as those matches are not decisive and thus not interesting. Therefore, we decided to calculate our winnig rate as the rat of win on the 10 past matches that a team has played. "
   ]
  },
  {
   "cell_type": "code",
   "execution_count": null,
   "id": "a2806592",
   "metadata": {},
   "outputs": [],
   "source": []
  }
 ],
 "metadata": {
  "language_info": {
   "name": "python"
  }
 },
 "nbformat": 4,
 "nbformat_minor": 5
}
