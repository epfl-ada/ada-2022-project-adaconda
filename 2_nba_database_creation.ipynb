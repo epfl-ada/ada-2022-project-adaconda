{
 "cells": [
  {
   "cell_type": "code",
   "execution_count": null,
   "metadata": {},
   "outputs": [],
   "source": [
    "import calendar\n",
    "import itertools\n",
    "import sqlite3\n",
    "import time\n",
    "\n",
    "import pandas as pd\n",
    "import numpy as np\n",
    "import requests\n",
    "from bs4 import BeautifulSoup\n",
    "from nba_api.stats.static import teams\n",
    "\n",
    "pd.options.mode.chained_assignment = None  # default='warn'\n",
    "\n",
    "# CONSTANTS\n",
    "MONTHS = list(calendar.month_name)\n",
    "MONTHS.remove(\"\")\n",
    "MONTHS = list(map(lambda x: x.lower(), MONTHS))\n",
    "\n",
    "GAMEDAYS = 82  # minimum number of games a team plays in a season\n",
    "GAMES_PER_DAY = 15  # number of games per gameday"
   ]
  },
  {
   "cell_type": "code",
   "execution_count": null,
   "metadata": {},
   "outputs": [],
   "source": [
    "# create/connect database\n",
    "con = sqlite3.connect(\"nba_api.sqlite\")"
   ]
  },
  {
   "cell_type": "markdown",
   "metadata": {},
   "source": [
    "## Populate Database"
   ]
  },
  {
   "cell_type": "markdown",
   "metadata": {},
   "source": [
    "#### Teams *(data taken from nba_api)*"
   ]
  },
  {
   "cell_type": "code",
   "execution_count": null,
   "metadata": {},
   "outputs": [],
   "source": [
    "# create teams table (contains general info on nba teams )\n",
    "pd.DataFrame(teams.get_teams()).set_index(\"id\").to_sql(\"teams\", con, if_exists=\"replace\")"
   ]
  },
  {
   "cell_type": "markdown",
   "metadata": {},
   "source": [
    "#### Championship winner *(data taken from nba_api)*"
   ]
  },
  {
   "cell_type": "code",
   "execution_count": null,
   "metadata": {},
   "outputs": [],
   "source": [
    "championships_df = pd.DataFrame([(year, teams.find_teams_by_championship_year(year)) for year in range(1949, 2023)], columns=[\"year\", \"team\"])\n",
    "championships_df[\"total_championships\"] = 1\n",
    "championships_df[\"total_championships\"] = championships_df.groupby(\"team\")[\"total_championships\"].cumsum()\n",
    "championships_df.to_sql(\"championship_winners\", con, if_exists=\"replace\", index=False)"
   ]
  },
  {
   "cell_type": "markdown",
   "metadata": {},
   "source": [
    "#### Scrape [basketball-reference website](https://www.basketball-reference.com/) for per-game data"
   ]
  },
  {
   "cell_type": "markdown",
   "metadata": {},
   "source": [
    "<div class=\"alert alert-block alert-info\">\n",
    "Using the <b>basketball-reference</b> website, we obtain monthly game data. The data for each month is pre-processed and stored in a dedicated table with the name {season}_{month} .\n",
    "    \n",
    "This stores the website content in a local database and avoids having to re-scrape the website\n",
    "\n",
    "\n"
   ]
  },
  {
   "cell_type": "code",
   "execution_count": null,
   "metadata": {},
   "outputs": [],
   "source": [
    "seasons = range(2005, 2019)\n",
    "\n",
    "for season, month in itertools.product(seasons, MONTHS):\n",
    "    print(season, month, end=\"\\r\")\n",
    "    r = requests.get(f\"https://www.basketball-reference.com/leagues/NBA_{season}_games-{month}.html\")\n",
    "    time.sleep(3)  # wait to avoid HTTP 429: Too many requests error\n",
    "    soup = BeautifulSoup(r.content, \"html.parser\")  # parse html content\n",
    "    schedule = soup.find(id=\"schedule\")  # get schedule table from page content\n",
    "    try:\n",
    "        tr = schedule.find_all(\"tr\")  # get all table rows\n",
    "    except BaseException:\n",
    "        continue\n",
    "\n",
    "    # get dates from table's headers\n",
    "    data = [[th.getText() for th in tr[i].findAll(\"th\")] for i in range(len(tr))]\n",
    "    dates = np.array(data[1:])\n",
    "    columns = [\"date\", \"start_time_ET\", \"visitor\", \"visitor_points\", \"home\", \"home_points\", \"box_score\", \"overtime\", \"attendance\", \"arena\", \"notes\"]\n",
    "    dates_df = pd.DataFrame(data=dates, columns=[columns[0]])\n",
    "\n",
    "    # get rest of data from table's data cells\n",
    "    data = [[td.getText() for td in tr[i].findAll(\"td\")] for i in range(len(tr))]\n",
    "    data_df = pd.DataFrame(data=data[1:], columns=columns[1:])\n",
    "    data_df.drop([\"box_score\", \"notes\"], axis=1, inplace=True)\n",
    "\n",
    "    # concatenate dates and data\n",
    "    df = pd.concat([dates_df, data_df], axis=1)\n",
    "\n",
    "    df[\"time\"] = df[\"date\"].map(str) + \" \" + df[\"start_time_ET\"].map(str)\n",
    "    df[\"time\"] = pd.to_datetime(df[\"time\"].values, infer_datetime_format=True)\n",
    "\n",
    "    # add playoffs column (if the playoffs starts during the current month, the table will have a row where the date is \"Playoffs\")\n",
    "    # this means that all subsequent games in that month are playoff\n",
    "    # we still need to mark all subsequent game in that season as playoff games. This will be done in the next cell since we need entires across calendar years\n",
    "    try:\n",
    "        playoffs = df.loc[df[\"date\"] == \"Playoffs\"].index.values[0]\n",
    "        print(df.loc[df[\"date\"] == \"Playoffs\"])\n",
    "        df = df.drop(df.index[playoffs]).reset_index(drop=True)\n",
    "        df[\"playoffs\"] = np.where(df.index.values < playoffs, False, True)\n",
    "    except BaseException:\n",
    "        df[\"playoffs\"] = False\n",
    "\n",
    "    df.drop([\"date\", \"start_time_ET\"], axis=1, inplace=True)\n",
    "\n",
    "    df.to_sql(f\"{season}_{month}\", con, if_exists=\"replace\", index=False)"
   ]
  },
  {
   "cell_type": "markdown",
   "metadata": {},
   "source": [
    "<div class=\"alert alert-block alert-info\">\n",
    "Merge the monthly game data into 1 database table containing all the games"
   ]
  },
  {
   "cell_type": "code",
   "execution_count": null,
   "metadata": {},
   "outputs": [],
   "source": [
    "%%time\n",
    "all_data_df = pd.DataFrame()\n",
    "for season, month in itertools.product(seasons, MONTHS):\n",
    "    try:\n",
    "        df = pd.read_sql_query(f'select * from \"{season}_{month}\"', con)\n",
    "    except pd.io.sql.DatabaseError:\n",
    "        continue\n",
    "    df[\"time\"] = pd.to_datetime(df[\"time\"].values, infer_datetime_format=True)\n",
    "    # NBA season cut-off is august\n",
    "    df[\"season\"] = df.apply(lambda row: row[\"time\"].year if row[\"time\"].month < 8 else row[\"time\"].year + 1, axis=1)\n",
    "\n",
    "    all_data_df = all_data_df.append(df, ignore_index=True)\n",
    "\n",
    "# for each season, mark all games after the first playoff game as playoff\n",
    "all_data_df[\"playoffs\"] = all_data_df.groupby(\"season\").playoffs.expanding().max().reset_index()[\"playoffs\"]\n",
    "\n",
    "all_data_df = all_data_df.sort_values(\"time\")\n",
    "\n",
    "all_data_df.to_sql(\"game_data\", con, index=False, if_exists=\"replace\")"
   ]
  },
  {
   "cell_type": "markdown",
   "metadata": {},
   "source": [
    "<div class=\"alert alert-block alert-info\">\n",
    "Add interesting statistics to the game_data table"
   ]
  },
  {
   "cell_type": "code",
   "execution_count": null,
   "metadata": {},
   "outputs": [],
   "source": [
    "%%time\n",
    "df = pd.read_sql_query(\"select * from game_data\", con)\n",
    "\n",
    "# adapt types\n",
    "df[\"visitor_points\"] = df.visitor_points.astype(int)\n",
    "df[\"home_points\"] = df.home_points.astype(int)\n",
    "df[\"attendance\"] = df.attendance.astype(int)\n",
    "df[\"time\"] = pd.to_datetime(df[\"time\"].values, infer_datetime_format=True)\n",
    "\n",
    "df[\"last_five\"] = 0\n",
    "df[\"season_high_attendance\"] = 0\n",
    "\n",
    "for year in sorted(all_data_df[\"time\"].dt.year.unique())[1:]:\n",
    "    for team in df.home.unique():\n",
    "        # define useful filters\n",
    "        current_season = df[\"season\"] == year\n",
    "        previous_season = df[\"season\"] == year - 1\n",
    "        current_team_home = df[\"home\"] == team\n",
    "        current_team = (df[\"home\"] == team) | (df[\"visitor\"] == team)\n",
    "\n",
    "        # dummy variable for wins by current_team\n",
    "        df[\"win\"] = 0\n",
    "        df.loc[\n",
    "            (current_season | previous_season)\n",
    "            & current_team\n",
    "            & (\n",
    "                ((df[\"home\"] == team) & (df[\"visitor_points\"] < df[\"home_points\"]))\n",
    "                | ((df[\"visitor\"] == team) & (df[\"visitor_points\"] > df[\"home_points\"]))\n",
    "            ),\n",
    "            \"win\",\n",
    "        ] = 1\n",
    "\n",
    "        # compute win percentage during the season (e.g. on matchday 12, thi is the win percentage over first 12 games)\n",
    "        df.loc[current_season & current_team_home, \"curr_season_win_pct\"] = (\n",
    "            df.loc[current_season & current_team, \"win\"].expanding().mean()[current_team_home]\n",
    "        )\n",
    "\n",
    "        # compute number of wins in last 5/10/15 games\n",
    "        for i in range(5, 16, 5):\n",
    "            df.loc[current_season & current_team_home, f\"last_{i}\"] = (\n",
    "                df.loc[current_season & current_team, \"win\"].rolling(i, min_periods=i).sum()[current_team_home]\n",
    "            )\n",
    "\n",
    "        try:\n",
    "            df.loc[current_team_home & current_season, \"season_high_attendance\"] = df.loc[current_team_home & current_season, \"attendance\"].max()\n",
    "        except BaseException:\n",
    "            continue\n",
    "\n",
    "        df.loc[current_season & current_team_home, \"previous_season_win_pct\"] = df.loc[previous_season & current_team, \"win\"].mean()\n",
    "        df.loc[current_season & current_team_home, \"previous_regular_season_win_pct\"] = df.loc[\n",
    "            previous_season & current_team & df[\"playoffs\"] == 1, \"win\"\n",
    "        ].mean()\n",
    "\n",
    "df = df.drop([\"win\"], axis=1)\n",
    "\n",
    "df.to_sql(\"game_data\", con, index=False, if_exists=\"replace\")"
   ]
  }
 ],
 "metadata": {
  "language_info": {
   "name": "python"
  }
 },
 "nbformat": 4,
 "nbformat_minor": 4
}
