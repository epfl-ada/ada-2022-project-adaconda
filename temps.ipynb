{
 "cells": [
  {
   "cell_type": "code",
   "execution_count": null,
   "id": "1b2cb656",
   "metadata": {},
   "outputs": [],
   "source": [
    "import sqlite3\n",
    "\n",
    "import dask.array as da\n",
    "import dask.bag as db\n",
    "import dask.dataframe as dd\n",
    "import numpy as np\n",
    "import pandas as pd\n",
    "import seaborn as sns\n",
    "from dask.distributed import Client\n",
    "from matplotlib import pyplot as plt\n",
    "from utils.constants import BigMarkets, SmallMarkets, Correspondence"
   ]
  },
  {
   "cell_type": "code",
   "execution_count": null,
   "id": "bcca7826",
   "metadata": {},
   "outputs": [],
   "source": [
    "client = Client(n_workers=6)\n",
    "client"
   ]
  },
  {
   "cell_type": "code",
   "execution_count": null,
   "id": "6ffd64de",
   "metadata": {},
   "outputs": [],
   "source": [
    "# PART 1 : Global analysis of sport videos and NBA videos available on the Youniverse dataset"
   ]
  },
  {
   "cell_type": "code",
   "execution_count": null,
   "id": "4e94df13",
   "metadata": {},
   "outputs": [],
   "source": [
    "## What is the evolution of the number of videos on Youtube within the study period ?"
   ]
  },
  {
   "cell_type": "code",
   "execution_count": null,
   "id": "c6f76c39",
   "metadata": {},
   "outputs": [],
   "source": [
    "##  How did popularity of basketball evolve over time ?"
   ]
  },
  {
   "cell_type": "code",
   "execution_count": null,
   "id": "733b201d",
   "metadata": {},
   "outputs": [],
   "source": [
    "video_metadata_df = dd.read_parquet(\"./data/video_metadata/parquet\")\n",
    "video_metadata_df[\"upload_date\"] = dd.to_datetime(video_metadata_df.upload_date)"
   ]
  },
  {
   "cell_type": "code",
   "execution_count": null,
   "id": "ac7b9e30",
   "metadata": {},
   "outputs": [],
   "source": [
    "video_metadata_df.head()"
   ]
  },
  {
   "cell_type": "code",
   "execution_count": null,
   "id": "793dc037",
   "metadata": {},
   "outputs": [],
   "source": [
    "date_obj = video_metadata_df.upload_date.dt\n",
    "group_by = [date_obj.year, date_obj.month, video_metadata_df.categories]\n",
    "\n",
    "video_evolution = video_metadata_df[[\"upload_date\"]].groupby(by=group_by).count().persist()\n",
    "video_evolution_pd = video_evolution.compute()"
   ]
  },
  {
   "cell_type": "code",
   "execution_count": null,
   "id": "910649d7",
   "metadata": {},
   "outputs": [],
   "source": [
    "video_evolution_pd.sort_index(inplace=True)\n",
    "video_evolution_pd = video_evolution_pd[video_evolution.index != 2019]\n",
    "\n",
    "video_evolution_pd.index.names = [\"year\", \"month\", \"categories\"]\n",
    "video_evolution_pd.reset_index(inplace=True)\n",
    "# video_evolution_pd = video_evolution_pd[(video_evolution_pd[\"year\"] != 2019)]  # TODO : fix this to also include first months of 2019\n",
    "video_evolution_pd[\"date\"] = video_evolution_pd[\"year\"].astype(\"str\") + \"/\" + video_evolution_pd[\"month\"].astype(\"str\")"
   ]
  },
  {
   "cell_type": "code",
   "execution_count": null,
   "id": "41d2dcf0",
   "metadata": {},
   "outputs": [],
   "source": [
    "def plot_comparsion(df):\n",
    "    fig = plt.figure(figsize=(15, 8))\n",
    "    ax = fig.add_subplot(111)\n",
    "    sns.lineplot(x=\"date\", y=\"upload_date\", hue=\"categories\", data=df)\n",
    "    start, end = ax.get_xlim()\n",
    "    ax.xaxis.set_ticks(np.arange(start, end, 12))\n",
    "    plt.xticks(rotation=45)\n",
    "    plt.show()"
   ]
  },
  {
   "cell_type": "code",
   "execution_count": null,
   "id": "a64358bc",
   "metadata": {},
   "outputs": [],
   "source": [
    "video_evolution_pd_sport = video_evolution_pd[video_evolution_pd[\"categories\"].isin([\"Sports\", \"People & Blogs\", \"Entertainment\"])]"
   ]
  },
  {
   "cell_type": "code",
   "execution_count": null,
   "id": "55e6dabc",
   "metadata": {},
   "outputs": [],
   "source": [
    "plot_comparsion(video_evolution_pd)"
   ]
  },
  {
   "cell_type": "code",
   "execution_count": null,
   "id": "79ed3722",
   "metadata": {},
   "outputs": [],
   "source": [
    "plot_comparsion(video_evolution_pd_sport)"
   ]
  },
  {
   "cell_type": "code",
   "execution_count": null,
   "id": "40ebec0e",
   "metadata": {},
   "outputs": [],
   "source": []
  },
  {
   "cell_type": "code",
   "execution_count": null,
   "id": "21448a15",
   "metadata": {},
   "outputs": [],
   "source": []
  },
  {
   "cell_type": "code",
   "execution_count": null,
   "id": "34325f5b",
   "metadata": {},
   "outputs": [],
   "source": [
    "video_metadata_df.count().compute()"
   ]
  },
  {
   "cell_type": "code",
   "execution_count": null,
   "id": "ad6f84fb",
   "metadata": {},
   "outputs": [],
   "source": [
    "video_metadata_df_sports = video_metadata_df[video_metadata_df[\"categories\"].isin([\"Sports\", \"People & Blogs\", \"Entertainment\"])]\n",
    "video_metadata_df_sports[\"tags\"] = video_metadata_df_sports[\"tags\"].str.lower()\n",
    "video_metadata_df_sports[\"tags\"] = video_metadata_df_sports[\"tags\"].apply(lambda x: f\",{x},\")"
   ]
  },
  {
   "cell_type": "code",
   "execution_count": null,
   "id": "57310917",
   "metadata": {},
   "outputs": [],
   "source": [
    "# video_metadata_df_sports = video_metadata_df_sports[video_metadata_df_sports['tags'].str.contains('basketball')]\n",
    "\n",
    "\n",
    "date_obj = video_metadata_df_sports.upload_date.dt\n",
    "group_by = [date_obj.year, date_obj.month, video_metadata_df.categories]\n",
    "\n",
    "video_metadata_df_sports_grouped = video_metadata_df_sports[[\"upload_date\"]].groupby(by=group_by).count().persist()"
   ]
  },
  {
   "cell_type": "code",
   "execution_count": null,
   "id": "b0d71e7f",
   "metadata": {},
   "outputs": [],
   "source": [
    "video_metadata_df_sports.head()"
   ]
  }
 ],
 "metadata": {
  "language_info": {
   "name": "python"
  }
 },
 "nbformat": 4,
 "nbformat_minor": 5
}
