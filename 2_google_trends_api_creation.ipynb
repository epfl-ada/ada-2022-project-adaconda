{
 "cells": [
  {
   "cell_type": "code",
   "execution_count": null,
   "metadata": {},
   "outputs": [],
   "source": [
    "import sqlite3\n",
    "\n",
    "import pandas as pd\n",
    "from pytrends.request import TrendReq"
   ]
  },
  {
   "cell_type": "code",
   "execution_count": null,
   "metadata": {},
   "outputs": [],
   "source": [
    "con = sqlite3.connect(\"nba_api.sqlite\")"
   ]
  },
  {
   "cell_type": "code",
   "execution_count": null,
   "metadata": {},
   "outputs": [],
   "source": [
    "# retrieve list of nba teams from our database\n",
    "teams = pd.read_sql_query(\"select distinct full_name from teams\", con).full_name.tolist()"
   ]
  },
  {
   "cell_type": "markdown",
   "metadata": {},
   "source": [
    "<div class=\"alert alert-block alert-info\">\n",
    "Use google trend's API to get the online interest (popularity) of teams over time"
   ]
  },
  {
   "cell_type": "code",
   "execution_count": null,
   "metadata": {},
   "outputs": [],
   "source": [
    "# get google trend popularity of teams\n",
    "pytrends = TrendReq(hl=\"en-US\", retries=2, backoff_factor=0.1)\n",
    "\n",
    "table_name = \"popularity\"\n",
    "con.execute(f\"drop table if exists {table_name}\")\n",
    "first = True\n",
    "for team in teams:\n",
    "    pytrends.build_payload([team], cat=0, timeframe=\"all\")\n",
    "    df = pytrends.interest_over_time().drop([\"isPartial\"], axis=1)\n",
    "    df.columns = [\"value\"]\n",
    "    df[\"team\"] = team\n",
    "\n",
    "    df.to_sql(\"popularity\", con, if_exists=\"append\")\n",
    "\n",
    "    if first is True:\n",
    "        first = False\n",
    "        con.execute(f\"CREATE UNIQUE INDEX uq_teams_id_season ON {table_name}(date, team)\")"
   ]
  }
 ],
 "metadata": {
  "language_info": {
   "name": "python"
  }
 },
 "nbformat": 4,
 "nbformat_minor": 4
}
