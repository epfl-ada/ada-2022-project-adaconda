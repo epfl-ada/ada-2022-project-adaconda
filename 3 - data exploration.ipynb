{
 "cells": [
  {
   "cell_type": "markdown",
   "id": "406c3e32",
   "metadata": {},
   "source": [
    "<h1 align=\"center\"> ADA - Milestone 2</h1> \n",
    "\n",
    "**Students:**\n",
    "- ABI FADEL Zad\n",
    "- ADEYE Abiola\n",
    "- BRUNO Etienne\n",
    "- FERCHIOU Sami"
   ]
  },
  {
   "cell_type": "code",
   "execution_count": null,
   "id": "2e576c10",
   "metadata": {},
   "outputs": [],
   "source": [
    "# Import libraries\n",
    "import sqlite3\n",
    "\n",
    "import dask.array as da\n",
    "import dask.bag as db\n",
    "import dask.dataframe as dd\n",
    "import numpy as np\n",
    "import pandas as pd\n",
    "import seaborn as sns\n",
    "from dask.distributed import Client\n",
    "from IPython.display import HTML, display\n",
    "from matplotlib import pyplot as plt\n",
    "\n",
    "display(HTML(\"<style>.container { width:90% !important; }</style>\"))"
   ]
  },
  {
   "cell_type": "code",
   "execution_count": null,
   "id": "e0fc61c7",
   "metadata": {},
   "outputs": [],
   "source": [
    "nb_workers = multiprocessing.cpu_count()\n",
    "client = Client(n_workers=nb_workers)\n",
    "client"
   ]
  },
  {
   "cell_type": "markdown",
   "id": "d6d97611",
   "metadata": {},
   "source": [
    "# How did popularity of basketball evolve over time ?"
   ]
  },
  {
   "cell_type": "code",
   "execution_count": null,
   "id": "b5f7b280",
   "metadata": {},
   "outputs": [],
   "source": [
    "video_metadata_df = dd.read_parquet(\"./data/video_metadata/parquet\")\n",
    "video_metadata_df[\"upload_date\"] = dd.to_datetime(video_metadata_df.upload_date)"
   ]
  },
  {
   "cell_type": "code",
   "execution_count": null,
   "id": "da62257b",
   "metadata": {},
   "outputs": [],
   "source": [
    "video_metadata_df.head()"
   ]
  },
  {
   "cell_type": "code",
   "execution_count": null,
   "id": "7612f53f",
   "metadata": {},
   "outputs": [],
   "source": [
    "date_obj = video_metadata_df.upload_date.dt\n",
    "group_by = [date_obj.year, date_obj.month, video_metadata_df.categories]\n",
    "\n",
    "video_evolution = video_metadata_df[[\"upload_date\"]].groupby(by=group_by).count().persist()\n",
    "video_evolution_pd = video_evolution.compute()\n",
    "\n",
    "video_evolution_pd.sort_index(inplace=True)\n",
    "# video_evolution_pd = video_evolution_pd[video_evolution.index.dt.year != 2019]\n",
    "\n",
    "video_evolution_pd.index.names = [\"year\", \"month\", \"categories\"]\n",
    "video_evolution_pd.reset_index(inplace=True)\n",
    "video_evolution_pd = video_evolution_pd[(video_evolution_pd[\"year\"] != 2019)]  # TODO : fix this to also include first months of 2019\n",
    "video_evolution_pd[\"date\"] = video_evolution_pd[\"year\"].astype(\"str\") + \"/\" + video_evolution_pd[\"month\"].astype(\"str\")"
   ]
  },
  {
   "cell_type": "code",
   "execution_count": null,
   "id": "6285fed3",
   "metadata": {},
   "outputs": [],
   "source": [
    "def plot_comparsion(df):\n",
    "    fig = plt.figure(figsize=(15, 8))\n",
    "    ax = fig.add_subplot(111)\n",
    "    sns.lineplot(x=\"date\", y=\"upload_date\", hue=\"categories\", data=df)\n",
    "    start, end = ax.get_xlim()\n",
    "    ax.xaxis.set_ticks(np.arange(start, end, 12))\n",
    "    plt.xticks(rotation=45)\n",
    "    plt.show()"
   ]
  },
  {
   "cell_type": "code",
   "execution_count": null,
   "id": "9110cce2",
   "metadata": {},
   "outputs": [],
   "source": [
    "video_evolution_pd_sport = video_evolution_pd[video_evolution_pd[\"categories\"].isin([\"Sports\", \"People & Blogs\", \"Entertainment\"])]"
   ]
  },
  {
   "cell_type": "code",
   "execution_count": null,
   "id": "854c622d",
   "metadata": {},
   "outputs": [],
   "source": [
    "plot_comparsion(video_evolution_pd)"
   ]
  },
  {
   "cell_type": "code",
   "execution_count": null,
   "id": "a6328308",
   "metadata": {},
   "outputs": [],
   "source": [
    "plot_comparsion(video_evolution_pd_sport)"
   ]
  },
  {
   "cell_type": "code",
   "execution_count": null,
   "id": "1984c51d",
   "metadata": {},
   "outputs": [],
   "source": []
  },
  {
   "cell_type": "code",
   "execution_count": null,
   "id": "c83fb7d2",
   "metadata": {},
   "outputs": [],
   "source": []
  },
  {
   "cell_type": "code",
   "execution_count": null,
   "id": "da386b1b",
   "metadata": {},
   "outputs": [],
   "source": []
  },
  {
   "cell_type": "code",
   "execution_count": null,
   "id": "5b4a7f66",
   "metadata": {},
   "outputs": [],
   "source": []
  },
  {
   "cell_type": "code",
   "execution_count": null,
   "id": "b74ab43e",
   "metadata": {},
   "outputs": [],
   "source": []
  },
  {
   "cell_type": "code",
   "execution_count": null,
   "id": "34b0f134",
   "metadata": {},
   "outputs": [],
   "source": []
  },
  {
   "cell_type": "code",
   "execution_count": null,
   "id": "a3a67df0",
   "metadata": {},
   "outputs": [],
   "source": [
    "video_metadata_df.count().compute()"
   ]
  },
  {
   "cell_type": "code",
   "execution_count": null,
   "id": "19756c37",
   "metadata": {},
   "outputs": [],
   "source": [
    "video_metadata_df_sports = video_metadata_df[video_metadata_df[\"categories\"].isin([\"Sports\", \"People & Blogs\", \"Entertainment\"])]\n",
    "video_metadata_df_sports[\"tags\"] = video_metadata_df_sports[\"tags\"].str.lower()\n",
    "video_metadata_df_sports[\"tags\"] = video_metadata_df_sports[\"tags\"].apply(lambda x: f\",{x},\")"
   ]
  },
  {
   "cell_type": "code",
   "execution_count": null,
   "id": "17924d29",
   "metadata": {},
   "outputs": [],
   "source": [
    "# video_metadata_df_sports = video_metadata_df_sports[video_metadata_df_sports['tags'].str.contains('basketball')]\n",
    "\n",
    "\n",
    "date_obj = video_metadata_df_sports.upload_date.dt\n",
    "group_by = [date_obj.year, date_obj.month, video_metadata_df.categories]\n",
    "\n",
    "video_metadata_df_sports_grouped = video_metadata_df_sports[[\"upload_date\"]].groupby(by=group_by).count().persist()"
   ]
  },
  {
   "cell_type": "code",
   "execution_count": null,
   "id": "e9e0bf27",
   "metadata": {},
   "outputs": [],
   "source": [
    "video_metadata_df_sports.head()"
   ]
  },
  {
   "cell_type": "markdown",
   "id": "37778d81",
   "metadata": {},
   "source": [
    "# Big Market vs Small Market Teams Case Study"
   ]
  },
  {
   "cell_type": "code",
   "execution_count": null,
   "id": "1ca24717",
   "metadata": {},
   "outputs": [],
   "source": [
    "video_metadata_df_sports.head()"
   ]
  },
  {
   "cell_type": "code",
   "execution_count": null,
   "id": "fa149c9e",
   "metadata": {},
   "outputs": [],
   "source": [
    "required_tags = [\"nba\", \"basketball\"]\n",
    "nba_basketball_df = video_metadata_df_sports[video_metadata_df_sports[\"tags\"].str.contains(f',{\",|,\".join(required_tags)},')].persist()\n",
    "nba_basketball_df[\"year_month\"] = nba_basketball_df.upload_date.dt.year.astype(\"str\") + \"-\" + nba_basketball_df.upload_date.dt.month.astype(\"str\")"
   ]
  },
  {
   "cell_type": "code",
   "execution_count": null,
   "id": "cb8f75bb",
   "metadata": {},
   "outputs": [],
   "source": [
    "nba_basketball_df.head()"
   ]
  },
  {
   "cell_type": "code",
   "execution_count": null,
   "id": "6a28f456",
   "metadata": {},
   "outputs": [],
   "source": [
    "BigMarkets = {\n",
    "    \"LA\": [\"los angeles\", \"la\", \"lakers\"],\n",
    "    \"NY\": [\"knicks\", \"new york\", \"ny\"],\n",
    "    \"CH\": [\"bulls\", \"chicago\"],\n",
    "    \"GSW\": [\n",
    "        \"gsw\",\n",
    "        \"golden state warriors\",\n",
    "        \"golden state\",\n",
    "        \"warriors\",\n",
    "        \"dubs\",\n",
    "        \"dubs nation\",\n",
    "        \"dubsnation\",\n",
    "    ],\n",
    "}\n",
    "\n",
    "SmallMarkets = {\n",
    "    \"ME\": [\"memphis\", \"grizzlies\"],\n",
    "    \"NO\": [\"pelicans\", \"pels\", \"neworleans\", \"new orleans\", \"nola\"],\n",
    "    \"OKC\": [\"okc\", \"oklahomacitythunder\", \"oklahoma\"],\n",
    "    \"MB\": [\"bucks\", \"milwaukee\"],\n",
    "}\n",
    "\n",
    "\n",
    "Correspondence = {\n",
    "    \"Chicago Bulls\": \"CH\",\n",
    "    \"Los Angeles Lakers\": \"LA\",\n",
    "    \"Memphis Grizzlies\": \"ME\",\n",
    "    \"Milwaukee Bucks\": \"MB\",\n",
    "    \"New Orleans Pelicans\": \"NO\",\n",
    "    \"New York Knicks\": \"NY\",\n",
    "    \"Oklahoma City Thunder\": \"OKC\",\n",
    "    \"Golden State Warriors\": \"GSW\",\n",
    "}\n",
    "\n",
    "nba_basketball_views_per_year_df = nba_basketball_df[[\"year_month\", \"view_count\"]].groupby(\"year_month\").sum().persist().compute()\n",
    "nba_basketball_views_per_year_df.rename(columns={\"view_count\": \"total_nba_views\"}, inplace=True)\n",
    "\n",
    "dd_dict = {}\n",
    "\n",
    "# Getting the total amount of views per month for every big market and small market team\n",
    "for key, value in {**BigMarkets, **SmallMarkets}.items():\n",
    "\n",
    "    team_df = nba_basketball_df[nba_basketball_df[\"tags\"].str.contains(f',{\",|,\".join(value)},')]\n",
    "    # team_df[\"year_month\"] = team_df.upload_date.dt.year.astype(\"str\") + \"-\" + team_df.upload_date.dt.month.astype(\"str\")\n",
    "    team_df = team_df[[\"year_month\", \"view_count\"]].groupby(\"year_month\").sum()\n",
    "\n",
    "    team_df = team_df.reset_index()\n",
    "\n",
    "    team_df[\"team\"] = key\n",
    "    team_df[\"market_size\"] = \"small\" if key in SmallMarkets else \"big\"\n",
    "    team_df = team_df.persist().compute()\n",
    "\n",
    "    dd_dict[key] = team_df"
   ]
  },
  {
   "cell_type": "code",
   "execution_count": null,
   "id": "24d1e7a1",
   "metadata": {},
   "outputs": [],
   "source": [
    "all_team_results = pd.concat([v for k, v in dd_dict.items()])\n",
    "all_team_results = all_team_results.merge(nba_basketball_views_per_year_df, on=\"year_month\")\n",
    "all_team_results[\"total_nba_view_percentage\"] = all_team_results[\"view_count\"] / all_team_results[\"total_nba_views\"]"
   ]
  },
  {
   "cell_type": "code",
   "execution_count": null,
   "id": "a658984b",
   "metadata": {},
   "outputs": [],
   "source": [
    "all_team_results.head()"
   ]
  },
  {
   "cell_type": "code",
   "execution_count": null,
   "id": "55a9aea0",
   "metadata": {},
   "outputs": [],
   "source": [
    "con = sqlite3.connect(\"data/nba_api.sqlite\")"
   ]
  },
  {
   "cell_type": "code",
   "execution_count": null,
   "id": "f4ed490c",
   "metadata": {},
   "outputs": [],
   "source": [
    "occupancy_rate_df = pd.read_sql_query(\n",
    "    \"\"\"select Home as home, avg(Attendance) as avg_attendace, round(avg(Attendance/Capacity*100),2) as avg_occupancy_rate, strftime('%Y-%m',Time) as year_month\n",
    "from game_data\n",
    "group by Home, year_month\"\"\",\n",
    "    con,\n",
    ")\n",
    "occupancy_rate_df = occupancy_rate_df.reset_index()\n",
    "\n",
    "occupancy_rate_df = occupancy_rate_df[occupancy_rate_df[\"home\"].isin(Correspondence.keys())]\n",
    "\n",
    "\n",
    "winning_rate_df = pd.read_sql_query(\n",
    "    \"\"\"\n",
    "with games as (select *, Visitor as team\n",
    "               from game_data\n",
    "               union all\n",
    "               select *, Home as team\n",
    "               from game_data)\n",
    "select team,\n",
    "       avg(case when \"V PTS\" > \"H PTS\" then 1 else 0 end) as win_percentage,\n",
    "       strftime('%Y-%m', Time)                            as year_month\n",
    "from games\n",
    "group by team, year_month\n",
    "\"\"\",\n",
    "    con,\n",
    ")\n",
    "winning_rate_df = winning_rate_df.reset_index()\n",
    "winning_rate_df = winning_rate_df[winning_rate_df[\"team\"].isin(Correspondence.keys())]"
   ]
  },
  {
   "cell_type": "code",
   "execution_count": null,
   "id": "8356dc70",
   "metadata": {},
   "outputs": [],
   "source": [
    "winning_rate_df[\"team\"] = winning_rate_df[\"team\"].apply(lambda x: Correspondence[x])\n",
    "occupancy_rate_df[\"team\"] = occupancy_rate_df[\"home\"].apply(lambda x: Correspondence[x])"
   ]
  },
  {
   "cell_type": "code",
   "execution_count": null,
   "id": "3de1be55",
   "metadata": {},
   "outputs": [],
   "source": [
    "winning_rate_df.head()"
   ]
  },
  {
   "cell_type": "code",
   "execution_count": null,
   "id": "7cd470bc",
   "metadata": {},
   "outputs": [],
   "source": [
    "occupancy_rate_df.head()"
   ]
  },
  {
   "cell_type": "code",
   "execution_count": null,
   "id": "85474d9b",
   "metadata": {},
   "outputs": [],
   "source": [
    "all_team_results = all_team_results.merge(winning_rate_df.drop([\"index\"], axis=1), on=[\"team\", \"year_month\"])\n",
    "all_team_results = all_team_results.merge(occupancy_rate_df.drop([\"index\", \"home\"], axis=1), on=[\"team\", \"year_month\"])"
   ]
  },
  {
   "cell_type": "code",
   "execution_count": null,
   "id": "49d45e2f",
   "metadata": {},
   "outputs": [],
   "source": [
    "all_team_results.head()"
   ]
  },
  {
   "cell_type": "code",
   "execution_count": null,
   "id": "a9467c91",
   "metadata": {},
   "outputs": [],
   "source": []
  }
 ],
 "metadata": {
  "language_info": {
   "name": "python"
  }
 },
 "nbformat": 4,
 "nbformat_minor": 5
}
