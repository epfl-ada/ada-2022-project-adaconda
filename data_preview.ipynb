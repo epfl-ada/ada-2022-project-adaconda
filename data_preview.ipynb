{
 "cells": [
  {
   "cell_type": "markdown",
   "id": "1432135d",
   "metadata": {},
   "source": [
    "<h1 align=\"center\"> ADA - Milestone 2</h1> "
   ]
  },
  {
   "cell_type": "markdown",
   "id": "a8629633",
   "metadata": {},
   "source": [
    "**Students:**\n",
    "- ABI FADEL Zad\n",
    "- ADEYE Abiola\n",
    "- BRUNO Etienne\n",
    "- FERCHIOU Sami"
   ]
  },
  {
   "cell_type": "code",
   "execution_count": 1,
   "id": "9d41dcab",
   "metadata": {},
   "outputs": [
    {
     "data": {
      "text/html": [
       "<style>.container { width:90% !important; }</style>"
      ],
      "text/plain": [
       "<IPython.core.display.HTML object>"
      ]
     },
     "metadata": {},
     "output_type": "display_data"
    }
   ],
   "source": [
    "from IPython.display import display, HTML\n",
    "display(HTML(\"<style>.container { width:90% !important; }</style>\"))"
   ]
  },
  {
   "cell_type": "code",
   "execution_count": 2,
   "id": "aeb84091",
   "metadata": {},
   "outputs": [],
   "source": [
    "# Import libraries\n",
    "import pandas as pd\n",
    "import numpy as np\n",
    "import seaborn as sns\n",
    "import os\n",
    "#import dask.dataframe as dd\n",
    "#from distributed import Client\n",
    "\n",
    "pd.options.mode.chained_assignment = None  # default='warn', Mutes warnings when copying a slice from a DataFrame.\n",
    "pd.set_option('display.max_columns', None)\n",
    "pd.options.display.max_rows = 20\n",
    "\n",
    "sns.set(rc={'figure.figsize':(8,5)})\n",
    "#sns.set(style=\"white\", color_codes=True)\n",
    "sns.set_style(\"darkgrid\", {\"grid.color\": \".6\", \"grid.linestyle\": \":\"})\n",
    "\n",
    "%load_ext ipython_clipboard\n",
    "%matplotlib inline\n",
    "%load_ext autoreload\n",
    "%autoreload 2"
   ]
  },
  {
   "cell_type": "code",
   "execution_count": 22,
   "id": "32fc36a7",
   "metadata": {},
   "outputs": [],
   "source": [
    "data = pd.read_json(\"data/yt_metadata_en.jsonl.gz\", compression=\"gzip\", chunksize=100000, lines=True)"
   ]
  },
  {
   "cell_type": "code",
   "execution_count": 13,
   "id": "858450dd",
   "metadata": {},
   "outputs": [],
   "source": [
    "dfs = [pd.read_feather(f\"data/data_feather/{i}\") for i in os.listdir(\"data/data_feather\")]"
   ]
  },
  {
   "cell_type": "code",
   "execution_count": 16,
   "id": "b4bffb91",
   "metadata": {},
   "outputs": [
    {
     "data": {
      "text/html": [
       "<div>\n",
       "<style scoped>\n",
       "    .dataframe tbody tr th:only-of-type {\n",
       "        vertical-align: middle;\n",
       "    }\n",
       "\n",
       "    .dataframe tbody tr th {\n",
       "        vertical-align: top;\n",
       "    }\n",
       "\n",
       "    .dataframe thead th {\n",
       "        text-align: right;\n",
       "    }\n",
       "</style>\n",
       "<table border=\"1\" class=\"dataframe\">\n",
       "  <thead>\n",
       "    <tr style=\"text-align: right;\">\n",
       "      <th></th>\n",
       "      <th>categories</th>\n",
       "      <th>channel_id</th>\n",
       "      <th>crawl_date</th>\n",
       "      <th>description</th>\n",
       "      <th>dislike_count</th>\n",
       "      <th>display_id</th>\n",
       "      <th>duration</th>\n",
       "      <th>like_count</th>\n",
       "      <th>tags</th>\n",
       "      <th>title</th>\n",
       "      <th>upload_date</th>\n",
       "      <th>view_count</th>\n",
       "    </tr>\n",
       "  </thead>\n",
       "  <tbody>\n",
       "    <tr>\n",
       "      <th>0</th>\n",
       "      <td>Science &amp; Technology</td>\n",
       "      <td>UCrUfjMyHTAMQ8_OnM2nJFlw</td>\n",
       "      <td>2019-11-22 20:07:35.608354</td>\n",
       "      <td>http://manhattan-products.com/en-US/products/9...</td>\n",
       "      <td>1.0</td>\n",
       "      <td>DKdAFfKUUks</td>\n",
       "      <td>583</td>\n",
       "      <td>8.0</td>\n",
       "      <td>KTrinh93,Manhattan,Stealth,Touch,Mouse,Wireless</td>\n",
       "      <td>Manhattan Stealth Touch Mouse Review</td>\n",
       "      <td>2012-08-29 00:00:00</td>\n",
       "      <td>677.0</td>\n",
       "    </tr>\n",
       "    <tr>\n",
       "      <th>1</th>\n",
       "      <td>Science &amp; Technology</td>\n",
       "      <td>UCrUfjMyHTAMQ8_OnM2nJFlw</td>\n",
       "      <td>2019-11-22 20:07:36.267474</td>\n",
       "      <td>http://www.bbpbags.com\\nMy review for the DSLR...</td>\n",
       "      <td>1.0</td>\n",
       "      <td>TnYDpxjTy1s</td>\n",
       "      <td>564</td>\n",
       "      <td>2.0</td>\n",
       "      <td>KTrinh93,BBP,DSLR,Slinger,Bag,Review,Canon,Nik...</td>\n",
       "      <td>BBP DSLR Slinger Bag Review</td>\n",
       "      <td>2012-08-29 00:00:00</td>\n",
       "      <td>424.0</td>\n",
       "    </tr>\n",
       "    <tr>\n",
       "      <th>2</th>\n",
       "      <td>Science &amp; Technology</td>\n",
       "      <td>UCrUfjMyHTAMQ8_OnM2nJFlw</td>\n",
       "      <td>2019-11-22 20:07:36.857239</td>\n",
       "      <td>http://www.idaptweb.com/universal_chargers/i4/...</td>\n",
       "      <td>2.0</td>\n",
       "      <td>961y9wGgaeo</td>\n",
       "      <td>512</td>\n",
       "      <td>1.0</td>\n",
       "      <td>KTrinh93,IDAPT,i4,Universal,Charger,Review,App...</td>\n",
       "      <td>IDAPT i4 Universal Charger Review</td>\n",
       "      <td>2012-08-29 00:00:00</td>\n",
       "      <td>675.0</td>\n",
       "    </tr>\n",
       "    <tr>\n",
       "      <th>3</th>\n",
       "      <td>Science &amp; Technology</td>\n",
       "      <td>UCrUfjMyHTAMQ8_OnM2nJFlw</td>\n",
       "      <td>2019-11-22 20:07:37.574401</td>\n",
       "      <td>http://www.hellolulu.us/Emmerson-Large-DSLR-Ca...</td>\n",
       "      <td>1.0</td>\n",
       "      <td>cMRphs4_mxY</td>\n",
       "      <td>497</td>\n",
       "      <td>3.0</td>\n",
       "      <td>KTrinh93,Hellolulu,Emmerson,Large,DSLR,Camera,...</td>\n",
       "      <td>Hellolulu Emmerson Large DSLR Bag Review</td>\n",
       "      <td>2012-08-29 00:00:00</td>\n",
       "      <td>268.0</td>\n",
       "    </tr>\n",
       "    <tr>\n",
       "      <th>4</th>\n",
       "      <td>Science &amp; Technology</td>\n",
       "      <td>UCrUfjMyHTAMQ8_OnM2nJFlw</td>\n",
       "      <td>2019-11-22 20:07:38.175035</td>\n",
       "      <td>http://www.60beat.com/product_p/gp001.htm\\nMy ...</td>\n",
       "      <td>2.0</td>\n",
       "      <td>JFPJqSVyxJo</td>\n",
       "      <td>280</td>\n",
       "      <td>15.0</td>\n",
       "      <td>KTrinh93,60Beat,GamePad,Review,iPod,iPhone,iPa...</td>\n",
       "      <td>60beat GamePad Review</td>\n",
       "      <td>2012-08-29 00:00:00</td>\n",
       "      <td>2577.0</td>\n",
       "    </tr>\n",
       "    <tr>\n",
       "      <th>...</th>\n",
       "      <td>...</td>\n",
       "      <td>...</td>\n",
       "      <td>...</td>\n",
       "      <td>...</td>\n",
       "      <td>...</td>\n",
       "      <td>...</td>\n",
       "      <td>...</td>\n",
       "      <td>...</td>\n",
       "      <td>...</td>\n",
       "      <td>...</td>\n",
       "      <td>...</td>\n",
       "      <td>...</td>\n",
       "    </tr>\n",
       "    <tr>\n",
       "      <th>99995</th>\n",
       "      <td>Travel &amp; Events</td>\n",
       "      <td>UCrqZQqgdLxrAXa6BTS-vDng</td>\n",
       "      <td>2019-11-03 01:51:13.434061</td>\n",
       "      <td>Thanks again to Triller for giving us all so m...</td>\n",
       "      <td>1.0</td>\n",
       "      <td>y8SbOhMGxEc</td>\n",
       "      <td>1241</td>\n",
       "      <td>46.0</td>\n",
       "      <td>paris,Triller,tiktok,Kristen Hancher,Grace ann...</td>\n",
       "      <td>In Paris basically just drunk for 2 weeks | TA...</td>\n",
       "      <td>2019-04-07 00:00:00</td>\n",
       "      <td>1892.0</td>\n",
       "    </tr>\n",
       "    <tr>\n",
       "      <th>99996</th>\n",
       "      <td>Film &amp; Animation</td>\n",
       "      <td>UCrqZQqgdLxrAXa6BTS-vDng</td>\n",
       "      <td>2019-11-03 01:51:15.675913</td>\n",
       "      <td>What an amazing adventure. I don't have much f...</td>\n",
       "      <td>4.0</td>\n",
       "      <td>bsvInuIU0j8</td>\n",
       "      <td>462</td>\n",
       "      <td>46.0</td>\n",
       "      <td>dominican republic,charity,travel,adventure,ca...</td>\n",
       "      <td>Painting a school and exploring the Dominican ...</td>\n",
       "      <td>2019-04-01 00:00:00</td>\n",
       "      <td>1128.0</td>\n",
       "    </tr>\n",
       "    <tr>\n",
       "      <th>99997</th>\n",
       "      <td>Howto &amp; Style</td>\n",
       "      <td>UCrqZQqgdLxrAXa6BTS-vDng</td>\n",
       "      <td>2019-11-03 01:51:17.575697</td>\n",
       "      <td>It’s a mental breakdown DO DO DO DOOO DO DO DO...</td>\n",
       "      <td>154.0</td>\n",
       "      <td>EPS2C3SYLsY</td>\n",
       "      <td>11</td>\n",
       "      <td>15856.0</td>\n",
       "      <td>tiktok,musical.ly,grace auten,its a mental bre...</td>\n",
       "      <td>It’s a mental breakdown *off key kazoo*</td>\n",
       "      <td>2018-10-04 00:00:00</td>\n",
       "      <td>551949.0</td>\n",
       "    </tr>\n",
       "    <tr>\n",
       "      <th>99998</th>\n",
       "      <td>Howto &amp; Style</td>\n",
       "      <td>UCrqZQqgdLxrAXa6BTS-vDng</td>\n",
       "      <td>2019-11-03 01:51:19.930377</td>\n",
       "      <td>Raegan’s channel: https://www.youtube.com/chan...</td>\n",
       "      <td>9.0</td>\n",
       "      <td>qADpwHsmM0M</td>\n",
       "      <td>1038</td>\n",
       "      <td>308.0</td>\n",
       "      <td></td>\n",
       "      <td>Hooking up on tour?! MUKBANG w/ Raegan beast &amp;...</td>\n",
       "      <td>2018-05-05 00:00:00</td>\n",
       "      <td>9655.0</td>\n",
       "    </tr>\n",
       "    <tr>\n",
       "      <th>99999</th>\n",
       "      <td>Howto &amp; Style</td>\n",
       "      <td>UCrqZQqgdLxrAXa6BTS-vDng</td>\n",
       "      <td>2019-11-03 01:51:12.291570</td>\n",
       "      <td>Hope you guys enjoyed seeing Melrose through m...</td>\n",
       "      <td>2.0</td>\n",
       "      <td>UqkGkiFwQTY</td>\n",
       "      <td>78</td>\n",
       "      <td>18.0</td>\n",
       "      <td></td>\n",
       "      <td>Melrose Trading Post mini vlog</td>\n",
       "      <td>2018-04-30 00:00:00</td>\n",
       "      <td>638.0</td>\n",
       "    </tr>\n",
       "  </tbody>\n",
       "</table>\n",
       "<p>800000 rows × 12 columns</p>\n",
       "</div>"
      ],
      "text/plain": [
       "                 categories                channel_id  \\\n",
       "0      Science & Technology  UCrUfjMyHTAMQ8_OnM2nJFlw   \n",
       "1      Science & Technology  UCrUfjMyHTAMQ8_OnM2nJFlw   \n",
       "2      Science & Technology  UCrUfjMyHTAMQ8_OnM2nJFlw   \n",
       "3      Science & Technology  UCrUfjMyHTAMQ8_OnM2nJFlw   \n",
       "4      Science & Technology  UCrUfjMyHTAMQ8_OnM2nJFlw   \n",
       "...                     ...                       ...   \n",
       "99995       Travel & Events  UCrqZQqgdLxrAXa6BTS-vDng   \n",
       "99996      Film & Animation  UCrqZQqgdLxrAXa6BTS-vDng   \n",
       "99997         Howto & Style  UCrqZQqgdLxrAXa6BTS-vDng   \n",
       "99998         Howto & Style  UCrqZQqgdLxrAXa6BTS-vDng   \n",
       "99999         Howto & Style  UCrqZQqgdLxrAXa6BTS-vDng   \n",
       "\n",
       "                       crawl_date  \\\n",
       "0      2019-11-22 20:07:35.608354   \n",
       "1      2019-11-22 20:07:36.267474   \n",
       "2      2019-11-22 20:07:36.857239   \n",
       "3      2019-11-22 20:07:37.574401   \n",
       "4      2019-11-22 20:07:38.175035   \n",
       "...                           ...   \n",
       "99995  2019-11-03 01:51:13.434061   \n",
       "99996  2019-11-03 01:51:15.675913   \n",
       "99997  2019-11-03 01:51:17.575697   \n",
       "99998  2019-11-03 01:51:19.930377   \n",
       "99999  2019-11-03 01:51:12.291570   \n",
       "\n",
       "                                             description  dislike_count  \\\n",
       "0      http://manhattan-products.com/en-US/products/9...            1.0   \n",
       "1      http://www.bbpbags.com\\nMy review for the DSLR...            1.0   \n",
       "2      http://www.idaptweb.com/universal_chargers/i4/...            2.0   \n",
       "3      http://www.hellolulu.us/Emmerson-Large-DSLR-Ca...            1.0   \n",
       "4      http://www.60beat.com/product_p/gp001.htm\\nMy ...            2.0   \n",
       "...                                                  ...            ...   \n",
       "99995  Thanks again to Triller for giving us all so m...            1.0   \n",
       "99996  What an amazing adventure. I don't have much f...            4.0   \n",
       "99997  It’s a mental breakdown DO DO DO DOOO DO DO DO...          154.0   \n",
       "99998  Raegan’s channel: https://www.youtube.com/chan...            9.0   \n",
       "99999  Hope you guys enjoyed seeing Melrose through m...            2.0   \n",
       "\n",
       "        display_id  duration  like_count  \\\n",
       "0      DKdAFfKUUks       583         8.0   \n",
       "1      TnYDpxjTy1s       564         2.0   \n",
       "2      961y9wGgaeo       512         1.0   \n",
       "3      cMRphs4_mxY       497         3.0   \n",
       "4      JFPJqSVyxJo       280        15.0   \n",
       "...            ...       ...         ...   \n",
       "99995  y8SbOhMGxEc      1241        46.0   \n",
       "99996  bsvInuIU0j8       462        46.0   \n",
       "99997  EPS2C3SYLsY        11     15856.0   \n",
       "99998  qADpwHsmM0M      1038       308.0   \n",
       "99999  UqkGkiFwQTY        78        18.0   \n",
       "\n",
       "                                                    tags  \\\n",
       "0        KTrinh93,Manhattan,Stealth,Touch,Mouse,Wireless   \n",
       "1      KTrinh93,BBP,DSLR,Slinger,Bag,Review,Canon,Nik...   \n",
       "2      KTrinh93,IDAPT,i4,Universal,Charger,Review,App...   \n",
       "3      KTrinh93,Hellolulu,Emmerson,Large,DSLR,Camera,...   \n",
       "4      KTrinh93,60Beat,GamePad,Review,iPod,iPhone,iPa...   \n",
       "...                                                  ...   \n",
       "99995  paris,Triller,tiktok,Kristen Hancher,Grace ann...   \n",
       "99996  dominican republic,charity,travel,adventure,ca...   \n",
       "99997  tiktok,musical.ly,grace auten,its a mental bre...   \n",
       "99998                                                      \n",
       "99999                                                      \n",
       "\n",
       "                                                   title          upload_date  \\\n",
       "0                   Manhattan Stealth Touch Mouse Review  2012-08-29 00:00:00   \n",
       "1                            BBP DSLR Slinger Bag Review  2012-08-29 00:00:00   \n",
       "2                      IDAPT i4 Universal Charger Review  2012-08-29 00:00:00   \n",
       "3               Hellolulu Emmerson Large DSLR Bag Review  2012-08-29 00:00:00   \n",
       "4                                  60beat GamePad Review  2012-08-29 00:00:00   \n",
       "...                                                  ...                  ...   \n",
       "99995  In Paris basically just drunk for 2 weeks | TA...  2019-04-07 00:00:00   \n",
       "99996  Painting a school and exploring the Dominican ...  2019-04-01 00:00:00   \n",
       "99997            It’s a mental breakdown *off key kazoo*  2018-10-04 00:00:00   \n",
       "99998  Hooking up on tour?! MUKBANG w/ Raegan beast &...  2018-05-05 00:00:00   \n",
       "99999                     Melrose Trading Post mini vlog  2018-04-30 00:00:00   \n",
       "\n",
       "       view_count  \n",
       "0           677.0  \n",
       "1           424.0  \n",
       "2           675.0  \n",
       "3           268.0  \n",
       "4          2577.0  \n",
       "...           ...  \n",
       "99995      1892.0  \n",
       "99996      1128.0  \n",
       "99997    551949.0  \n",
       "99998      9655.0  \n",
       "99999       638.0  \n",
       "\n",
       "[800000 rows x 12 columns]"
      ]
     },
     "execution_count": 16,
     "metadata": {},
     "output_type": "execute_result"
    }
   ],
   "source": [
    "df = pd.concat(dfs)\n",
    "df.head(5)"
   ]
  },
  {
   "cell_type": "code",
   "execution_count": 25,
   "id": "38bff693",
   "metadata": {},
   "outputs": [],
   "source": [
    "df.reset_index(drop=True).to_json(\"data/metadata_json\", compression=\"gzip\")"
   ]
  },
  {
   "cell_type": "code",
   "execution_count": 18,
   "id": "aa905fc7",
   "metadata": {},
   "outputs": [],
   "source": [
    "df.reset_index(drop=True).to_feather(\"data/metadata.feather\")"
   ]
  },
  {
   "cell_type": "code",
   "execution_count": 41,
   "id": "3a33df98",
   "metadata": {},
   "outputs": [],
   "source": [
    "import sqlite3"
   ]
  },
  {
   "cell_type": "code",
   "execution_count": 42,
   "id": "e4ab2669",
   "metadata": {},
   "outputs": [],
   "source": [
    "con = sqlite3.connect(\"youniverse.sqlite\")"
   ]
  },
  {
   "cell_type": "code",
   "execution_count": 45,
   "id": "039291b6",
   "metadata": {},
   "outputs": [
    {
     "data": {
      "text/plain": [
       "(72924794,)"
      ]
     },
     "execution_count": 45,
     "metadata": {},
     "output_type": "execute_result"
    }
   ],
   "source": [
    "cur = con.cursor()\n",
    "res = cur.execute(\"select count(*) from num_comments\")\n",
    "res.fetchone()"
   ]
  },
  {
   "cell_type": "code",
   "execution_count": 29,
   "id": "475c555b",
   "metadata": {},
   "outputs": [
    {
     "data": {
      "text/plain": [
       "['yt_metadata_en.jsonl.gz',\n",
       " 'data_feather',\n",
       " '.DS_Store',\n",
       " 'num_comments_authors.tsv',\n",
       " 'yt_metadata_helper.feather',\n",
       " 'num_comments.tsv',\n",
       " 'df_timeseries_en.tsv',\n",
       " 'df_channels_en.tsv',\n",
       " 'ada_west_youniverse']"
      ]
     },
     "execution_count": 29,
     "metadata": {},
     "output_type": "execute_result"
    }
   ],
   "source": [
    "os.listdir(\"data\")"
   ]
  },
  {
   "cell_type": "code",
   "execution_count": 39,
   "id": "3d04a981",
   "metadata": {},
   "outputs": [
    {
     "data": {
      "text/plain": [
       "['yt_metadata_en.jsonl.gz',\n",
       " 'df_channels_en.tsv.gz',\n",
       " 'yt_metadata_helper.feather',\n",
       " 'num_comments.tsv.gz',\n",
       " 'df_timeseries_en.tsv.gz',\n",
       " 'num_comments_authors.tsv.gz']"
      ]
     },
     "execution_count": 39,
     "metadata": {},
     "output_type": "execute_result"
    }
   ],
   "source": [
    "files = next(os.walk('data/'))[2]\n",
    "trash = '.DS_Store'\n",
    "if trash in files:\n",
    "    files.remove(trash)\n",
    "files"
   ]
  },
  {
   "cell_type": "code",
   "execution_count": 40,
   "id": "5a974afb",
   "metadata": {},
   "outputs": [
    {
     "name": "stdout",
     "output_type": "stream",
     "text": [
      "jsonl\n",
      "tsv\n",
      "df_channels_en\n",
      "feather\n",
      "yt_metadata_helper\n",
      "tsv\n",
      "num_comments\n",
      "tsv\n",
      "df_timeseries_en\n",
      "tsv\n",
      "num_comments_authors\n"
     ]
    }
   ],
   "source": [
    "for file in files:\n",
    "    name = file.split(\".\")[0]\n",
    "    fmt = file.split(\".\")[1]\n",
    "    file = \"data/\"+ file\n",
    "    print(fmt)\n",
    "    if fmt ==  \"tsv\":\n",
    "        df = pd.read_csv(file, sep=\"\\t\", compression=\"gzip\")\n",
    "    elif fmt == \"feather\":\n",
    "        df = pd.read_feather(file)\n",
    "    elif fmt == 'jsonl':\n",
    "        continue\n",
    "    print(name)\n",
    "    df.to_sql(name, con, if_exists=\"replace\")"
   ]
  },
  {
   "cell_type": "code",
   "execution_count": null,
   "id": "d665fe5c",
   "metadata": {},
   "outputs": [],
   "source": []
  }
 ],
 "metadata": {
  "kernelspec": {
   "display_name": "Python 3 (ipykernel)",
   "language": "python",
   "name": "python3"
  },
  "language_info": {
   "codemirror_mode": {
    "name": "ipython",
    "version": 3
   },
   "file_extension": ".py",
   "mimetype": "text/x-python",
   "name": "python",
   "nbconvert_exporter": "python",
   "pygments_lexer": "ipython3",
   "version": "3.9.13"
  }
 },
 "nbformat": 4,
 "nbformat_minor": 5
}
