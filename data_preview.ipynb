{
 "cells": [
  {
   "cell_type": "markdown",
   "id": "1432135d",
   "metadata": {},
   "source": [
    "<h1 align=\"center\"> ADA - Milestone 2</h1> "
   ]
  },
  {
   "cell_type": "markdown",
   "id": "a8629633",
   "metadata": {},
   "source": [
    "**Students:**\n",
    "- ABI FADEL Zad\n",
    "- ADEYE Abiola\n",
    "- BRUNO Etienne\n",
    "- FERCHIOU Sami"
   ]
  },
  {
   "cell_type": "code",
   "execution_count": null,
   "id": "9d41dcab",
   "metadata": {},
   "outputs": [],
   "source": [
    "from IPython.display import display, HTML\n",
    "\n",
    "display(HTML(\"<style>.container { width:90% !important; }</style>\"))"
   ]
  },
  {
   "cell_type": "code",
   "execution_count": null,
   "id": "aeb84091",
   "metadata": {},
   "outputs": [],
   "source": [
    "# Import libraries\n",
    "import pandas as pd\n",
    "import numpy as np\n",
    "import seaborn as sns\n",
    "import os\n",
    "\n",
    "# import dask.dataframe as dd\n",
    "# from distributed import Client\n",
    "\n",
    "pd.options.mode.chained_assignment = None  # default='warn', Mutes warnings when copying a slice from a DataFrame.\n",
    "pd.set_option(\"display.max_columns\", None)\n",
    "pd.options.display.max_rows = 20\n",
    "\n",
    "sns.set(rc={\"figure.figsize\": (8, 5)})\n",
    "# sns.set(style=\"white\", color_codes=True)\n",
    "sns.set_style(\"darkgrid\", {\"grid.color\": \".6\", \"grid.linestyle\": \":\"})\n",
    "\n",
    "%load_ext ipython_clipboard\n",
    "%matplotlib inline\n",
    "%load_ext autoreload\n",
    "%autoreload 2"
   ]
  },
  {
   "cell_type": "code",
   "execution_count": null,
   "id": "32fc36a7",
   "metadata": {},
   "outputs": [],
   "source": [
    "data = pd.read_json(\"data/yt_metadata_en.jsonl.gz\", compression=\"gzip\", chunksize=100000, lines=True)"
   ]
  },
  {
   "cell_type": "code",
   "execution_count": null,
   "id": "858450dd",
   "metadata": {},
   "outputs": [],
   "source": [
    "dfs = [pd.read_feather(f\"data/data_feather/{i}\") for i in os.listdir(\"data/data_feather\")]"
   ]
  },
  {
   "cell_type": "code",
   "execution_count": null,
   "id": "b4bffb91",
   "metadata": {},
   "outputs": [],
   "source": [
    "df = pd.concat(dfs)\n",
    "df.head(5)"
   ]
  },
  {
   "cell_type": "code",
   "execution_count": null,
   "id": "38bff693",
   "metadata": {},
   "outputs": [],
   "source": [
    "df.reset_index(drop=True).to_json(\"data/metadata_json\", compression=\"gzip\")"
   ]
  },
  {
   "cell_type": "code",
   "execution_count": null,
   "id": "aa905fc7",
   "metadata": {},
   "outputs": [],
   "source": [
    "df.reset_index(drop=True).to_feather(\"data/metadata.feather\")"
   ]
  },
  {
   "cell_type": "code",
   "execution_count": null,
   "id": "3a33df98",
   "metadata": {},
   "outputs": [],
   "source": [
    "import sqlite3"
   ]
  },
  {
   "cell_type": "code",
   "execution_count": null,
   "id": "e4ab2669",
   "metadata": {},
   "outputs": [],
   "source": [
    "con = sqlite3.connect(\"youniverse.sqlite\")"
   ]
  },
  {
   "cell_type": "code",
   "execution_count": null,
   "id": "039291b6",
   "metadata": {},
   "outputs": [],
   "source": [
    "cur = con.cursor()\n",
    "res = cur.execute(\"select count(*) from num_comments\")\n",
    "res.fetchone()"
   ]
  },
  {
   "cell_type": "code",
   "execution_count": null,
   "id": "475c555b",
   "metadata": {},
   "outputs": [],
   "source": [
    "os.listdir(\"data\")"
   ]
  },
  {
   "cell_type": "code",
   "execution_count": null,
   "id": "3d04a981",
   "metadata": {},
   "outputs": [],
   "source": [
    "files = next(os.walk(\"data/\"))[2]\n",
    "trash = \".DS_Store\"\n",
    "if trash in files:\n",
    "    files.remove(trash)\n",
    "files"
   ]
  },
  {
   "cell_type": "code",
   "execution_count": null,
   "id": "5a974afb",
   "metadata": {},
   "outputs": [],
   "source": [
    "for file in files:\n",
    "    name = file.split(\".\")[0]\n",
    "    fmt = file.split(\".\")[1]\n",
    "    file = \"data/\" + file\n",
    "    print(fmt)\n",
    "    if fmt == \"tsv\":\n",
    "        df = pd.read_csv(file, sep=\"\\t\", compression=\"gzip\")\n",
    "    elif fmt == \"feather\":\n",
    "        df = pd.read_feather(file)\n",
    "    elif fmt == \"jsonl\":\n",
    "        continue\n",
    "    print(name)\n",
    "    df.to_sql(name, con, if_exists=\"replace\")"
   ]
  },
  {
   "cell_type": "code",
   "execution_count": null,
   "id": "d665fe5c",
   "metadata": {},
   "outputs": [],
   "source": []
  }
 ],
 "metadata": {
  "language_info": {
   "name": "python"
  }
 },
 "nbformat": 4,
 "nbformat_minor": 5
}
