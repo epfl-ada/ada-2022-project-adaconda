{
 "cells": [
  {
   "cell_type": "code",
   "execution_count": null,
   "id": "f9000b26",
   "metadata": {},
   "outputs": [],
   "source": [
    "import sqlite3\n",
    "\n",
    "import dask.dataframe as dd\n",
    "import numpy as np\n",
    "import pandas as pd\n",
    "import seaborn as sns\n",
    "from scipy.stats import pearsonr\n",
    "from dask.distributed import Client\n",
    "from matplotlib import pyplot as plt\n",
    "from scipy.stats import pearsonr\n",
    "\n",
    "from utils.constants import BigMarkets, Correspondence, SmallMarkets, MediumMarkets"
   ]
  },
  {
   "cell_type": "code",
   "execution_count": null,
   "id": "31fd2c00",
   "metadata": {},
   "outputs": [],
   "source": [
    "client = Client(n_workers=6)\n",
    "client"
   ]
  },
  {
   "cell_type": "markdown",
   "id": "37778d81",
   "metadata": {},
   "source": [
    "# Selecting Only NBA Videos"
   ]
  },
  {
   "cell_type": "code",
   "execution_count": null,
   "id": "c846fb55",
   "metadata": {},
   "outputs": [],
   "source": [
    "video_metadata_df = dd.read_parquet(f\"./data/video_metadata/parquet/\")\n",
    "video_metadata_df[\"upload_date\"] = dd.to_datetime(video_metadata_df.upload_date)\n",
    "\n",
    "video_metadata_df.head(5)"
   ]
  },
  {
   "cell_type": "code",
   "execution_count": null,
   "id": "517fcaeb",
   "metadata": {},
   "outputs": [],
   "source": [
    "video_metadata_df_sports = video_metadata_df[video_metadata_df[\"categories\"].isin([\"Sports\", \"People & Blogs\", \"Entertainment\"])]\n",
    "video_metadata_df_sports[\"tags\"] = video_metadata_df_sports[\"tags\"].str.lower()\n",
    "video_metadata_df_sports[\"tags\"] = video_metadata_df_sports[\"tags\"].apply(lambda x: f\",{x},\")"
   ]
  },
  {
   "cell_type": "code",
   "execution_count": null,
   "id": "980e5185",
   "metadata": {},
   "outputs": [],
   "source": [
    "# video_metadata_df_sports = video_metadata_df_sports[video_metadata_df_sports['tags'].str.contains('basketball')]\n",
    "\n",
    "date_obj = video_metadata_df_sports.upload_date.dt\n",
    "group_by = [date_obj.year, date_obj.month, video_metadata_df.categories]\n",
    "\n",
    "video_metadata_df_sports_grouped = video_metadata_df_sports[[\"upload_date\"]].groupby(by=group_by).count().persist()"
   ]
  },
  {
   "cell_type": "code",
   "execution_count": null,
   "id": "fa149c9e",
   "metadata": {},
   "outputs": [],
   "source": [
    "required_tags = [\"nba\", \"basketball\"]\n",
    "\n",
    "# Verifying that each video contains the required tags\n",
    "nba_basketball_df = video_metadata_df_sports[video_metadata_df_sports[\"tags\"].str.contains(f',{\",|,\".join(required_tags)},')].persist()\n",
    "nba_basketball_df[\"year_month\"] = dd.to_datetime(\n",
    "    nba_basketball_df.upload_date.dt.year.astype(\"str\") + \"-\" + nba_basketball_df.upload_date.dt.month.astype(\"str\")\n",
    ")"
   ]
  },
  {
   "cell_type": "code",
   "execution_count": null,
   "id": "cb8f75bb",
   "metadata": {},
   "outputs": [],
   "source": [
    "nba_basketball_df.head()"
   ]
  },
  {
   "cell_type": "markdown",
   "id": "cb4f28e7",
   "metadata": {},
   "source": [
    "# Market Study "
   ]
  },
  {
   "cell_type": "code",
   "execution_count": null,
   "id": "f58778bb",
   "metadata": {},
   "outputs": [],
   "source": [
    "BigMarkets"
   ]
  },
  {
   "cell_type": "code",
   "execution_count": null,
   "id": "0ae17747",
   "metadata": {},
   "outputs": [],
   "source": [
    "MediumMarkets"
   ]
  },
  {
   "cell_type": "code",
   "execution_count": null,
   "id": "f577546c",
   "metadata": {},
   "outputs": [],
   "source": [
    "SmallMarkets"
   ]
  },
  {
   "cell_type": "code",
   "execution_count": null,
   "id": "6a28f456",
   "metadata": {},
   "outputs": [],
   "source": [
    "dd_dict = {}\n",
    "\n",
    "# Selecting the teams and their market size depending on the tags of the videos\n",
    "for key, value in {**BigMarkets, **MediumMarkets, **SmallMarkets}.items():\n",
    "\n",
    "    team_df = nba_basketball_df[nba_basketball_df[\"tags\"].str.contains(f',{\",|,\".join(value)},')]\n",
    "    print(key)\n",
    "    team_df[\"team\"] = key\n",
    "    team_df[\"market_size\"] = \"small\" if key in SmallMarkets else \"medium\" if key in MediumMarkets else \"big\"\n",
    "    team_df = team_df.persist().compute()\n",
    "\n",
    "    dd_dict[key] = team_df"
   ]
  },
  {
   "cell_type": "code",
   "execution_count": null,
   "id": "40c891ea",
   "metadata": {},
   "outputs": [],
   "source": [
    "team_df"
   ]
  },
  {
   "cell_type": "code",
   "execution_count": null,
   "id": "4122cf4c",
   "metadata": {},
   "outputs": [],
   "source": [
    "team_df.groupby([\"team\"]).count()"
   ]
  },
  {
   "cell_type": "code",
   "execution_count": null,
   "id": "632eb31e",
   "metadata": {},
   "outputs": [],
   "source": [
    "team_df.groupby([\"market_size\"]).count()"
   ]
  },
  {
   "cell_type": "code",
   "execution_count": null,
   "id": "2f1dd789",
   "metadata": {},
   "outputs": [],
   "source": [
    "# To adapt\n",
    "\n",
    "sns.set(rc={\"figure.figsize\": (11, 4)})\n",
    "sns.set_style(\"darkgrid\", {\"grid.color\": \".4\", \"grid.linestyle\": \":\"})\n",
    "ax = plt.subplot\n",
    "ax = sns.lineplot(\n",
    "    x=\"year_month\", y=\"win_percentage\", data=lakers_df, color=\"r\", marker=\"o\", palette=[\"red\"], legend=\"brief\", label=\"Win Percentage Lakers\"\n",
    ")\n",
    "ax = sns.lineplot(\n",
    "    x=\"year_month\", y=\"total_nba_view_percentage\", data=lakers_df, marker=\"o\", color=\"b\", legend=\"brief\", label=\"Percentage of total NBA views Lakers\"\n",
    ")\n",
    "ax.set(xlabel=\"Year\", ylabel=\"Percentage\")\n",
    "\n",
    "plt.show()"
   ]
  }
 ],
 "metadata": {
  "language_info": {
   "name": "python"
  }
 },
 "nbformat": 4,
 "nbformat_minor": 5
}
