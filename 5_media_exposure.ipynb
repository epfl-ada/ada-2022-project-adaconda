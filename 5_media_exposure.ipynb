{
 "cells": [
  {
   "cell_type": "code",
   "execution_count": null,
   "id": "f9000b26",
   "metadata": {},
   "outputs": [],
   "source": [
    "import sqlite3\n",
    "\n",
    "import dask.dataframe as dd\n",
    "import numpy as np\n",
    "import pandas as pd\n",
    "import seaborn as sns\n",
    "from scipy.stats import pearsonr\n",
    "from dask.distributed import Client\n",
    "from matplotlib import pyplot as plt\n",
    "from scipy.stats import pearsonr\n",
    "\n",
    "from utils.constants import BigMarkets, Correspondence, SmallMarkets, MediumMarkets"
   ]
  },
  {
   "cell_type": "code",
   "execution_count": null,
   "id": "31fd2c00",
   "metadata": {},
   "outputs": [],
   "source": [
    "client = Client(n_workers=6)\n",
    "client"
   ]
  },
  {
   "cell_type": "markdown",
   "id": "37778d81",
   "metadata": {},
   "source": [
    "# NBA videos dataset preparation "
   ]
  },
  {
   "cell_type": "code",
   "execution_count": null,
   "id": "c846fb55",
   "metadata": {},
   "outputs": [],
   "source": [
    "video_metadata_df = dd.read_parquet(f\"./data/video_metadata/parquet/\")\n",
    "video_metadata_df[\"upload_date\"] = dd.to_datetime(video_metadata_df.upload_date)\n",
    "\n",
    "video_metadata_df.head(5)"
   ]
  },
  {
   "cell_type": "code",
   "execution_count": null,
   "id": "517fcaeb",
   "metadata": {},
   "outputs": [],
   "source": [
    "# Selecting only videos from the categories \"Sports\", \"People & Blogs\" and \"Entertainment\"\n",
    "\n",
    "video_metadata_df_sports = video_metadata_df[video_metadata_df[\"categories\"].isin([\"Sports\", \"People & Blogs\", \"Entertainment\"])]\n",
    "video_metadata_df_sports[\"tags\"] = video_metadata_df_sports[\"tags\"].str.lower()\n",
    "video_metadata_df_sports[\"tags\"] = video_metadata_df_sports[\"tags\"].apply(lambda x: f\",{x},\")"
   ]
  },
  {
   "cell_type": "code",
   "execution_count": null,
   "id": "980e5185",
   "metadata": {},
   "outputs": [],
   "source": [
    "# video_metadata_df_sports = video_metadata_df_sports[video_metadata_df_sports['tags'].str.contains('basketball')]\n",
    "\n",
    "date_obj = video_metadata_df_sports.upload_date.dt\n",
    "group_by = [date_obj.year, date_obj.month, video_metadata_df.categories]\n",
    "\n",
    "video_metadata_df_sports_grouped = video_metadata_df_sports[[\"upload_date\"]].groupby(by=group_by).count().persist()"
   ]
  },
  {
   "cell_type": "code",
   "execution_count": null,
   "id": "fa149c9e",
   "metadata": {},
   "outputs": [],
   "source": [
    "# Selecting only videos containing the tags \"nba\" and \"basketball\"\n",
    "\n",
    "required_tags = [\"nba\", \"basketball\"]\n",
    "nba_basketball_df = video_metadata_df_sports[video_metadata_df_sports[\"tags\"].str.contains(f',{\",|,\".join(required_tags)},')].persist()\n",
    "nba_basketball_df[\"year_month\"] = dd.to_datetime(\n",
    "    nba_basketball_df.upload_date.dt.year.astype(\"str\") + \"-\" + nba_basketball_df.upload_date.dt.month.astype(\"str\")\n",
    ")"
   ]
  },
  {
   "cell_type": "code",
   "execution_count": null,
   "id": "cb8f75bb",
   "metadata": {},
   "outputs": [],
   "source": [
    "nba_basketball_df.head()"
   ]
  },
  {
   "cell_type": "markdown",
   "id": "61739537",
   "metadata": {},
   "source": [
    "# NBA teams media exposure analysis"
   ]
  },
  {
   "cell_type": "markdown",
   "id": "6e0cd842",
   "metadata": {},
   "source": [
    "## Media coverage of each market on Youtube"
   ]
  },
  {
   "cell_type": "markdown",
   "id": "cfc5405d",
   "metadata": {},
   "source": [
    "### Number of videos per team "
   ]
  },
  {
   "cell_type": "code",
   "execution_count": null,
   "id": "f58778bb",
   "metadata": {},
   "outputs": [],
   "source": [
    "BigMarkets"
   ]
  },
  {
   "cell_type": "code",
   "execution_count": null,
   "id": "a54a62b5",
   "metadata": {},
   "outputs": [],
   "source": [
    "MediumMarkets"
   ]
  },
  {
   "cell_type": "code",
   "execution_count": null,
   "id": "f577546c",
   "metadata": {},
   "outputs": [],
   "source": [
    "SmallMarkets"
   ]
  },
  {
   "cell_type": "code",
   "execution_count": null,
   "id": "6a28f456",
   "metadata": {},
   "outputs": [],
   "source": [
    "dd_dict = {}\n",
    "\n",
    "# Selecting the teams and their market size depending on the tags of the videos\n",
    "for key, value in {**BigMarkets, **MediumMarkets, **SmallMarkets}.items():\n",
    "\n",
    "    team_df = nba_basketball_df[nba_basketball_df[\"tags\"].str.contains(f',{\",|,\".join(value)},')]\n",
    "    team_df[\"team\"] = key\n",
    "    team_df[\"market_size\"] = \"small\" if key in SmallMarkets else \"medium\" if key in MediumMarkets else \"big\"\n",
    "    team_df = team_df.persist().compute()\n",
    "\n",
    "    dd_dict[key] = team_df\n",
    "\n",
    "all_team_df = pd.concat([v for k, v in dd_dict.items()])"
   ]
  },
  {
   "cell_type": "code",
   "execution_count": null,
   "id": "b8e17858",
   "metadata": {},
   "outputs": [],
   "source": [
    "all_team_df = all_team_df.sort_values(\"year_month\")\n",
    "all_team_df[\"season\"] = all_team_df[\"year_month\"].apply(lambda x: f\"{x.year - 1}-{x.year}\" if x.month < 10 else f\"{x.year}-{x.year + 1}\")"
   ]
  },
  {
   "cell_type": "code",
   "execution_count": null,
   "id": "43c79fa9",
   "metadata": {},
   "outputs": [],
   "source": [
    "all_team_df"
   ]
  },
  {
   "cell_type": "code",
   "execution_count": null,
   "id": "f67d2ede",
   "metadata": {},
   "outputs": [],
   "source": [
    "videos_per_team_df = all_team_df[[\"team\", \"market_size\", \"title\"]].groupby([\"team\", \"market_size\"]).count()\n",
    "videos_per_team_df.rename(columns={\"title\": \"total_videos\"}, inplace=True)"
   ]
  },
  {
   "cell_type": "code",
   "execution_count": null,
   "id": "335fb26a",
   "metadata": {},
   "outputs": [],
   "source": [
    "videos_per_team_df[\"total_videos\"].sort_values().plot(kind=\"bar\")"
   ]
  },
  {
   "cell_type": "code",
   "execution_count": null,
   "id": "a12099be",
   "metadata": {},
   "outputs": [],
   "source": [
    "# Change Color !!!\n",
    "\n",
    "fig = px.bar(\n",
    "    videos_per_team_df.sort_values(\"total_videos\").reset_index(),\n",
    "    x=\"team\",\n",
    "    y=\"total_videos\",\n",
    "    labels={\"team\": \"Team\", \"total_videos\": \"Total Number of Videos\"},\n",
    "    color=\"market_size\",\n",
    "    width=800,\n",
    ")\n",
    "fig.update_layout(title={\"text\": \"Number of Videos per Team\", \"x\": 0.5, \"xanchor\": \"center\"})\n",
    "fig.update_layout(xaxis_categoryorder=\"total ascending\")\n",
    "fig.show()"
   ]
  },
  {
   "cell_type": "code",
   "execution_count": null,
   "id": "e4e8fd19",
   "metadata": {},
   "outputs": [],
   "source": [
    "for season in all_team_df[\"season\"].unique():\n",
    "    videos_per_team_df = all_team_df[all_team_df.season == season].groupby([\"team\"]).count()\n",
    "    print(season)\n",
    "    print(videos_per_team_df[\"title\"].sort_values())\n",
    "    # videos_per_team_df[\"title\"].sort_values().plot(kind='bar')"
   ]
  },
  {
   "cell_type": "code",
   "execution_count": null,
   "id": "b5fac328",
   "metadata": {},
   "outputs": [],
   "source": [
    "stack_df = all_team_df[[\"team\", \"market_size\", \"title\"]].groupby([\"team\", \"market_size\"]).count()\n",
    "stack_df.rename(columns={\"title\": \"total_videos\"}, inplace=True)\n",
    "stack_df"
   ]
  },
  {
   "cell_type": "code",
   "execution_count": null,
   "id": "2f1dd789",
   "metadata": {},
   "outputs": [],
   "source": [
    "fig = px.bar(\n",
    "    stack_df.sort_values(\"total_videos\", ascending=False).reset_index(),\n",
    "    x=\"market_size\",\n",
    "    y=\"total_videos\",\n",
    "    color=\"team\",\n",
    "    barmode=\"stack\",\n",
    "    color_discrete_sequence=px.colors.qualitative.Plotly,\n",
    "    # animation_frame=\"season\",\n",
    "    # animation_group=\"team\",\n",
    "    # custom_data=[\"Views\"],\n",
    ")\n",
    "fig"
   ]
  },
  {
   "cell_type": "markdown",
   "id": "9ea0f509",
   "metadata": {},
   "source": [
    "### Number of videos per market "
   ]
  },
  {
   "cell_type": "code",
   "execution_count": null,
   "id": "46f767e1",
   "metadata": {},
   "outputs": [],
   "source": [
    "videos_per_market_df = all_team_df[[\"market_size\", \"title\"]].groupby([\"market_size\"]).count()\n",
    "videos_per_market_df.rename(columns={\"title\": \"total_videos\"}, inplace=True)"
   ]
  },
  {
   "cell_type": "code",
   "execution_count": null,
   "id": "a2fc35ef",
   "metadata": {},
   "outputs": [],
   "source": [
    "videos_per_market_df[\"total_videos\"].plot(kind=\"bar\")"
   ]
  },
  {
   "cell_type": "code",
   "execution_count": null,
   "id": "f6c9ea3b",
   "metadata": {},
   "outputs": [],
   "source": [
    "# Change Color !!!\n",
    "\n",
    "\n",
    "fig = px.bar(\n",
    "    videos_per_market_df.reset_index(),\n",
    "    x=\"market_size\",\n",
    "    y=\"total_videos\",\n",
    "    width=400,\n",
    "    labels={\"market_size\": \"Market Size\", \"total_videos\": \"Total Number of Videos\"},\n",
    "    color=\"market_size\",\n",
    ")\n",
    "fig.update_layout(title={\"text\": \"Number of Videos per Market Size\", \"x\": 0.5, \"xanchor\": \"center\"})\n",
    "fig.show()"
   ]
  },
  {
   "cell_type": "markdown",
   "id": "d03a6bb8",
   "metadata": {},
   "source": [
    "## Number of channels per team "
   ]
  },
  {
   "cell_type": "code",
   "execution_count": null,
   "id": "11a545be",
   "metadata": {},
   "outputs": [],
   "source": [
    "# Computing the ratio of videos related to a single team on each channel\n",
    "channel_team_df = all_team_df[[\"title\", \"channel_id\", \"team\"]].groupby([\"channel_id\", \"team\"]).count().reset_index()\n",
    "count_by_channel = channel_team_df.groupby(\"channel_id\").sum().reset_index()\n",
    "count_by_channel.rename(columns={\"title\": \"total_videos\"}, inplace=True)\n",
    "channel_team_df.rename(columns={\"title\": \"team_videos\"}, inplace=True)\n",
    "ratio_per_team = pd.merge(channel_team_df, count_by_channel, on=\"channel_id\")\n",
    "ratio_per_team[\"ratio\"] = ratio_per_team[\"team_videos\"] / ratio_per_team[\"total_videos\"]\n",
    "\n",
    "# Only selecting channels that uploaded a significant number of videos\n",
    "significant_channels_df = ratio_per_team[ratio_per_team.total_videos > 4]\n",
    "\n",
    "# Select only fanbase channels - were at least 60% of videos are on a single team\n",
    "fanbase_channels_df = significant_channels_df[significant_channels_df.ratio > 0.51]\n",
    "\n",
    "# Number of channels per team\n",
    "fanbase_channels_df = fanbase_channels_df.groupby(\"team\").count().sort_values(\"ratio\")  # .plot(kind='bar')\n",
    "\n",
    "# Pas Clean A nettoyer\n",
    "marketper_team_df = all_team_df[[\"team\", \"market_size\"]].groupby([\"team\", \"market_size\"]).count().reset_index()\n",
    "fanbase_channels_df = fanbase_channels_df.merge(marketper_team_df, on=\"team\")"
   ]
  },
  {
   "cell_type": "code",
   "execution_count": null,
   "id": "6742dd85",
   "metadata": {},
   "outputs": [],
   "source": [
    "fig = px.bar(fanbase_channels_df, x=\"team\", y=\"ratio\", labels={\"ratio\": \"Number of Fanbase channels\", \"team\": \"Team\"}, color=\"market_size\")\n",
    "fig.update_layout(title={\"text\": \"Number of FanBase Channels per Team\", \"x\": 0.5, \"xanchor\": \"center\"})\n",
    "fig.update_layout(xaxis_categoryorder=\"total ascending\")\n",
    "fig.show()"
   ]
  },
  {
   "cell_type": "markdown",
   "id": "7a2af7fa",
   "metadata": {},
   "source": [
    "## The big name bias "
   ]
  },
  {
   "cell_type": "markdown",
   "id": "3dbdfd01",
   "metadata": {},
   "source": [
    "### Fans engagement "
   ]
  },
  {
   "cell_type": "code",
   "execution_count": null,
   "id": "b999bda3",
   "metadata": {},
   "outputs": [],
   "source": [
    "# Computing the fan engagement on each market size\n",
    "engagement_df = all_team_df.groupby([\"market_size\"]).sum()\n",
    "engagement_df[\"engagement\"] = (engagement_df.like_count / engagement_df.view_count) * 1000\n",
    "\n",
    "fig = px.bar(\n",
    "    engagement_df.sort_values(\"engagement\").reset_index(),\n",
    "    x=\"market_size\",\n",
    "    y=\"engagement\",\n",
    "    width=600,\n",
    "    labels={\"market_size\": \"Market Size\", \"engagement\": \"Engagement ratio (Likes/Views x 1000)\"},\n",
    "    range_y=[7, 10],\n",
    "    color=\"market_size\",\n",
    ")\n",
    "fig.update_layout(title={\"text\": \"Engagement by Market Size\", \"x\": 0.5, \"xanchor\": \"center\"})\n",
    "fig.show()"
   ]
  },
  {
   "cell_type": "code",
   "execution_count": null,
   "id": "b3f341a1",
   "metadata": {},
   "outputs": [],
   "source": [
    "engagement_df = all_team_df.groupby([\"team\", \"market_size\"]).sum()\n",
    "engagement_df[\"engagement\"] = (engagement_df.like_count / engagement_df.view_count) * 1000\n",
    "engagement_df[\"engagement\"].sort_values().plot(kind=\"bar\")"
   ]
  },
  {
   "cell_type": "code",
   "execution_count": null,
   "id": "ead0ac4e",
   "metadata": {},
   "outputs": [],
   "source": []
  }
 ],
 "metadata": {
  "language_info": {
   "name": "python"
  }
 },
 "nbformat": 4,
 "nbformat_minor": 5
}
