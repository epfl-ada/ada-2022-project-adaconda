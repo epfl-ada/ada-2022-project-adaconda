{
 "cells": [
  {
   "cell_type": "code",
   "execution_count": null,
   "metadata": {},
   "outputs": [],
   "source": [
    "import sqlite3\n",
    "\n",
    "import pandas as pd\n",
    "import requests"
   ]
  },
  {
   "cell_type": "code",
   "execution_count": null,
   "metadata": {},
   "outputs": [],
   "source": [
    "con = sqlite3.connect(\"espn.sqlite\")"
   ]
  },
  {
   "cell_type": "code",
   "execution_count": null,
   "metadata": {},
   "outputs": [],
   "source": [
    "def get_all_results(query):\n",
    "    r = requests.get(query).json()\n",
    "\n",
    "    page_index = r[\"pageIndex\"]\n",
    "    page_count = r[\"pageCount\"]\n",
    "    print(page_index)\n",
    "    results = r[\"items\"].copy()\n",
    "    if page_index < page_count:\n",
    "        page_index += 1\n",
    "        r = requests.get(query, params={\"pageIndex\": page_index}).json()\n",
    "        results += r[\"items\"]\n",
    "    return results\n",
    "\n",
    "\n",
    "get_all_results(f\"https://sports.core.api.espn.com/v3/sports/{sport}/{league}/seasons/{season}/teams/\")"
   ]
  },
  {
   "cell_type": "markdown",
   "metadata": {},
   "source": [
    "### teams"
   ]
  },
  {
   "cell_type": "code",
   "execution_count": null,
   "metadata": {},
   "outputs": [],
   "source": [
    "# r = requests.get(\"https://sports.core.api.espn.com/v2/sports/football/leagues/nfl/seasons/2021/types/2/teams/12/attendance\")\n",
    "first = True\n",
    "\n",
    "sport = \"basketball\"\n",
    "league = \"nba\"\n",
    "team = 2\n",
    "\n",
    "params = {\"limit\": 1000000}\n",
    "for season in range(2010, 2020):\n",
    "    r = requests.get(f\"https://sports.core.api.espn.com/v3/sports/{sport}/{league}/seasons/{season}/teams/\", params=params)\n",
    "\n",
    "    df = pd.DataFrame(r.json()[\"items\"]).set_index(\"id\")\n",
    "    df[\"season\"] = season\n",
    "    df.to_sql(\"teams\", con, if_exists=\"append\")\n",
    "\n",
    "    if first is True:\n",
    "        first = False\n",
    "        con.execute(\"CREATE UNIQUE INDEX uq_teams_id_season ON teams(id, season)\")"
   ]
  },
  {
   "cell_type": "code",
   "execution_count": null,
   "metadata": {},
   "outputs": [],
   "source": [
    "requests.get(\"https://sports.core.api.espn.com/v3/sports/racing/f1/teams\").json()"
   ]
  },
  {
   "cell_type": "code",
   "execution_count": null,
   "metadata": {},
   "outputs": [],
   "source": [
    "# requests.get(f\"https://sports.core.api.espn.com/v3/sports/{sport}/{league}/seasons/{season}/types/2/teams/1/attendance\", params=params).json()\n",
    "sport = \"soccer\"\n",
    "league = \"eng.1\"\n",
    "\n",
    "requests.get(f\"https://sports.core.api.espn.com/v3/sports/{sport}/{league}/seasons/2017/types/2/teams/360/attendance\").json()"
   ]
  },
  {
   "cell_type": "code",
   "execution_count": null,
   "metadata": {},
   "outputs": [],
   "source": [
    "r = requests.get(\"https://site.web.api.espn.com/apis/common/v3/search\", params={\"limit\": 200}).json()\n",
    "\n",
    "r"
   ]
  },
  {
   "cell_type": "code",
   "execution_count": null,
   "metadata": {},
   "outputs": [],
   "source": [
    "requests.get(f\"http://site.api.espn.com/apis/site/v2/sports/basketball/nba/teams/WSH\").json()"
   ]
  },
  {
   "cell_type": "code",
   "execution_count": null,
   "metadata": {},
   "outputs": [],
   "source": [
    "r = requests.get(\"http://site.api.espn.com/apis/site/v2/sports/basketball/nba/teams\").json()"
   ]
  },
  {
   "cell_type": "code",
   "execution_count": null,
   "metadata": {},
   "outputs": [],
   "source": [
    "# requests.get(\"http://site.api.espn.com/apis/site/v2/sports/football/college-football/summary?event=400934572\").json()\n",
    "requests.get(\"http://site.api.espn.com/apis/site/v2/sports/basketball/nba/summary?event=401468368\").json()"
   ]
  },
  {
   "cell_type": "code",
   "execution_count": null,
   "metadata": {},
   "outputs": [],
   "source": [
    "!curl http://site.api.espn.com/apis/site/v2/sports/basketball/nba/summary?event=401468368 > a.txt"
   ]
  },
  {
   "cell_type": "code",
   "execution_count": null,
   "metadata": {},
   "outputs": [],
   "source": [
    "requests.get(\"http://site.api.espn.com/apis/site/v2/sports/basketball/nba/summary?event=401468368\").json()"
   ]
  }
 ],
 "metadata": {
  "language_info": {
   "name": "python"
  }
 },
 "nbformat": 4,
 "nbformat_minor": 4
}
